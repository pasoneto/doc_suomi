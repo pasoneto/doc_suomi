{
 "cells": [
  {
   "cell_type": "code",
   "execution_count": 107,
   "metadata": {},
   "outputs": [],
   "source": [
    "import json\n",
    "file = 'markov_rerun'\n",
    "with open(f'/home/pasoneto/Documents/github/doc_suomi/code/analysis/{file}.ipynb') as j:\n",
    "    data = json.load(j)"
   ]
  },
  {
   "cell_type": "code",
   "execution_count": 108,
   "metadata": {},
   "outputs": [],
   "source": [
    "for i in data['cells']:\n",
    "    if i['cell_type'] == 'code':\n",
    "        for k in range(len(i['outputs'])):\n",
    "            if 'name' in i['outputs'][k]:\n",
    "                i['outputs'][k]['text'] = []\n",
    "                \n",
    "with open(f'/home/pasoneto/Documents/github/doc_suomi/presentations/texts/{file}_parsed.ipynb', 'w') as outfile:\n",
    "    json.dump(data, outfile)"
   ]
  },
  {
   "cell_type": "code",
   "execution_count": null,
   "metadata": {},
   "outputs": [],
   "source": []
  },
  {
   "cell_type": "code",
   "execution_count": null,
   "metadata": {},
   "outputs": [],
   "source": []
  }
 ],
 "metadata": {
  "kernelspec": {
   "display_name": "Python 3",
   "language": "python",
   "name": "python3"
  },
  "language_info": {
   "codemirror_mode": {
    "name": "ipython",
    "version": 3
   },
   "file_extension": ".py",
   "mimetype": "text/x-python",
   "name": "python",
   "nbconvert_exporter": "python",
   "pygments_lexer": "ipython3",
   "version": "3.8.6"
  }
 },
 "nbformat": 4,
 "nbformat_minor": 4
}
