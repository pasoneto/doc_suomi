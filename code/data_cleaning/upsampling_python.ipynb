{
 "cells": [
  {
   "cell_type": "markdown",
   "metadata": {},
   "source": [
    "# Python upsampling\n",
    "\n",
    "Here I'm upsampling dissimilarity matrices to 16x16 images."
   ]
  },
  {
   "cell_type": "code",
   "execution_count": 1,
   "metadata": {},
   "outputs": [],
   "source": [
    "import numpy as np\n",
    "from PIL import Image\n",
    "import pandas as pd\n",
    "\n",
    "#receives data frame, width and length of the output\n",
    "def nearest(data, w, l):\n",
    "    data = np.array(data, dtype=np.double)\n",
    "    convert = Image.fromarray(np.array(data, dtype=np.double)).resize((w, l), Image.NEAREST)\n",
    "    return np.array(convert)\n",
    "\n",
    "def bilinear(data, w, l):\n",
    "    data = np.array(data, dtype=np.double)\n",
    "    convert = Image.fromarray(np.array(data, dtype=np.double)).resize((w, l), Image.BILINEAR)\n",
    "    return np.array(convert)"
   ]
  },
  {
   "cell_type": "code",
   "execution_count": null,
   "metadata": {},
   "outputs": [],
   "source": [
    "# Reading non-upsampled albums    \n",
    "nn = []\n",
    "for i in range(1, 4446):\n",
    "    a = pd.read_csv(f\"/home/pasoneto/Documents/github/doc_suomi/data/dissimilarities/upsampled_nearest/matriz{i}.csv\")\n",
    "    a['album_id'] = i\n",
    "    nn.append(a)\n",
    "    \n",
    "# Reading non-upsampled albums    \n",
    "bi = []\n",
    "for i in range(1, 4446):\n",
    "    a = pd.read_csv(f\"/home/pasoneto/Documents/github/doc_suomi/data/dissimilarities/upsampled_bilinear/matriz{i}.csv\")\n",
    "    a['album_id'] = i\n",
    "    bi.append(a)\n",
    "    \n",
    "# Reading non-upsampled albums    \n",
    "uh = []\n",
    "for i in range(1, 4446):\n",
    "    a = pd.read_csv(f\"/home/pasoneto/Documents/github/doc_suomi/data/dissimilarities/upsampled_100/matriz{i}.csv\")\n",
    "    a['album_id'] = i\n",
    "    uh.append(a)\n",
    "    \n",
    "# Reading non-upsampled albums    \n",
    "ds = []\n",
    "for i in range(1, 4446):\n",
    "    a = pd.read_csv(f\"/home/pasoneto/Documents/github/doc_suomi/data/dissimilarities/down_sampled/matriz{i}.csv\")\n",
    "    a['album_id'] = i\n",
    "    ds.append(a)"
   ]
  },
  {
   "cell_type": "code",
   "execution_count": 24,
   "metadata": {},
   "outputs": [],
   "source": [
    "# Reading data frames by album length - for later upsampling\n",
    "import os\n",
    "import pandas as pd\n",
    "path = \"/home/pa/Documents/github/doc_suomi/data/dissimilarities/upsampled_album_length/\"\n",
    "albums = []\n",
    "for i in [6, 7, 8, 9, 10, 11, 12, 13, 14, 15, 16]:\n",
    "    nop = f\"/home/pa/Documents/github/doc_suomi/data/dissimilarities/upsampled_album_length/{i}\"\n",
    "    albums.append([pd.read_csv(f\"/home/pa/Documents/github/doc_suomi/data/dissimilarities/upsampled_album_length/{i}/{k}\") for k in os.listdir(nop)])"
   ]
  },
  {
   "cell_type": "code",
   "execution_count": 26,
   "metadata": {},
   "outputs": [],
   "source": [
    "alb = []\n",
    "for i in albums:\n",
    "    alb.append([nearest(k[[\"track_number\", \"valence\", \"energy\", \"loudness\", \"tempo\"]], 5, 16) for k in i])"
   ]
  },
  {
   "cell_type": "code",
   "execution_count": 27,
   "metadata": {},
   "outputs": [],
   "source": [
    "l = [6, 7, 8, 9, 10, 11, 12, 13, 14, 15, 16]"
   ]
  },
  {
   "cell_type": "code",
   "execution_count": 28,
   "metadata": {},
   "outputs": [],
   "source": [
    "for i in range(6, 17):\n",
    "    p = f\"/home/pa/Documents/github/doc_suomi/data/dissimilarities/upsampled_album_length/{i}\"\n",
    "    for b in range(len(alb[i-6])):\n",
    "            pd.DataFrame(alb[i-6][b]).to_csv(f\"/home/pa/Documents/github/doc_suomi/data/dissimilarities/upsampled_album_length/{i}/matriz{b+1}.csv\", index = False)\n",
    "\n",
    "#album_lengths = [11, 12, 9, 10, 13, 6, 16, 15, 14, 8, 7]"
   ]
  },
  {
   "cell_type": "code",
   "execution_count": null,
   "metadata": {},
   "outputs": [],
   "source": [
    "# Upsampling albums\n",
    "nn = [nearest(nn[k][[\"track_number\", \"album_id\", \"valence\", \"energy\", \"loudness\", \"tempo\"]], 6, 16) for k in range(len(nn))]\n",
    "bi = [bilinear(bi[k][[\"track_number\", \"album_id\", \"valence\", \"energy\", \"loudness\", \"tempo\"]], 6, 16) for k in range(len(bi))]\n",
    "uh = [nearest(uh[k][[\"track_number\", \"album_id\", \"valence\", \"energy\", \"loudness\", \"tempo\"]], 6, 100) for k in range(len(uh))]\n",
    "ds = [nearest(ds[k][[\"track_number\", \"album_id\", \"valence\", \"energy\", \"loudness\", \"tempo\"]], 6, 6) for k in range(len(ds))]"
   ]
  },
  {
   "cell_type": "code",
   "execution_count": null,
   "metadata": {},
   "outputs": [],
   "source": []
  },
  {
   "cell_type": "code",
   "execution_count": null,
   "metadata": {},
   "outputs": [],
   "source": []
  },
  {
   "cell_type": "code",
   "execution_count": null,
   "metadata": {},
   "outputs": [],
   "source": []
  },
  {
   "cell_type": "code",
   "execution_count": null,
   "metadata": {},
   "outputs": [],
   "source": [
    "#Writing upsampled albums    \n",
    "for i in range(len(nn)):\n",
    "    pd.DataFrame(nn[i]).to_csv(f\"/home/pasoneto/Documents/github/doc_suomi/data/dissimilarities/upsampled_nearest/matriz{i+1}.csv\", index = False)\n",
    "\n",
    "# Writing upsampled albums    \n",
    "for i in range(len(bi)):\n",
    "    pd.DataFrame(bi[i]).to_csv(f\"/home/pasoneto/Documents/github/doc_suomi/data/dissimilarities/upsampled_bilinear/matriz{i+1}.csv\", index = False)\n",
    "    \n",
    "# Writing upsampled albums    \n",
    "for i in range(len(uh)):\n",
    "    pd.DataFrame(uh[i]).to_csv(f\"/home/pasoneto/Documents/github/doc_suomi/data/dissimilarities/upsampled_100/matriz{i+1}.csv\", index = False)\n",
    "\n",
    "# Writing downsampled albums    \n",
    "for i in range(len(ds)):\n",
    "    pd.DataFrame(ds[i]).to_csv(f\"/home/pasoneto/Documents/github/doc_suomi/data/dissimilarities/down_sampled/matriz{i+1}.csv\", index = False)"
   ]
  },
  {
   "cell_type": "code",
   "execution_count": null,
   "metadata": {},
   "outputs": [],
   "source": []
  }
 ],
 "metadata": {
  "kernelspec": {
   "display_name": "Python 3",
   "language": "python",
   "name": "python3"
  },
  "language_info": {
   "codemirror_mode": {
    "name": "ipython",
    "version": 3
   },
   "file_extension": ".py",
   "mimetype": "text/x-python",
   "name": "python",
   "nbconvert_exporter": "python",
   "pygments_lexer": "ipython3",
   "version": "3.8.6"
  },
  "varInspector": {
   "cols": {
    "lenName": 16,
    "lenType": 16,
    "lenVar": 40
   },
   "kernels_config": {
    "python": {
     "delete_cmd_postfix": "",
     "delete_cmd_prefix": "del ",
     "library": "var_list.py",
     "varRefreshCmd": "print(var_dic_list())"
    },
    "r": {
     "delete_cmd_postfix": ") ",
     "delete_cmd_prefix": "rm(",
     "library": "var_list.r",
     "varRefreshCmd": "cat(var_dic_list()) "
    }
   },
   "types_to_exclude": [
    "module",
    "function",
    "builtin_function_or_method",
    "instance",
    "_Feature"
   ],
   "window_display": false
  }
 },
 "nbformat": 4,
 "nbformat_minor": 4
}
