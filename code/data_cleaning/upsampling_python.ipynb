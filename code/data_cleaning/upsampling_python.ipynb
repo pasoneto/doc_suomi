{
 "cells": [
  {
   "cell_type": "markdown",
   "metadata": {},
   "source": [
    "# Python upsampling\n",
    "\n",
    "Here I'm upsampling dissimilarity matrices to 16x16 images."
   ]
  },
  {
   "cell_type": "code",
   "execution_count": 1,
   "metadata": {},
   "outputs": [],
   "source": [
    "import numpy as np\n",
    "from PIL import Image\n",
    "import pandas as pd\n",
    "\n",
    "#receives data frame, width and length of the output\n",
    "def nearest(data, w, l):\n",
    "    data = np.array(data, dtype=np.double)\n",
    "    convert = Image.fromarray(np.array(data, dtype=np.double)).resize((w, l), Image.NEAREST)\n",
    "    return np.array(convert)\n",
    "\n",
    "def bilinear(data, w, l):\n",
    "    data = np.array(data, dtype=np.double)\n",
    "    convert = Image.fromarray(np.array(data, dtype=np.double)).resize((w, l), Image.BILINEAR)\n",
    "    return np.array(convert)"
   ]
  },
  {
   "cell_type": "code",
   "execution_count": 10,
   "metadata": {},
   "outputs": [],
   "source": [
    "# # Reading non-upsampled albums    \n",
    "# nn = []\n",
    "# for i in range(1, 4446):\n",
    "#     a = pd.read_csv(f\"/home/pasoneto/Documents/github/doc_suomi/data/dissimilarities/upsampled_nearest/matriz{i}.csv\")\n",
    "#     a['album_id'] = i\n",
    "#     nn.append(a)\n",
    "    \n",
    "# # Reading non-upsampled albums    \n",
    "# bi = []\n",
    "# for i in range(1, 4446):\n",
    "#     a = pd.read_csv(f\"/home/pasoneto/Documents/github/doc_suomi/data/dissimilarities/upsampled_bilinear/matriz{i}.csv\")\n",
    "#     a['album_id'] = i\n",
    "#     bi.append(a)\n",
    "    \n",
    "# # Reading non-upsampled albums    \n",
    "# uh = []\n",
    "# for i in range(1, 4446):\n",
    "#     a = pd.read_csv(f\"/home/pasoneto/Documents/github/doc_suomi/data/dissimilarities/upsampled_100/matriz{i}.csv\")\n",
    "#     a['album_id'] = i\n",
    "#     uh.append(a)    "
   ]
  },
  {
   "cell_type": "code",
   "execution_count": 27,
   "metadata": {},
   "outputs": [],
   "source": [
    "# Upsampling albums\n",
    "nn = [nearest(nn[k][[\"track_number\", \"album_id\", \"valence\", \"energy\", \"loudness\", \"tempo\"]], 6, 16) for k in range(len(nn))]\n",
    "bi = [bilinear(bi[k][[\"track_number\", \"album_id\", \"valence\", \"energy\", \"loudness\", \"tempo\"]], 6, 16) for k in range(len(bi))]\n",
    "uh = [nearest(uh[k][[\"track_number\", \"album_id\", \"valence\", \"energy\", \"loudness\", \"tempo\"]], 6, 100) for k in range(len(uh))]"
   ]
  },
  {
   "cell_type": "code",
   "execution_count": null,
   "metadata": {},
   "outputs": [],
   "source": []
  },
  {
   "cell_type": "code",
   "execution_count": 27,
   "metadata": {},
   "outputs": [],
   "source": [
    "# # Writing upsampled albums    \n",
    "# for i in range(len(nn)):\n",
    "#     pd.DataFrame(nn[i]).to_csv(f\"/home/pasoneto/Documents/github/doc_suomi/data/dissimilarities/upsampled_nearest/matriz{i+1}.csv\", index = False)\n",
    "\n",
    "# # Writing upsampled albums    \n",
    "# for i in range(len(bi)):\n",
    "#     pd.DataFrame(bi[i]).to_csv(f\"/home/pasoneto/Documents/github/doc_suomi/data/dissimilarities/upsampled_bilinear/matriz{i+1}.csv\", index = False)\n",
    "    \n",
    "# # Writing upsampled albums    \n",
    "# for i in range(len(uh)):\n",
    "#     pd.DataFrame(uh[i]).to_csv(f\"/home/pasoneto/Documents/github/doc_suomi/data/dissimilarities/upsampled_100/matriz{i+1}.csv\", index = False)"
   ]
  },
  {
   "cell_type": "markdown",
   "metadata": {},
   "source": [
    "# Upsampling low level matrices"
   ]
  },
  {
   "cell_type": "code",
   "execution_count": 32,
   "metadata": {},
   "outputs": [],
   "source": [
    "# Reading non-upsampled tracks   \n",
    "low = []\n",
    "for i in range(1, 65423):\n",
    "    a = pd.read_csv(f\"/home/pasoneto/Documents/github/doc_suomi/data/dissimilarities/upsampled_low/matriz{i}.csv\")\n",
    "    low.append(a)\n",
    "    \n",
    "# upsampling low level\n",
    "track_upsampled = []\n",
    "for i in range(len(low)):\n",
    "    up = pd.DataFrame(nearest(low[i][[\"track_number\",  \"danceability\", \"energy\", \"loudness_overall\", \"speechiness\", \"acousticness\", \"instrumentalness\", \"liveness\", \"valence\", \"tempo_overall\", \"loudness_continuouos\", \"tempo_continuous\", \"tempo_confidence\", \"mode_confidence\", \"time_signature_confidence\", \"loudness\", \"loudness_continuous\"]], 17, 20))\n",
    "    up[\"track_id\"] = low[i][\"track_id\"][0]\n",
    "    up[\"album_id\"] = low[i][\"album_id\"][0]\n",
    "    up[\"position\"] = low[i][\"position\"][0]\n",
    "    up.columns = [[\"track_number\",  \"danceability\", \"energy\", \"loudness_overall\", \"speechiness\", \"acousticness\", \"instrumentalness\", \"liveness\", \"valence\", \"tempo_overall\", \"loudness_continuouos\", \"tempo_continuous\", \"tempo_confidence\", \"mode_confidence\", \"time_signature_confidence\", \"loudness\", \"loudness_continuous\", \"track_id\", \"album_id\", \"position\"]]\n",
    "    track_upsampled.append(up)\n",
    "    \n",
    "track_upsampled = pd.concat(track_upsampled)\n",
    "track_upsampled.reset_index(drop=True, inplace = True)\n",
    "track_upsampled.to_csv(\"/home/pasoneto/Documents/github/doc_suomi/data/dissimilarities/upsampled_tracks.csv\")"
   ]
  },
  {
   "cell_type": "code",
   "execution_count": 83,
   "metadata": {},
   "outputs": [],
   "source": [
    "## Reading upsampled tracks by album and upsampling to 300\n",
    "low = []\n",
    "for i in range(1, 3766):\n",
    "    a = pd.read_csv(f\"/home/pasoneto/Documents/github/doc_suomi/data/dissimilarities/upsampled_low_albums/matriz{i}.csv\")\n",
    "    low.append(a)"
   ]
  },
  {
   "cell_type": "code",
   "execution_count": 84,
   "metadata": {},
   "outputs": [],
   "source": [
    "# upsampling whole albums\n",
    "track_upsampled = []\n",
    "for i in range(len(low)):\n",
    "    up = pd.DataFrame(nearest(low[i][[\"track_number\",  \"danceability\", \"energy\", \"loudness_overall\", \"speechiness\", \"acousticness\", \"instrumentalness\", \"liveness\", \"valence\", \"tempo_overall\", \"loudness_continuouos\", \"tempo_continuous\", \"tempo_confidence\", \"mode_confidence\", \"time_signature_confidence\", \"loudness\", \"loudness_continuous\"]], 17, 300))\n",
    "    up[\"track_id\"] = low[i][\"track_id\"][0]\n",
    "    up[\"album_id\"] = low[i][\"album_id\"][0]\n",
    "    up[\"position\"] = low[i][\"position\"][0]\n",
    "    up.columns = [[\"track_number\",  \"danceability\", \"energy\", \"loudness_overall\", \"speechiness\", \"acousticness\", \"instrumentalness\", \"liveness\", \"valence\", \"tempo_overall\", \"loudness_continuouos\", \"tempo_continuous\", \"tempo_confidence\", \"mode_confidence\", \"time_signature_confidence\", \"loudness\", \"loudness_continuous\", \"track_id\", \"album_id\", \"position\"]]\n",
    "    track_upsampled.append(up)"
   ]
  },
  {
   "cell_type": "code",
   "execution_count": 86,
   "metadata": {},
   "outputs": [],
   "source": [
    "track_upsampled = pd.concat(track_upsampled)\n",
    "track_upsampled.reset_index(drop=True, inplace = True)\n",
    "track_upsampled.to_csv(\"/home/pasoneto/Documents/github/doc_suomi/data/dissimilarities/upsampled_low_final.csv\")"
   ]
  },
  {
   "cell_type": "code",
   "execution_count": null,
   "metadata": {},
   "outputs": [],
   "source": []
  }
 ],
 "metadata": {
  "kernelspec": {
   "display_name": "Python 3",
   "language": "python",
   "name": "python3"
  },
  "language_info": {
   "codemirror_mode": {
    "name": "ipython",
    "version": 3
   },
   "file_extension": ".py",
   "mimetype": "text/x-python",
   "name": "python",
   "nbconvert_exporter": "python",
   "pygments_lexer": "ipython3",
   "version": "3.8.6"
  }
 },
 "nbformat": 4,
 "nbformat_minor": 4
}
