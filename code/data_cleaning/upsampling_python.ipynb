{
 "cells": [
  {
   "cell_type": "markdown",
   "metadata": {},
   "source": [
    "# Python upsampling\n",
    "\n",
    "Here I'm upsampling dissimilarity matrices to 16x16 images."
   ]
  },
  {
   "cell_type": "code",
   "execution_count": 20,
   "metadata": {},
   "outputs": [],
   "source": [
    "import numpy as np\n",
    "from PIL import Image\n",
    "import pandas as pd\n",
    "\n",
    "#receives data frame, width and length of the output\n",
    "def nearest(data, w, l):\n",
    "    data = np.array(data, dtype=np.double)\n",
    "    convert = Image.fromarray(np.array(data, dtype=np.double)).resize((w, l), Image.NEAREST)\n",
    "    return np.array(convert)\n",
    "\n",
    "def bilinear(data, w, l):\n",
    "    data = np.array(data, dtype=np.double)\n",
    "    convert = Image.fromarray(np.array(data, dtype=np.double)).resize((w, l), Image.BILINEAR)\n",
    "    return np.array(convert)"
   ]
  },
  {
   "cell_type": "code",
   "execution_count": 21,
   "metadata": {},
   "outputs": [],
   "source": [
    "# Reading non-upsampled albums    \n",
    "nn = []\n",
    "for i in range(1, 4446):\n",
    "    a = pd.read_csv(f\"/home/pasoneto/Documents/github/doc_suomi/data/dissimilarities/upsampled_nearest/matriz{i}.csv\")\n",
    "    a['album_id'] = i\n",
    "    nn.append(a)\n",
    "    \n",
    "# Reading non-upsampled albums    \n",
    "bi = []\n",
    "for i in range(1, 4446):\n",
    "    a = pd.read_csv(f\"/home/pasoneto/Documents/github/doc_suomi/data/dissimilarities/upsampled_bilinear/matriz{i}.csv\")\n",
    "    a['album_id'] = i\n",
    "    bi.append(a)\n",
    "    \n",
    "# Reading non-upsampled albums    \n",
    "uh = []\n",
    "for i in range(1, 4446):\n",
    "    a = pd.read_csv(f\"/home/pasoneto/Documents/github/doc_suomi/data/dissimilarities/upsampled_100/matriz{i}.csv\")\n",
    "    a['album_id'] = i\n",
    "    uh.append(a)\n",
    "    \n",
    "# Reading non-upsampled albums    \n",
    "ds = []\n",
    "for i in range(1, 4446):\n",
    "    a = pd.read_csv(f\"/home/pasoneto/Documents/github/doc_suomi/data/dissimilarities/down_sampled/matriz{i}.csv\")\n",
    "    a['album_id'] = i\n",
    "    ds.append(a)"
   ]
  },
  {
   "cell_type": "code",
   "execution_count": 22,
   "metadata": {},
   "outputs": [],
   "source": [
    "# Upsampling albums\n",
    "nn = [nearest(nn[k][[\"track_number\", \"album_id\", \"valence\", \"energy\", \"loudness\", \"tempo\"]], 6, 16) for k in range(len(nn))]\n",
    "bi = [bilinear(bi[k][[\"track_number\", \"album_id\", \"valence\", \"energy\", \"loudness\", \"tempo\"]], 6, 16) for k in range(len(bi))]\n",
    "uh = [nearest(uh[k][[\"track_number\", \"album_id\", \"valence\", \"energy\", \"loudness\", \"tempo\"]], 6, 100) for k in range(len(uh))]\n",
    "ds = [nearest(ds[k][[\"track_number\", \"album_id\", \"valence\", \"energy\", \"loudness\", \"tempo\"]], 6, 6) for k in range(len(ds))]"
   ]
  },
  {
   "cell_type": "code",
   "execution_count": 23,
   "metadata": {},
   "outputs": [],
   "source": [
    "#Writing upsampled albums    \n",
    "for i in range(len(nn)):\n",
    "    pd.DataFrame(nn[i]).to_csv(f\"/home/pasoneto/Documents/github/doc_suomi/data/dissimilarities/upsampled_nearest/matriz{i+1}.csv\", index = False)\n",
    "\n",
    "# Writing upsampled albums    \n",
    "for i in range(len(bi)):\n",
    "    pd.DataFrame(bi[i]).to_csv(f\"/home/pasoneto/Documents/github/doc_suomi/data/dissimilarities/upsampled_bilinear/matriz{i+1}.csv\", index = False)\n",
    "    \n",
    "# Writing upsampled albums    \n",
    "for i in range(len(uh)):\n",
    "    pd.DataFrame(uh[i]).to_csv(f\"/home/pasoneto/Documents/github/doc_suomi/data/dissimilarities/upsampled_100/matriz{i+1}.csv\", index = False)\n",
    "\n",
    "# Writing downsampled albums    \n",
    "for i in range(len(ds)):\n",
    "    pd.DataFrame(ds[i]).to_csv(f\"/home/pasoneto/Documents/github/doc_suomi/data/dissimilarities/down_sampled/matriz{i+1}.csv\", index = False)"
   ]
  },
  {
   "cell_type": "code",
   "execution_count": null,
   "metadata": {},
   "outputs": [],
   "source": []
  }
 ],
 "metadata": {
  "kernelspec": {
   "display_name": "Python 3",
   "language": "python",
   "name": "python3"
  },
  "language_info": {
   "codemirror_mode": {
    "name": "ipython",
    "version": 3
   },
   "file_extension": ".py",
   "mimetype": "text/x-python",
   "name": "python",
   "nbconvert_exporter": "python",
   "pygments_lexer": "ipython3",
   "version": "3.8.6"
  }
 },
 "nbformat": 4,
 "nbformat_minor": 4
}
