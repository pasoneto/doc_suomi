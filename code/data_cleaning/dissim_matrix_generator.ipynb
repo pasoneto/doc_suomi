{
 "cells": [
  {
   "cell_type": "markdown",
   "metadata": {},
   "source": [
    "# Data processing\n",
    "\n",
    "Here I'm generating non-upsampled matrices from dataset without album duplicates. I'll read these files in python and upsample to 16."
   ]
  },
  {
   "cell_type": "code",
   "execution_count": 1,
   "metadata": {},
   "outputs": [
    {
     "name": "stderr",
     "output_type": "stream",
     "text": [
      "\n",
      "Attaching package: ‘dplyr’\n",
      "\n",
      "\n",
      "The following objects are masked from ‘package:stats’:\n",
      "\n",
      "    filter, lag\n",
      "\n",
      "\n",
      "The following objects are masked from ‘package:base’:\n",
      "\n",
      "    intersect, setdiff, setequal, union\n",
      "\n",
      "\n",
      "randomForest 4.6-14\n",
      "\n",
      "Type rfNews() to see new features/changes/bug fixes.\n",
      "\n",
      "\n",
      "Attaching package: ‘randomForest’\n",
      "\n",
      "\n",
      "The following object is masked from ‘package:dplyr’:\n",
      "\n",
      "    combine\n",
      "\n",
      "\n",
      "The following object is masked from ‘package:ggplot2’:\n",
      "\n",
      "    margin\n",
      "\n",
      "\n",
      "Loading required package: lattice\n",
      "\n",
      "\n",
      "Attaching package: ‘data.table’\n",
      "\n",
      "\n",
      "The following objects are masked from ‘package:dplyr’:\n",
      "\n",
      "    between, first, last\n",
      "\n",
      "\n",
      "\n",
      "Attaching package: ‘DescTools’\n",
      "\n",
      "\n",
      "The following object is masked from ‘package:data.table’:\n",
      "\n",
      "    %like%\n",
      "\n",
      "\n",
      "The following objects are masked from ‘package:caret’:\n",
      "\n",
      "    MAE, RMSE\n",
      "\n",
      "\n",
      "Package:  markovchain\n",
      "Version:  0.8.5-4\n",
      "Date:     2021-01-07\n",
      "BugReport: https://github.com/spedygiorgio/markovchain/issues\n",
      "\n",
      "\n",
      "`summarise()` has grouped output by 'album_id', 'name'. You can override using the `.groups` argument.\n",
      "\n"
     ]
    },
    {
     "name": "stdout",
     "output_type": "stream",
     "text": [
      "How to use datasets (Personal library)\n",
      " \n",
      "call    base()             for real values\n",
      "call    z_scored()         for normalized\n",
      "call    min_maxed()        for normalized2\n",
      "call    upsampled_album()  for binded upsamplped albums\n",
      "call    low_minmax()       for min-maxed low level\n",
      "call    low_z()            for normalized low level\n",
      "call    low_raw()          for raw  low level"
     ]
    }
   ],
   "source": [
    "setwd(\"/home/pa/Documents/github/doc_suomi/code\")\n",
    "source(\"utils.R\")\n",
    "source(\"data_cook.R\")\n",
    "cat(howto_data)"
   ]
  },
  {
   "cell_type": "code",
   "execution_count": 11,
   "metadata": {},
   "outputs": [],
   "source": [
    "# Calling processed data\n",
    "dt = z_scored()\n",
    "\n",
    "# Separating albums\n",
    "dt = album_splitter(dt)\n",
    "\n",
    "# writing albums for upsampling (python)\n",
    "setwd(\"/home/pa/Documents/github/doc_suomi/data/dissimilarities/upsampled_nearest\")\n",
    "for(i in 1:length(dt)){\n",
    "    write.csv(dt[[i]], paste(\"matriz\", i,\".csv\", sep = \"\"), row.names=FALSE)\n",
    "}\n",
    "\n",
    "# writing albums for upsampling (python)\n",
    "setwd(\"/home/pa/Documents/github/doc_suomi/data/dissimilarities/upsampled_bilinear\")\n",
    "for(i in 1:length(dt)){\n",
    "    write.csv(dt[[i]], paste(\"matriz\", i,\".csv\", sep = \"\"), row.names=FALSE)\n",
    "}\n",
    "\n",
    "# writing albums for upsampling (python)\n",
    "setwd(\"/home/pa/Documents/github/doc_suomi/data/dissimilarities/upsampled_100\")\n",
    "for(i in 1:length(dt)){\n",
    "    write.csv(dt[[i]], paste(\"matriz\", i,\".csv\", sep = \"\"), row.names=FALSE)\n",
    "}\n",
    "\n",
    "# writing albums for upsampling (python)\n",
    "setwd(\"/home/pa/Documents/github/doc_suomi/data/dissimilarities/down_sampled\")\n",
    "for(i in 1:length(dt)){\n",
    "    write.csv(dt[[i]], paste(\"matriz\", i,\".csv\", sep = \"\"), row.names=FALSE)\n",
    "}"
   ]
  },
  {
   "cell_type": "code",
   "execution_count": 7,
   "metadata": {},
   "outputs": [],
   "source": [
    "# Upsampling by album length\n",
    "path = \"/home/pa/Documents/github/doc_suomi/data/dissimilarities/upsampled_album_length/\"\n",
    "a_lengths = c(6_n, 7, 8, 9, 10, 11, 12, 13, 14, 15, 16)\n",
    "dt = z_scored()\n",
    "# Calling processed data\n",
    "for(i in a_lengths){\n",
    "    oi = dt %>% \n",
    "            filter(album_length == i)\n",
    "    oi = album_splitter(oi)\n",
    "    for(k in 1:length(oi)){\n",
    "        write.csv(oi[[k]], paste(path, i, \"/\", \"matriz\", k, \".csv\", sep = \"\"), row.names=FALSE)\n",
    "    }\n",
    "}"
   ]
  },
  {
   "cell_type": "code",
   "execution_count": null,
   "metadata": {},
   "outputs": [],
   "source": []
  }
 ],
 "metadata": {
  "kernelspec": {
   "display_name": "R",
   "language": "R",
   "name": "ir"
  },
  "language_info": {
   "codemirror_mode": "r",
   "file_extension": ".r",
   "mimetype": "text/x-r-source",
   "name": "R",
   "pygments_lexer": "r",
   "version": "4.0.2"
  },
  "varInspector": {
   "cols": {
    "lenName": 16,
    "lenType": 16,
    "lenVar": 40
   },
   "kernels_config": {
    "python": {
     "delete_cmd_postfix": "",
     "delete_cmd_prefix": "del ",
     "library": "var_list.py",
     "varRefreshCmd": "print(var_dic_list())"
    },
    "r": {
     "delete_cmd_postfix": ") ",
     "delete_cmd_prefix": "rm(",
     "library": "var_list.r",
     "varRefreshCmd": "cat(var_dic_list()) "
    }
   },
   "types_to_exclude": [
    "module",
    "function",
    "builtin_function_or_method",
    "instance",
    "_Feature"
   ],
   "window_display": false
  }
 },
 "nbformat": 4,
 "nbformat_minor": 4
}
