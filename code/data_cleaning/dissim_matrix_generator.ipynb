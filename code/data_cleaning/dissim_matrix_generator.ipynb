{
 "cells": [
  {
   "cell_type": "markdown",
   "metadata": {},
   "source": [
    "# Data processing\n",
    "\n",
    "Here I'm generating non-upsampled matrices from dataset without album duplicates. I'll read these files in python and upsample to 16."
   ]
  },
  {
   "cell_type": "code",
   "execution_count": 10,
   "metadata": {},
   "outputs": [
    {
     "name": "stderr",
     "output_type": "stream",
     "text": [
      "`summarise()` regrouping output by 'album_id' (override with `.groups` argument)\n",
      "\n"
     ]
    },
    {
     "name": "stdout",
     "output_type": "stream",
     "text": [
      "How to use datasets\n",
      " \n",
      "call    base()             for real values\n",
      "call    z_scored()         for normalized\n",
      "call    min_maxed()        for normalized2\n",
      "call    upsampled_album()  for binded upsamplped albums\n",
      "call    list_upsampled()   for list of upsampled albums\n",
      "call    low_z()            for normalized low level\n",
      "call    low_raw()          for raw  low level"
     ]
    }
   ],
   "source": [
    "setwd(\"/home/pasoneto/Documents/github/doc_suomi/code\")\n",
    "source(\"utils.R\")\n",
    "source(\"data_cook.R\")\n",
    "cat(howto_data)"
   ]
  },
  {
   "cell_type": "code",
   "execution_count": 11,
   "metadata": {},
   "outputs": [],
   "source": [
    "# Calling processed data\n",
    "dt = z_scored()\n",
    "\n",
    "# Separating albums\n",
    "dt = album_splitter(dt)\n",
    "\n",
    "# writing albums for upsampling (python)\n",
    "setwd(\"/home/pasoneto/Documents/github/doc_suomi/data/dissimilarities/upsampled_nearest\")\n",
    "for(i in 1:length(dt)){\n",
    "    write.csv(dt[[i]], paste(\"matriz\", i,\".csv\", sep = \"\"), row.names=FALSE)\n",
    "}\n",
    "\n",
    "# writing albums for upsampling (python)\n",
    "setwd(\"/home/pasoneto/Documents/github/doc_suomi/data/dissimilarities/upsampled_bilinear\")\n",
    "for(i in 1:length(dt)){\n",
    "    write.csv(dt[[i]], paste(\"matriz\", i,\".csv\", sep = \"\"), row.names=FALSE)\n",
    "}\n",
    "\n",
    "# writing albums for upsampling (python)\n",
    "setwd(\"/home/pasoneto/Documents/github/doc_suomi/data/dissimilarities/upsampled_100\")\n",
    "for(i in 1:length(dt)){\n",
    "    write.csv(dt[[i]], paste(\"matriz\", i,\".csv\", sep = \"\"), row.names=FALSE)\n",
    "}\n",
    "\n",
    "# writing albums for upsampling (python)\n",
    "setwd(\"/home/pasoneto/Documents/github/doc_suomi/data/dissimilarities/down_sampled\")\n",
    "for(i in 1:length(dt)){\n",
    "    write.csv(dt[[i]], paste(\"matriz\", i,\".csv\", sep = \"\"), row.names=FALSE)\n",
    "}"
   ]
  },
  {
   "cell_type": "code",
   "execution_count": null,
   "metadata": {},
   "outputs": [],
   "source": []
  }
 ],
 "metadata": {
  "kernelspec": {
   "display_name": "R",
   "language": "R",
   "name": "ir"
  },
  "language_info": {
   "codemirror_mode": "r",
   "file_extension": ".r",
   "mimetype": "text/x-r-source",
   "name": "R",
   "pygments_lexer": "r",
   "version": "4.0.3"
  }
 },
 "nbformat": 4,
 "nbformat_minor": 4
}
