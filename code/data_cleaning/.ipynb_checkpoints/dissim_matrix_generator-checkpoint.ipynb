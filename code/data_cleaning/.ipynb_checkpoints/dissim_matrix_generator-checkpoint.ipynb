{
 "cells": [
  {
   "cell_type": "markdown",
   "metadata": {},
   "source": [
    "# Data processing\n",
    "\n",
    "Here I'm generating non-upsampled matrices from dataset without album duplicates. I'll read these files in python and upsample to 16."
   ]
  },
  {
   "cell_type": "code",
   "execution_count": 1,
   "metadata": {},
   "outputs": [
    {
     "name": "stderr",
     "output_type": "stream",
     "text": [
      "\n",
      "Attaching package: ‘dplyr’\n",
      "\n",
      "\n",
      "The following objects are masked from ‘package:stats’:\n",
      "\n",
      "    filter, lag\n",
      "\n",
      "\n",
      "The following objects are masked from ‘package:base’:\n",
      "\n",
      "    intersect, setdiff, setequal, union\n",
      "\n",
      "\n",
      "randomForest 4.6-14\n",
      "\n",
      "Type rfNews() to see new features/changes/bug fixes.\n",
      "\n",
      "\n",
      "Attaching package: ‘randomForest’\n",
      "\n",
      "\n",
      "The following object is masked from ‘package:dplyr’:\n",
      "\n",
      "    combine\n",
      "\n",
      "\n",
      "The following object is masked from ‘package:ggplot2’:\n",
      "\n",
      "    margin\n",
      "\n",
      "\n",
      "Loading required package: lattice\n",
      "\n",
      "\n",
      "Attaching package: ‘data.table’\n",
      "\n",
      "\n",
      "The following objects are masked from ‘package:dplyr’:\n",
      "\n",
      "    between, first, last\n",
      "\n",
      "\n",
      "\n",
      "Attaching package: ‘DescTools’\n",
      "\n",
      "\n",
      "The following object is masked from ‘package:data.table’:\n",
      "\n",
      "    %like%\n",
      "\n",
      "\n",
      "The following objects are masked from ‘package:caret’:\n",
      "\n",
      "    MAE, RMSE\n",
      "\n",
      "\n",
      "\n",
      "Attaching package: ‘tensorflow’\n",
      "\n",
      "\n",
      "The following object is masked from ‘package:caret’:\n",
      "\n",
      "    train\n",
      "\n",
      "\n",
      "`summarise()` regrouping output by 'album_id' (override with `.groups` argument)\n",
      "\n"
     ]
    },
    {
     "name": "stdout",
     "output_type": "stream",
     "text": [
      "How to use datasets\n",
      " \n",
      "call    base()             for real values\n",
      "call    z_scored()         for normalized\n",
      "call    min_maxed()        for normalized2\n",
      "call    upsampled_album()  for binded upsamplped albums\n",
      "call    list_upsampled()   for list of upsampled albums\n",
      "call    low()              for normalized low level\n",
      "call    low_upsampled()    for normalized and upsampled low level"
     ]
    }
   ],
   "source": [
    "setwd(\"/home/pasoneto/Documents/github/doc_suomi/code\")\n",
    "source(\"utils.R\")\n",
    "source(\"data_cook.R\")\n",
    "cat(howto_data)"
   ]
  },
  {
   "cell_type": "code",
   "execution_count": 4,
   "metadata": {},
   "outputs": [
    {
     "data": {
      "text/html": [
       "<table>\n",
       "<caption>A tibble: 11 × 5</caption>\n",
       "<thead>\n",
       "\t<tr><th scope=col>track_number</th><th scope=col>valence</th><th scope=col>energy</th><th scope=col>loudness</th><th scope=col>tempo</th></tr>\n",
       "\t<tr><th scope=col>&lt;int&gt;</th><th scope=col>&lt;dbl&gt;</th><th scope=col>&lt;dbl&gt;</th><th scope=col>&lt;dbl&gt;</th><th scope=col>&lt;dbl&gt;</th></tr>\n",
       "</thead>\n",
       "<tbody>\n",
       "\t<tr><td> 1</td><td>0.00000000</td><td>0.97478992</td><td>0.7723233</td><td>0.9198745</td></tr>\n",
       "\t<tr><td> 2</td><td>0.26077628</td><td>0.00000000</td><td>0.7302864</td><td>0.6236376</td></tr>\n",
       "\t<tr><td> 3</td><td>0.21396528</td><td>0.33193277</td><td>0.4618423</td><td>0.3796112</td></tr>\n",
       "\t<tr><td> 4</td><td>0.28418178</td><td>0.06722689</td><td>0.5674989</td><td>0.4995638</td></tr>\n",
       "\t<tr><td> 5</td><td>1.00000000</td><td>0.56722689</td><td>0.6415573</td><td>0.5697526</td></tr>\n",
       "\t<tr><td> 6</td><td>0.90442754</td><td>0.49159664</td><td>0.3520948</td><td>0.5305973</td></tr>\n",
       "\t<tr><td> 7</td><td>0.41486249</td><td>0.87815126</td><td>0.7421357</td><td>1.0000000</td></tr>\n",
       "\t<tr><td> 8</td><td>0.19836161</td><td>0.72268908</td><td>1.0000000</td><td>0.3792903</td></tr>\n",
       "\t<tr><td> 9</td><td>0.02789155</td><td>1.00000000</td><td>0.4681902</td><td>0.6199376</td></tr>\n",
       "\t<tr><td>10</td><td>0.47922762</td><td>0.16386555</td><td>0.0000000</td><td>0.0000000</td></tr>\n",
       "\t<tr><td>11</td><td>0.15155061</td><td>0.79831933</td><td>0.6443786</td><td>0.6168694</td></tr>\n",
       "</tbody>\n",
       "</table>\n"
      ],
      "text/latex": [
       "A tibble: 11 × 5\n",
       "\\begin{tabular}{lllll}\n",
       " track\\_number & valence & energy & loudness & tempo\\\\\n",
       " <int> & <dbl> & <dbl> & <dbl> & <dbl>\\\\\n",
       "\\hline\n",
       "\t  1 & 0.00000000 & 0.97478992 & 0.7723233 & 0.9198745\\\\\n",
       "\t  2 & 0.26077628 & 0.00000000 & 0.7302864 & 0.6236376\\\\\n",
       "\t  3 & 0.21396528 & 0.33193277 & 0.4618423 & 0.3796112\\\\\n",
       "\t  4 & 0.28418178 & 0.06722689 & 0.5674989 & 0.4995638\\\\\n",
       "\t  5 & 1.00000000 & 0.56722689 & 0.6415573 & 0.5697526\\\\\n",
       "\t  6 & 0.90442754 & 0.49159664 & 0.3520948 & 0.5305973\\\\\n",
       "\t  7 & 0.41486249 & 0.87815126 & 0.7421357 & 1.0000000\\\\\n",
       "\t  8 & 0.19836161 & 0.72268908 & 1.0000000 & 0.3792903\\\\\n",
       "\t  9 & 0.02789155 & 1.00000000 & 0.4681902 & 0.6199376\\\\\n",
       "\t 10 & 0.47922762 & 0.16386555 & 0.0000000 & 0.0000000\\\\\n",
       "\t 11 & 0.15155061 & 0.79831933 & 0.6443786 & 0.6168694\\\\\n",
       "\\end{tabular}\n"
      ],
      "text/markdown": [
       "\n",
       "A tibble: 11 × 5\n",
       "\n",
       "| track_number &lt;int&gt; | valence &lt;dbl&gt; | energy &lt;dbl&gt; | loudness &lt;dbl&gt; | tempo &lt;dbl&gt; |\n",
       "|---|---|---|---|---|\n",
       "|  1 | 0.00000000 | 0.97478992 | 0.7723233 | 0.9198745 |\n",
       "|  2 | 0.26077628 | 0.00000000 | 0.7302864 | 0.6236376 |\n",
       "|  3 | 0.21396528 | 0.33193277 | 0.4618423 | 0.3796112 |\n",
       "|  4 | 0.28418178 | 0.06722689 | 0.5674989 | 0.4995638 |\n",
       "|  5 | 1.00000000 | 0.56722689 | 0.6415573 | 0.5697526 |\n",
       "|  6 | 0.90442754 | 0.49159664 | 0.3520948 | 0.5305973 |\n",
       "|  7 | 0.41486249 | 0.87815126 | 0.7421357 | 1.0000000 |\n",
       "|  8 | 0.19836161 | 0.72268908 | 1.0000000 | 0.3792903 |\n",
       "|  9 | 0.02789155 | 1.00000000 | 0.4681902 | 0.6199376 |\n",
       "| 10 | 0.47922762 | 0.16386555 | 0.0000000 | 0.0000000 |\n",
       "| 11 | 0.15155061 | 0.79831933 | 0.6443786 | 0.6168694 |\n",
       "\n"
      ],
      "text/plain": [
       "   track_number valence    energy     loudness  tempo    \n",
       "1   1           0.00000000 0.97478992 0.7723233 0.9198745\n",
       "2   2           0.26077628 0.00000000 0.7302864 0.6236376\n",
       "3   3           0.21396528 0.33193277 0.4618423 0.3796112\n",
       "4   4           0.28418178 0.06722689 0.5674989 0.4995638\n",
       "5   5           1.00000000 0.56722689 0.6415573 0.5697526\n",
       "6   6           0.90442754 0.49159664 0.3520948 0.5305973\n",
       "7   7           0.41486249 0.87815126 0.7421357 1.0000000\n",
       "8   8           0.19836161 0.72268908 1.0000000 0.3792903\n",
       "9   9           0.02789155 1.00000000 0.4681902 0.6199376\n",
       "10 10           0.47922762 0.16386555 0.0000000 0.0000000\n",
       "11 11           0.15155061 0.79831933 0.6443786 0.6168694"
      ]
     },
     "metadata": {},
     "output_type": "display_data"
    }
   ],
   "source": [
    "# Calling processed data\n",
    "dt = min_maxed()\n",
    "\n",
    "# Separating albums\n",
    "dt = album_splitter(dt)\n",
    "\n",
    "# # writing albums for upsampling (python)\n",
    "# setwd(\"/home/pasoneto/Documents/github/doc_suomi/data/dissimilarities/upsampled_nearest\")\n",
    "# for(i in 1:length(dt)){\n",
    "#     write.csv(dt[[i]], paste(\"matriz\", i,\".csv\", sep = \"\"), row.names=FALSE)\n",
    "# }\n",
    "\n",
    "# # writing albums for upsampling (python)\n",
    "# setwd(\"/home/pasoneto/Documents/github/doc_suomi/data/dissimilarities/upsampled_bilinear\")\n",
    "# for(i in 1:length(dt)){\n",
    "#     write.csv(dt[[i]], paste(\"matriz\", i,\".csv\", sep = \"\"), row.names=FALSE)\n",
    "# }\n",
    "\n",
    "# # writing albums for upsampling (python)\n",
    "# setwd(\"/home/pasoneto/Documents/github/doc_suomi/data/dissimilarities/upsampled_100\")\n",
    "# for(i in 1:length(dt)){\n",
    "#     write.csv(dt[[i]], paste(\"matriz\", i,\".csv\", sep = \"\"), row.names=FALSE)\n",
    "# }"
   ]
  },
  {
   "cell_type": "markdown",
   "metadata": {},
   "source": [
    "# Writing upsampled low level by track"
   ]
  },
  {
   "cell_type": "code",
   "execution_count": 3,
   "metadata": {},
   "outputs": [
    {
     "name": "stderr",
     "output_type": "stream",
     "text": [
      "Adding missing grouping variables: `album_id`\n",
      "\n",
      "`summarise()` regrouping output by 'album_id' (override with `.groups` argument)\n",
      "\n"
     ]
    },
    {
     "data": {
      "image/png": "[encoded data removed]",
      "text/plain": [
       "plot without title"
      ]
     },
     "metadata": {
      "image/png": {
       "height": 420,
       "width": 420
      }
     },
     "output_type": "display_data"
    }
   ],
   "source": [
    "# Verifying number ----- Just for checking...\n",
    "low = low_z()\n",
    "low %>% \n",
    "    select(\"position\", \"track_id\", \"danceability\", \"energy\", \"loudness_overall\", \"speechiness\", \"acousticness\", \"instrumentalness\", \"liveness\", \"valence\", \"tempo_overall\", \"loudness_continuouos\", \"tempo_continuous\", \"tempo_confidence\", \"mode_confidence\", \"time_signature_confidence\", \"loudness\", \"loudness_continuous\") %>%\n",
    "    group_by(album_id, track_id) %>%\n",
    "    summarise(length = NROW(valence)) -> hist\n",
    "\n",
    "#upsample each track id to 20\n",
    "histogram(hist$length, breaks = seq(-1, 1000, 1), xlim = c(-1, 50))\n",
    "# End of just for checking..."
   ]
  },
  {
   "cell_type": "code",
   "execution_count": 14,
   "metadata": {},
   "outputs": [
    {
     "name": "stderr",
     "output_type": "stream",
     "text": [
      "Adding missing grouping variables: `album_id`\n",
      "\n"
     ]
    }
   ],
   "source": [
    "# Writting tracks for upsampling\n",
    "low = low()\n",
    "low %<>% \n",
    "    select(\"track_number\", \"position\", \"track_id\", \"danceability\", \"energy\", \"loudness_overall\", \"speechiness\", \"acousticness\", \"instrumentalness\", \"liveness\", \"valence\", \"tempo_overall\", \"loudness_continuouos\", \"tempo_continuous\", \"tempo_confidence\", \"mode_confidence\", \"time_signature_confidence\", \"loudness\", \"loudness_continuous\") %>%\n",
    "    ungroup()\n",
    "\n",
    "splitted <- split(low, low$track_id)\n",
    "\n",
    "setwd(\"/home/pasoneto/Documents/github/doc_suomi/data/dissimilarities/upsampled_low\")\n",
    "for(i in 1:length(splitted)){\n",
    "    write.csv(splitted[[i]], paste(\"matriz\", i,\".csv\", sep = \"\"), row.names=FALSE)\n",
    "}"
   ]
  },
  {
   "cell_type": "code",
   "execution_count": 36,
   "metadata": {},
   "outputs": [],
   "source": [
    "# Reading file with upsampled low level tracks\n",
    "ut = fread(\"/home/pasoneto/Documents/github/doc_suomi/data/dissimilarities/upsampled_tracks.csv\")\n",
    "# Filtering albums with less than 6 and more than 16 tracks\n",
    "ut %<>% group_by(album_id) %>% arrange(album_id, track_number)\n",
    "ut %<>% group_by(album_id) %>% mutate(album_length = length(unique(track_number))) %>%\n",
    "       filter(album_length %in% c(6:16))"
   ]
  },
  {
   "cell_type": "code",
   "execution_count": 37,
   "metadata": {},
   "outputs": [],
   "source": [
    "ut = split(ut, ut$album_id)"
   ]
  },
  {
   "cell_type": "code",
   "execution_count": 40,
   "metadata": {},
   "outputs": [],
   "source": [
    "setwd(\"/home/pasoneto/Documents/github/doc_suomi/data/dissimilarities/upsampled_low_albums/\")\n",
    "for(i in 1:length(ut)){\n",
    "    write.csv(ut[[i]], paste(\"matriz\", i,\".csv\", sep = \"\"), row.names=FALSE)\n",
    "}"
   ]
  },
  {
   "cell_type": "code",
   "execution_count": 41,
   "metadata": {},
   "outputs": [
    {
     "data": {
      "text/html": [
       "3765"
      ],
      "text/latex": [
       "3765"
      ],
      "text/markdown": [
       "3765"
      ],
      "text/plain": [
       "[1] 3765"
      ]
     },
     "metadata": {},
     "output_type": "display_data"
    }
   ],
   "source": [
    "i"
   ]
  }
 ],
 "metadata": {
  "kernelspec": {
   "display_name": "R",
   "language": "R",
   "name": "ir"
  },
  "language_info": {
   "codemirror_mode": "r",
   "file_extension": ".r",
   "mimetype": "text/x-r-source",
   "name": "R",
   "pygments_lexer": "r",
   "version": "4.0.3"
  }
 },
 "nbformat": 4,
 "nbformat_minor": 4
}
