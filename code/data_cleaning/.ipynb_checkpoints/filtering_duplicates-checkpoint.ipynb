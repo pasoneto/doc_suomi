{
 "cells": [
  {
   "cell_type": "markdown",
   "metadata": {},
   "source": [
    "# First clean\n",
    "\n",
    "Removing duplicate albums based on 1) album name; 2) album id; 3) feature difference"
   ]
  },
  {
   "cell_type": "code",
   "execution_count": 91,
   "metadata": {},
   "outputs": [
    {
     "name": "stderr",
     "output_type": "stream",
     "text": [
      "`summarise()` has grouped output by 'album_id', 'name'. You can override using the `.groups` argument.\n",
      "\n"
     ]
    }
   ],
   "source": [
    "setwd(\"/home/pa/Documents/github/doc_suomi/code\")\n",
    "source(\"utils.R\")\n",
    "source(\"data_cook.R\")"
   ]
  },
  {
   "cell_type": "code",
   "execution_count": 92,
   "metadata": {},
   "outputs": [],
   "source": [
    "new = fread(\"/home/pa/Documents/github/doc_suomi/data/raw_dataset/sample2.csv\")\n",
    "old = fread(\"/home/pa/Documents/github/doc_suomi/data/raw_dataset/grande_sem_low.csv\")\n",
    "\n",
    "base = dplyr::bind_rows(new, old)"
   ]
  },
  {
   "cell_type": "code",
   "execution_count": 93,
   "metadata": {},
   "outputs": [
    {
     "name": "stderr",
     "output_type": "stream",
     "text": [
      "`summarise()` has grouped output by 'album_id'. You can override using the `.groups` argument.\n",
      "\n"
     ]
    }
   ],
   "source": [
    "replicates = base %>%\n",
    "    group_by(album_id, name) %>%\n",
    "    summarise(overall = sum(valence, energy, loudness, tempo), name = unique(name))\n",
    "\n",
    "replicates = replicates[order(-replicates$overall), ]"
   ]
  },
  {
   "cell_type": "code",
   "execution_count": 94,
   "metadata": {},
   "outputs": [],
   "source": [
    "#Calculate 0 differences\n",
    "valores = c(replicates$overall)\n",
    "album_ids = c(replicates$album_id)\n",
    "nome = c(replicates$name)\n",
    "\n",
    "difs = c()\n",
    "albums = c()\n",
    "nomes = c()\n",
    "nomes2 = c()\n",
    "for(j in 1:(length(valores)-1)){\n",
    "    difs[[j]] = abs(valores[j] - valores[j+1])\n",
    "    albums[[j]] = album_ids[j]\n",
    "    nomes[[j]] = nome[j]\n",
    "    nomes2[[j]] = nome[j+1]\n",
    "    }\n",
    "\n",
    "replicates = tibble(album_id = albums, difference =difs, nome1 = nomes, nomes2 = nomes2)\n",
    "replicates <- as.data.frame(lapply(replicates, unlist))"
   ]
  },
  {
   "cell_type": "code",
   "execution_count": 95,
   "metadata": {},
   "outputs": [],
   "source": [
    "#replicates[order(replicates$difference)]\n",
    "nomes_iguais = replicates[order(replicates$difference, replicates$nome1),] %>% filter(nome1 == nomes2)\n",
    "nomes_iguais = c(nomes_iguais$album_id)\n",
    "# replicates[order(replicates$difference, replicates$nome1),] %>% filter(difference <= 0.005) %>% filter(difference > 0) %>%\n",
    "#           filter(nome1 != nomes2) %>% head(20)"
   ]
  },
  {
   "cell_type": "code",
   "execution_count": 96,
   "metadata": {},
   "outputs": [],
   "source": [
    "dif_zero = replicates[order(replicates$difference, replicates$nome1),] %>% filter(difference == 0)\n",
    "dif_zero = c(dif_zero$album_id)"
   ]
  },
  {
   "cell_type": "code",
   "execution_count": 97,
   "metadata": {},
   "outputs": [],
   "source": [
    "dif_pequena = replicates[order(replicates$difference, replicates$nome1),] %>% filter(difference <= 0.005)\n",
    "dif_pequena = c(dif_pequena$album_id)"
   ]
  },
  {
   "cell_type": "code",
   "execution_count": 98,
   "metadata": {},
   "outputs": [],
   "source": [
    "filtro = unique(c(nomes_iguais, dif_zero, dif_pequena))"
   ]
  },
  {
   "cell_type": "code",
   "execution_count": 99,
   "metadata": {},
   "outputs": [],
   "source": [
    "base %>%\n",
    "    filter(!album_id %in% filtro) %>% \n",
    "    dplyr::select(album_id, track_number, name, valence, energy, loudness, tempo, danceability) %>%\n",
    "    write.csv(\"/home/pa/Documents/github/doc_suomi/data/treated_data/data.csv\")"
   ]
  },
  {
   "cell_type": "code",
   "execution_count": null,
   "metadata": {},
   "outputs": [],
   "source": []
  },
  {
   "cell_type": "markdown",
   "metadata": {},
   "source": [
    "# Second clean\n",
    "\n",
    "Removing albums with wrong number of tracks (from 1 to 10, but missing track 9)"
   ]
  },
  {
   "cell_type": "code",
   "execution_count": 100,
   "metadata": {},
   "outputs": [
    {
     "name": "stderr",
     "output_type": "stream",
     "text": [
      "`summarise()` has grouped output by 'album_id'. You can override using the `.groups` argument.\n",
      "\n"
     ]
    }
   ],
   "source": [
    "setwd(\"/home/pa/Documents/github/doc_suomi/data/treated_data\")\n",
    "\n",
    "base = fread(\"data.csv\")\n",
    "#If album length != largest track_number, remove album \n",
    "raw = base %>% group_by(album_id, track_number) %>%\n",
    "        summarise(valence = mean(valence), energy = mean(energy), \n",
    "                  loudness = mean(loudness), tempo = mean(tempo)) %>%\n",
    "        mutate(album_length = NROW(track_number)) %>% ungroup() %>%\n",
    "        group_by(album_id) %>%\n",
    "        filter(max(track_number) != unique(album_length))\n",
    "\n",
    "albums_out = c(unique(raw$album_id))\n",
    "\n",
    "base %<>% \n",
    "    filter(!album_id %in% albums_out) %>%\n",
    "    write.csv(\"/home/pa/Documents/github/doc_suomi/data/treated_data/data.csv\")"
   ]
  },
  {
   "cell_type": "code",
   "execution_count": 101,
   "metadata": {},
   "outputs": [
    {
     "name": "stderr",
     "output_type": "stream",
     "text": [
      "`summarise()` has grouped output by 'album_id'. You can override using the `.groups` argument.\n",
      "\n"
     ]
    }
   ],
   "source": [
    "fread(\"data.csv\") %>%\n",
    "    select(\"album_id\", \"name\", \"track_number\", \"valence\", \"energy\", \"loudness\", \"tempo\", \"danceability\") %>%\n",
    "    group_by(album_id, name) %>%\n",
    "    summarise(valence = mean(valence)) %>%\n",
    "    arrange(\"name\") -> third"
   ]
  },
  {
   "cell_type": "code",
   "execution_count": 102,
   "metadata": {},
   "outputs": [],
   "source": [
    "third[!duplicated(third$name), ] %>%\n",
    "    arrange(name) -> final \n",
    "\n",
    "fread(\"data.csv\") %>%\n",
    "    select(\"album_id\", \"name\", \"track_number\", \"valence\", \"energy\", \"loudness\", \"tempo\", \"danceability\") %>%\n",
    "    filter(album_id %in% final$album_id) %>% write.csv(\"data.csv\")"
   ]
  },
  {
   "cell_type": "code",
   "execution_count": 103,
   "metadata": {},
   "outputs": [],
   "source": [
    "#filtering by name\n",
    "base = fread(\"data.csv\")\n",
    "oi = base %>%\n",
    "    filter(track_number == 1)\n",
    "\n",
    "deluxe = oi[grepl(\"Deluxe\", oi$name, ignore.case = TRUE), ]$album_id\n",
    "ao_vivo = oi[grepl(\"ao vivo\", oi$name, ignore.case = TRUE), ]$album_id\n",
    "live = oi[grepl(\"live\", oi$name, ignore.case = TRUE), ]$album_id\n",
    "special = oi[grepl(\"special edition\", oi$name, ignore.case = TRUE), ]$album_id\n",
    "out = unique(c(deluxe, ao_vivo, live, special))\n",
    "\n",
    "final = fread(\"data.csv\")\n",
    "base = final %>% filter(!album_id %in% out)\n",
    "write.csv(base, \"data.csv\")"
   ]
  },
  {
   "cell_type": "code",
   "execution_count": 104,
   "metadata": {},
   "outputs": [],
   "source": [
    "fread(\"data.csv\") %>% \n",
    "     select(album_id, name, track_number, valence, energy, loudness, tempo, danceability) %>%\n",
    "     filter(track_number == 1) %>% arrange(name) %>% distinct(name) -> chines \n"
   ]
  },
  {
   "cell_type": "code",
   "execution_count": 105,
   "metadata": {},
   "outputs": [],
   "source": [
    "fread(\"data.csv\") %>% \n",
    "    select(album_id, name, track_number, valence, energy, loudness, tempo, danceability) %>%  \n",
    "    filter(name %in% chines$name) %>% write.csv(\"data.csv\")"
   ]
  },
  {
   "cell_type": "code",
   "execution_count": null,
   "metadata": {},
   "outputs": [],
   "source": []
  },
  {
   "cell_type": "markdown",
   "metadata": {},
   "source": [
    "## Third clean\n",
    "\n",
    "Verifying if there really aren't duplicates."
   ]
  },
  {
   "cell_type": "markdown",
   "metadata": {},
   "source": [
    "# Cleaning low level"
   ]
  },
  {
   "cell_type": "code",
   "execution_count": 66,
   "metadata": {},
   "outputs": [
    {
     "data": {
      "text/html": [
       "5820"
      ],
      "text/latex": [
       "5820"
      ],
      "text/markdown": [
       "5820"
      ],
      "text/plain": [
       "[1] 5820"
      ]
     },
     "metadata": {},
     "output_type": "display_data"
    }
   ],
   "source": [
    "low = fread(\"/home/pasoneto/Documents/github/doc_suomi/data/raw_dataset/grande_com_low.csv\")\n",
    "low %<>% select(c('danceability', 'energy', 'key', 'loudness_x', 'mode', 'speechiness', 'acousticness', 'instrumentalness', \n",
    "'liveness', 'valence', 'tempo_x', 'duration_ms', 'time_signature', 'track_number', 'album_id', 'name', \n",
    "'loudness_y', 'tempo_y', 'tempo_confidence', 'key_confidence', 'mode_confidence', 'time_signature_confidence', 'track_id'))\n",
    "\n",
    "colnames(low) <- c('danceability', 'energy', 'key', 'loudness_overall', 'mode', 'speechiness', 'acousticness', 'instrumentalness', \n",
    "'liveness', 'valence', 'tempo_overall', 'duration_ms', 'time_signature', 'track_number', 'album_id', 'name', \n",
    "'loudness_continuous', 'tempo_continuous', 'tempo_confidence', 'key_confidence', 'mode_confidence', 'time_signature_confidence', 'track_id')\n",
    "\n",
    "length(unique(low$album_id))"
   ]
  },
  {
   "cell_type": "code",
   "execution_count": 67,
   "metadata": {},
   "outputs": [
    {
     "name": "stderr",
     "output_type": "stream",
     "text": [
      "`summarise()` ungrouping output (override with `.groups` argument)\n",
      "\n"
     ]
    }
   ],
   "source": [
    "replicates = low %>%\n",
    "    group_by(album_id) %>%\n",
    "    summarise(overall = sum(valence, loudness_overall, energy, tempo_overall), name = unique(name))\n",
    "\n",
    "replicates = replicates[order(-replicates$overall), ]\n",
    "\n",
    "#Calculate 0 differences\n",
    "valores = c(replicates$overall)\n",
    "album_ids = c(replicates$album_id)\n",
    "nome = c(replicates$name)\n",
    "\n",
    "difs = c()\n",
    "albums = c()\n",
    "nomes = c()\n",
    "nomes2 = c()\n",
    "for(j in 1:(length(valores)-1)){\n",
    "    difs[[j]] = abs(valores[j] - valores[j+1])\n",
    "    albums[[j]] = album_ids[j]\n",
    "    nomes[[j]] = nome[j]\n",
    "    nomes2[[j]] = nome[j+1]\n",
    "    }\n",
    "\n",
    "replicates = tibble(album_id = albums, difference =difs, nome1 = nomes, nomes2 = nomes2)\n",
    "\n",
    "replicates <- as.data.frame(lapply(replicates, unlist))\n",
    "nomes_iguais = replicates[order(replicates$difference, replicates$nome1),] %>% filter(nome1 == nomes2)\n",
    "\n",
    "nomes_iguais = c(nomes_iguais$album_id)\n",
    "\n",
    "dif_zero = replicates[order(replicates$difference, replicates$nome1),] %>% filter(difference == 0)\n",
    "dif_zero = c(dif_zero$album_id)\n",
    "\n",
    "dif_pequena = replicates[order(replicates$difference, replicates$nome1),] %>% filter(difference <= 0.005) %>% filter(!album_id %in% nomes_iguais)\n",
    "dif_pequena = c(dif_pequena$album_id)\n",
    "\n",
    "filtro = unique(c(nomes_iguais, dif_zero, dif_pequena))\n",
    "\n",
    "low %<>%\n",
    "     filter(!album_id %in% filtro) \n",
    "\n",
    "low %>% \n",
    "     write.csv(\"/home/pasoneto/Documents/github/doc_suomi/data/treated_data/data_low.csv\")"
   ]
  },
  {
   "cell_type": "code",
   "execution_count": 68,
   "metadata": {},
   "outputs": [],
   "source": [
    "low = fread(\"/home/pasoneto/Documents/github/doc_suomi/data/treated_data/data_low.csv\")"
   ]
  },
  {
   "cell_type": "code",
   "execution_count": 74,
   "metadata": {},
   "outputs": [
    {
     "name": "stderr",
     "output_type": "stream",
     "text": [
      "`summarise()` regrouping output by 'album_id' (override with `.groups` argument)\n",
      "\n"
     ]
    }
   ],
   "source": [
    "low %>% \n",
    "    group_by(album_id, name) %>%\n",
    "    summarise(mean(valence)) %>%\n",
    "    arrange(name) -> reman"
   ]
  },
  {
   "cell_type": "code",
   "execution_count": 75,
   "metadata": {},
   "outputs": [],
   "source": [
    "low %>% \n",
    "    filter(!album_id %in% c(reman[(duplicated(reman$name)), ]$album_id)) %>%\n",
    "    write.csv(\"/home/pasoneto/Documents/github/doc_suomi/data/treated_data/data_low.csv\")"
   ]
  },
  {
   "cell_type": "code",
   "execution_count": null,
   "metadata": {},
   "outputs": [],
   "source": []
  }
 ],
 "metadata": {
  "kernelspec": {
   "display_name": "R",
   "language": "R",
   "name": "ir"
  },
  "language_info": {
   "codemirror_mode": "r",
   "file_extension": ".r",
   "mimetype": "text/x-r-source",
   "name": "R",
   "pygments_lexer": "r",
   "version": "4.0.2"
  }
 },
 "nbformat": 4,
 "nbformat_minor": 4
}
