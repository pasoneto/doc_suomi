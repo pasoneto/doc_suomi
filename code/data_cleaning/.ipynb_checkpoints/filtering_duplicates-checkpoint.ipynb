{
 "cells": [
  {
   "cell_type": "markdown",
   "metadata": {},
   "source": [
    "# First clean\n",
    "\n",
    "Removing duplicate albums based on 1) album name; 2) album id; 3) feature difference"
   ]
  },
  {
   "cell_type": "code",
   "execution_count": 2,
   "metadata": {},
   "outputs": [
    {
     "name": "stderr",
     "output_type": "stream",
     "text": [
      "`summarise()` regrouping output by 'album_id' (override with `.groups` argument)\n",
      "\n"
     ]
    }
   ],
   "source": [
    "setwd(\"/home/pasoneto/Documents/github/doc_suomi/code\")\n",
    "source(\"utils.R\")\n",
    "source(\"data_cook.R\")"
   ]
  },
  {
   "cell_type": "code",
   "execution_count": 2,
   "metadata": {},
   "outputs": [],
   "source": [
    "new = fread(\"sample2.csv\")\n",
    "old = fread(\"grande_sem_low.csv\")\n",
    "\n",
    "base = dplyr::bind_rows(new, old)"
   ]
  },
  {
   "cell_type": "code",
   "execution_count": 3,
   "metadata": {},
   "outputs": [
    {
     "name": "stderr",
     "output_type": "stream",
     "text": [
      "`summarise()` regrouping output by 'album_id' (override with `.groups` argument)\n",
      "\n"
     ]
    }
   ],
   "source": [
    "replicates = base %>%\n",
    "    group_by(album_id) %>%\n",
    "    summarise(overall = sum(valence, energy, loudness, tempo), name = unique(name))\n",
    "\n",
    "replicates = replicates[order(-replicates$overall), ]"
   ]
  },
  {
   "cell_type": "code",
   "execution_count": 4,
   "metadata": {},
   "outputs": [],
   "source": [
    "#Calculate 0 differences\n",
    "valores = c(replicates$overall)\n",
    "album_ids = c(replicates$album_id)\n",
    "nome = c(replicates$name)\n",
    "\n",
    "difs = c()\n",
    "albums = c()\n",
    "nomes = c()\n",
    "nomes2 = c()\n",
    "for(j in 1:(length(valores)-1)){\n",
    "    difs[[j]] = abs(valores[j] - valores[j+1])\n",
    "    albums[[j]] = album_ids[j]\n",
    "    nomes[[j]] = nome[j]\n",
    "    nomes2[[j]] = nome[j+1]\n",
    "    }\n",
    "\n",
    "replicates = tibble(album_id = albums, difference =difs, nome1 = nomes, nomes2 = nomes2)"
   ]
  },
  {
   "cell_type": "code",
   "execution_count": 5,
   "metadata": {},
   "outputs": [],
   "source": [
    "nomes_iguais = replicates[order(replicates$difference, replicates$nome1),] %>% filter(nome1 == nomes2)\n",
    "nomes_iguais = c(nomes_iguais$album_id)"
   ]
  },
  {
   "cell_type": "code",
   "execution_count": 6,
   "metadata": {},
   "outputs": [],
   "source": [
    "dif_zero = replicates[order(replicates$difference, replicates$nome1),] %>% filter(difference == 0)\n",
    "dif_zero = c(dif_zero$album_id)"
   ]
  },
  {
   "cell_type": "code",
   "execution_count": 7,
   "metadata": {},
   "outputs": [],
   "source": [
    "dif_pequena = replicates[order(replicates$difference, replicates$nome1),] %>% filter(difference <= 0.005)\n",
    "dif_pequena = c(dif_pequena$album_id)"
   ]
  },
  {
   "cell_type": "code",
   "execution_count": 8,
   "metadata": {},
   "outputs": [],
   "source": [
    "filtro = unique(c(nomes_iguais, dif_zero, dif_pequena))"
   ]
  },
  {
   "cell_type": "code",
   "execution_count": 9,
   "metadata": {},
   "outputs": [],
   "source": [
    "base %>%\n",
    "    filter(!album_id %in% filtro) %>% \n",
    "    dplyr::select(album_id, track_number, name, valence, energy, loudness, tempo, danceability) %>%\n",
    "    write.csv(\"/home/pasoneto/Documents/github/doc_suomi/data/treated_data/data.csv\")"
   ]
  },
  {
   "cell_type": "markdown",
   "metadata": {},
   "source": [
    "# Second clean\n",
    "\n",
    "Removing albums with wrong number of tracks (from 1 to 10, but missing track 9)"
   ]
  },
  {
   "cell_type": "code",
   "execution_count": 24,
   "metadata": {},
   "outputs": [
    {
     "name": "stderr",
     "output_type": "stream",
     "text": [
      "`summarise()` regrouping output by 'album_id' (override with `.groups` argument)\n",
      "\n"
     ]
    },
    {
     "data": {
      "text/html": [],
      "text/latex": [],
      "text/markdown": [],
      "text/plain": [
       "character(0)"
      ]
     },
     "metadata": {},
     "output_type": "display_data"
    }
   ],
   "source": [
    "setwd(\"/home/pasoneto/Documents/github/doc_suomi/data/treated_data\")\n",
    "\n",
    "base = fread(\"data.csv\")\n",
    "#If album length != largest track_number, remove album \n",
    "raw = base %>% group_by(album_id, track_number) %>%\n",
    "        summarise(valence = mean(valence), energy = mean(energy), \n",
    "                  loudness = mean(loudness), tempo = mean(tempo)) %>%\n",
    "        mutate(album_length = NROW(track_number)) %>% ungroup() %>%\n",
    "        group_by(album_id) %>%\n",
    "        filter(max(track_number) != unique(album_length))\n",
    "\n",
    "albums_out = c(unique(raw$album_id))\n",
    "\n",
    "base %<>% \n",
    "    filter(!album_id %in% albums_out) %>%\n",
    "    write.csv(\"/home/pasoneto/Documents/github/doc_suomi/data/treated_data/data.csv\")"
   ]
  },
  {
   "cell_type": "markdown",
   "metadata": {},
   "source": [
    "## Third clean\n",
    "\n",
    "Verifying if there really aren't duplicates."
   ]
  },
  {
   "cell_type": "code",
   "execution_count": 19,
   "metadata": {},
   "outputs": [
    {
     "name": "stderr",
     "output_type": "stream",
     "text": [
      "`summarise()` ungrouping output (override with `.groups` argument)\n",
      "\n"
     ]
    },
    {
     "data": {
      "text/html": [
       "<table>\n",
       "<caption>A tibble: 4446 × 2</caption>\n",
       "<thead>\n",
       "\t<tr><th scope=col>album_id</th><th scope=col>valence</th></tr>\n",
       "\t<tr><th scope=col>&lt;chr&gt;</th><th scope=col>&lt;dbl&gt;</th></tr>\n",
       "</thead>\n",
       "<tbody>\n",
       "\t<tr><td>7zL4yLApULc0HhEpoqOrwG</td><td>0.2326</td></tr>\n",
       "\t<tr><td>5MOf6d4X7mtvhSwvE5hEkQ</td><td>0.2565</td></tr>\n",
       "\t<tr><td>2Qnfp8GLuzecgtsqK4JuON</td><td>0.2692</td></tr>\n",
       "\t<tr><td>1XcSeRzPDXZfgatgAWB1zw</td><td>0.3031</td></tr>\n",
       "\t<tr><td>7Jm76j0kKzyy2GLExHlVQO</td><td>0.3219</td></tr>\n",
       "\t<tr><td>3coLBjEk3wxbYrmIKVuSon</td><td>0.3260</td></tr>\n",
       "\t<tr><td>1u2MIONeSkVJDGC2Ft3efs</td><td>0.3483</td></tr>\n",
       "\t<tr><td>2jxyIfyUY0yhPANWWrwnca</td><td>0.3510</td></tr>\n",
       "\t<tr><td>7qpjccYlXA9loqNePT22cy</td><td>0.3544</td></tr>\n",
       "\t<tr><td>296zqVG4gI7mDSUD0CytXM</td><td>0.3673</td></tr>\n",
       "\t<tr><td>0KDqbqDThNg6IqciHQUPb6</td><td>0.3742</td></tr>\n",
       "\t<tr><td>6zGFaCW8PVCDvNGDDGY1lS</td><td>0.3950</td></tr>\n",
       "\t<tr><td>4r3hMwxOqCU0u4vf2VvN1z</td><td>0.4014</td></tr>\n",
       "\t<tr><td>2spCdgW2bUb9Pxbo7nMeHQ</td><td>0.4103</td></tr>\n",
       "\t<tr><td>7cuQrfE3R8cX53zLoGF6Ma</td><td>0.4137</td></tr>\n",
       "\t<tr><td>2AVQzSsXMeVJsXJWU5BDf7</td><td>0.4171</td></tr>\n",
       "\t<tr><td>6inx5iWBSKJC4zfAF58fum</td><td>0.4319</td></tr>\n",
       "\t<tr><td>76FYZCml3IfWHJKVdtxmbD</td><td>0.4361</td></tr>\n",
       "\t<tr><td>2Iwm3Tru1xGW6rEttU61ca</td><td>0.4637</td></tr>\n",
       "\t<tr><td>4PtLDi9ceyX466Dt2Rt6NX</td><td>0.4863</td></tr>\n",
       "\t<tr><td>7ML6J0j6KW0Y3X6N6qvTta</td><td>0.5033</td></tr>\n",
       "\t<tr><td>6X7cjb463ozDJIVeWnS4Lq</td><td>0.5084</td></tr>\n",
       "\t<tr><td>7AtyRf10gMU6X66TSj3tHQ</td><td>0.5118</td></tr>\n",
       "\t<tr><td>62FqqqMSAiPBMMs8wNGNUX</td><td>0.5126</td></tr>\n",
       "\t<tr><td>1g3kEuw4y57wcndBg3VMaw</td><td>0.5260</td></tr>\n",
       "\t<tr><td>3km1rY5IuethseXC3jvMGY</td><td>0.5334</td></tr>\n",
       "\t<tr><td>2H2fa5kur8M3r3kYSFvFON</td><td>0.5353</td></tr>\n",
       "\t<tr><td>0HNjQgVBfaIT0xtW0jzkmF</td><td>0.5374</td></tr>\n",
       "\t<tr><td>5n1DCIasPcYQLqaKP9FFuV</td><td>0.5424</td></tr>\n",
       "\t<tr><td>0gsk1RGjMrtEDE05s0TZMf</td><td>0.5444</td></tr>\n",
       "\t<tr><td>⋮</td><td>⋮</td></tr>\n",
       "\t<tr><td>5myNfp3Q7jPwj3LjnnMwFU</td><td>12.799</td></tr>\n",
       "\t<tr><td>1Tlf794OrvIjqrgCeyy20R</td><td>12.805</td></tr>\n",
       "\t<tr><td>4ZUWlTvPm5AmHmVlUpi2jM</td><td>12.845</td></tr>\n",
       "\t<tr><td>4YvY8BtNomELHU0cdO3kMW</td><td>12.942</td></tr>\n",
       "\t<tr><td>4yg1kzENeZwjJP8sw21vok</td><td>12.945</td></tr>\n",
       "\t<tr><td>1vajypR99Mc07S7Wlhzhuy</td><td>12.953</td></tr>\n",
       "\t<tr><td>5Mtnj5JyvyXR6ui377dBnD</td><td>12.980</td></tr>\n",
       "\t<tr><td>2T4SgxLYyvVJxqwWGk4Pjq</td><td>13.008</td></tr>\n",
       "\t<tr><td>5Dk8wh5wFDOixjzgYDsQFL</td><td>13.010</td></tr>\n",
       "\t<tr><td>2p4NrV5QF88EXObn4Eu60m</td><td>13.022</td></tr>\n",
       "\t<tr><td>6oGXALVuSmMjwfXZeOCw7e</td><td>13.122</td></tr>\n",
       "\t<tr><td>2oFOHKxUhcpdQ5V9YszcGt</td><td>13.177</td></tr>\n",
       "\t<tr><td>0wLEpRQ8cmymWlop5wUc3f</td><td>13.229</td></tr>\n",
       "\t<tr><td>2Zwru555EbXVqOQ1c30LLH</td><td>13.244</td></tr>\n",
       "\t<tr><td>0ycGFTzjRzZ15hpGUlmfkw</td><td>13.305</td></tr>\n",
       "\t<tr><td>36z2Bskfc3OmtRVBFHiUA7</td><td>13.306</td></tr>\n",
       "\t<tr><td>7v7oeqMeab9J2pB1X7FlQS</td><td>13.330</td></tr>\n",
       "\t<tr><td>1k135A61jEXti2kNIFOMi3</td><td>13.335</td></tr>\n",
       "\t<tr><td>2fNU5uDDBMIbHgPdNSFRBW</td><td>13.381</td></tr>\n",
       "\t<tr><td>512wE9gJZsB4iSVgVWOAKp</td><td>13.539</td></tr>\n",
       "\t<tr><td>6BZa0SHOryKEdNoZFIktqs</td><td>13.557</td></tr>\n",
       "\t<tr><td>04d2hVVnAhjzibOl2n1jd5</td><td>13.755</td></tr>\n",
       "\t<tr><td>1OaZD5iED1AXKNsdNjlGJm</td><td>13.819</td></tr>\n",
       "\t<tr><td>063rT6ZkMnoJ64zJ0aXPx4</td><td>13.925</td></tr>\n",
       "\t<tr><td>2qplLl2MqjUPB0T5uZiguW</td><td>13.947</td></tr>\n",
       "\t<tr><td>61gamsVXABwptsWm5Ehh9H</td><td>14.004</td></tr>\n",
       "\t<tr><td>6Mlcs0ZXLyzDdjDyCcFWXm</td><td>14.248</td></tr>\n",
       "\t<tr><td>1Fnb3iO99TSEN9w69ZTLbJ</td><td>14.566</td></tr>\n",
       "\t<tr><td>4dhx9dR0JroVptj4FFY46r</td><td>14.833</td></tr>\n",
       "\t<tr><td>0UdXilXQoSS0ENijBWftif</td><td>15.398</td></tr>\n",
       "</tbody>\n",
       "</table>\n"
      ],
      "text/latex": [
       "A tibble: 4446 × 2\n",
       "\\begin{tabular}{ll}\n",
       " album\\_id & valence\\\\\n",
       " <chr> & <dbl>\\\\\n",
       "\\hline\n",
       "\t 7zL4yLApULc0HhEpoqOrwG & 0.2326\\\\\n",
       "\t 5MOf6d4X7mtvhSwvE5hEkQ & 0.2565\\\\\n",
       "\t 2Qnfp8GLuzecgtsqK4JuON & 0.2692\\\\\n",
       "\t 1XcSeRzPDXZfgatgAWB1zw & 0.3031\\\\\n",
       "\t 7Jm76j0kKzyy2GLExHlVQO & 0.3219\\\\\n",
       "\t 3coLBjEk3wxbYrmIKVuSon & 0.3260\\\\\n",
       "\t 1u2MIONeSkVJDGC2Ft3efs & 0.3483\\\\\n",
       "\t 2jxyIfyUY0yhPANWWrwnca & 0.3510\\\\\n",
       "\t 7qpjccYlXA9loqNePT22cy & 0.3544\\\\\n",
       "\t 296zqVG4gI7mDSUD0CytXM & 0.3673\\\\\n",
       "\t 0KDqbqDThNg6IqciHQUPb6 & 0.3742\\\\\n",
       "\t 6zGFaCW8PVCDvNGDDGY1lS & 0.3950\\\\\n",
       "\t 4r3hMwxOqCU0u4vf2VvN1z & 0.4014\\\\\n",
       "\t 2spCdgW2bUb9Pxbo7nMeHQ & 0.4103\\\\\n",
       "\t 7cuQrfE3R8cX53zLoGF6Ma & 0.4137\\\\\n",
       "\t 2AVQzSsXMeVJsXJWU5BDf7 & 0.4171\\\\\n",
       "\t 6inx5iWBSKJC4zfAF58fum & 0.4319\\\\\n",
       "\t 76FYZCml3IfWHJKVdtxmbD & 0.4361\\\\\n",
       "\t 2Iwm3Tru1xGW6rEttU61ca & 0.4637\\\\\n",
       "\t 4PtLDi9ceyX466Dt2Rt6NX & 0.4863\\\\\n",
       "\t 7ML6J0j6KW0Y3X6N6qvTta & 0.5033\\\\\n",
       "\t 6X7cjb463ozDJIVeWnS4Lq & 0.5084\\\\\n",
       "\t 7AtyRf10gMU6X66TSj3tHQ & 0.5118\\\\\n",
       "\t 62FqqqMSAiPBMMs8wNGNUX & 0.5126\\\\\n",
       "\t 1g3kEuw4y57wcndBg3VMaw & 0.5260\\\\\n",
       "\t 3km1rY5IuethseXC3jvMGY & 0.5334\\\\\n",
       "\t 2H2fa5kur8M3r3kYSFvFON & 0.5353\\\\\n",
       "\t 0HNjQgVBfaIT0xtW0jzkmF & 0.5374\\\\\n",
       "\t 5n1DCIasPcYQLqaKP9FFuV & 0.5424\\\\\n",
       "\t 0gsk1RGjMrtEDE05s0TZMf & 0.5444\\\\\n",
       "\t ⋮ & ⋮\\\\\n",
       "\t 5myNfp3Q7jPwj3LjnnMwFU & 12.799\\\\\n",
       "\t 1Tlf794OrvIjqrgCeyy20R & 12.805\\\\\n",
       "\t 4ZUWlTvPm5AmHmVlUpi2jM & 12.845\\\\\n",
       "\t 4YvY8BtNomELHU0cdO3kMW & 12.942\\\\\n",
       "\t 4yg1kzENeZwjJP8sw21vok & 12.945\\\\\n",
       "\t 1vajypR99Mc07S7Wlhzhuy & 12.953\\\\\n",
       "\t 5Mtnj5JyvyXR6ui377dBnD & 12.980\\\\\n",
       "\t 2T4SgxLYyvVJxqwWGk4Pjq & 13.008\\\\\n",
       "\t 5Dk8wh5wFDOixjzgYDsQFL & 13.010\\\\\n",
       "\t 2p4NrV5QF88EXObn4Eu60m & 13.022\\\\\n",
       "\t 6oGXALVuSmMjwfXZeOCw7e & 13.122\\\\\n",
       "\t 2oFOHKxUhcpdQ5V9YszcGt & 13.177\\\\\n",
       "\t 0wLEpRQ8cmymWlop5wUc3f & 13.229\\\\\n",
       "\t 2Zwru555EbXVqOQ1c30LLH & 13.244\\\\\n",
       "\t 0ycGFTzjRzZ15hpGUlmfkw & 13.305\\\\\n",
       "\t 36z2Bskfc3OmtRVBFHiUA7 & 13.306\\\\\n",
       "\t 7v7oeqMeab9J2pB1X7FlQS & 13.330\\\\\n",
       "\t 1k135A61jEXti2kNIFOMi3 & 13.335\\\\\n",
       "\t 2fNU5uDDBMIbHgPdNSFRBW & 13.381\\\\\n",
       "\t 512wE9gJZsB4iSVgVWOAKp & 13.539\\\\\n",
       "\t 6BZa0SHOryKEdNoZFIktqs & 13.557\\\\\n",
       "\t 04d2hVVnAhjzibOl2n1jd5 & 13.755\\\\\n",
       "\t 1OaZD5iED1AXKNsdNjlGJm & 13.819\\\\\n",
       "\t 063rT6ZkMnoJ64zJ0aXPx4 & 13.925\\\\\n",
       "\t 2qplLl2MqjUPB0T5uZiguW & 13.947\\\\\n",
       "\t 61gamsVXABwptsWm5Ehh9H & 14.004\\\\\n",
       "\t 6Mlcs0ZXLyzDdjDyCcFWXm & 14.248\\\\\n",
       "\t 1Fnb3iO99TSEN9w69ZTLbJ & 14.566\\\\\n",
       "\t 4dhx9dR0JroVptj4FFY46r & 14.833\\\\\n",
       "\t 0UdXilXQoSS0ENijBWftif & 15.398\\\\\n",
       "\\end{tabular}\n"
      ],
      "text/markdown": [
       "\n",
       "A tibble: 4446 × 2\n",
       "\n",
       "| album_id &lt;chr&gt; | valence &lt;dbl&gt; |\n",
       "|---|---|\n",
       "| 7zL4yLApULc0HhEpoqOrwG | 0.2326 |\n",
       "| 5MOf6d4X7mtvhSwvE5hEkQ | 0.2565 |\n",
       "| 2Qnfp8GLuzecgtsqK4JuON | 0.2692 |\n",
       "| 1XcSeRzPDXZfgatgAWB1zw | 0.3031 |\n",
       "| 7Jm76j0kKzyy2GLExHlVQO | 0.3219 |\n",
       "| 3coLBjEk3wxbYrmIKVuSon | 0.3260 |\n",
       "| 1u2MIONeSkVJDGC2Ft3efs | 0.3483 |\n",
       "| 2jxyIfyUY0yhPANWWrwnca | 0.3510 |\n",
       "| 7qpjccYlXA9loqNePT22cy | 0.3544 |\n",
       "| 296zqVG4gI7mDSUD0CytXM | 0.3673 |\n",
       "| 0KDqbqDThNg6IqciHQUPb6 | 0.3742 |\n",
       "| 6zGFaCW8PVCDvNGDDGY1lS | 0.3950 |\n",
       "| 4r3hMwxOqCU0u4vf2VvN1z | 0.4014 |\n",
       "| 2spCdgW2bUb9Pxbo7nMeHQ | 0.4103 |\n",
       "| 7cuQrfE3R8cX53zLoGF6Ma | 0.4137 |\n",
       "| 2AVQzSsXMeVJsXJWU5BDf7 | 0.4171 |\n",
       "| 6inx5iWBSKJC4zfAF58fum | 0.4319 |\n",
       "| 76FYZCml3IfWHJKVdtxmbD | 0.4361 |\n",
       "| 2Iwm3Tru1xGW6rEttU61ca | 0.4637 |\n",
       "| 4PtLDi9ceyX466Dt2Rt6NX | 0.4863 |\n",
       "| 7ML6J0j6KW0Y3X6N6qvTta | 0.5033 |\n",
       "| 6X7cjb463ozDJIVeWnS4Lq | 0.5084 |\n",
       "| 7AtyRf10gMU6X66TSj3tHQ | 0.5118 |\n",
       "| 62FqqqMSAiPBMMs8wNGNUX | 0.5126 |\n",
       "| 1g3kEuw4y57wcndBg3VMaw | 0.5260 |\n",
       "| 3km1rY5IuethseXC3jvMGY | 0.5334 |\n",
       "| 2H2fa5kur8M3r3kYSFvFON | 0.5353 |\n",
       "| 0HNjQgVBfaIT0xtW0jzkmF | 0.5374 |\n",
       "| 5n1DCIasPcYQLqaKP9FFuV | 0.5424 |\n",
       "| 0gsk1RGjMrtEDE05s0TZMf | 0.5444 |\n",
       "| ⋮ | ⋮ |\n",
       "| 5myNfp3Q7jPwj3LjnnMwFU | 12.799 |\n",
       "| 1Tlf794OrvIjqrgCeyy20R | 12.805 |\n",
       "| 4ZUWlTvPm5AmHmVlUpi2jM | 12.845 |\n",
       "| 4YvY8BtNomELHU0cdO3kMW | 12.942 |\n",
       "| 4yg1kzENeZwjJP8sw21vok | 12.945 |\n",
       "| 1vajypR99Mc07S7Wlhzhuy | 12.953 |\n",
       "| 5Mtnj5JyvyXR6ui377dBnD | 12.980 |\n",
       "| 2T4SgxLYyvVJxqwWGk4Pjq | 13.008 |\n",
       "| 5Dk8wh5wFDOixjzgYDsQFL | 13.010 |\n",
       "| 2p4NrV5QF88EXObn4Eu60m | 13.022 |\n",
       "| 6oGXALVuSmMjwfXZeOCw7e | 13.122 |\n",
       "| 2oFOHKxUhcpdQ5V9YszcGt | 13.177 |\n",
       "| 0wLEpRQ8cmymWlop5wUc3f | 13.229 |\n",
       "| 2Zwru555EbXVqOQ1c30LLH | 13.244 |\n",
       "| 0ycGFTzjRzZ15hpGUlmfkw | 13.305 |\n",
       "| 36z2Bskfc3OmtRVBFHiUA7 | 13.306 |\n",
       "| 7v7oeqMeab9J2pB1X7FlQS | 13.330 |\n",
       "| 1k135A61jEXti2kNIFOMi3 | 13.335 |\n",
       "| 2fNU5uDDBMIbHgPdNSFRBW | 13.381 |\n",
       "| 512wE9gJZsB4iSVgVWOAKp | 13.539 |\n",
       "| 6BZa0SHOryKEdNoZFIktqs | 13.557 |\n",
       "| 04d2hVVnAhjzibOl2n1jd5 | 13.755 |\n",
       "| 1OaZD5iED1AXKNsdNjlGJm | 13.819 |\n",
       "| 063rT6ZkMnoJ64zJ0aXPx4 | 13.925 |\n",
       "| 2qplLl2MqjUPB0T5uZiguW | 13.947 |\n",
       "| 61gamsVXABwptsWm5Ehh9H | 14.004 |\n",
       "| 6Mlcs0ZXLyzDdjDyCcFWXm | 14.248 |\n",
       "| 1Fnb3iO99TSEN9w69ZTLbJ | 14.566 |\n",
       "| 4dhx9dR0JroVptj4FFY46r | 14.833 |\n",
       "| 0UdXilXQoSS0ENijBWftif | 15.398 |\n",
       "\n"
      ],
      "text/plain": [
       "     album_id               valence\n",
       "1    7zL4yLApULc0HhEpoqOrwG 0.2326 \n",
       "2    5MOf6d4X7mtvhSwvE5hEkQ 0.2565 \n",
       "3    2Qnfp8GLuzecgtsqK4JuON 0.2692 \n",
       "4    1XcSeRzPDXZfgatgAWB1zw 0.3031 \n",
       "5    7Jm76j0kKzyy2GLExHlVQO 0.3219 \n",
       "6    3coLBjEk3wxbYrmIKVuSon 0.3260 \n",
       "7    1u2MIONeSkVJDGC2Ft3efs 0.3483 \n",
       "8    2jxyIfyUY0yhPANWWrwnca 0.3510 \n",
       "9    7qpjccYlXA9loqNePT22cy 0.3544 \n",
       "10   296zqVG4gI7mDSUD0CytXM 0.3673 \n",
       "11   0KDqbqDThNg6IqciHQUPb6 0.3742 \n",
       "12   6zGFaCW8PVCDvNGDDGY1lS 0.3950 \n",
       "13   4r3hMwxOqCU0u4vf2VvN1z 0.4014 \n",
       "14   2spCdgW2bUb9Pxbo7nMeHQ 0.4103 \n",
       "15   7cuQrfE3R8cX53zLoGF6Ma 0.4137 \n",
       "16   2AVQzSsXMeVJsXJWU5BDf7 0.4171 \n",
       "17   6inx5iWBSKJC4zfAF58fum 0.4319 \n",
       "18   76FYZCml3IfWHJKVdtxmbD 0.4361 \n",
       "19   2Iwm3Tru1xGW6rEttU61ca 0.4637 \n",
       "20   4PtLDi9ceyX466Dt2Rt6NX 0.4863 \n",
       "21   7ML6J0j6KW0Y3X6N6qvTta 0.5033 \n",
       "22   6X7cjb463ozDJIVeWnS4Lq 0.5084 \n",
       "23   7AtyRf10gMU6X66TSj3tHQ 0.5118 \n",
       "24   62FqqqMSAiPBMMs8wNGNUX 0.5126 \n",
       "25   1g3kEuw4y57wcndBg3VMaw 0.5260 \n",
       "26   3km1rY5IuethseXC3jvMGY 0.5334 \n",
       "27   2H2fa5kur8M3r3kYSFvFON 0.5353 \n",
       "28   0HNjQgVBfaIT0xtW0jzkmF 0.5374 \n",
       "29   5n1DCIasPcYQLqaKP9FFuV 0.5424 \n",
       "30   0gsk1RGjMrtEDE05s0TZMf 0.5444 \n",
       "⋮    ⋮                      ⋮      \n",
       "4417 5myNfp3Q7jPwj3LjnnMwFU 12.799 \n",
       "4418 1Tlf794OrvIjqrgCeyy20R 12.805 \n",
       "4419 4ZUWlTvPm5AmHmVlUpi2jM 12.845 \n",
       "4420 4YvY8BtNomELHU0cdO3kMW 12.942 \n",
       "4421 4yg1kzENeZwjJP8sw21vok 12.945 \n",
       "4422 1vajypR99Mc07S7Wlhzhuy 12.953 \n",
       "4423 5Mtnj5JyvyXR6ui377dBnD 12.980 \n",
       "4424 2T4SgxLYyvVJxqwWGk4Pjq 13.008 \n",
       "4425 5Dk8wh5wFDOixjzgYDsQFL 13.010 \n",
       "4426 2p4NrV5QF88EXObn4Eu60m 13.022 \n",
       "4427 6oGXALVuSmMjwfXZeOCw7e 13.122 \n",
       "4428 2oFOHKxUhcpdQ5V9YszcGt 13.177 \n",
       "4429 0wLEpRQ8cmymWlop5wUc3f 13.229 \n",
       "4430 2Zwru555EbXVqOQ1c30LLH 13.244 \n",
       "4431 0ycGFTzjRzZ15hpGUlmfkw 13.305 \n",
       "4432 36z2Bskfc3OmtRVBFHiUA7 13.306 \n",
       "4433 7v7oeqMeab9J2pB1X7FlQS 13.330 \n",
       "4434 1k135A61jEXti2kNIFOMi3 13.335 \n",
       "4435 2fNU5uDDBMIbHgPdNSFRBW 13.381 \n",
       "4436 512wE9gJZsB4iSVgVWOAKp 13.539 \n",
       "4437 6BZa0SHOryKEdNoZFIktqs 13.557 \n",
       "4438 04d2hVVnAhjzibOl2n1jd5 13.755 \n",
       "4439 1OaZD5iED1AXKNsdNjlGJm 13.819 \n",
       "4440 063rT6ZkMnoJ64zJ0aXPx4 13.925 \n",
       "4441 2qplLl2MqjUPB0T5uZiguW 13.947 \n",
       "4442 61gamsVXABwptsWm5Ehh9H 14.004 \n",
       "4443 6Mlcs0ZXLyzDdjDyCcFWXm 14.248 \n",
       "4444 1Fnb3iO99TSEN9w69ZTLbJ 14.566 \n",
       "4445 4dhx9dR0JroVptj4FFY46r 14.833 \n",
       "4446 0UdXilXQoSS0ENijBWftif 15.398 "
      ]
     },
     "metadata": {},
     "output_type": "display_data"
    }
   ],
   "source": [
    "#There aren't\n",
    "base() %>% \n",
    "    group_by(album_id) %>%\n",
    "    summarise(valence = sum(valence)) %>% \n",
    "    select(album_id, valence) %>% arrange(valence) %>%\n",
    "    unique()"
   ]
  },
  {
   "cell_type": "markdown",
   "metadata": {},
   "source": [
    "# Cleaning low level"
   ]
  },
  {
   "cell_type": "code",
   "execution_count": 3,
   "metadata": {},
   "outputs": [],
   "source": [
    "low = fread(\"/home/pasoneto/Documents/github/doc_suomi/data/raw_dataset/grande_com_low.csv\")\n",
    "low %<>% select(c('danceability', 'energy', 'key', 'loudness_x', 'mode', 'speechiness', 'acousticness', 'instrumentalness', \n",
    "'liveness', 'valence', 'tempo_x', 'duration_ms', 'time_signature', 'track_number', 'album_id', 'name', \n",
    "'loudness_y', 'tempo_y', 'tempo_confidence', 'key_confidence', 'mode_confidence', 'time_signature_confidence', 'track_id'))\n",
    "\n",
    "colnames(low) <- c('danceability', 'energy', 'key', 'loudness_overall', 'mode', 'speechiness', 'acousticness', 'instrumentalness', \n",
    "'liveness', 'valence', 'tempo_overall', 'duration_ms', 'time_signature', 'track_number', 'album_id', 'name', \n",
    "'loudness_continuous', 'tempo_continuous', 'tempo_confidence', 'key_confidence', 'mode_confidence', 'time_signature_confidence', 'track_id')"
   ]
  },
  {
   "cell_type": "code",
   "execution_count": 7,
   "metadata": {},
   "outputs": [
    {
     "name": "stderr",
     "output_type": "stream",
     "text": [
      "`summarise()` ungrouping output (override with `.groups` argument)\n",
      "\n"
     ]
    }
   ],
   "source": [
    "replicates = low %>%\n",
    "    group_by(album_id) %>%\n",
    "    summarise(overall = sum(valence, loudness_overall, energy, tempo_overall), name = unique(name))\n",
    "\n",
    "replicates = replicates[order(-replicates$overall), ]\n",
    "\n",
    "#Calculate 0 differences\n",
    "valores = c(replicates$overall)\n",
    "album_ids = c(replicates$album_id)\n",
    "nome = c(replicates$name)\n",
    "\n",
    "difs = c()\n",
    "albums = c()\n",
    "nomes = c()\n",
    "nomes2 = c()\n",
    "for(j in 1:(length(valores)-1)){\n",
    "    difs[[j]] = abs(valores[j] - valores[j+1])\n",
    "    albums[[j]] = album_ids[j]\n",
    "    nomes[[j]] = nome[j]\n",
    "    nomes2[[j]] = nome[j+1]\n",
    "    }\n",
    "\n",
    "replicates = tibble(album_id = albums, difference =difs, nome1 = nomes, nomes2 = nomes2)\n",
    "\n",
    "replicates <- as.data.frame(lapply(replicates, unlist))\n",
    "\n",
    "nomes_iguais = replicates[order(replicates$difference, replicates$nome1),] %>% filter(nome1 == nomes2)\n",
    "nomes_iguais = c(nomes_iguais$album_id)\n",
    "\n",
    "dif_zero = replicates[order(replicates$difference, replicates$nome1),] %>% filter(difference == 0)\n",
    "dif_zero = c(dif_zero$album_id)\n",
    "\n",
    "dif_pequena = replicates[order(replicates$difference, replicates$nome1),] %>% filter(difference <= 0.005)\n",
    "dif_pequena = c(dif_pequena$album_id)\n",
    "\n",
    "filtro = unique(c(nomes_iguais, dif_zero, dif_pequena))\n",
    "\n",
    "low %<>%\n",
    "     filter(!album_id %in% filtro) \n",
    "\n",
    "low %>% \n",
    "     write.csv(\"/home/pasoneto/Documents/github/doc_suomi/data/treated_data/data_low.csv\")"
   ]
  },
  {
   "cell_type": "code",
   "execution_count": 11,
   "metadata": {},
   "outputs": [
    {
     "ename": "ERROR",
     "evalue": "Error in manip_all(.tbl, .funs, enquo(.funs), caller_env(), ..., .caller = \"summarise_all\"): argument \".funs\" is missing, with no default\n",
     "output_type": "error",
     "traceback": [
      "Error in manip_all(.tbl, .funs, enquo(.funs), caller_env(), ..., .caller = \"summarise_all\"): argument \".funs\" is missing, with no default\nTraceback:\n",
      "1. low %>% select(everything()) %>% summarise_all(oi = sum(is.na(.)))",
      "2. summarise_all(., oi = sum(is.na(.)))",
      "3. manip_all(.tbl, .funs, enquo(.funs), caller_env(), ..., .caller = \"summarise_all\")",
      "4. as_fun_list(.funs, .env, ..., .caller = .caller)",
      "5. is_fun_list(.funs)"
     ]
    }
   ],
   "source": [
    "low %>%\n",
    "  select(everything()) %>%  # replace to your needs\n",
    "  summarise_all(oi = sum(is.na(.)))"
   ]
  },
  {
   "cell_type": "code",
   "execution_count": null,
   "metadata": {},
   "outputs": [],
   "source": []
  }
 ],
 "metadata": {
  "kernelspec": {
   "display_name": "R",
   "language": "R",
   "name": "ir"
  },
  "language_info": {
   "codemirror_mode": "r",
   "file_extension": ".r",
   "mimetype": "text/x-r-source",
   "name": "R",
   "pygments_lexer": "r",
   "version": "4.0.3"
  }
 },
 "nbformat": 4,
 "nbformat_minor": 4
}
