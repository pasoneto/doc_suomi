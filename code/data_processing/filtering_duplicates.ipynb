{
 "cells": [
  {
   "cell_type": "markdown",
   "metadata": {},
   "source": [
    "# First clean\n",
    "\n",
    "Removing duplicate albums based on 1) album name; 2) album id; 3) feature difference"
   ]
  },
  {
   "cell_type": "code",
   "execution_count": 3,
   "metadata": {},
   "outputs": [
    {
     "name": "stderr",
     "output_type": "stream",
     "text": [
      "`summarise()` regrouping output by 'album_id' (override with `.groups` argument)\n",
      "\n"
     ]
    }
   ],
   "source": [
    "setwd(\"/home/pasoneto/Documents/github/doc_suomi/code\")\n",
    "source(\"utils.R\")\n",
    "source(\"data_cook.R\")"
   ]
  },
  {
   "cell_type": "code",
   "execution_count": 2,
   "metadata": {},
   "outputs": [],
   "source": [
    "new = fread(\"sample2.csv\")\n",
    "old = fread(\"grande_sem_low.csv\")\n",
    "\n",
    "base = dplyr::bind_rows(new, old)"
   ]
  },
  {
   "cell_type": "code",
   "execution_count": 3,
   "metadata": {},
   "outputs": [
    {
     "name": "stderr",
     "output_type": "stream",
     "text": [
      "`summarise()` regrouping output by 'album_id' (override with `.groups` argument)\n",
      "\n"
     ]
    }
   ],
   "source": [
    "replicates = base %>%\n",
    "    group_by(album_id) %>%\n",
    "    summarise(overall = sum(valence, energy, loudness, tempo), name = unique(name))\n",
    "\n",
    "replicates = replicates[order(-replicates$overall), ]"
   ]
  },
  {
   "cell_type": "code",
   "execution_count": 4,
   "metadata": {},
   "outputs": [],
   "source": [
    "#Calculate 0 differences\n",
    "valores = c(replicates$overall)\n",
    "album_ids = c(replicates$album_id)\n",
    "nome = c(replicates$name)\n",
    "\n",
    "difs = c()\n",
    "albums = c()\n",
    "nomes = c()\n",
    "nomes2 = c()\n",
    "for(j in 1:(length(valores)-1)){\n",
    "    difs[[j]] = abs(valores[j] - valores[j+1])\n",
    "    albums[[j]] = album_ids[j]\n",
    "    nomes[[j]] = nome[j]\n",
    "    nomes2[[j]] = nome[j+1]\n",
    "    }\n",
    "\n",
    "replicates = tibble(album_id = albums, difference =difs, nome1 = nomes, nomes2 = nomes2)"
   ]
  },
  {
   "cell_type": "code",
   "execution_count": 5,
   "metadata": {},
   "outputs": [],
   "source": [
    "nomes_iguais = replicates[order(replicates$difference, replicates$nome1),] %>% filter(nome1 == nomes2)\n",
    "nomes_iguais = c(nomes_iguais$album_id)"
   ]
  },
  {
   "cell_type": "code",
   "execution_count": 6,
   "metadata": {},
   "outputs": [],
   "source": [
    "dif_zero = replicates[order(replicates$difference, replicates$nome1),] %>% filter(difference == 0)\n",
    "dif_zero = c(dif_zero$album_id)"
   ]
  },
  {
   "cell_type": "code",
   "execution_count": 7,
   "metadata": {},
   "outputs": [],
   "source": [
    "dif_pequena = replicates[order(replicates$difference, replicates$nome1),] %>% filter(difference <= 0.005)\n",
    "dif_pequena = c(dif_pequena$album_id)"
   ]
  },
  {
   "cell_type": "code",
   "execution_count": 8,
   "metadata": {},
   "outputs": [],
   "source": [
    "filtro = unique(c(nomes_iguais, dif_zero, dif_pequena))"
   ]
  },
  {
   "cell_type": "code",
   "execution_count": 9,
   "metadata": {},
   "outputs": [],
   "source": [
    "base %>%\n",
    "    filter(!album_id %in% filtro) %>% \n",
    "    dplyr::select(album_id, track_number, name, valence, energy, loudness, tempo, danceability) %>%\n",
    "    write.csv(\"/home/pasoneto/Documents/github/doc_suomi/data/treated_data/data.csv\")"
   ]
  },
  {
   "cell_type": "markdown",
   "metadata": {},
   "source": [
    "# Second clean\n",
    "\n",
    "Removing albums with wrong number of tracks (from 1 to 10, but missing track 9)"
   ]
  },
  {
   "cell_type": "code",
   "execution_count": 24,
   "metadata": {},
   "outputs": [
    {
     "name": "stderr",
     "output_type": "stream",
     "text": [
      "`summarise()` regrouping output by 'album_id' (override with `.groups` argument)\n",
      "\n"
     ]
    },
    {
     "data": {
      "text/html": [],
      "text/latex": [],
      "text/markdown": [],
      "text/plain": [
       "character(0)"
      ]
     },
     "metadata": {},
     "output_type": "display_data"
    }
   ],
   "source": [
    "setwd(\"/home/pasoneto/Documents/github/doc_suomi/data/treated_data\")\n",
    "\n",
    "base = fread(\"data.csv\")\n",
    "#If album length != largest track_number, remove album \n",
    "raw = base %>% group_by(album_id, track_number) %>%\n",
    "        summarise(valence = mean(valence), energy = mean(energy), \n",
    "                  loudness = mean(loudness), tempo = mean(tempo)) %>%\n",
    "        mutate(album_length = NROW(track_number)) %>% ungroup() %>%\n",
    "        group_by(album_id) %>%\n",
    "        filter(max(track_number) != unique(album_length))\n",
    "\n",
    "albums_out = c(unique(raw$album_id))\n",
    "\n",
    "base %<>% \n",
    "    filter(!album_id %in% albums_out) %>%\n",
    "    write.csv(\"/home/pasoneto/Documents/github/doc_suomi/data/treated_data/data.csv\")"
   ]
  },
  {
   "cell_type": "code",
   "execution_count": null,
   "metadata": {},
   "outputs": [],
   "source": []
  }
 ],
 "metadata": {
  "kernelspec": {
   "display_name": "R",
   "language": "R",
   "name": "ir"
  },
  "language_info": {
   "codemirror_mode": "r",
   "file_extension": ".r",
   "mimetype": "text/x-r-source",
   "name": "R",
   "pygments_lexer": "r",
   "version": "3.6.3"
  }
 },
 "nbformat": 4,
 "nbformat_minor": 4
}
