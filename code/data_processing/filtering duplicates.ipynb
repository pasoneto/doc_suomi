{
 "cells": [
  {
   "cell_type": "code",
   "execution_count": 3,
   "metadata": {},
   "outputs": [
    {
     "name": "stderr",
     "output_type": "stream",
     "text": [
      "\n",
      "Attaching package: ‘dplyr’\n",
      "\n",
      "\n",
      "The following objects are masked from ‘package:stats’:\n",
      "\n",
      "    filter, lag\n",
      "\n",
      "\n",
      "The following objects are masked from ‘package:base’:\n",
      "\n",
      "    intersect, setdiff, setequal, union\n",
      "\n",
      "\n",
      "\n",
      "Attaching package: ‘data.table’\n",
      "\n",
      "\n",
      "The following objects are masked from ‘package:dplyr’:\n",
      "\n",
      "    between, first, last\n",
      "\n",
      "\n"
     ]
    }
   ],
   "source": [
    "library(dplyr)\n",
    "library(data.table)\n",
    "library(cluster)\n",
    "library(lattice)\n",
    "setwd(\"/home/pasoneto/Documents/Ciência/PhD\")"
   ]
  },
  {
   "cell_type": "code",
   "execution_count": null,
   "metadata": {},
   "outputs": [],
   "source": [
    "###### Unindo e filtrando bancos de dados antigos\n",
    "dt = fread(\"grande_sem_low.csv\")\n",
    "dt2 = fread(\"sample2.csv\")\n",
    "\n",
    "dt %<>%\n",
    "    group_by(album_id) %>%\n",
    "    distinct(track_number, .keep_all = TRUE) %>%\n",
    "    ungroup() %>%\n",
    "    group_by(name, album_id) %>%\n",
    "    distinct(track_number, .keep_all = TRUE) %>%\n",
    "    ungroup() %>%\n",
    "    filter(!grepl(\"deluxe\", name, ignore.case = TRUE)) %>%\n",
    "    filter(!grepl(\"remix\", name, ignore.case = TRUE)) %>%\n",
    "    filter(!grepl(\"ao vivo\", name, ignore.case = TRUE)) %>%\n",
    "    filter(!grepl(\"live\", name, ignore.case = TRUE)) %>%\n",
    "    filter(!grepl(\"coletanea\", name, ignore.case = TRUE)) %>%\n",
    "    filter(!grepl(\"remaster\", name, ignore.case = TRUE))\n",
    "\n",
    "###### Unindo e filtrando bancos de dados antigos\n",
    "dt2 %<>%\n",
    "    group_by(album_id) %>%\n",
    "    distinct(track_number, .keep_all = TRUE) %>%\n",
    "    ungroup() %>%\n",
    "    group_by(name, album_id) %>%\n",
    "    distinct(track_number, .keep_all = TRUE) %>%\n",
    "    ungroup() %>%\n",
    "    filter(!grepl(\"deluxe\", name, ignore.case = TRUE)) %>%\n",
    "    filter(!grepl(\"remix\", name, ignore.case = TRUE)) %>%\n",
    "    filter(!grepl(\"ao vivo\", name, ignore.case = TRUE)) %>%\n",
    "    filter(!grepl(\"live\", name, ignore.case = TRUE)) %>%\n",
    "    filter(!grepl(\"coletanea\", name, ignore.case = TRUE)) %>%\n",
    "    filter(!grepl(\"remaster\", name, ignore.case = TRUE)) %>%\n",
    "    select(colnames(dt))"
   ]
  },
  {
   "cell_type": "code",
   "execution_count": null,
   "metadata": {},
   "outputs": [],
   "source": [
    "###### Unindo e filtrando bancos de dados antigos\n",
    "dt = dplyr::bind_rows(dt, dt2)\n",
    "dt %<>%\n",
    "    group_by(album_id) %>%\n",
    "    distinct(track_number, .keep_all = TRUE) %>%\n",
    "    ungroup() %>%\n",
    "    group_by(name, album_id) %>%\n",
    "    distinct(track_number, .keep_all = TRUE) %>%\n",
    "    ungroup() %>%\n",
    "    filter(!grepl(\"deluxe\", name, ignore.case = TRUE)) %>%\n",
    "    filter(!grepl(\"remix\", name, ignore.case = TRUE)) %>%\n",
    "    filter(!grepl(\"ao vivo\", name, ignore.case = TRUE)) %>%\n",
    "    filter(!grepl(\"live\", name, ignore.case = TRUE)) %>%\n",
    "    filter(!grepl(\"coletanea\", name, ignore.case = TRUE)) %>%\n",
    "    filter(!grepl(\"remaster\", name, ignore.case = TRUE)) #%>%\n",
    "\n",
    "write.csv(dt, \"novo.csv\")"
   ]
  },
  {
   "cell_type": "code",
   "execution_count": null,
   "metadata": {},
   "outputs": [],
   "source": []
  },
  {
   "cell_type": "code",
   "execution_count": null,
   "metadata": {},
   "outputs": [],
   "source": []
  },
  {
   "cell_type": "code",
   "execution_count": null,
   "metadata": {},
   "outputs": [],
   "source": []
  }
 ],
 "metadata": {
  "kernelspec": {
   "display_name": "R",
   "language": "R",
   "name": "ir"
  },
  "language_info": {
   "codemirror_mode": "r",
   "file_extension": ".r",
   "mimetype": "text/x-r-source",
   "name": "R",
   "pygments_lexer": "r",
   "version": "3.6.3"
  }
 },
 "nbformat": 4,
 "nbformat_minor": 4
}
