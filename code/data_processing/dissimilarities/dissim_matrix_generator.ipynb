{
 "cells": [
  {
   "cell_type": "markdown",
   "metadata": {},
   "source": [
    "# Data processing\n",
    "\n",
    "Here I'm generating non-upsampled matrices from dataset without album duplicates. I'll read these files in python and upsample to 16."
   ]
  },
  {
   "cell_type": "code",
   "execution_count": 24,
   "metadata": {},
   "outputs": [
    {
     "name": "stderr",
     "output_type": "stream",
     "text": [
      "`summarise()` regrouping output by 'album_id' (override with `.groups` argument)\n",
      "\n"
     ]
    },
    {
     "name": "stdout",
     "output_type": "stream",
     "text": [
      "How to use datasets\n",
      " \n",
      "call    base()             for real values\n",
      "call    z_scored()         for normalized\n",
      "call    min_maxed()        for normalized2\n",
      "call    dissim_matrix()    for dissimilarities\n",
      "call    upsampled_album()  for binded upsamplped albums\n",
      "call    list_upsampled()   for list of upsampled albums\n",
      "call    list_dissim()      for list of disssimilarities"
     ]
    }
   ],
   "source": [
    "setwd(\"/home/pasoneto/Documents/github/doc_suomi/code\")\n",
    "source(\"utils.R\")\n",
    "source(\"data_cook.R\")\n",
    "cat(howto_data)"
   ]
  },
  {
   "cell_type": "code",
   "execution_count": null,
   "metadata": {},
   "outputs": [],
   "source": [
    "# Calling processed data\n",
    "dt = z_scored()"
   ]
  },
  {
   "cell_type": "code",
   "execution_count": null,
   "metadata": {},
   "outputs": [],
   "source": [
    "# Separating albums\n",
    "dt = album_splitter(dt)"
   ]
  },
  {
   "cell_type": "code",
   "execution_count": null,
   "metadata": {},
   "outputs": [],
   "source": [
    "# writing albums for upsampling (python)\n",
    "setwd(\"/home/pasoneto/Documents/github/doc_suomi/code/data_processing/upsampled_albums\")\n",
    "for(i in 1:length(dt)){\n",
    "    write.csv(dt[[i]], paste(\"matriz\", i,\".csv\", sep = \"\"), row.names=FALSE)\n",
    "}"
   ]
  },
  {
   "cell_type": "markdown",
   "metadata": {},
   "source": [
    "# Change code\n",
    "Go to upsampling_python.ipynb and upsample all albums. Return and import results below."
   ]
  },
  {
   "cell_type": "code",
   "execution_count": 3,
   "metadata": {},
   "outputs": [],
   "source": [
    "# Reading upsampled albums\n",
    "file_list <- list.files(path=\"/home/pasoneto/Documents/github/doc_suomi/code/data_processing/upsampled_albums\")\n",
    "matrices = c()\n",
    "\n",
    "# Reading files\n",
    "for(i in 1:length(file_list)){\n",
    "    file = paste(\"/home/pasoneto/Documents/github/doc_suomi/code/data_processing/upsampled_albums/\", file_list[i], sep = \"\")\n",
    "    matrices[[i]] = fread(file, header = TRUE)\n",
    "}\n",
    "\n",
    "matrices[[5416]] <- NULL\n",
    "\n",
    "for(i in 1:length(matrices)){\n",
    "    colnames(matrices[[i]]) <- c(\"track_number\", \"album_id\", \"valence\", \"energy\", \"loudness\", \"tempo\")\n",
    "    matrices[[i]]$album_id <- as.character(matrices[[i]]$album_id)\n",
    "    matrices[[i]]$track_number <- c(seq(1, 16, 1))\n",
    "}"
   ]
  },
  {
   "cell_type": "code",
   "execution_count": 4,
   "metadata": {},
   "outputs": [
    {
     "name": "stderr",
     "output_type": "stream",
     "text": [
      "Warning message in daisy(dt[[i]]):\n",
      "“binary variable(s) 1, 2, 3, 4 treated as interval scaled”\n",
      "Warning message in daisy(dt[[i]]):\n",
      "“binary variable(s) 1, 2, 3, 4 treated as interval scaled”\n",
      "Warning message in daisy(dt[[i]]):\n",
      "“binary variable(s) 1 treated as interval scaled”\n",
      "Warning message in daisy(dt[[i]]):\n",
      "“binary variable(s) 1, 2, 3, 4 treated as interval scaled”\n",
      "Warning message in daisy(dt[[i]]):\n",
      "“binary variable(s) 1, 2, 3, 4 treated as interval scaled”\n"
     ]
    }
   ],
   "source": [
    "matrices = dissim_gen(matrices)"
   ]
  },
  {
   "cell_type": "code",
   "execution_count": 25,
   "metadata": {},
   "outputs": [],
   "source": [
    "dt <- matrix_parser(matrices, function(x){mean(x, na.rm = TRUE)})\n",
    "std <- matrix_parser(matrices, function(x){sd(x, na.rm = TRUE)/sqrt(length(x))})\n",
    "#redblack = colorRampPalette(c(\"red\", \"black\"))(100)\n",
    "#levelplot(dt, col.regions = redblack)"
   ]
  },
  {
   "cell_type": "code",
   "execution_count": null,
   "metadata": {},
   "outputs": [],
   "source": []
  },
  {
   "cell_type": "code",
   "execution_count": 26,
   "metadata": {},
   "outputs": [],
   "source": [
    "d = list()\n",
    "for(i in 1:15){\n",
    "    d[[i]] = dt[i, i+1]\n",
    "}\n",
    "\n",
    "s = list()\n",
    "for(i in 1:15){\n",
    "    s[[i]] = std[i, i+1]\n",
    "}"
   ]
  },
  {
   "cell_type": "code",
   "execution_count": 27,
   "metadata": {},
   "outputs": [
    {
     "data": {
      "text/html": [
       "<table>\n",
       "<caption>A tibble: 15 × 3</caption>\n",
       "<thead>\n",
       "\t<tr><th scope=col>dissim</th><th scope=col>sd</th><th scope=col>track_number</th></tr>\n",
       "\t<tr><th scope=col>&lt;dbl&gt;</th><th scope=col>&lt;dbl&gt;</th><th scope=col>&lt;dbl&gt;</th></tr>\n",
       "</thead>\n",
       "<tbody>\n",
       "\t<tr><td>2.545085</td><td>0.01507571</td><td> 1</td></tr>\n",
       "\t<tr><td>2.405586</td><td>0.01339093</td><td> 2</td></tr>\n",
       "\t<tr><td>2.447998</td><td>0.01343409</td><td> 3</td></tr>\n",
       "\t<tr><td>2.485007</td><td>0.01351465</td><td> 4</td></tr>\n",
       "\t<tr><td>2.570831</td><td>0.01375554</td><td> 5</td></tr>\n",
       "\t<tr><td>2.562395</td><td>0.01399399</td><td> 6</td></tr>\n",
       "\t<tr><td>2.602599</td><td>0.01422762</td><td> 7</td></tr>\n",
       "\t<tr><td>2.626931</td><td>0.01435520</td><td> 8</td></tr>\n",
       "\t<tr><td>2.590612</td><td>0.01390240</td><td> 9</td></tr>\n",
       "\t<tr><td>2.598454</td><td>0.01407809</td><td>10</td></tr>\n",
       "\t<tr><td>2.614832</td><td>0.01436165</td><td>11</td></tr>\n",
       "\t<tr><td>2.624991</td><td>0.01418351</td><td>12</td></tr>\n",
       "\t<tr><td>2.596547</td><td>0.01421373</td><td>13</td></tr>\n",
       "\t<tr><td>2.607676</td><td>0.01438119</td><td>14</td></tr>\n",
       "\t<tr><td>2.721128</td><td>0.01498715</td><td>15</td></tr>\n",
       "</tbody>\n",
       "</table>\n"
      ],
      "text/latex": [
       "A tibble: 15 × 3\n",
       "\\begin{tabular}{lll}\n",
       " dissim & sd & track\\_number\\\\\n",
       " <dbl> & <dbl> & <dbl>\\\\\n",
       "\\hline\n",
       "\t 2.545085 & 0.01507571 &  1\\\\\n",
       "\t 2.405586 & 0.01339093 &  2\\\\\n",
       "\t 2.447998 & 0.01343409 &  3\\\\\n",
       "\t 2.485007 & 0.01351465 &  4\\\\\n",
       "\t 2.570831 & 0.01375554 &  5\\\\\n",
       "\t 2.562395 & 0.01399399 &  6\\\\\n",
       "\t 2.602599 & 0.01422762 &  7\\\\\n",
       "\t 2.626931 & 0.01435520 &  8\\\\\n",
       "\t 2.590612 & 0.01390240 &  9\\\\\n",
       "\t 2.598454 & 0.01407809 & 10\\\\\n",
       "\t 2.614832 & 0.01436165 & 11\\\\\n",
       "\t 2.624991 & 0.01418351 & 12\\\\\n",
       "\t 2.596547 & 0.01421373 & 13\\\\\n",
       "\t 2.607676 & 0.01438119 & 14\\\\\n",
       "\t 2.721128 & 0.01498715 & 15\\\\\n",
       "\\end{tabular}\n"
      ],
      "text/markdown": [
       "\n",
       "A tibble: 15 × 3\n",
       "\n",
       "| dissim &lt;dbl&gt; | sd &lt;dbl&gt; | track_number &lt;dbl&gt; |\n",
       "|---|---|---|\n",
       "| 2.545085 | 0.01507571 |  1 |\n",
       "| 2.405586 | 0.01339093 |  2 |\n",
       "| 2.447998 | 0.01343409 |  3 |\n",
       "| 2.485007 | 0.01351465 |  4 |\n",
       "| 2.570831 | 0.01375554 |  5 |\n",
       "| 2.562395 | 0.01399399 |  6 |\n",
       "| 2.602599 | 0.01422762 |  7 |\n",
       "| 2.626931 | 0.01435520 |  8 |\n",
       "| 2.590612 | 0.01390240 |  9 |\n",
       "| 2.598454 | 0.01407809 | 10 |\n",
       "| 2.614832 | 0.01436165 | 11 |\n",
       "| 2.624991 | 0.01418351 | 12 |\n",
       "| 2.596547 | 0.01421373 | 13 |\n",
       "| 2.607676 | 0.01438119 | 14 |\n",
       "| 2.721128 | 0.01498715 | 15 |\n",
       "\n"
      ],
      "text/plain": [
       "   dissim   sd         track_number\n",
       "1  2.545085 0.01507571  1          \n",
       "2  2.405586 0.01339093  2          \n",
       "3  2.447998 0.01343409  3          \n",
       "4  2.485007 0.01351465  4          \n",
       "5  2.570831 0.01375554  5          \n",
       "6  2.562395 0.01399399  6          \n",
       "7  2.602599 0.01422762  7          \n",
       "8  2.626931 0.01435520  8          \n",
       "9  2.590612 0.01390240  9          \n",
       "10 2.598454 0.01407809 10          \n",
       "11 2.614832 0.01436165 11          \n",
       "12 2.624991 0.01418351 12          \n",
       "13 2.596547 0.01421373 13          \n",
       "14 2.607676 0.01438119 14          \n",
       "15 2.721128 0.01498715 15          "
      ]
     },
     "metadata": {},
     "output_type": "display_data"
    },
    {
     "data": {
      "image/png": "[encoded data removed]",
      "text/plain": [
       "plot without title"
      ]
     },
     "metadata": {
      "image/png": {
       "height": 420,
       "width": 420
      }
     },
     "output_type": "display_data"
    }
   ],
   "source": [
    "oi = tibble(dissim = as.numeric(d), sd = as.numeric(s), track_number = c(seq(1, 15, 1)))\n",
    "oi\n",
    "ggplot(oi, aes(x = track_number, y = dissim))+\n",
    "    geom_point(size = 3) +\n",
    "    geom_errorbar(aes(ymin = dissim-sd, ymax = dissim+sd))"
   ]
  },
  {
   "cell_type": "code",
   "execution_count": null,
   "metadata": {},
   "outputs": [],
   "source": []
  }
 ],
 "metadata": {
  "kernelspec": {
   "display_name": "R",
   "language": "R",
   "name": "ir"
  },
  "language_info": {
   "codemirror_mode": "r",
   "file_extension": ".r",
   "mimetype": "text/x-r-source",
   "name": "R",
   "pygments_lexer": "r",
   "version": "4.0.3"
  }
 },
 "nbformat": 4,
 "nbformat_minor": 4
}
