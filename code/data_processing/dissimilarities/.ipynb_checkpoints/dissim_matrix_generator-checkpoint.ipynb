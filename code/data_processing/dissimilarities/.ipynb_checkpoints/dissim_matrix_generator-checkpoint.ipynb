{
 "cells": [
  {
   "cell_type": "markdown",
   "metadata": {},
   "source": [
    "# Data processing\n",
    "\n",
    "Here I'm generating non-upsampled matrices from dataset without album duplicates. I'll read these files in python and upsample to 16."
   ]
  },
  {
   "cell_type": "code",
   "execution_count": 58,
   "metadata": {},
   "outputs": [
    {
     "name": "stderr",
     "output_type": "stream",
     "text": [
      "`summarise()` regrouping output by 'album_id' (override with `.groups` argument)\n",
      "\n"
     ]
    },
    {
     "name": "stdout",
     "output_type": "stream",
     "text": [
      "How to use datasets\n",
      " \n",
      "call    base()             for real values\n",
      "call    z_scored()         for normalized\n",
      "call    min_maxed()        for normalized2\n",
      "call    dissim_matrix()    for dissimilarities\n",
      "call    upsampled_album()  for binded upsamplped albums\n",
      "call    list_upsampled()   for list of upsampled albums\n",
      "call    list_dissim()      for list of disssimilarities"
     ]
    }
   ],
   "source": [
    "setwd(\"/home/pasoneto/Documents/github/doc_suomi/code\")\n",
    "source(\"utils.R\")\n",
    "source(\"data_cook.R\")\n",
    "cat(howto_data)"
   ]
  },
  {
   "cell_type": "code",
   "execution_count": 59,
   "metadata": {},
   "outputs": [],
   "source": [
    "# Calling processed data\n",
    "dt = z_scored()"
   ]
  },
  {
   "cell_type": "code",
   "execution_count": 60,
   "metadata": {},
   "outputs": [],
   "source": [
    "# Separating albums\n",
    "dt = album_splitter(dt)"
   ]
  },
  {
   "cell_type": "code",
   "execution_count": 61,
   "metadata": {},
   "outputs": [],
   "source": [
    "# writing albums for upsampling (python)\n",
    "setwd(\"/home/pasoneto/Documents/github/doc_suomi/code/data_processing/upsampled_albums\")\n",
    "for(i in 1:length(dt)){\n",
    "    write.csv(dt[[i]], paste(\"matriz\", i,\".csv\", sep = \"\"), row.names=FALSE)\n",
    "}"
   ]
  },
  {
   "cell_type": "markdown",
   "metadata": {},
   "source": [
    "# Change code\n",
    "Go to upsampling_python.ipynb and upsample all albums. Return and import results below."
   ]
  },
  {
   "cell_type": "code",
   "execution_count": 63,
   "metadata": {},
   "outputs": [],
   "source": [
    "# Reading upsampled albums\n",
    "file_list <- list.files(path=\"/home/pasoneto/Documents/github/doc_suomi/code/data_processing/upsampled_albums\")\n",
    "matrices = c()\n",
    "\n",
    "# Reading files\n",
    "for(i in 1:length(file_list)){\n",
    "    file = paste(\"/home/pasoneto/Documents/github/doc_suomi/code/data_processing/upsampled_albums/\", file_list[i], sep = \"\")\n",
    "    matrices[[i]] = fread(file, header = TRUE)\n",
    "}\n",
    "\n",
    "matrices[[351]] <- NULL\n",
    "\n",
    "for(i in 1:length(matrices)){\n",
    "    colnames(matrices[[i]]) <- c(\"track_number\", \"album_id\", \"valence\", \"energy\", \"loudness\", \"tempo\")\n",
    "    matrices[[i]]$album_id <- as.character(matrices[[i]]$album_id)\n",
    "    matrices[[i]]$track_number <- c(seq(1, 10, 1))\n",
    "}"
   ]
  },
  {
   "cell_type": "code",
   "execution_count": 64,
   "metadata": {},
   "outputs": [],
   "source": [
    "matrices = dissim_gen(matrices)"
   ]
  },
  {
   "cell_type": "code",
   "execution_count": 65,
   "metadata": {},
   "outputs": [],
   "source": [
    "dt <- matrix_parser(matrices,  function(x){mean(x, na.rm = TRUE)})\n",
    "std <- matrix_parser(matrices, function(x){sd(x, na.rm = TRUE)/sqrt(length(x))})"
   ]
  },
  {
   "cell_type": "code",
   "execution_count": 66,
   "metadata": {},
   "outputs": [
    {
     "data": {
      "image/png": "[encoded data removed]",
      "text/plain": [
       "plot without title"
      ]
     },
     "metadata": {
      "image/png": {
       "height": 420,
       "width": 420
      }
     },
     "output_type": "display_data"
    }
   ],
   "source": [
    "redblack = colorRampPalette(c(\"red\", \"black\"))(100)\n",
    "levelplot(dt, col.regions = redblack)"
   ]
  },
  {
   "cell_type": "code",
   "execution_count": 67,
   "metadata": {},
   "outputs": [
    {
     "ename": "ERROR",
     "evalue": "Error in dt[i, i + 1]: subscript out of bounds\n",
     "output_type": "error",
     "traceback": [
      "Error in dt[i, i + 1]: subscript out of bounds\nTraceback:\n"
     ]
    }
   ],
   "source": [
    "d = list()\n",
    "for(i in 1:99){\n",
    "    d[[i]] = dt[i, i+1]\n",
    "}\n",
    "\n",
    "s = list()\n",
    "for(i in 1:99){\n",
    "    s[[i]] = std[i, i+1]\n",
    "}"
   ]
  },
  {
   "cell_type": "code",
   "execution_count": null,
   "metadata": {},
   "outputs": [],
   "source": [
    "oi = tibble(dissim = as.numeric(d), sd = as.numeric(s), track_number = c(seq(1, 10, 1)))\n",
    "oi %<>% na.omit()\n",
    "ggplot(oi, aes(x = track_number, y = dissim))+\n",
    "    geom_point(size = 3) +\n",
    "    geom_errorbar(aes(ymin = dissim-sd, ymax = dissim+sd))"
   ]
  },
  {
   "cell_type": "code",
   "execution_count": null,
   "metadata": {},
   "outputs": [],
   "source": []
  }
 ],
 "metadata": {
  "kernelspec": {
   "display_name": "R",
   "language": "R",
   "name": "ir"
  },
  "language_info": {
   "codemirror_mode": "r",
   "file_extension": ".r",
   "mimetype": "text/x-r-source",
   "name": "R",
   "pygments_lexer": "r",
   "version": "4.0.3"
  }
 },
 "nbformat": 4,
 "nbformat_minor": 4
}
