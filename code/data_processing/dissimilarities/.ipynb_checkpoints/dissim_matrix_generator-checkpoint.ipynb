{
 "cells": [
  {
   "cell_type": "markdown",
   "metadata": {},
   "source": [
    "# Data processing\n",
    "\n",
    "Here I'm generating non-upsampled matrices from dataset without album duplicates. I'll read these files in python and upsample to 16."
   ]
  },
  {
   "cell_type": "code",
   "execution_count": 53,
   "metadata": {},
   "outputs": [
    {
     "name": "stderr",
     "output_type": "stream",
     "text": [
      "`summarise()` regrouping output by 'album_id' (override with `.groups` argument)\n",
      "\n"
     ]
    },
    {
     "name": "stdout",
     "output_type": "stream",
     "text": [
      "How to use datasets\n",
      " \n",
      "call    base()          for real values\n",
      "call    z_scored()      for normalized\n",
      "call    min_maxed()     for normalized2\n",
      "call    dissim_matrix() for dissimilarities"
     ]
    }
   ],
   "source": [
    "setwd(\"/home/pasoneto/Documents/github/doc_suomi/code\")\n",
    "source(\"utils.R\")\n",
    "source(\"data_cook.R\")\n",
    "cat(howto_data)"
   ]
  },
  {
   "cell_type": "code",
   "execution_count": 2,
   "metadata": {},
   "outputs": [],
   "source": [
    "# Calling processed data\n",
    "dt = z_scored()"
   ]
  },
  {
   "cell_type": "code",
   "execution_count": 3,
   "metadata": {},
   "outputs": [],
   "source": [
    "# Calculating dissimilarities by album\n",
    "lista = dissim_gen(dt)"
   ]
  },
  {
   "cell_type": "code",
   "execution_count": 4,
   "metadata": {},
   "outputs": [],
   "source": [
    "# writing dissimilarities for upsampling (python)\n",
    "setwd(\"/home/pasoneto/Documents/github/doc_suomi/code/data_processing/dissimilarities/dissimilarities_by_album\")\n",
    "for(i in 1:length(lista)){\n",
    "    write.csv(lista[[i]], paste(\"matriz\", i,\".csv\", sep = \"\"), row.names=FALSE)\n",
    "}"
   ]
  },
  {
   "cell_type": "markdown",
   "metadata": {},
   "source": [
    "Go to upsampling_python.ipynb and upsample all albums. Return and import results below."
   ]
  },
  {
   "cell_type": "code",
   "execution_count": 15,
   "metadata": {},
   "outputs": [
    {
     "name": "stdout",
     "output_type": "stream",
     "text": [
      "[1] 5416\n"
     ]
    }
   ],
   "source": [
    "file_list <- list.files(path=\"/home/pasoneto/Documents/github/doc_suomi/code/data_processing/dissimilarities/dissimilarities_by_album\")\n",
    "matrices = c()\n",
    "\n",
    "for(i in 1:length(file_list)){\n",
    "    file = paste(\"/home/pasoneto/Documents/github/doc_suomi/code/data_processing/dissimilarities/dissimilarities_by_album/\", file_list[i], sep = \"\")\n",
    "    matrices[[i]] = as.matrix(fread(file, header = TRUE))\n",
    "}\n",
    "\n",
    "for(i in 1:length(matrices)){\n",
    "    veri = dim(matrices[[i]])[1] + dim(matrices[[i]])[2]\n",
    "    if(veri != 32){\n",
    "        print(i)\n",
    "    }\n",
    "}\n",
    "\n",
    "matrices[[5416]] <- NULL\n"
   ]
  },
  {
   "cell_type": "code",
   "execution_count": 16,
   "metadata": {},
   "outputs": [
    {
     "data": {
      "image/png": "[encoded data removed]",
      "text/plain": [
       "plot without title"
      ]
     },
     "metadata": {
      "image/png": {
       "height": 420,
       "width": 420
      }
     },
     "output_type": "display_data"
    }
   ],
   "source": [
    "dt <- matrix_parser(matrices, mean)\n",
    "redblack = colorRampPalette(c(\"red\", \"black\"))(100)\n",
    "levelplot(dt, col.regions = redblack)"
   ]
  },
  {
   "cell_type": "code",
   "execution_count": 43,
   "metadata": {},
   "outputs": [
    {
     "name": "stderr",
     "output_type": "stream",
     "text": [
      "x being coerced from class: matrix to data.table\n",
      "\n"
     ]
    }
   ],
   "source": [
    "colnames(dt) <- as.character(seq(1, 16, 1))\n",
    "fwrite(dt, \"dissim_matrix.csv\")"
   ]
  },
  {
   "cell_type": "code",
   "execution_count": 54,
   "metadata": {},
   "outputs": [
    {
     "data": {
      "text/html": [
       "<table>\n",
       "<caption>A data.table: 16 × 16</caption>\n",
       "<thead>\n",
       "\t<tr><th></th><th scope=col>1</th><th scope=col>2</th><th scope=col>3</th><th scope=col>4</th><th scope=col>5</th><th scope=col>6</th><th scope=col>7</th><th scope=col>8</th><th scope=col>9</th><th scope=col>10</th><th scope=col>11</th><th scope=col>12</th><th scope=col>13</th><th scope=col>14</th><th scope=col>15</th><th scope=col>16</th></tr>\n",
       "\t<tr><th></th><th scope=col>&lt;dbl&gt;</th><th scope=col>&lt;dbl&gt;</th><th scope=col>&lt;dbl&gt;</th><th scope=col>&lt;dbl&gt;</th><th scope=col>&lt;dbl&gt;</th><th scope=col>&lt;dbl&gt;</th><th scope=col>&lt;dbl&gt;</th><th scope=col>&lt;dbl&gt;</th><th scope=col>&lt;dbl&gt;</th><th scope=col>&lt;dbl&gt;</th><th scope=col>&lt;dbl&gt;</th><th scope=col>&lt;dbl&gt;</th><th scope=col>&lt;dbl&gt;</th><th scope=col>&lt;dbl&gt;</th><th scope=col>&lt;dbl&gt;</th><th scope=col>&lt;dbl&gt;</th></tr>\n",
       "</thead>\n",
       "<tbody>\n",
       "\t<tr><th scope=row>1</th><td>      NA</td><td>2.545085</td><td>2.553650</td><td>2.579614</td><td>2.633613</td><td>2.632739</td><td>2.640287</td><td>2.653138</td><td>2.647450</td><td>2.668793</td><td>2.711262</td><td>2.702663</td><td>2.692320</td><td>2.693943</td><td>2.754241</td><td>2.834158</td></tr>\n",
       "\t<tr><th scope=row>2</th><td>2.545085</td><td>      NA</td><td>2.405586</td><td>2.441224</td><td>2.470821</td><td>2.502455</td><td>2.513304</td><td>2.535202</td><td>2.529664</td><td>2.532904</td><td>2.566004</td><td>2.573089</td><td>2.589672</td><td>2.571048</td><td>2.634007</td><td>2.751730</td></tr>\n",
       "\t<tr><th scope=row>3</th><td>2.553650</td><td>2.405586</td><td>      NA</td><td>2.447998</td><td>2.480087</td><td>2.477522</td><td>2.522196</td><td>2.536535</td><td>2.530843</td><td>2.538988</td><td>2.564430</td><td>2.565890</td><td>2.565510</td><td>2.576868</td><td>2.635442</td><td>2.748848</td></tr>\n",
       "\t<tr><th scope=row>4</th><td>2.579614</td><td>2.441224</td><td>2.447998</td><td>      NA</td><td>2.485007</td><td>2.478481</td><td>2.483157</td><td>2.511090</td><td>2.513008</td><td>2.527858</td><td>2.567149</td><td>2.545929</td><td>2.559245</td><td>2.582182</td><td>2.637489</td><td>2.737367</td></tr>\n",
       "\t<tr><th scope=row>5</th><td>2.633613</td><td>2.470821</td><td>2.480087</td><td>2.485007</td><td>      NA</td><td>2.570831</td><td>2.554085</td><td>2.543757</td><td>2.550638</td><td>2.561174</td><td>2.579556</td><td>2.572973</td><td>2.594636</td><td>2.604036</td><td>2.655101</td><td>2.764291</td></tr>\n",
       "\t<tr><th scope=row>6</th><td>2.632739</td><td>2.502455</td><td>2.477522</td><td>2.478481</td><td>2.570831</td><td>      NA</td><td>2.562395</td><td>2.570432</td><td>2.564284</td><td>2.570064</td><td>2.609928</td><td>2.596291</td><td>2.576817</td><td>2.595645</td><td>2.647932</td><td>2.760318</td></tr>\n",
       "\t<tr><th scope=row>7</th><td>2.640287</td><td>2.513304</td><td>2.522196</td><td>2.483157</td><td>2.554085</td><td>2.562395</td><td>      NA</td><td>2.602599</td><td>2.606538</td><td>2.580367</td><td>2.615340</td><td>2.591951</td><td>2.602355</td><td>2.608147</td><td>2.651407</td><td>2.740548</td></tr>\n",
       "\t<tr><th scope=row>8</th><td>2.653138</td><td>2.535202</td><td>2.536535</td><td>2.511090</td><td>2.543757</td><td>2.570432</td><td>2.602599</td><td>      NA</td><td>2.626931</td><td>2.602705</td><td>2.606852</td><td>2.616378</td><td>2.612387</td><td>2.618840</td><td>2.681399</td><td>2.767150</td></tr>\n",
       "\t<tr><th scope=row>9</th><td>2.647450</td><td>2.529664</td><td>2.530843</td><td>2.513008</td><td>2.550638</td><td>2.564284</td><td>2.606538</td><td>2.626931</td><td>      NA</td><td>2.590612</td><td>2.615098</td><td>2.587629</td><td>2.601405</td><td>2.607178</td><td>2.684524</td><td>2.765331</td></tr>\n",
       "\t<tr><th scope=row>10</th><td>2.668793</td><td>2.532904</td><td>2.538988</td><td>2.527858</td><td>2.561174</td><td>2.570064</td><td>2.580367</td><td>2.602705</td><td>2.590612</td><td>      NA</td><td>2.598454</td><td>2.587490</td><td>2.577027</td><td>2.600353</td><td>2.650520</td><td>2.754604</td></tr>\n",
       "\t<tr><th scope=row>11</th><td>2.711262</td><td>2.566004</td><td>2.564430</td><td>2.567149</td><td>2.579556</td><td>2.609928</td><td>2.615340</td><td>2.606852</td><td>2.615098</td><td>2.598454</td><td>      NA</td><td>2.614832</td><td>2.626821</td><td>2.613010</td><td>2.667230</td><td>2.781298</td></tr>\n",
       "\t<tr><th scope=row>12</th><td>2.702663</td><td>2.573089</td><td>2.565890</td><td>2.545929</td><td>2.572973</td><td>2.596291</td><td>2.591951</td><td>2.616378</td><td>2.587629</td><td>2.587490</td><td>2.614832</td><td>      NA</td><td>2.624991</td><td>2.604360</td><td>2.637917</td><td>2.759569</td></tr>\n",
       "\t<tr><th scope=row>13</th><td>2.692320</td><td>2.589672</td><td>2.565510</td><td>2.559245</td><td>2.594636</td><td>2.576817</td><td>2.602355</td><td>2.612387</td><td>2.601405</td><td>2.577027</td><td>2.626821</td><td>2.624991</td><td>      NA</td><td>2.596547</td><td>2.648162</td><td>2.755330</td></tr>\n",
       "\t<tr><th scope=row>14</th><td>2.693943</td><td>2.571048</td><td>2.576868</td><td>2.582182</td><td>2.604036</td><td>2.595645</td><td>2.608147</td><td>2.618840</td><td>2.607178</td><td>2.600353</td><td>2.613010</td><td>2.604360</td><td>2.596547</td><td>      NA</td><td>2.607676</td><td>2.739136</td></tr>\n",
       "\t<tr><th scope=row>15</th><td>2.754241</td><td>2.634007</td><td>2.635442</td><td>2.637489</td><td>2.655101</td><td>2.647932</td><td>2.651407</td><td>2.681399</td><td>2.684524</td><td>2.650520</td><td>2.667230</td><td>2.637917</td><td>2.648162</td><td>2.607676</td><td>      NA</td><td>2.721128</td></tr>\n",
       "\t<tr><th scope=row>16</th><td>2.834158</td><td>2.751730</td><td>2.748848</td><td>2.737367</td><td>2.764291</td><td>2.760318</td><td>2.740548</td><td>2.767150</td><td>2.765331</td><td>2.754604</td><td>2.781298</td><td>2.759569</td><td>2.755330</td><td>2.739136</td><td>2.721128</td><td>      NA</td></tr>\n",
       "</tbody>\n",
       "</table>\n"
      ],
      "text/latex": [
       "A data.table: 16 × 16\n",
       "\\begin{tabular}{r|llllllllllllllll}\n",
       "  & 1 & 2 & 3 & 4 & 5 & 6 & 7 & 8 & 9 & 10 & 11 & 12 & 13 & 14 & 15 & 16\\\\\n",
       "  & <dbl> & <dbl> & <dbl> & <dbl> & <dbl> & <dbl> & <dbl> & <dbl> & <dbl> & <dbl> & <dbl> & <dbl> & <dbl> & <dbl> & <dbl> & <dbl>\\\\\n",
       "\\hline\n",
       "\t1 &       NA & 2.545085 & 2.553650 & 2.579614 & 2.633613 & 2.632739 & 2.640287 & 2.653138 & 2.647450 & 2.668793 & 2.711262 & 2.702663 & 2.692320 & 2.693943 & 2.754241 & 2.834158\\\\\n",
       "\t2 & 2.545085 &       NA & 2.405586 & 2.441224 & 2.470821 & 2.502455 & 2.513304 & 2.535202 & 2.529664 & 2.532904 & 2.566004 & 2.573089 & 2.589672 & 2.571048 & 2.634007 & 2.751730\\\\\n",
       "\t3 & 2.553650 & 2.405586 &       NA & 2.447998 & 2.480087 & 2.477522 & 2.522196 & 2.536535 & 2.530843 & 2.538988 & 2.564430 & 2.565890 & 2.565510 & 2.576868 & 2.635442 & 2.748848\\\\\n",
       "\t4 & 2.579614 & 2.441224 & 2.447998 &       NA & 2.485007 & 2.478481 & 2.483157 & 2.511090 & 2.513008 & 2.527858 & 2.567149 & 2.545929 & 2.559245 & 2.582182 & 2.637489 & 2.737367\\\\\n",
       "\t5 & 2.633613 & 2.470821 & 2.480087 & 2.485007 &       NA & 2.570831 & 2.554085 & 2.543757 & 2.550638 & 2.561174 & 2.579556 & 2.572973 & 2.594636 & 2.604036 & 2.655101 & 2.764291\\\\\n",
       "\t6 & 2.632739 & 2.502455 & 2.477522 & 2.478481 & 2.570831 &       NA & 2.562395 & 2.570432 & 2.564284 & 2.570064 & 2.609928 & 2.596291 & 2.576817 & 2.595645 & 2.647932 & 2.760318\\\\\n",
       "\t7 & 2.640287 & 2.513304 & 2.522196 & 2.483157 & 2.554085 & 2.562395 &       NA & 2.602599 & 2.606538 & 2.580367 & 2.615340 & 2.591951 & 2.602355 & 2.608147 & 2.651407 & 2.740548\\\\\n",
       "\t8 & 2.653138 & 2.535202 & 2.536535 & 2.511090 & 2.543757 & 2.570432 & 2.602599 &       NA & 2.626931 & 2.602705 & 2.606852 & 2.616378 & 2.612387 & 2.618840 & 2.681399 & 2.767150\\\\\n",
       "\t9 & 2.647450 & 2.529664 & 2.530843 & 2.513008 & 2.550638 & 2.564284 & 2.606538 & 2.626931 &       NA & 2.590612 & 2.615098 & 2.587629 & 2.601405 & 2.607178 & 2.684524 & 2.765331\\\\\n",
       "\t10 & 2.668793 & 2.532904 & 2.538988 & 2.527858 & 2.561174 & 2.570064 & 2.580367 & 2.602705 & 2.590612 &       NA & 2.598454 & 2.587490 & 2.577027 & 2.600353 & 2.650520 & 2.754604\\\\\n",
       "\t11 & 2.711262 & 2.566004 & 2.564430 & 2.567149 & 2.579556 & 2.609928 & 2.615340 & 2.606852 & 2.615098 & 2.598454 &       NA & 2.614832 & 2.626821 & 2.613010 & 2.667230 & 2.781298\\\\\n",
       "\t12 & 2.702663 & 2.573089 & 2.565890 & 2.545929 & 2.572973 & 2.596291 & 2.591951 & 2.616378 & 2.587629 & 2.587490 & 2.614832 &       NA & 2.624991 & 2.604360 & 2.637917 & 2.759569\\\\\n",
       "\t13 & 2.692320 & 2.589672 & 2.565510 & 2.559245 & 2.594636 & 2.576817 & 2.602355 & 2.612387 & 2.601405 & 2.577027 & 2.626821 & 2.624991 &       NA & 2.596547 & 2.648162 & 2.755330\\\\\n",
       "\t14 & 2.693943 & 2.571048 & 2.576868 & 2.582182 & 2.604036 & 2.595645 & 2.608147 & 2.618840 & 2.607178 & 2.600353 & 2.613010 & 2.604360 & 2.596547 &       NA & 2.607676 & 2.739136\\\\\n",
       "\t15 & 2.754241 & 2.634007 & 2.635442 & 2.637489 & 2.655101 & 2.647932 & 2.651407 & 2.681399 & 2.684524 & 2.650520 & 2.667230 & 2.637917 & 2.648162 & 2.607676 &       NA & 2.721128\\\\\n",
       "\t16 & 2.834158 & 2.751730 & 2.748848 & 2.737367 & 2.764291 & 2.760318 & 2.740548 & 2.767150 & 2.765331 & 2.754604 & 2.781298 & 2.759569 & 2.755330 & 2.739136 & 2.721128 &       NA\\\\\n",
       "\\end{tabular}\n"
      ],
      "text/markdown": [
       "\n",
       "A data.table: 16 × 16\n",
       "\n",
       "| <!--/--> | 1 &lt;dbl&gt; | 2 &lt;dbl&gt; | 3 &lt;dbl&gt; | 4 &lt;dbl&gt; | 5 &lt;dbl&gt; | 6 &lt;dbl&gt; | 7 &lt;dbl&gt; | 8 &lt;dbl&gt; | 9 &lt;dbl&gt; | 10 &lt;dbl&gt; | 11 &lt;dbl&gt; | 12 &lt;dbl&gt; | 13 &lt;dbl&gt; | 14 &lt;dbl&gt; | 15 &lt;dbl&gt; | 16 &lt;dbl&gt; |\n",
       "|---|---|---|---|---|---|---|---|---|---|---|---|---|---|---|---|---|\n",
       "| 1 |       NA | 2.545085 | 2.553650 | 2.579614 | 2.633613 | 2.632739 | 2.640287 | 2.653138 | 2.647450 | 2.668793 | 2.711262 | 2.702663 | 2.692320 | 2.693943 | 2.754241 | 2.834158 |\n",
       "| 2 | 2.545085 |       NA | 2.405586 | 2.441224 | 2.470821 | 2.502455 | 2.513304 | 2.535202 | 2.529664 | 2.532904 | 2.566004 | 2.573089 | 2.589672 | 2.571048 | 2.634007 | 2.751730 |\n",
       "| 3 | 2.553650 | 2.405586 |       NA | 2.447998 | 2.480087 | 2.477522 | 2.522196 | 2.536535 | 2.530843 | 2.538988 | 2.564430 | 2.565890 | 2.565510 | 2.576868 | 2.635442 | 2.748848 |\n",
       "| 4 | 2.579614 | 2.441224 | 2.447998 |       NA | 2.485007 | 2.478481 | 2.483157 | 2.511090 | 2.513008 | 2.527858 | 2.567149 | 2.545929 | 2.559245 | 2.582182 | 2.637489 | 2.737367 |\n",
       "| 5 | 2.633613 | 2.470821 | 2.480087 | 2.485007 |       NA | 2.570831 | 2.554085 | 2.543757 | 2.550638 | 2.561174 | 2.579556 | 2.572973 | 2.594636 | 2.604036 | 2.655101 | 2.764291 |\n",
       "| 6 | 2.632739 | 2.502455 | 2.477522 | 2.478481 | 2.570831 |       NA | 2.562395 | 2.570432 | 2.564284 | 2.570064 | 2.609928 | 2.596291 | 2.576817 | 2.595645 | 2.647932 | 2.760318 |\n",
       "| 7 | 2.640287 | 2.513304 | 2.522196 | 2.483157 | 2.554085 | 2.562395 |       NA | 2.602599 | 2.606538 | 2.580367 | 2.615340 | 2.591951 | 2.602355 | 2.608147 | 2.651407 | 2.740548 |\n",
       "| 8 | 2.653138 | 2.535202 | 2.536535 | 2.511090 | 2.543757 | 2.570432 | 2.602599 |       NA | 2.626931 | 2.602705 | 2.606852 | 2.616378 | 2.612387 | 2.618840 | 2.681399 | 2.767150 |\n",
       "| 9 | 2.647450 | 2.529664 | 2.530843 | 2.513008 | 2.550638 | 2.564284 | 2.606538 | 2.626931 |       NA | 2.590612 | 2.615098 | 2.587629 | 2.601405 | 2.607178 | 2.684524 | 2.765331 |\n",
       "| 10 | 2.668793 | 2.532904 | 2.538988 | 2.527858 | 2.561174 | 2.570064 | 2.580367 | 2.602705 | 2.590612 |       NA | 2.598454 | 2.587490 | 2.577027 | 2.600353 | 2.650520 | 2.754604 |\n",
       "| 11 | 2.711262 | 2.566004 | 2.564430 | 2.567149 | 2.579556 | 2.609928 | 2.615340 | 2.606852 | 2.615098 | 2.598454 |       NA | 2.614832 | 2.626821 | 2.613010 | 2.667230 | 2.781298 |\n",
       "| 12 | 2.702663 | 2.573089 | 2.565890 | 2.545929 | 2.572973 | 2.596291 | 2.591951 | 2.616378 | 2.587629 | 2.587490 | 2.614832 |       NA | 2.624991 | 2.604360 | 2.637917 | 2.759569 |\n",
       "| 13 | 2.692320 | 2.589672 | 2.565510 | 2.559245 | 2.594636 | 2.576817 | 2.602355 | 2.612387 | 2.601405 | 2.577027 | 2.626821 | 2.624991 |       NA | 2.596547 | 2.648162 | 2.755330 |\n",
       "| 14 | 2.693943 | 2.571048 | 2.576868 | 2.582182 | 2.604036 | 2.595645 | 2.608147 | 2.618840 | 2.607178 | 2.600353 | 2.613010 | 2.604360 | 2.596547 |       NA | 2.607676 | 2.739136 |\n",
       "| 15 | 2.754241 | 2.634007 | 2.635442 | 2.637489 | 2.655101 | 2.647932 | 2.651407 | 2.681399 | 2.684524 | 2.650520 | 2.667230 | 2.637917 | 2.648162 | 2.607676 |       NA | 2.721128 |\n",
       "| 16 | 2.834158 | 2.751730 | 2.748848 | 2.737367 | 2.764291 | 2.760318 | 2.740548 | 2.767150 | 2.765331 | 2.754604 | 2.781298 | 2.759569 | 2.755330 | 2.739136 | 2.721128 |       NA |\n",
       "\n"
      ],
      "text/plain": [
       "   1        2        3        4        5        6        7        8       \n",
       "1        NA 2.545085 2.553650 2.579614 2.633613 2.632739 2.640287 2.653138\n",
       "2  2.545085       NA 2.405586 2.441224 2.470821 2.502455 2.513304 2.535202\n",
       "3  2.553650 2.405586       NA 2.447998 2.480087 2.477522 2.522196 2.536535\n",
       "4  2.579614 2.441224 2.447998       NA 2.485007 2.478481 2.483157 2.511090\n",
       "5  2.633613 2.470821 2.480087 2.485007       NA 2.570831 2.554085 2.543757\n",
       "6  2.632739 2.502455 2.477522 2.478481 2.570831       NA 2.562395 2.570432\n",
       "7  2.640287 2.513304 2.522196 2.483157 2.554085 2.562395       NA 2.602599\n",
       "8  2.653138 2.535202 2.536535 2.511090 2.543757 2.570432 2.602599       NA\n",
       "9  2.647450 2.529664 2.530843 2.513008 2.550638 2.564284 2.606538 2.626931\n",
       "10 2.668793 2.532904 2.538988 2.527858 2.561174 2.570064 2.580367 2.602705\n",
       "11 2.711262 2.566004 2.564430 2.567149 2.579556 2.609928 2.615340 2.606852\n",
       "12 2.702663 2.573089 2.565890 2.545929 2.572973 2.596291 2.591951 2.616378\n",
       "13 2.692320 2.589672 2.565510 2.559245 2.594636 2.576817 2.602355 2.612387\n",
       "14 2.693943 2.571048 2.576868 2.582182 2.604036 2.595645 2.608147 2.618840\n",
       "15 2.754241 2.634007 2.635442 2.637489 2.655101 2.647932 2.651407 2.681399\n",
       "16 2.834158 2.751730 2.748848 2.737367 2.764291 2.760318 2.740548 2.767150\n",
       "   9        10       11       12       13       14       15       16      \n",
       "1  2.647450 2.668793 2.711262 2.702663 2.692320 2.693943 2.754241 2.834158\n",
       "2  2.529664 2.532904 2.566004 2.573089 2.589672 2.571048 2.634007 2.751730\n",
       "3  2.530843 2.538988 2.564430 2.565890 2.565510 2.576868 2.635442 2.748848\n",
       "4  2.513008 2.527858 2.567149 2.545929 2.559245 2.582182 2.637489 2.737367\n",
       "5  2.550638 2.561174 2.579556 2.572973 2.594636 2.604036 2.655101 2.764291\n",
       "6  2.564284 2.570064 2.609928 2.596291 2.576817 2.595645 2.647932 2.760318\n",
       "7  2.606538 2.580367 2.615340 2.591951 2.602355 2.608147 2.651407 2.740548\n",
       "8  2.626931 2.602705 2.606852 2.616378 2.612387 2.618840 2.681399 2.767150\n",
       "9        NA 2.590612 2.615098 2.587629 2.601405 2.607178 2.684524 2.765331\n",
       "10 2.590612       NA 2.598454 2.587490 2.577027 2.600353 2.650520 2.754604\n",
       "11 2.615098 2.598454       NA 2.614832 2.626821 2.613010 2.667230 2.781298\n",
       "12 2.587629 2.587490 2.614832       NA 2.624991 2.604360 2.637917 2.759569\n",
       "13 2.601405 2.577027 2.626821 2.624991       NA 2.596547 2.648162 2.755330\n",
       "14 2.607178 2.600353 2.613010 2.604360 2.596547       NA 2.607676 2.739136\n",
       "15 2.684524 2.650520 2.667230 2.637917 2.648162 2.607676       NA 2.721128\n",
       "16 2.765331 2.754604 2.781298 2.759569 2.755330 2.739136 2.721128       NA"
      ]
     },
     "metadata": {},
     "output_type": "display_data"
    }
   ],
   "source": []
  }
 ],
 "metadata": {
  "kernelspec": {
   "display_name": "R",
   "language": "R",
   "name": "ir"
  },
  "language_info": {
   "codemirror_mode": "r",
   "file_extension": ".r",
   "mimetype": "text/x-r-source",
   "name": "R",
   "pygments_lexer": "r",
   "version": "3.6.3"
  }
 },
 "nbformat": 4,
 "nbformat_minor": 4
}
