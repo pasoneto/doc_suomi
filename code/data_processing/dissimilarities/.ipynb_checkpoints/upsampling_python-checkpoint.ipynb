{
 "cells": [
  {
   "cell_type": "markdown",
   "metadata": {},
   "source": [
    "# Python upsampling\n",
    "\n",
    "Here I'm upsampling dissimilarity matrices to 16x16 images."
   ]
  },
  {
   "cell_type": "code",
   "execution_count": 27,
   "metadata": {},
   "outputs": [],
   "source": [
    "import numpy as np\n",
    "from PIL import Image\n",
    "import pandas as pd\n",
    "\n",
    "#receives data frame, width and length of the output\n",
    "def parser(data, w, l):\n",
    "    data = np.array(data, dtype=np.double)\n",
    "    convert = Image.fromarray(np.array(data, dtype=np.double)).resize((w, l), Image.NEAREST)\n",
    "    return np.array(convert)"
   ]
  },
  {
   "cell_type": "code",
   "execution_count": 28,
   "metadata": {},
   "outputs": [],
   "source": [
    "# Reading non-upsampled albums    \n",
    "albums = []\n",
    "for i in range(1, 1313):\n",
    "    a = pd.read_csv(f\"/home/pasoneto/Documents/github/doc_suomi/code/data_processing/upsampled_albums/matriz{i}.csv\")\n",
    "    a['album_id'] = i\n",
    "    albums.append(a)"
   ]
  },
  {
   "cell_type": "code",
   "execution_count": 29,
   "metadata": {},
   "outputs": [],
   "source": [
    "# Upsampling albums\n",
    "albums = [parser(albums[k][[\"track_number\", \"album_id\", \"valence\", \"energy\", \"loudness\", \"tempo\"]], 6, 10) for k in range(len(albums))]"
   ]
  },
  {
   "cell_type": "code",
   "execution_count": 30,
   "metadata": {},
   "outputs": [],
   "source": [
    "# Writing upsampled albums    \n",
    "for i in range(len(albums)):\n",
    "    pd.DataFrame(albums[i]).to_csv(f\"/home/pasoneto/Documents/github/doc_suomi/code/data_processing/upsampled_albums/matriz{i+1}.csv\", index = False)"
   ]
  },
  {
   "cell_type": "code",
   "execution_count": 5,
   "metadata": {},
   "outputs": [
    {
     "data": {
      "text/plain": [
       "5"
      ]
     },
     "execution_count": 5,
     "metadata": {},
     "output_type": "execute_result"
    }
   ],
   "source": [
    "5"
   ]
  },
  {
   "cell_type": "code",
   "execution_count": 6,
   "metadata": {},
   "outputs": [
    {
     "data": {
      "text/plain": [
       "6"
      ]
     },
     "execution_count": 6,
     "metadata": {},
     "output_type": "execute_result"
    }
   ],
   "source": [
    "6"
   ]
  },
  {
   "cell_type": "code",
   "execution_count": null,
   "metadata": {},
   "outputs": [],
   "source": []
  }
 ],
 "metadata": {
  "kernelspec": {
   "display_name": "Python 3",
   "language": "python",
   "name": "python3"
  },
  "language_info": {
   "codemirror_mode": {
    "name": "ipython",
    "version": 3
   },
   "file_extension": ".py",
   "mimetype": "text/x-python",
   "name": "python",
   "nbconvert_exporter": "python",
   "pygments_lexer": "ipython3",
   "version": "3.8.6"
  }
 },
 "nbformat": 4,
 "nbformat_minor": 4
}
