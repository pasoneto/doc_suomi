{
 "cells": [
  {
   "cell_type": "markdown",
   "metadata": {},
   "source": [
    "# Python upsampling\n",
    "\n",
    "Here I'm upsampling dissimilarity matrices to 16x16 images."
   ]
  },
  {
   "cell_type": "code",
   "execution_count": 5,
   "metadata": {},
   "outputs": [],
   "source": [
    "import numpy as np\n",
    "from PIL import Image\n",
    "import pandas as pd\n",
    "\n",
    "#receives data frame, width and length of the output\n",
    "def parser(data, w, l):\n",
    "    data = np.array(data, dtype=np.double)\n",
    "    convert = Image.fromarray(np.array(data, dtype=np.double)).resize((w, l), Image.NEAREST)\n",
    "    return np.array(convert)"
   ]
  },
  {
   "cell_type": "code",
   "execution_count": 6,
   "metadata": {},
   "outputs": [],
   "source": [
    "df_list = []\n",
    "for i in range(1, 5873):\n",
    "    df_list.append(pd.read_csv(f\"/home/pasoneto/Documents/github/doc_suomi/code/data_processing/dissimilarities/dissimilarities_by_album/matriz{i}.csv\"))"
   ]
  },
  {
   "cell_type": "code",
   "execution_count": 7,
   "metadata": {},
   "outputs": [],
   "source": [
    "df_list = [parser(k, 16, 16) for k in df_list]"
   ]
  },
  {
   "cell_type": "code",
   "execution_count": 8,
   "metadata": {},
   "outputs": [],
   "source": [
    "for i in range(len(df_list)):\n",
    "    pd.DataFrame(df_list[i]).to_csv(f\"/home/pasoneto/Documents/github/doc_suomi/code/data_processing/dissimilarities/dissimilarities_by_album/matriz{i+1}.csv\", index = False)"
   ]
  }
 ],
 "metadata": {
  "kernelspec": {
   "display_name": "Python 3",
   "language": "python",
   "name": "python3"
  },
  "language_info": {
   "codemirror_mode": {
    "name": "ipython",
    "version": 3
   },
   "file_extension": ".py",
   "mimetype": "text/x-python",
   "name": "python",
   "nbconvert_exporter": "python",
   "pygments_lexer": "ipython3",
   "version": "3.6.9"
  }
 },
 "nbformat": 4,
 "nbformat_minor": 4
}
