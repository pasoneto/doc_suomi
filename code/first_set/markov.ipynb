{
 "cells": [
  {
   "cell_type": "code",
   "execution_count": 3,
   "metadata": {
    "slideshow": {
     "slide_type": "skip"
    }
   },
   "outputs": [],
   "source": [
    "library(markovchain)\n",
    "library(data.table)\n",
    "library(ggplot2)\n",
    "library(dplyr)\n",
    "setwd(\"/home/pasoneto/Documents/Ciência/PhD\")\n",
    "options(warn=-1)\n"
   ]
  },
  {
   "cell_type": "markdown",
   "metadata": {
    "slideshow": {
     "slide_type": "slide"
    }
   },
   "source": [
    "# The Markov playlister\n",
    "\n",
    "Calculating transition probabilities from sequences of album tracks"
   ]
  },
  {
   "cell_type": "code",
   "execution_count": 4,
   "metadata": {
    "slideshow": {
     "slide_type": "fragment"
    }
   },
   "outputs": [
    {
     "data": {
      "text/html": [
       "<style>\n",
       ".list-inline {list-style: none; margin:0; padding: 0}\n",
       ".list-inline>li {display: inline-block}\n",
       ".list-inline>li:not(:last-child)::after {content: \"\\00b7\"; padding: 0 .5ex}\n",
       "</style>\n",
       "<ol class=list-inline><li>'medium'</li><li>'quiet'</li><li>'medium'</li><li>'medium'</li><li>'quiet'</li><li>'loud'</li><li>'loud'</li><li>'medium'</li><li>'loud'</li><li>'quiet'</li></ol>\n"
      ],
      "text/latex": [
       "\\begin{enumerate*}\n",
       "\\item 'medium'\n",
       "\\item 'quiet'\n",
       "\\item 'medium'\n",
       "\\item 'medium'\n",
       "\\item 'quiet'\n",
       "\\item 'loud'\n",
       "\\item 'loud'\n",
       "\\item 'medium'\n",
       "\\item 'loud'\n",
       "\\item 'quiet'\n",
       "\\end{enumerate*}\n"
      ],
      "text/markdown": [
       "1. 'medium'\n",
       "2. 'quiet'\n",
       "3. 'medium'\n",
       "4. 'medium'\n",
       "5. 'quiet'\n",
       "6. 'loud'\n",
       "7. 'loud'\n",
       "8. 'medium'\n",
       "9. 'loud'\n",
       "10. 'quiet'\n",
       "\n",
       "\n"
      ],
      "text/plain": [
       " [1] \"medium\" \"quiet\"  \"medium\" \"medium\" \"quiet\"  \"loud\"   \"loud\"   \"medium\"\n",
       " [9] \"loud\"   \"quiet\" "
      ]
     },
     "metadata": {},
     "output_type": "display_data"
    }
   ],
   "source": [
    "S = sample(c('loud', 'medium', 'quiet'), replace = T, 10); S"
   ]
  },
  {
   "cell_type": "code",
   "execution_count": 5,
   "metadata": {
    "slideshow": {
     "slide_type": "fragment"
    }
   },
   "outputs": [
    {
     "data": {
      "text/html": [
       "<table>\n",
       "<caption>A matrix: 3 × 3 of type dbl</caption>\n",
       "<thead>\n",
       "\t<tr><th></th><th scope=col>loud</th><th scope=col>medium</th><th scope=col>quiet</th></tr>\n",
       "</thead>\n",
       "<tbody>\n",
       "\t<tr><th scope=row>loud</th><td>0.3333333</td><td>0.3333333</td><td>0.3333333</td></tr>\n",
       "\t<tr><th scope=row>medium</th><td>0.2500000</td><td>0.2500000</td><td>0.5000000</td></tr>\n",
       "\t<tr><th scope=row>quiet</th><td>0.5000000</td><td>0.5000000</td><td>0.0000000</td></tr>\n",
       "</tbody>\n",
       "</table>\n"
      ],
      "text/latex": [
       "A matrix: 3 × 3 of type dbl\n",
       "\\begin{tabular}{r|lll}\n",
       "  & loud & medium & quiet\\\\\n",
       "\\hline\n",
       "\tloud & 0.3333333 & 0.3333333 & 0.3333333\\\\\n",
       "\tmedium & 0.2500000 & 0.2500000 & 0.5000000\\\\\n",
       "\tquiet & 0.5000000 & 0.5000000 & 0.0000000\\\\\n",
       "\\end{tabular}\n"
      ],
      "text/markdown": [
       "\n",
       "A matrix: 3 × 3 of type dbl\n",
       "\n",
       "| <!--/--> | loud | medium | quiet |\n",
       "|---|---|---|---|\n",
       "| loud | 0.3333333 | 0.3333333 | 0.3333333 |\n",
       "| medium | 0.2500000 | 0.2500000 | 0.5000000 |\n",
       "| quiet | 0.5000000 | 0.5000000 | 0.0000000 |\n",
       "\n"
      ],
      "text/plain": [
       "       loud      medium    quiet    \n",
       "loud   0.3333333 0.3333333 0.3333333\n",
       "medium 0.2500000 0.2500000 0.5000000\n",
       "quiet  0.5000000 0.5000000 0.0000000"
      ]
     },
     "metadata": {},
     "output_type": "display_data"
    }
   ],
   "source": [
    "A = markovchainFit(data = S)$estimate@transitionMatrix; A"
   ]
  },
  {
   "cell_type": "markdown",
   "metadata": {
    "slideshow": {
     "slide_type": "subslide"
    }
   },
   "source": [
    "# Playlist evaluator\n",
    "\n",
    "Given an empirically derived transition matrix, how likely is the sequence below to occur?\n",
    "\n",
    "- medium, medium, loud, medium, medium, quiet, loud, medium, quiet, medium"
   ]
  },
  {
   "cell_type": "code",
   "execution_count": 6,
   "metadata": {
    "slideshow": {
     "slide_type": "fragment"
    }
   },
   "outputs": [
    {
     "data": {
      "text/html": [
       "<style>\n",
       ".list-inline {list-style: none; margin:0; padding: 0}\n",
       ".list-inline>li {display: inline-block}\n",
       ".list-inline>li:not(:last-child)::after {content: \"\\00b7\"; padding: 0 .5ex}\n",
       "</style>\n",
       "<ol class=list-inline><li>'medium'</li><li>'quiet'</li><li>'medium'</li><li>'medium'</li><li>'quiet'</li><li>'loud'</li><li>'loud'</li><li>'medium'</li><li>'loud'</li><li>'quiet'</li></ol>\n"
      ],
      "text/latex": [
       "\\begin{enumerate*}\n",
       "\\item 'medium'\n",
       "\\item 'quiet'\n",
       "\\item 'medium'\n",
       "\\item 'medium'\n",
       "\\item 'quiet'\n",
       "\\item 'loud'\n",
       "\\item 'loud'\n",
       "\\item 'medium'\n",
       "\\item 'loud'\n",
       "\\item 'quiet'\n",
       "\\end{enumerate*}\n"
      ],
      "text/markdown": [
       "1. 'medium'\n",
       "2. 'quiet'\n",
       "3. 'medium'\n",
       "4. 'medium'\n",
       "5. 'quiet'\n",
       "6. 'loud'\n",
       "7. 'loud'\n",
       "8. 'medium'\n",
       "9. 'loud'\n",
       "10. 'quiet'\n",
       "\n",
       "\n"
      ],
      "text/plain": [
       " [1] \"medium\" \"quiet\"  \"medium\" \"medium\" \"quiet\"  \"loud\"   \"loud\"   \"medium\"\n",
       " [9] \"loud\"   \"quiet\" "
      ]
     },
     "metadata": {},
     "output_type": "display_data"
    },
    {
     "data": {
      "text/html": [
       "<style>\n",
       ".list-inline {list-style: none; margin:0; padding: 0}\n",
       ".list-inline>li {display: inline-block}\n",
       ".list-inline>li:not(:last-child)::after {content: \"\\00b7\"; padding: 0 .5ex}\n",
       "</style>\n",
       "<ol class=list-inline><li>'loud'</li><li>'loud'</li><li>'loud'</li><li>'medium'</li><li>'medium'</li><li>'loud'</li><li>'medium'</li><li>'loud'</li><li>'loud'</li><li>'medium'</li></ol>\n"
      ],
      "text/latex": [
       "\\begin{enumerate*}\n",
       "\\item 'loud'\n",
       "\\item 'loud'\n",
       "\\item 'loud'\n",
       "\\item 'medium'\n",
       "\\item 'medium'\n",
       "\\item 'loud'\n",
       "\\item 'medium'\n",
       "\\item 'loud'\n",
       "\\item 'loud'\n",
       "\\item 'medium'\n",
       "\\end{enumerate*}\n"
      ],
      "text/markdown": [
       "1. 'loud'\n",
       "2. 'loud'\n",
       "3. 'loud'\n",
       "4. 'medium'\n",
       "5. 'medium'\n",
       "6. 'loud'\n",
       "7. 'medium'\n",
       "8. 'loud'\n",
       "9. 'loud'\n",
       "10. 'medium'\n",
       "\n",
       "\n"
      ],
      "text/plain": [
       " [1] \"loud\"   \"loud\"   \"loud\"   \"medium\" \"medium\" \"loud\"   \"medium\" \"loud\"  \n",
       " [9] \"loud\"   \"medium\""
      ]
     },
     "metadata": {},
     "output_type": "display_data"
    }
   ],
   "source": [
    "#new sequence S'\n",
    "S_line = c(\"loud\", \"loud\", \"loud\", \n",
    "           \"medium\", \"medium\", \"loud\", \n",
    "           \"medium\", \"loud\", \"loud\", \"medium\")\n",
    "\n",
    "#original, used to derive A\n",
    "S; S_line"
   ]
  },
  {
   "cell_type": "markdown",
   "metadata": {
    "slideshow": {
     "slide_type": "subslide"
    }
   },
   "source": [
    "Is it likely that $S'$ was built under our original transition matrix?"
   ]
  },
  {
   "cell_type": "markdown",
   "metadata": {
    "slideshow": {
     "slide_type": "subslide"
    }
   },
   "source": [
    "\n",
    "We can anwer it by evaluating if $\\mathcal{L}(S|A)$ $>$ $\\mathcal{L}(S'|A)$"
   ]
  },
  {
   "cell_type": "markdown",
   "metadata": {
    "slideshow": {
     "slide_type": "fragment"
    }
   },
   "source": [
    "The average Log Likelihood of a playlist $S$, given a playlister $A$, is written as \n",
    "\n",
    "$$\\mathcal{L}(S|A) = \\frac{1}{N_S} \\sum log\\ P[f_{i+1}|f_i]$$\n",
    "\n",
    "Where $f_i$ represents the discrete feature $f$ of song $i$, and $N_S$ the length of playlist $S$. We take the average because $S$ might have different lengths."
   ]
  },
  {
   "cell_type": "markdown",
   "metadata": {
    "slideshow": {
     "slide_type": "subslide"
    }
   },
   "source": [
    "We can also use the same sequence and different playlisters to compare $\\mathcal{L}(S|A)$, $\\mathcal{L}(S|A')$, $\\mathcal{L}(S|A'')$, \n",
    "\n",
    "which essentially asks \"which playlister is more likely to have generated sequence $S$? $A$, $A'$ or $A''$?\" \n",
    "\n"
   ]
  },
  {
   "cell_type": "markdown",
   "metadata": {
    "slideshow": {
     "slide_type": "slide"
    }
   },
   "source": [
    "## Implementation"
   ]
  },
  {
   "cell_type": "code",
   "execution_count": 7,
   "metadata": {
    "slideshow": {
     "slide_type": "fragment"
    }
   },
   "outputs": [],
   "source": [
    "# arr: array com transições; mo: empirically derived markov object, returns log likelihood of arr\n",
    "ll = function(mo, arr){ t <- log(transitionProbability(mo, arr[1], arr[2]))\n",
    "                        return( if( length(arr) == 2 ) t else t + ll(mo, arr[2:length(arr)]) )}\n",
    "\n",
    "# get the mean likelihood of playlist\n",
    "mll = function(mo, arr){ return (ll(mo, arr)/length(arr)) }"
   ]
  },
  {
   "cell_type": "markdown",
   "metadata": {
    "slideshow": {
     "slide_type": "subslide"
    }
   },
   "source": [
    "# Comparing sequences under the same transition matrix"
   ]
  },
  {
   "cell_type": "markdown",
   "metadata": {
    "slideshow": {
     "slide_type": "subslide"
    }
   },
   "source": [
    "This shows that our original sequence was most likely built under our empirically derived transition matrix, and also that the new sequence B, was probably built under a different transition matrix."
   ]
  },
  {
   "cell_type": "code",
   "execution_count": 7,
   "metadata": {
    "slideshow": {
     "slide_type": "fragment"
    }
   },
   "outputs": [
    {
     "data": {
      "text/html": [
       "TRUE"
      ],
      "text/latex": [
       "TRUE"
      ],
      "text/markdown": [
       "TRUE"
      ],
      "text/plain": [
       "[1] TRUE"
      ]
     },
     "metadata": {},
     "output_type": "display_data"
    },
    {
     "data": {
      "text/html": [
       "TRUE"
      ],
      "text/latex": [
       "TRUE"
      ],
      "text/markdown": [
       "TRUE"
      ],
      "text/plain": [
       "[1] TRUE"
      ]
     },
     "metadata": {},
     "output_type": "display_data"
    }
   ],
   "source": [
    "A <- new(\"markovchain\", states = c(\"loud\", \"medium\", \"quiet\"),\n",
    "     transitionMatrix = matrix(data = as.vector(t(A)),\n",
    "                               byrow = TRUE, nrow = 3))\n",
    "\n",
    "A_line <- new(\"markovchain\", states = c(\"loud\", \"medium\", \"quiet\"),\n",
    "          transitionMatrix = matrix(data = c(1/3, 1/3, 1/3,\n",
    "                                        1/3, 1/3, 1/3,\n",
    "                                        1/3, 1/3, 1/3),\n",
    "                               byrow = TRUE, nrow = 3))\n",
    "\n",
    "#Sequence S is more likely to have occured than S_line\n",
    "mll(A, S) > mll(A, S_line)\n",
    "\n",
    "#Sequence S is more likely to have ocurred under A\n",
    "mll(A, S) > mll(A_line, S)"
   ]
  },
  {
   "cell_type": "markdown",
   "metadata": {
    "slideshow": {
     "slide_type": "slide"
    }
   },
   "source": [
    "# Empirical evaluation\n",
    "\n",
    "Evaluating the same idea on our dataset. First we need to discreticize our features."
   ]
  },
  {
   "cell_type": "code",
   "execution_count": 8,
   "metadata": {
    "slideshow": {
     "slide_type": "fragment"
    }
   },
   "outputs": [
    {
     "data": {
      "text/html": [
       "<table>\n",
       "<caption>A grouped_df: 40459 × 6</caption>\n",
       "<thead>\n",
       "\t<tr><th scope=col>album_id</th><th scope=col>track_number</th><th scope=col>valence</th><th scope=col>energy</th><th scope=col>loudness</th><th scope=col>tempo</th></tr>\n",
       "\t<tr><th scope=col>&lt;chr&gt;</th><th scope=col>&lt;int&gt;</th><th scope=col>&lt;fct&gt;</th><th scope=col>&lt;fct&gt;</th><th scope=col>&lt;fct&gt;</th><th scope=col>&lt;fct&gt;</th></tr>\n",
       "</thead>\n",
       "<tbody>\n",
       "\t<tr><td>008M3KxE8IO39sdTRFeZwn</td><td>1</td><td>1</td><td>8</td><td>7</td><td>6</td></tr>\n",
       "\t<tr><td>008M3KxE8IO39sdTRFeZwn</td><td>2</td><td>7</td><td>4</td><td>3</td><td>2</td></tr>\n",
       "\t<tr><td>008M3KxE8IO39sdTRFeZwn</td><td>3</td><td>4</td><td>2</td><td>8</td><td>1</td></tr>\n",
       "\t<tr><td>008M3KxE8IO39sdTRFeZwn</td><td>4</td><td>2</td><td>3</td><td>2</td><td>4</td></tr>\n",
       "\t<tr><td>008M3KxE8IO39sdTRFeZwn</td><td>5</td><td>5</td><td>5</td><td>4</td><td>8</td></tr>\n",
       "\t<tr><td>008M3KxE8IO39sdTRFeZwn</td><td>6</td><td>6</td><td>7</td><td>6</td><td>3</td></tr>\n",
       "\t<tr><td>008M3KxE8IO39sdTRFeZwn</td><td>7</td><td>3</td><td>1</td><td>1</td><td>7</td></tr>\n",
       "\t<tr><td>008M3KxE8IO39sdTRFeZwn</td><td>8</td><td>8</td><td>6</td><td>5</td><td>5</td></tr>\n",
       "\t<tr><td>009Y1z4EpUUubSmtf1jEl3</td><td>1</td><td>4</td><td>6</td><td>1</td><td>4</td></tr>\n",
       "\t<tr><td>009Y1z4EpUUubSmtf1jEl3</td><td>2</td><td>1</td><td>1</td><td>2</td><td>8</td></tr>\n",
       "\t<tr><td>009Y1z4EpUUubSmtf1jEl3</td><td>3</td><td>3</td><td>3</td><td>4</td><td>7</td></tr>\n",
       "\t<tr><td>009Y1z4EpUUubSmtf1jEl3</td><td>4</td><td>8</td><td>2</td><td>6</td><td>1</td></tr>\n",
       "\t<tr><td>009Y1z4EpUUubSmtf1jEl3</td><td>5</td><td>2</td><td>4</td><td>5</td><td>3</td></tr>\n",
       "\t<tr><td>009Y1z4EpUUubSmtf1jEl3</td><td>6</td><td>5</td><td>5</td><td>3</td><td>2</td></tr>\n",
       "\t<tr><td>009Y1z4EpUUubSmtf1jEl3</td><td>7</td><td>6</td><td>7</td><td>8</td><td>5</td></tr>\n",
       "\t<tr><td>009Y1z4EpUUubSmtf1jEl3</td><td>8</td><td>7</td><td>8</td><td>7</td><td>6</td></tr>\n",
       "\t<tr><td>00c7nZRNKDJjp7jdoEfB0Z</td><td>1</td><td>8</td><td>7</td><td>7</td><td>7</td></tr>\n",
       "\t<tr><td>00c7nZRNKDJjp7jdoEfB0Z</td><td>2</td><td>3</td><td>3</td><td>4</td><td>8</td></tr>\n",
       "\t<tr><td>00c7nZRNKDJjp7jdoEfB0Z</td><td>3</td><td>5</td><td>4</td><td>3</td><td>5</td></tr>\n",
       "\t<tr><td>00c7nZRNKDJjp7jdoEfB0Z</td><td>4</td><td>7</td><td>8</td><td>8</td><td>6</td></tr>\n",
       "\t<tr><td>00c7nZRNKDJjp7jdoEfB0Z</td><td>5</td><td>1</td><td>2</td><td>2</td><td>2</td></tr>\n",
       "\t<tr><td>00c7nZRNKDJjp7jdoEfB0Z</td><td>6</td><td>2</td><td>1</td><td>1</td><td>3</td></tr>\n",
       "\t<tr><td>00c7nZRNKDJjp7jdoEfB0Z</td><td>7</td><td>4</td><td>5</td><td>5</td><td>1</td></tr>\n",
       "\t<tr><td>00c7nZRNKDJjp7jdoEfB0Z</td><td>8</td><td>6</td><td>6</td><td>6</td><td>4</td></tr>\n",
       "\t<tr><td>00CO8WwZ8YgoSfB2k7ERI4</td><td>1</td><td>5</td><td>6</td><td>2</td><td>3</td></tr>\n",
       "\t<tr><td>00CO8WwZ8YgoSfB2k7ERI4</td><td>2</td><td>8</td><td>7</td><td>8</td><td>5</td></tr>\n",
       "\t<tr><td>00CO8WwZ8YgoSfB2k7ERI4</td><td>3</td><td>7</td><td>8</td><td>6</td><td>8</td></tr>\n",
       "\t<tr><td>00CO8WwZ8YgoSfB2k7ERI4</td><td>4</td><td>6</td><td>2</td><td>4</td><td>4</td></tr>\n",
       "\t<tr><td>00CO8WwZ8YgoSfB2k7ERI4</td><td>5</td><td>3</td><td>3</td><td>3</td><td>7</td></tr>\n",
       "\t<tr><td>00CO8WwZ8YgoSfB2k7ERI4</td><td>6</td><td>2</td><td>1</td><td>1</td><td>6</td></tr>\n",
       "\t<tr><td>⋮</td><td>⋮</td><td>⋮</td><td>⋮</td><td>⋮</td><td>⋮</td></tr>\n",
       "\t<tr><td>3Bdtv2Y8lHrXOsboFA96hX</td><td>2</td><td>3</td><td>8</td><td>6</td><td>7</td></tr>\n",
       "\t<tr><td>3Bdtv2Y8lHrXOsboFA96hX</td><td>3</td><td>2</td><td>5</td><td>3</td><td>5</td></tr>\n",
       "\t<tr><td>3Bdtv2Y8lHrXOsboFA96hX</td><td>4</td><td>1</td><td>4</td><td>2</td><td>2</td></tr>\n",
       "\t<tr><td>3Bdtv2Y8lHrXOsboFA96hX</td><td>5</td><td>7</td><td>2</td><td>1</td><td>1</td></tr>\n",
       "\t<tr><td>3Bdtv2Y8lHrXOsboFA96hX</td><td>6</td><td>6</td><td>7</td><td>5</td><td>8</td></tr>\n",
       "\t<tr><td>3Bdtv2Y8lHrXOsboFA96hX</td><td>7</td><td>5</td><td>3</td><td>4</td><td>4</td></tr>\n",
       "\t<tr><td>3Bdtv2Y8lHrXOsboFA96hX</td><td>8</td><td>8</td><td>6</td><td>8</td><td>6</td></tr>\n",
       "\t<tr><td>6btE9k5ED8ydC8XY1K0kko</td><td>1</td><td>2</td><td>5</td><td>5</td><td>1</td></tr>\n",
       "\t<tr><td>6btE9k5ED8ydC8XY1K0kko</td><td>2</td><td>4</td><td>4</td><td>2</td><td>7</td></tr>\n",
       "\t<tr><td>6btE9k5ED8ydC8XY1K0kko</td><td>3</td><td>7</td><td>6</td><td>3</td><td>6</td></tr>\n",
       "\t<tr><td>6btE9k5ED8ydC8XY1K0kko</td><td>4</td><td>3</td><td>7</td><td>7</td><td>4</td></tr>\n",
       "\t<tr><td>6btE9k5ED8ydC8XY1K0kko</td><td>5</td><td>1</td><td>3</td><td>4</td><td>2</td></tr>\n",
       "\t<tr><td>6btE9k5ED8ydC8XY1K0kko</td><td>6</td><td>5</td><td>1</td><td>6</td><td>3</td></tr>\n",
       "\t<tr><td>6btE9k5ED8ydC8XY1K0kko</td><td>7</td><td>6</td><td>2</td><td>1</td><td>5</td></tr>\n",
       "\t<tr><td>5EzDhyNZuO7kuaABHwbBKX</td><td>1</td><td>1</td><td>1</td><td>2</td><td>2</td></tr>\n",
       "\t<tr><td>5EzDhyNZuO7kuaABHwbBKX</td><td>2</td><td>3</td><td>3</td><td>3</td><td>4</td></tr>\n",
       "\t<tr><td>5EzDhyNZuO7kuaABHwbBKX</td><td>3</td><td>7</td><td>4</td><td>7</td><td>1</td></tr>\n",
       "\t<tr><td>5EzDhyNZuO7kuaABHwbBKX</td><td>4</td><td>8</td><td>8</td><td>4</td><td>7</td></tr>\n",
       "\t<tr><td>5EzDhyNZuO7kuaABHwbBKX</td><td>5</td><td>6</td><td>2</td><td>1</td><td>6</td></tr>\n",
       "\t<tr><td>5EzDhyNZuO7kuaABHwbBKX</td><td>6</td><td>2</td><td>5</td><td>6</td><td>3</td></tr>\n",
       "\t<tr><td>5EzDhyNZuO7kuaABHwbBKX</td><td>7</td><td>5</td><td>7</td><td>8</td><td>5</td></tr>\n",
       "\t<tr><td>5EzDhyNZuO7kuaABHwbBKX</td><td>8</td><td>4</td><td>6</td><td>5</td><td>8</td></tr>\n",
       "\t<tr><td>6YKk4wlKdACRITGKmGnoIm</td><td>1</td><td>1</td><td>1</td><td>2</td><td>2</td></tr>\n",
       "\t<tr><td>6YKk4wlKdACRITGKmGnoIm</td><td>2</td><td>3</td><td>3</td><td>4</td><td>4</td></tr>\n",
       "\t<tr><td>6YKk4wlKdACRITGKmGnoIm</td><td>3</td><td>7</td><td>4</td><td>7</td><td>1</td></tr>\n",
       "\t<tr><td>6YKk4wlKdACRITGKmGnoIm</td><td>4</td><td>8</td><td>8</td><td>3</td><td>7</td></tr>\n",
       "\t<tr><td>6YKk4wlKdACRITGKmGnoIm</td><td>5</td><td>6</td><td>2</td><td>1</td><td>6</td></tr>\n",
       "\t<tr><td>6YKk4wlKdACRITGKmGnoIm</td><td>6</td><td>2</td><td>5</td><td>6</td><td>3</td></tr>\n",
       "\t<tr><td>6YKk4wlKdACRITGKmGnoIm</td><td>7</td><td>5</td><td>7</td><td>8</td><td>5</td></tr>\n",
       "\t<tr><td>6YKk4wlKdACRITGKmGnoIm</td><td>8</td><td>4</td><td>6</td><td>5</td><td>8</td></tr>\n",
       "</tbody>\n",
       "</table>\n"
      ],
      "text/latex": [
       "A grouped\\_df: 40459 × 6\n",
       "\\begin{tabular}{llllll}\n",
       " album\\_id & track\\_number & valence & energy & loudness & tempo\\\\\n",
       " <chr> & <int> & <fct> & <fct> & <fct> & <fct>\\\\\n",
       "\\hline\n",
       "\t 008M3KxE8IO39sdTRFeZwn & 1 & 1 & 8 & 7 & 6\\\\\n",
       "\t 008M3KxE8IO39sdTRFeZwn & 2 & 7 & 4 & 3 & 2\\\\\n",
       "\t 008M3KxE8IO39sdTRFeZwn & 3 & 4 & 2 & 8 & 1\\\\\n",
       "\t 008M3KxE8IO39sdTRFeZwn & 4 & 2 & 3 & 2 & 4\\\\\n",
       "\t 008M3KxE8IO39sdTRFeZwn & 5 & 5 & 5 & 4 & 8\\\\\n",
       "\t 008M3KxE8IO39sdTRFeZwn & 6 & 6 & 7 & 6 & 3\\\\\n",
       "\t 008M3KxE8IO39sdTRFeZwn & 7 & 3 & 1 & 1 & 7\\\\\n",
       "\t 008M3KxE8IO39sdTRFeZwn & 8 & 8 & 6 & 5 & 5\\\\\n",
       "\t 009Y1z4EpUUubSmtf1jEl3 & 1 & 4 & 6 & 1 & 4\\\\\n",
       "\t 009Y1z4EpUUubSmtf1jEl3 & 2 & 1 & 1 & 2 & 8\\\\\n",
       "\t 009Y1z4EpUUubSmtf1jEl3 & 3 & 3 & 3 & 4 & 7\\\\\n",
       "\t 009Y1z4EpUUubSmtf1jEl3 & 4 & 8 & 2 & 6 & 1\\\\\n",
       "\t 009Y1z4EpUUubSmtf1jEl3 & 5 & 2 & 4 & 5 & 3\\\\\n",
       "\t 009Y1z4EpUUubSmtf1jEl3 & 6 & 5 & 5 & 3 & 2\\\\\n",
       "\t 009Y1z4EpUUubSmtf1jEl3 & 7 & 6 & 7 & 8 & 5\\\\\n",
       "\t 009Y1z4EpUUubSmtf1jEl3 & 8 & 7 & 8 & 7 & 6\\\\\n",
       "\t 00c7nZRNKDJjp7jdoEfB0Z & 1 & 8 & 7 & 7 & 7\\\\\n",
       "\t 00c7nZRNKDJjp7jdoEfB0Z & 2 & 3 & 3 & 4 & 8\\\\\n",
       "\t 00c7nZRNKDJjp7jdoEfB0Z & 3 & 5 & 4 & 3 & 5\\\\\n",
       "\t 00c7nZRNKDJjp7jdoEfB0Z & 4 & 7 & 8 & 8 & 6\\\\\n",
       "\t 00c7nZRNKDJjp7jdoEfB0Z & 5 & 1 & 2 & 2 & 2\\\\\n",
       "\t 00c7nZRNKDJjp7jdoEfB0Z & 6 & 2 & 1 & 1 & 3\\\\\n",
       "\t 00c7nZRNKDJjp7jdoEfB0Z & 7 & 4 & 5 & 5 & 1\\\\\n",
       "\t 00c7nZRNKDJjp7jdoEfB0Z & 8 & 6 & 6 & 6 & 4\\\\\n",
       "\t 00CO8WwZ8YgoSfB2k7ERI4 & 1 & 5 & 6 & 2 & 3\\\\\n",
       "\t 00CO8WwZ8YgoSfB2k7ERI4 & 2 & 8 & 7 & 8 & 5\\\\\n",
       "\t 00CO8WwZ8YgoSfB2k7ERI4 & 3 & 7 & 8 & 6 & 8\\\\\n",
       "\t 00CO8WwZ8YgoSfB2k7ERI4 & 4 & 6 & 2 & 4 & 4\\\\\n",
       "\t 00CO8WwZ8YgoSfB2k7ERI4 & 5 & 3 & 3 & 3 & 7\\\\\n",
       "\t 00CO8WwZ8YgoSfB2k7ERI4 & 6 & 2 & 1 & 1 & 6\\\\\n",
       "\t ⋮ & ⋮ & ⋮ & ⋮ & ⋮ & ⋮\\\\\n",
       "\t 3Bdtv2Y8lHrXOsboFA96hX & 2 & 3 & 8 & 6 & 7\\\\\n",
       "\t 3Bdtv2Y8lHrXOsboFA96hX & 3 & 2 & 5 & 3 & 5\\\\\n",
       "\t 3Bdtv2Y8lHrXOsboFA96hX & 4 & 1 & 4 & 2 & 2\\\\\n",
       "\t 3Bdtv2Y8lHrXOsboFA96hX & 5 & 7 & 2 & 1 & 1\\\\\n",
       "\t 3Bdtv2Y8lHrXOsboFA96hX & 6 & 6 & 7 & 5 & 8\\\\\n",
       "\t 3Bdtv2Y8lHrXOsboFA96hX & 7 & 5 & 3 & 4 & 4\\\\\n",
       "\t 3Bdtv2Y8lHrXOsboFA96hX & 8 & 8 & 6 & 8 & 6\\\\\n",
       "\t 6btE9k5ED8ydC8XY1K0kko & 1 & 2 & 5 & 5 & 1\\\\\n",
       "\t 6btE9k5ED8ydC8XY1K0kko & 2 & 4 & 4 & 2 & 7\\\\\n",
       "\t 6btE9k5ED8ydC8XY1K0kko & 3 & 7 & 6 & 3 & 6\\\\\n",
       "\t 6btE9k5ED8ydC8XY1K0kko & 4 & 3 & 7 & 7 & 4\\\\\n",
       "\t 6btE9k5ED8ydC8XY1K0kko & 5 & 1 & 3 & 4 & 2\\\\\n",
       "\t 6btE9k5ED8ydC8XY1K0kko & 6 & 5 & 1 & 6 & 3\\\\\n",
       "\t 6btE9k5ED8ydC8XY1K0kko & 7 & 6 & 2 & 1 & 5\\\\\n",
       "\t 5EzDhyNZuO7kuaABHwbBKX & 1 & 1 & 1 & 2 & 2\\\\\n",
       "\t 5EzDhyNZuO7kuaABHwbBKX & 2 & 3 & 3 & 3 & 4\\\\\n",
       "\t 5EzDhyNZuO7kuaABHwbBKX & 3 & 7 & 4 & 7 & 1\\\\\n",
       "\t 5EzDhyNZuO7kuaABHwbBKX & 4 & 8 & 8 & 4 & 7\\\\\n",
       "\t 5EzDhyNZuO7kuaABHwbBKX & 5 & 6 & 2 & 1 & 6\\\\\n",
       "\t 5EzDhyNZuO7kuaABHwbBKX & 6 & 2 & 5 & 6 & 3\\\\\n",
       "\t 5EzDhyNZuO7kuaABHwbBKX & 7 & 5 & 7 & 8 & 5\\\\\n",
       "\t 5EzDhyNZuO7kuaABHwbBKX & 8 & 4 & 6 & 5 & 8\\\\\n",
       "\t 6YKk4wlKdACRITGKmGnoIm & 1 & 1 & 1 & 2 & 2\\\\\n",
       "\t 6YKk4wlKdACRITGKmGnoIm & 2 & 3 & 3 & 4 & 4\\\\\n",
       "\t 6YKk4wlKdACRITGKmGnoIm & 3 & 7 & 4 & 7 & 1\\\\\n",
       "\t 6YKk4wlKdACRITGKmGnoIm & 4 & 8 & 8 & 3 & 7\\\\\n",
       "\t 6YKk4wlKdACRITGKmGnoIm & 5 & 6 & 2 & 1 & 6\\\\\n",
       "\t 6YKk4wlKdACRITGKmGnoIm & 6 & 2 & 5 & 6 & 3\\\\\n",
       "\t 6YKk4wlKdACRITGKmGnoIm & 7 & 5 & 7 & 8 & 5\\\\\n",
       "\t 6YKk4wlKdACRITGKmGnoIm & 8 & 4 & 6 & 5 & 8\\\\\n",
       "\\end{tabular}\n"
      ],
      "text/markdown": [
       "\n",
       "A grouped_df: 40459 × 6\n",
       "\n",
       "| album_id &lt;chr&gt; | track_number &lt;int&gt; | valence &lt;fct&gt; | energy &lt;fct&gt; | loudness &lt;fct&gt; | tempo &lt;fct&gt; |\n",
       "|---|---|---|---|---|---|\n",
       "| 008M3KxE8IO39sdTRFeZwn | 1 | 1 | 8 | 7 | 6 |\n",
       "| 008M3KxE8IO39sdTRFeZwn | 2 | 7 | 4 | 3 | 2 |\n",
       "| 008M3KxE8IO39sdTRFeZwn | 3 | 4 | 2 | 8 | 1 |\n",
       "| 008M3KxE8IO39sdTRFeZwn | 4 | 2 | 3 | 2 | 4 |\n",
       "| 008M3KxE8IO39sdTRFeZwn | 5 | 5 | 5 | 4 | 8 |\n",
       "| 008M3KxE8IO39sdTRFeZwn | 6 | 6 | 7 | 6 | 3 |\n",
       "| 008M3KxE8IO39sdTRFeZwn | 7 | 3 | 1 | 1 | 7 |\n",
       "| 008M3KxE8IO39sdTRFeZwn | 8 | 8 | 6 | 5 | 5 |\n",
       "| 009Y1z4EpUUubSmtf1jEl3 | 1 | 4 | 6 | 1 | 4 |\n",
       "| 009Y1z4EpUUubSmtf1jEl3 | 2 | 1 | 1 | 2 | 8 |\n",
       "| 009Y1z4EpUUubSmtf1jEl3 | 3 | 3 | 3 | 4 | 7 |\n",
       "| 009Y1z4EpUUubSmtf1jEl3 | 4 | 8 | 2 | 6 | 1 |\n",
       "| 009Y1z4EpUUubSmtf1jEl3 | 5 | 2 | 4 | 5 | 3 |\n",
       "| 009Y1z4EpUUubSmtf1jEl3 | 6 | 5 | 5 | 3 | 2 |\n",
       "| 009Y1z4EpUUubSmtf1jEl3 | 7 | 6 | 7 | 8 | 5 |\n",
       "| 009Y1z4EpUUubSmtf1jEl3 | 8 | 7 | 8 | 7 | 6 |\n",
       "| 00c7nZRNKDJjp7jdoEfB0Z | 1 | 8 | 7 | 7 | 7 |\n",
       "| 00c7nZRNKDJjp7jdoEfB0Z | 2 | 3 | 3 | 4 | 8 |\n",
       "| 00c7nZRNKDJjp7jdoEfB0Z | 3 | 5 | 4 | 3 | 5 |\n",
       "| 00c7nZRNKDJjp7jdoEfB0Z | 4 | 7 | 8 | 8 | 6 |\n",
       "| 00c7nZRNKDJjp7jdoEfB0Z | 5 | 1 | 2 | 2 | 2 |\n",
       "| 00c7nZRNKDJjp7jdoEfB0Z | 6 | 2 | 1 | 1 | 3 |\n",
       "| 00c7nZRNKDJjp7jdoEfB0Z | 7 | 4 | 5 | 5 | 1 |\n",
       "| 00c7nZRNKDJjp7jdoEfB0Z | 8 | 6 | 6 | 6 | 4 |\n",
       "| 00CO8WwZ8YgoSfB2k7ERI4 | 1 | 5 | 6 | 2 | 3 |\n",
       "| 00CO8WwZ8YgoSfB2k7ERI4 | 2 | 8 | 7 | 8 | 5 |\n",
       "| 00CO8WwZ8YgoSfB2k7ERI4 | 3 | 7 | 8 | 6 | 8 |\n",
       "| 00CO8WwZ8YgoSfB2k7ERI4 | 4 | 6 | 2 | 4 | 4 |\n",
       "| 00CO8WwZ8YgoSfB2k7ERI4 | 5 | 3 | 3 | 3 | 7 |\n",
       "| 00CO8WwZ8YgoSfB2k7ERI4 | 6 | 2 | 1 | 1 | 6 |\n",
       "| ⋮ | ⋮ | ⋮ | ⋮ | ⋮ | ⋮ |\n",
       "| 3Bdtv2Y8lHrXOsboFA96hX | 2 | 3 | 8 | 6 | 7 |\n",
       "| 3Bdtv2Y8lHrXOsboFA96hX | 3 | 2 | 5 | 3 | 5 |\n",
       "| 3Bdtv2Y8lHrXOsboFA96hX | 4 | 1 | 4 | 2 | 2 |\n",
       "| 3Bdtv2Y8lHrXOsboFA96hX | 5 | 7 | 2 | 1 | 1 |\n",
       "| 3Bdtv2Y8lHrXOsboFA96hX | 6 | 6 | 7 | 5 | 8 |\n",
       "| 3Bdtv2Y8lHrXOsboFA96hX | 7 | 5 | 3 | 4 | 4 |\n",
       "| 3Bdtv2Y8lHrXOsboFA96hX | 8 | 8 | 6 | 8 | 6 |\n",
       "| 6btE9k5ED8ydC8XY1K0kko | 1 | 2 | 5 | 5 | 1 |\n",
       "| 6btE9k5ED8ydC8XY1K0kko | 2 | 4 | 4 | 2 | 7 |\n",
       "| 6btE9k5ED8ydC8XY1K0kko | 3 | 7 | 6 | 3 | 6 |\n",
       "| 6btE9k5ED8ydC8XY1K0kko | 4 | 3 | 7 | 7 | 4 |\n",
       "| 6btE9k5ED8ydC8XY1K0kko | 5 | 1 | 3 | 4 | 2 |\n",
       "| 6btE9k5ED8ydC8XY1K0kko | 6 | 5 | 1 | 6 | 3 |\n",
       "| 6btE9k5ED8ydC8XY1K0kko | 7 | 6 | 2 | 1 | 5 |\n",
       "| 5EzDhyNZuO7kuaABHwbBKX | 1 | 1 | 1 | 2 | 2 |\n",
       "| 5EzDhyNZuO7kuaABHwbBKX | 2 | 3 | 3 | 3 | 4 |\n",
       "| 5EzDhyNZuO7kuaABHwbBKX | 3 | 7 | 4 | 7 | 1 |\n",
       "| 5EzDhyNZuO7kuaABHwbBKX | 4 | 8 | 8 | 4 | 7 |\n",
       "| 5EzDhyNZuO7kuaABHwbBKX | 5 | 6 | 2 | 1 | 6 |\n",
       "| 5EzDhyNZuO7kuaABHwbBKX | 6 | 2 | 5 | 6 | 3 |\n",
       "| 5EzDhyNZuO7kuaABHwbBKX | 7 | 5 | 7 | 8 | 5 |\n",
       "| 5EzDhyNZuO7kuaABHwbBKX | 8 | 4 | 6 | 5 | 8 |\n",
       "| 6YKk4wlKdACRITGKmGnoIm | 1 | 1 | 1 | 2 | 2 |\n",
       "| 6YKk4wlKdACRITGKmGnoIm | 2 | 3 | 3 | 4 | 4 |\n",
       "| 6YKk4wlKdACRITGKmGnoIm | 3 | 7 | 4 | 7 | 1 |\n",
       "| 6YKk4wlKdACRITGKmGnoIm | 4 | 8 | 8 | 3 | 7 |\n",
       "| 6YKk4wlKdACRITGKmGnoIm | 5 | 6 | 2 | 1 | 6 |\n",
       "| 6YKk4wlKdACRITGKmGnoIm | 6 | 2 | 5 | 6 | 3 |\n",
       "| 6YKk4wlKdACRITGKmGnoIm | 7 | 5 | 7 | 8 | 5 |\n",
       "| 6YKk4wlKdACRITGKmGnoIm | 8 | 4 | 6 | 5 | 8 |\n",
       "\n"
      ],
      "text/plain": [
       "      album_id               track_number valence energy loudness tempo\n",
       "1     008M3KxE8IO39sdTRFeZwn 1            1       8      7        6    \n",
       "2     008M3KxE8IO39sdTRFeZwn 2            7       4      3        2    \n",
       "3     008M3KxE8IO39sdTRFeZwn 3            4       2      8        1    \n",
       "4     008M3KxE8IO39sdTRFeZwn 4            2       3      2        4    \n",
       "5     008M3KxE8IO39sdTRFeZwn 5            5       5      4        8    \n",
       "6     008M3KxE8IO39sdTRFeZwn 6            6       7      6        3    \n",
       "7     008M3KxE8IO39sdTRFeZwn 7            3       1      1        7    \n",
       "8     008M3KxE8IO39sdTRFeZwn 8            8       6      5        5    \n",
       "9     009Y1z4EpUUubSmtf1jEl3 1            4       6      1        4    \n",
       "10    009Y1z4EpUUubSmtf1jEl3 2            1       1      2        8    \n",
       "11    009Y1z4EpUUubSmtf1jEl3 3            3       3      4        7    \n",
       "12    009Y1z4EpUUubSmtf1jEl3 4            8       2      6        1    \n",
       "13    009Y1z4EpUUubSmtf1jEl3 5            2       4      5        3    \n",
       "14    009Y1z4EpUUubSmtf1jEl3 6            5       5      3        2    \n",
       "15    009Y1z4EpUUubSmtf1jEl3 7            6       7      8        5    \n",
       "16    009Y1z4EpUUubSmtf1jEl3 8            7       8      7        6    \n",
       "17    00c7nZRNKDJjp7jdoEfB0Z 1            8       7      7        7    \n",
       "18    00c7nZRNKDJjp7jdoEfB0Z 2            3       3      4        8    \n",
       "19    00c7nZRNKDJjp7jdoEfB0Z 3            5       4      3        5    \n",
       "20    00c7nZRNKDJjp7jdoEfB0Z 4            7       8      8        6    \n",
       "21    00c7nZRNKDJjp7jdoEfB0Z 5            1       2      2        2    \n",
       "22    00c7nZRNKDJjp7jdoEfB0Z 6            2       1      1        3    \n",
       "23    00c7nZRNKDJjp7jdoEfB0Z 7            4       5      5        1    \n",
       "24    00c7nZRNKDJjp7jdoEfB0Z 8            6       6      6        4    \n",
       "25    00CO8WwZ8YgoSfB2k7ERI4 1            5       6      2        3    \n",
       "26    00CO8WwZ8YgoSfB2k7ERI4 2            8       7      8        5    \n",
       "27    00CO8WwZ8YgoSfB2k7ERI4 3            7       8      6        8    \n",
       "28    00CO8WwZ8YgoSfB2k7ERI4 4            6       2      4        4    \n",
       "29    00CO8WwZ8YgoSfB2k7ERI4 5            3       3      3        7    \n",
       "30    00CO8WwZ8YgoSfB2k7ERI4 6            2       1      1        6    \n",
       "⋮     ⋮                      ⋮            ⋮       ⋮      ⋮        ⋮    \n",
       "40430 3Bdtv2Y8lHrXOsboFA96hX 2            3       8      6        7    \n",
       "40431 3Bdtv2Y8lHrXOsboFA96hX 3            2       5      3        5    \n",
       "40432 3Bdtv2Y8lHrXOsboFA96hX 4            1       4      2        2    \n",
       "40433 3Bdtv2Y8lHrXOsboFA96hX 5            7       2      1        1    \n",
       "40434 3Bdtv2Y8lHrXOsboFA96hX 6            6       7      5        8    \n",
       "40435 3Bdtv2Y8lHrXOsboFA96hX 7            5       3      4        4    \n",
       "40436 3Bdtv2Y8lHrXOsboFA96hX 8            8       6      8        6    \n",
       "40437 6btE9k5ED8ydC8XY1K0kko 1            2       5      5        1    \n",
       "40438 6btE9k5ED8ydC8XY1K0kko 2            4       4      2        7    \n",
       "40439 6btE9k5ED8ydC8XY1K0kko 3            7       6      3        6    \n",
       "40440 6btE9k5ED8ydC8XY1K0kko 4            3       7      7        4    \n",
       "40441 6btE9k5ED8ydC8XY1K0kko 5            1       3      4        2    \n",
       "40442 6btE9k5ED8ydC8XY1K0kko 6            5       1      6        3    \n",
       "40443 6btE9k5ED8ydC8XY1K0kko 7            6       2      1        5    \n",
       "40444 5EzDhyNZuO7kuaABHwbBKX 1            1       1      2        2    \n",
       "40445 5EzDhyNZuO7kuaABHwbBKX 2            3       3      3        4    \n",
       "40446 5EzDhyNZuO7kuaABHwbBKX 3            7       4      7        1    \n",
       "40447 5EzDhyNZuO7kuaABHwbBKX 4            8       8      4        7    \n",
       "40448 5EzDhyNZuO7kuaABHwbBKX 5            6       2      1        6    \n",
       "40449 5EzDhyNZuO7kuaABHwbBKX 6            2       5      6        3    \n",
       "40450 5EzDhyNZuO7kuaABHwbBKX 7            5       7      8        5    \n",
       "40451 5EzDhyNZuO7kuaABHwbBKX 8            4       6      5        8    \n",
       "40452 6YKk4wlKdACRITGKmGnoIm 1            1       1      2        2    \n",
       "40453 6YKk4wlKdACRITGKmGnoIm 2            3       3      4        4    \n",
       "40454 6YKk4wlKdACRITGKmGnoIm 3            7       4      7        1    \n",
       "40455 6YKk4wlKdACRITGKmGnoIm 4            8       8      3        7    \n",
       "40456 6YKk4wlKdACRITGKmGnoIm 5            6       2      1        6    \n",
       "40457 6YKk4wlKdACRITGKmGnoIm 6            2       5      6        3    \n",
       "40458 6YKk4wlKdACRITGKmGnoIm 7            5       7      8        5    \n",
       "40459 6YKk4wlKdACRITGKmGnoIm 8            4       6      5        8    "
      ]
     },
     "metadata": {},
     "output_type": "display_data"
    }
   ],
   "source": [
    "dt = fread(\"novo.csv\")\n",
    "\n",
    "dt %<>% select(!V1) %>% \n",
    "       group_by(album_id) %>% mutate(album_length = NROW(track_number)) %>%\n",
    "       filter(track_number < 9) %>%\n",
    "       select(album_id, track_number, valence, energy, loudness, tempo) %>%\n",
    "       mutate(valence  = as.factor(rank(valence, na.last = \"keep\", ties.method = \"random\")), \n",
    "              energy   = as.factor(rank(energy, na.last = \"keep\", ties.method = \"random\")),\n",
    "              loudness = as.factor(rank(loudness, na.last = \"keep\", ties.method = \"random\")),\n",
    "              tempo    = as.factor(rank(tempo, na.last = \"keep\", ties.method = \"random\"))); dt"
   ]
  },
  {
   "cell_type": "markdown",
   "metadata": {
    "slideshow": {
     "slide_type": "subslide"
    }
   },
   "source": [
    "# Fitting the Markov Chain\n",
    "\n",
    "First we separating between training and test."
   ]
  },
  {
   "cell_type": "code",
   "execution_count": 9,
   "metadata": {
    "slideshow": {
     "slide_type": "fragment"
    }
   },
   "outputs": [],
   "source": [
    "dt = split(dt, dt$album_id)\n",
    "size <- floor(0.75 * length(dt))\n",
    "\n",
    "train_ind <- sample(seq_len(length(dt)), size = size)\n",
    "\n",
    "dt_train <- dt[train_ind]\n",
    "dt_test <- dt[-train_ind]"
   ]
  },
  {
   "cell_type": "markdown",
   "metadata": {
    "slideshow": {
     "slide_type": "subslide"
    }
   },
   "source": [
    "## Calculating transition matrices\n",
    "\n",
    "As control, I randomly shuffled the tracks of each album and calculated a transition matrix from both the randomized and original versions. This would give me a different playlister $A'$ to compare with our empirically derived transition matrix."
   ]
  },
  {
   "cell_type": "code",
   "execution_count": 10,
   "metadata": {
    "slideshow": {
     "slide_type": "skip"
    }
   },
   "outputs": [],
   "source": [
    "valence = c(); energy = c() ;loudness = c(); tempo = c()\n",
    "rv = c(); re = c() ; rl = c(); rt = c()\n",
    "valence_t = c(); energy_t = c() ;loudness_t = c(); tempo_t = c()\n",
    "\n",
    "for(i in 1:length(dt_train)){\n",
    "  valence[[i]]  <- c('i', dt_train[[i]]$valence)\n",
    "  energy[[i]]   <- c('i', dt_train[[i]]$energy)\n",
    "  loudness[[i]] <- c('i', dt_train[[i]]$loudness)\n",
    "  tempo[[i]]    <- c('i', dt_train[[i]]$tempo)\n",
    "}\n",
    "\n",
    "for(i in 1:length(dt_train)){\n",
    "  rv[[i]]  <- c('i', sample(dt_train[[i]]$valence, replace = FALSE, size = length(dt_train[[i]]$valence)))\n",
    "  re[[i]]   <- c('i', sample(dt_train[[i]]$energy, replace = FALSE, size = length(dt_train[[i]]$energy)))\n",
    "  rl[[i]] <- c('i', sample(dt_train[[i]]$loudness, replace = FALSE, size = length(dt_train[[i]]$loudness)))\n",
    "  rt[[i]]    <- c('i', sample(dt_train[[i]]$tempo, replace = FALSE, size = length(dt_train[[i]]$tempo)))\n",
    "}\n",
    "\n",
    "for(i in 1:length(dt_test)){\n",
    "  valence_t[[i]]  <- c('i', dt_test[[i]]$valence)\n",
    "  energy_t[[i]]   <- c('i', dt_test[[i]]$energy)\n",
    "  loudness_t[[i]] <- c('i', dt_test[[i]]$loudness)\n",
    "  tempo_t[[i]]    <- c('i', dt_test[[i]]$tempo)\n",
    "}\n",
    "\n",
    "# #Getting the transition\n",
    "v = data.frame(markovchainFit(data = valence)$estimate@transitionMatrix)\n",
    "e = data.frame(markovchainFit(data = energy)$estimate@transitionMatrix)\n",
    "l = data.frame(markovchainFit(data = loudness)$estimate@transitionMatrix)\n",
    "t = data.frame(markovchainFit(data = tempo)$estimate@transitionMatrix)\n",
    "\n",
    "#creating the object\n",
    "v <- new(\"markovchain\", states = c(\"1\", \"2\", \"3\", \"4\", \"5\", \"6\", \"7\", \"8\", \"i\"), transitionMatrix = matrix(data = as.vector(t(v)), byrow = TRUE, nrow = nrow(v)), name = \"valence\")\n",
    "e <- new(\"markovchain\", states = c(\"1\", \"2\", \"3\", \"4\", \"5\", \"6\", \"7\", \"8\", \"i\"), transitionMatrix = matrix(data = as.vector(t(e)), byrow = TRUE, nrow = nrow(e)), name = \"energy\")\n",
    "l <- new(\"markovchain\", states = c(\"1\", \"2\", \"3\", \"4\", \"5\", \"6\", \"7\", \"8\", \"i\"), transitionMatrix = matrix(data = as.vector(t(l)), byrow = TRUE, nrow = nrow(l)), name = \"loudness\")\n",
    "t <- new(\"markovchain\", states = c(\"1\", \"2\", \"3\", \"4\", \"5\", \"6\", \"7\", \"8\", \"i\"), transitionMatrix = matrix(data = as.vector(t(t)), byrow = TRUE, nrow = nrow(t)), name = \"tempo\")\n",
    "\n",
    "# creating a uniform distribution\n",
    "# random <- new(\"markovchain\", states = c(\"1\", \"2\", \"3\", \"4\", \"5\", \"6\", \"7\", \"8\", \"i\"), transitionMatrix = matrix(data = c(1/5, 1/5, 1/5, 1/5, 1/5, 0, 1/5, 1/5, 1/5, 1/5, 1/5, 0, 1/5, 1/5, 1/5, 1/5, 1/5, 0, 1/5, 1/5, 1/5, 1/5, 1/5, 0, 1/5, 1/5, 1/5, 1/5, 1/5, 0, 1/5, 1/5, 1/5, 1/5, 1/5, 0), byrow = TRUE, nrow = nrow(t)), name = \"random\")\n",
    "\n",
    "rv = data.frame(markovchainFit(data = rv)$estimate@transitionMatrix)\n",
    "re = data.frame(markovchainFit(data = re)$estimate@transitionMatrix)\n",
    "rl = data.frame(markovchainFit(data = rl)$estimate@transitionMatrix)\n",
    "rt = data.frame(markovchainFit(data = rt)$estimate@transitionMatrix)\n",
    "\n",
    "rv <- new(\"markovchain\", states = c(\"1\", \"2\", \"3\", \"4\", \"5\", \"6\", \"7\", \"8\", \"i\"), transitionMatrix = matrix(data = as.vector(t(rv)), byrow = TRUE, nrow = nrow(v)), name = \"rvalence\")\n",
    "re <- new(\"markovchain\", states = c(\"1\", \"2\", \"3\", \"4\", \"5\", \"6\", \"7\", \"8\", \"i\"), transitionMatrix = matrix(data = as.vector(t(re)), byrow = TRUE, nrow = nrow(e)), name = \"renergy\")\n",
    "rl <- new(\"markovchain\", states = c(\"1\", \"2\", \"3\", \"4\", \"5\", \"6\", \"7\", \"8\", \"i\"), transitionMatrix = matrix(data = as.vector(t(rl)), byrow = TRUE, nrow = nrow(l)), name = \"rloudness\")\n",
    "rt <- new(\"markovchain\", states = c(\"1\", \"2\", \"3\", \"4\", \"5\", \"6\", \"7\", \"8\", \"i\"), transitionMatrix = matrix(data = as.vector(t(rt)), byrow = TRUE, nrow = nrow(t)), name = \"rtempo\")"
   ]
  },
  {
   "cell_type": "code",
   "execution_count": 11,
   "metadata": {
    "slideshow": {
     "slide_type": "skip"
    }
   },
   "outputs": [],
   "source": [
    "for(j in 10){\n",
    "  v_ll <- c(); e_ll <- c(); l_ll <- c(); t_ll <- c()\n",
    "  \n",
    "  r_v <- c(); r_e <- c(); r_l <- c(); r_t <- c()\n",
    "  \n",
    "  for(i in 1:length(valence_t)){\n",
    "    v_ll[i] <- mll(v, valence_t[[i]])\n",
    "    e_ll[i] <- mll(e, energy_t[[i]])\n",
    "    l_ll[i] <- mll(l, loudness_t[[i]])\n",
    "    t_ll[i] <- mll(t, tempo_t[[i]])\n",
    "    \n",
    "    r_v[i] <- mll(rv, valence_t[[i]])\n",
    "    r_e[i] <- mll(re, energy_t[[i]])\n",
    "    r_l[i] <- mll(rl, loudness_t[[i]])\n",
    "    r_t[i] <- mll(rt, tempo_t[[i]])\n",
    "  }\n",
    "}\n",
    "\n",
    "log_likelihoods <- \n",
    "  data.frame(empirical_valence = v_ll,\n",
    "             empirical_energy = e_ll,\n",
    "             empirical_loudness = l_ll,\n",
    "             empirical_tempo = t_ll,\n",
    "             \n",
    "             random_valence = r_v,\n",
    "             random_energy = r_e,\n",
    "             random_loudness = r_l,\n",
    "             random_tempo = r_t\n",
    "  )\n",
    "\n",
    "ll <-\n",
    "  melt(data = log_likelihoods, \n",
    "       measure.vars = c('empirical_valence',\n",
    "                        'empirical_energy',\n",
    "                        'empirical_loudness',\n",
    "                        'empirical_tempo',\n",
    "                        'random_valence',\n",
    "                        'random_energy',\n",
    "                        'random_loudness',\n",
    "                        'random_tempo')\n",
    "  )\n",
    "\n",
    "ll<- \n",
    "  tidyr::separate(ll, \n",
    "                  variable, \n",
    "                  c(\"condition\", \"feature\"), \n",
    "                  \"_\")\n",
    "\n",
    "teste <- plyr::ddply(ll, c('feature', 'condition'), plyr::summarise,\n",
    "                     log_likelihood = mean(value),\n",
    "                     se = sd(value)/sqrt(length(value))\n",
    ")"
   ]
  },
  {
   "cell_type": "markdown",
   "metadata": {
    "slideshow": {
     "slide_type": "subslide"
    }
   },
   "source": [
    "# Results"
   ]
  },
  {
   "cell_type": "code",
   "execution_count": 12,
   "metadata": {
    "slideshow": {
     "slide_type": "fragment"
    }
   },
   "outputs": [
    {
     "data": {
      "text/html": [
       "<table>\n",
       "<caption>A data.frame: 8 × 4</caption>\n",
       "<thead>\n",
       "\t<tr><th scope=col>feature</th><th scope=col>condition</th><th scope=col>log_likelihood</th><th scope=col>se</th></tr>\n",
       "\t<tr><th scope=col>&lt;chr&gt;</th><th scope=col>&lt;chr&gt;</th><th scope=col>&lt;dbl&gt;</th><th scope=col>&lt;dbl&gt;</th></tr>\n",
       "</thead>\n",
       "<tbody>\n",
       "\t<tr><td>energy  </td><td>empirical</td><td>-1.741490</td><td>0.0008059214</td></tr>\n",
       "\t<tr><td>energy  </td><td>random   </td><td>-1.741266</td><td>0.0007712063</td></tr>\n",
       "\t<tr><td>loudness</td><td>empirical</td><td>-1.739663</td><td>0.0008532490</td></tr>\n",
       "\t<tr><td>loudness</td><td>random   </td><td>-1.740837</td><td>0.0007345395</td></tr>\n",
       "\t<tr><td>tempo   </td><td>empirical</td><td>-1.740950</td><td>0.0007829605</td></tr>\n",
       "\t<tr><td>tempo   </td><td>random   </td><td>-1.741300</td><td>0.0007560253</td></tr>\n",
       "\t<tr><td>valence </td><td>empirical</td><td>-1.739728</td><td>0.0007837072</td></tr>\n",
       "\t<tr><td>valence </td><td>random   </td><td>-1.740857</td><td>0.0007109333</td></tr>\n",
       "</tbody>\n",
       "</table>\n"
      ],
      "text/latex": [
       "A data.frame: 8 × 4\n",
       "\\begin{tabular}{llll}\n",
       " feature & condition & log\\_likelihood & se\\\\\n",
       " <chr> & <chr> & <dbl> & <dbl>\\\\\n",
       "\\hline\n",
       "\t energy   & empirical & -1.741490 & 0.0008059214\\\\\n",
       "\t energy   & random    & -1.741266 & 0.0007712063\\\\\n",
       "\t loudness & empirical & -1.739663 & 0.0008532490\\\\\n",
       "\t loudness & random    & -1.740837 & 0.0007345395\\\\\n",
       "\t tempo    & empirical & -1.740950 & 0.0007829605\\\\\n",
       "\t tempo    & random    & -1.741300 & 0.0007560253\\\\\n",
       "\t valence  & empirical & -1.739728 & 0.0007837072\\\\\n",
       "\t valence  & random    & -1.740857 & 0.0007109333\\\\\n",
       "\\end{tabular}\n"
      ],
      "text/markdown": [
       "\n",
       "A data.frame: 8 × 4\n",
       "\n",
       "| feature &lt;chr&gt; | condition &lt;chr&gt; | log_likelihood &lt;dbl&gt; | se &lt;dbl&gt; |\n",
       "|---|---|---|---|\n",
       "| energy   | empirical | -1.741490 | 0.0008059214 |\n",
       "| energy   | random    | -1.741266 | 0.0007712063 |\n",
       "| loudness | empirical | -1.739663 | 0.0008532490 |\n",
       "| loudness | random    | -1.740837 | 0.0007345395 |\n",
       "| tempo    | empirical | -1.740950 | 0.0007829605 |\n",
       "| tempo    | random    | -1.741300 | 0.0007560253 |\n",
       "| valence  | empirical | -1.739728 | 0.0007837072 |\n",
       "| valence  | random    | -1.740857 | 0.0007109333 |\n",
       "\n"
      ],
      "text/plain": [
       "  feature  condition log_likelihood se          \n",
       "1 energy   empirical -1.741490      0.0008059214\n",
       "2 energy   random    -1.741266      0.0007712063\n",
       "3 loudness empirical -1.739663      0.0008532490\n",
       "4 loudness random    -1.740837      0.0007345395\n",
       "5 tempo    empirical -1.740950      0.0007829605\n",
       "6 tempo    random    -1.741300      0.0007560253\n",
       "7 valence  empirical -1.739728      0.0007837072\n",
       "8 valence  random    -1.740857      0.0007109333"
      ]
     },
     "metadata": {},
     "output_type": "display_data"
    }
   ],
   "source": [
    "teste"
   ]
  },
  {
   "cell_type": "code",
   "execution_count": 13,
   "metadata": {
    "slideshow": {
     "slide_type": "subslide"
    }
   },
   "outputs": [
    {
     "data": {
      "image/png": "[encoded data removed]",
      "text/plain": [
       "plot without title"
      ]
     },
     "metadata": {
      "image/png": {
       "height": 420,
       "width": 420
      }
     },
     "output_type": "display_data"
    }
   ],
   "source": [
    "ggplot(teste, aes(x=feature, y=log_likelihood, color = condition)) +\n",
    "  geom_errorbar(size = 1.2, aes(ymin=log_likelihood-se, ymax=log_likelihood+se), position=position_dodge(0.5)) +\n",
    "  geom_point(size = 3, position=position_dodge(0.5), fill = 'black')"
   ]
  },
  {
   "cell_type": "markdown",
   "metadata": {
    "slideshow": {
     "slide_type": "slide"
    }
   },
   "source": [
    "## Final analysis\n",
    "\n",
    "Should we start from the top?"
   ]
  },
  {
   "cell_type": "code",
   "execution_count": 14,
   "metadata": {
    "slideshow": {
     "slide_type": "skip"
    }
   },
   "outputs": [],
   "source": [
    "vv = v@transitionMatrix[v@transitionMatrix == 0] <- NA\n",
    "ee = e@transitionMatrix[e@transitionMatrix == 0] <- NA\n",
    "ll = l@transitionMatrix[l@transitionMatrix == 0] <- NA\n",
    "tt = t@transitionMatrix[t@transitionMatrix == 0] <- NA\n",
    "\n",
    "matpalette <- colorRampPalette(c(\"white\", \"red\", \"black\"))(100)\n",
    "\n",
    "vv = c(); ee = c(); ll = c(); tt = c()\n",
    "for(i in 1:9){ vv = c(vv, v[9, i])\n",
    "               ee = c(ee, e[9, i])\n",
    "               ll = c(ll, l[9, i])\n",
    "               tt = c(tt, t[9, i])}"
   ]
  },
  {
   "cell_type": "code",
   "execution_count": 15,
   "metadata": {
    "slideshow": {
     "slide_type": "skip"
    }
   },
   "outputs": [
    {
     "name": "stderr",
     "output_type": "stream",
     "text": [
      "Using rank as id variables\n",
      "\n"
     ]
    }
   ],
   "source": [
    "probmatrix = \n",
    "  data.frame(\"rank\" = c(1:8, \"i\"),\n",
    "             \"valence\" = vv,\n",
    "             \"energy\" = ee,\n",
    "             \"loudness\" = ll,\n",
    "             \"tempo\" = tt)\n",
    "\n",
    "probmatrix = melt(probmatrix)"
   ]
  },
  {
   "cell_type": "code",
   "execution_count": 16,
   "metadata": {
    "slideshow": {
     "slide_type": "fragment"
    }
   },
   "outputs": [
    {
     "data": {
      "image/png": "[encoded data removed]",
      "text/plain": [
       "plot without title"
      ]
     },
     "metadata": {
      "image/png": {
       "height": 420,
       "width": 420
      }
     },
     "output_type": "display_data"
    }
   ],
   "source": [
    "ggplot(data=probmatrix, aes(x=rank, y=value, group = 1)) +\n",
    "  facet_wrap(~variable)+ geom_line(aes(color=variable, na.rm = TRUE))+\n",
    "  geom_point(aes(color=variable), na.rm = TRUE)"
   ]
  },
  {
   "cell_type": "code",
   "execution_count": 143,
   "metadata": {},
   "outputs": [],
   "source": []
  },
  {
   "cell_type": "code",
   "execution_count": 144,
   "metadata": {
    "slideshow": {
     "slide_type": "fragment"
    }
   },
   "outputs": [
    {
     "name": "stderr",
     "output_type": "stream",
     "text": [
      "Loading required package: glm.predict\n",
      "\n",
      "`summarise()` regrouping output by 'album_id' (override with `.groups` argument)\n",
      "\n",
      "`summarise()` regrouping output by 'album_id' (override with `.groups` argument)\n",
      "\n"
     ]
    },
    {
     "name": "stdout",
     "output_type": "stream",
     "text": [
      "# weights:  68 (48 variable)\n",
      "initial  value 15697.011051 \n",
      "iter  10 value 15483.771181\n",
      "iter  20 value 15451.996200\n",
      "iter  30 value 15432.982465\n",
      "iter  40 value 15424.199367\n",
      "iter  50 value 15422.836850\n",
      "final  value 15422.753676 \n",
      "converged\n"
     ]
    }
   ],
   "source": []
  },
  {
   "cell_type": "code",
   "execution_count": 145,
   "metadata": {},
   "outputs": [
    {
     "data": {
      "text/plain": [
       "\n",
       "  1   2   3   4 \n",
       "939 939 939 933 "
      ]
     },
     "metadata": {},
     "output_type": "display_data"
    },
    {
     "data": {
      "image/png": "[encoded data removed]",
      "text/plain": [
       "plot without title"
      ]
     },
     "metadata": {
      "image/png": {
       "height": 420,
       "width": 420
      }
     },
     "output_type": "display_data"
    }
   ],
   "source": []
  },
  {
   "cell_type": "code",
   "execution_count": 138,
   "metadata": {},
   "outputs": [
    {
     "data": {
      "text/html": [
       "<table>\n",
       "<caption>A data.table: 17376 × 8</caption>\n",
       "<thead>\n",
       "\t<tr><th scope=col>album_id</th><th scope=col>track_number</th><th scope=col>valence</th><th scope=col>energy</th><th scope=col>loudness</th><th scope=col>tempo</th><th scope=col>danceability</th><th scope=col>name</th></tr>\n",
       "\t<tr><th scope=col>&lt;chr&gt;</th><th scope=col>&lt;int&gt;</th><th scope=col>&lt;dbl&gt;</th><th scope=col>&lt;dbl&gt;</th><th scope=col>&lt;dbl&gt;</th><th scope=col>&lt;dbl&gt;</th><th scope=col>&lt;dbl&gt;</th><th scope=col>&lt;chr&gt;</th></tr>\n",
       "</thead>\n",
       "<tbody>\n",
       "\t<tr><td>008M3KxE8IO39sdTRFeZwn</td><td> 1</td><td>0.575</td><td>0.892</td><td> -4.734</td><td>110.031</td><td>0.628</td><td>Seja o Que Eu Quiser            </td></tr>\n",
       "\t<tr><td>008M3KxE8IO39sdTRFeZwn</td><td> 2</td><td>0.944</td><td>0.844</td><td> -5.478</td><td> 95.001</td><td>0.731</td><td>Seja o Que Eu Quiser            </td></tr>\n",
       "\t<tr><td>008M3KxE8IO39sdTRFeZwn</td><td> 3</td><td>0.725</td><td>0.723</td><td> -4.468</td><td> 89.940</td><td>0.681</td><td>Seja o Que Eu Quiser            </td></tr>\n",
       "\t<tr><td>008M3KxE8IO39sdTRFeZwn</td><td> 4</td><td>0.608</td><td>0.723</td><td> -5.651</td><td>107.012</td><td>0.644</td><td>Seja o Que Eu Quiser            </td></tr>\n",
       "\t<tr><td>008M3KxE8IO39sdTRFeZwn</td><td> 5</td><td>0.728</td><td>0.859</td><td> -5.399</td><td>119.976</td><td>0.696</td><td>Seja o Que Eu Quiser            </td></tr>\n",
       "\t<tr><td>008M3KxE8IO39sdTRFeZwn</td><td> 6</td><td>0.813</td><td>0.865</td><td> -4.767</td><td> 97.948</td><td>0.626</td><td>Seja o Que Eu Quiser            </td></tr>\n",
       "\t<tr><td>008M3KxE8IO39sdTRFeZwn</td><td> 7</td><td>0.680</td><td>0.323</td><td> -9.087</td><td>115.142</td><td>0.627</td><td>Seja o Que Eu Quiser            </td></tr>\n",
       "\t<tr><td>008M3KxE8IO39sdTRFeZwn</td><td> 8</td><td>0.957</td><td>0.862</td><td> -4.829</td><td>110.030</td><td>0.657</td><td>Seja o Que Eu Quiser            </td></tr>\n",
       "\t<tr><td>00IxPGpvmN2cibMWUEWmUJ</td><td> 1</td><td>0.535</td><td>0.259</td><td>-14.563</td><td> 83.959</td><td>0.549</td><td>Viva                            </td></tr>\n",
       "\t<tr><td>00IxPGpvmN2cibMWUEWmUJ</td><td> 2</td><td>0.962</td><td>0.539</td><td>-12.195</td><td> 99.747</td><td>0.652</td><td>Viva                            </td></tr>\n",
       "\t<tr><td>00IxPGpvmN2cibMWUEWmUJ</td><td> 3</td><td>0.942</td><td>0.570</td><td>-12.407</td><td>109.063</td><td>0.664</td><td>Viva                            </td></tr>\n",
       "\t<tr><td>00IxPGpvmN2cibMWUEWmUJ</td><td> 4</td><td>0.962</td><td>0.608</td><td>-12.347</td><td>105.146</td><td>0.740</td><td>Viva                            </td></tr>\n",
       "\t<tr><td>00IxPGpvmN2cibMWUEWmUJ</td><td> 5</td><td>0.918</td><td>0.660</td><td>-11.866</td><td>104.675</td><td>0.599</td><td>Viva                            </td></tr>\n",
       "\t<tr><td>00IxPGpvmN2cibMWUEWmUJ</td><td> 6</td><td>0.897</td><td>0.547</td><td>-10.975</td><td>126.014</td><td>0.736</td><td>Viva                            </td></tr>\n",
       "\t<tr><td>00IxPGpvmN2cibMWUEWmUJ</td><td> 7</td><td>0.883</td><td>0.460</td><td>-11.905</td><td>112.043</td><td>0.755</td><td>Viva                            </td></tr>\n",
       "\t<tr><td>00IxPGpvmN2cibMWUEWmUJ</td><td> 8</td><td>0.682</td><td>0.430</td><td>-13.853</td><td>154.678</td><td>0.498</td><td>Viva                            </td></tr>\n",
       "\t<tr><td>00IxPGpvmN2cibMWUEWmUJ</td><td> 9</td><td>0.345</td><td>0.107</td><td>-17.572</td><td>140.788</td><td>0.513</td><td>Viva                            </td></tr>\n",
       "\t<tr><td>00IxPGpvmN2cibMWUEWmUJ</td><td>10</td><td>0.954</td><td>0.348</td><td>-13.520</td><td>155.502</td><td>0.645</td><td>Viva                            </td></tr>\n",
       "\t<tr><td>00IxPGpvmN2cibMWUEWmUJ</td><td>11</td><td>0.850</td><td>0.467</td><td>-12.776</td><td> 81.212</td><td>0.607</td><td>Viva                            </td></tr>\n",
       "\t<tr><td>00IxPGpvmN2cibMWUEWmUJ</td><td>12</td><td>0.909</td><td>0.621</td><td>-11.531</td><td>100.930</td><td>0.695</td><td>Viva                            </td></tr>\n",
       "\t<tr><td>00IxPGpvmN2cibMWUEWmUJ</td><td>13</td><td>0.906</td><td>0.332</td><td>-14.224</td><td>118.467</td><td>0.817</td><td>Viva                            </td></tr>\n",
       "\t<tr><td>00IxPGpvmN2cibMWUEWmUJ</td><td>14</td><td>0.964</td><td>0.540</td><td>-14.212</td><td> 91.094</td><td>0.730</td><td>Viva                            </td></tr>\n",
       "\t<tr><td>00IxPGpvmN2cibMWUEWmUJ</td><td>15</td><td>0.968</td><td>0.424</td><td>-12.345</td><td> 97.674</td><td>0.629</td><td>Viva                            </td></tr>\n",
       "\t<tr><td>00IxPGpvmN2cibMWUEWmUJ</td><td>16</td><td>0.902</td><td>0.424</td><td>-14.395</td><td> 80.514</td><td>0.662</td><td>Viva                            </td></tr>\n",
       "\t<tr><td>00IxPGpvmN2cibMWUEWmUJ</td><td>17</td><td>0.737</td><td>0.642</td><td> -8.381</td><td> 81.706</td><td>0.460</td><td>Viva                            </td></tr>\n",
       "\t<tr><td>010kNWfiOHSB17JLBYQTGf</td><td> 1</td><td>0.188</td><td>0.182</td><td>-11.832</td><td> 91.088</td><td>0.300</td><td>Wilson Simonal Canta Tom &amp; Chico</td></tr>\n",
       "\t<tr><td>010kNWfiOHSB17JLBYQTGf</td><td> 2</td><td>0.428</td><td>0.444</td><td>-10.065</td><td>102.022</td><td>0.330</td><td>Wilson Simonal Canta Tom &amp; Chico</td></tr>\n",
       "\t<tr><td>010kNWfiOHSB17JLBYQTGf</td><td> 3</td><td>0.443</td><td>0.491</td><td> -8.103</td><td> 80.525</td><td>0.350</td><td>Wilson Simonal Canta Tom &amp; Chico</td></tr>\n",
       "\t<tr><td>010kNWfiOHSB17JLBYQTGf</td><td> 4</td><td>0.322</td><td>0.308</td><td> -8.594</td><td>101.920</td><td>0.467</td><td>Wilson Simonal Canta Tom &amp; Chico</td></tr>\n",
       "\t<tr><td>010kNWfiOHSB17JLBYQTGf</td><td> 5</td><td>0.691</td><td>0.396</td><td>-10.957</td><td>138.106</td><td>0.491</td><td>Wilson Simonal Canta Tom &amp; Chico</td></tr>\n",
       "\t<tr><td>⋮</td><td>⋮</td><td>⋮</td><td>⋮</td><td>⋮</td><td>⋮</td><td>⋮</td><td>⋮</td></tr>\n",
       "\t<tr><td>7zeCZY6rQRufc8IHGKyXGX</td><td> 1</td><td>0.247</td><td>0.6010</td><td> -5.486</td><td>136.912</td><td>0.460</td><td>Anthem Of The Peaceful Army            </td></tr>\n",
       "\t<tr><td>7zeCZY6rQRufc8IHGKyXGX</td><td> 2</td><td>0.722</td><td>0.8810</td><td> -3.926</td><td> 92.049</td><td>0.506</td><td>Anthem Of The Peaceful Army            </td></tr>\n",
       "\t<tr><td>7zeCZY6rQRufc8IHGKyXGX</td><td> 3</td><td>0.689</td><td>0.9750</td><td> -2.959</td><td> 96.004</td><td>0.535</td><td>Anthem Of The Peaceful Army            </td></tr>\n",
       "\t<tr><td>7zeCZY6rQRufc8IHGKyXGX</td><td> 4</td><td>0.410</td><td>0.7340</td><td> -4.897</td><td>132.567</td><td>0.396</td><td>Anthem Of The Peaceful Army            </td></tr>\n",
       "\t<tr><td>7zeCZY6rQRufc8IHGKyXGX</td><td> 5</td><td>0.594</td><td>0.9240</td><td> -3.895</td><td> 91.882</td><td>0.496</td><td>Anthem Of The Peaceful Army            </td></tr>\n",
       "\t<tr><td>7zeCZY6rQRufc8IHGKyXGX</td><td> 6</td><td>0.575</td><td>0.8070</td><td> -5.805</td><td>151.916</td><td>0.553</td><td>Anthem Of The Peaceful Army            </td></tr>\n",
       "\t<tr><td>7zeCZY6rQRufc8IHGKyXGX</td><td> 7</td><td>0.894</td><td>0.8610</td><td> -4.439</td><td> 96.411</td><td>0.655</td><td>Anthem Of The Peaceful Army            </td></tr>\n",
       "\t<tr><td>7zeCZY6rQRufc8IHGKyXGX</td><td> 8</td><td>0.676</td><td>0.9000</td><td> -3.160</td><td> 90.959</td><td>0.478</td><td>Anthem Of The Peaceful Army            </td></tr>\n",
       "\t<tr><td>7zeCZY6rQRufc8IHGKyXGX</td><td> 9</td><td>0.589</td><td>0.8480</td><td> -4.475</td><td>136.568</td><td>0.341</td><td>Anthem Of The Peaceful Army            </td></tr>\n",
       "\t<tr><td>7zeCZY6rQRufc8IHGKyXGX</td><td>10</td><td>0.469</td><td>0.5360</td><td> -8.076</td><td>154.067</td><td>0.609</td><td>Anthem Of The Peaceful Army            </td></tr>\n",
       "\t<tr><td>7zeCZY6rQRufc8IHGKyXGX</td><td>11</td><td>0.548</td><td>0.8920</td><td> -4.244</td><td> 91.999</td><td>0.505</td><td>Anthem Of The Peaceful Army            </td></tr>\n",
       "\t<tr><td>7zFnkqYJi6vAQVQtXbpXSh</td><td> 1</td><td>0.433</td><td>0.3350</td><td>-10.525</td><td> 96.225</td><td>0.568</td><td>Beth Carvalho Canta Cartola            </td></tr>\n",
       "\t<tr><td>7zFnkqYJi6vAQVQtXbpXSh</td><td> 2</td><td>0.367</td><td>0.3080</td><td>-10.030</td><td> 91.579</td><td>0.383</td><td>Beth Carvalho Canta Cartola            </td></tr>\n",
       "\t<tr><td>7zFnkqYJi6vAQVQtXbpXSh</td><td> 3</td><td>0.722</td><td>0.5690</td><td> -9.120</td><td> 83.031</td><td>0.557</td><td>Beth Carvalho Canta Cartola            </td></tr>\n",
       "\t<tr><td>7zFnkqYJi6vAQVQtXbpXSh</td><td> 4</td><td>0.243</td><td>0.3520</td><td>-10.104</td><td>106.481</td><td>0.601</td><td>Beth Carvalho Canta Cartola            </td></tr>\n",
       "\t<tr><td>7zFnkqYJi6vAQVQtXbpXSh</td><td> 5</td><td>0.246</td><td>0.3860</td><td> -9.265</td><td>100.490</td><td>0.490</td><td>Beth Carvalho Canta Cartola            </td></tr>\n",
       "\t<tr><td>7zFnkqYJi6vAQVQtXbpXSh</td><td> 6</td><td>0.465</td><td>0.2320</td><td>-11.682</td><td> 50.096</td><td>0.544</td><td>Beth Carvalho Canta Cartola            </td></tr>\n",
       "\t<tr><td>7zFnkqYJi6vAQVQtXbpXSh</td><td> 7</td><td>0.231</td><td>0.3300</td><td> -8.636</td><td> 82.096</td><td>0.191</td><td>Beth Carvalho Canta Cartola            </td></tr>\n",
       "\t<tr><td>7zFnkqYJi6vAQVQtXbpXSh</td><td> 8</td><td>0.507</td><td>0.5180</td><td>-11.363</td><td>142.808</td><td>0.474</td><td>Beth Carvalho Canta Cartola            </td></tr>\n",
       "\t<tr><td>7zFnkqYJi6vAQVQtXbpXSh</td><td> 9</td><td>0.403</td><td>0.3230</td><td> -9.008</td><td>110.252</td><td>0.483</td><td>Beth Carvalho Canta Cartola            </td></tr>\n",
       "\t<tr><td>7zFnkqYJi6vAQVQtXbpXSh</td><td>10</td><td>0.213</td><td>0.4100</td><td> -8.690</td><td>102.163</td><td>0.505</td><td>Beth Carvalho Canta Cartola            </td></tr>\n",
       "\t<tr><td>7zFnkqYJi6vAQVQtXbpXSh</td><td>11</td><td>0.214</td><td>0.3220</td><td>-10.132</td><td> 81.085</td><td>0.410</td><td>Beth Carvalho Canta Cartola            </td></tr>\n",
       "\t<tr><td>7zFnkqYJi6vAQVQtXbpXSh</td><td>12</td><td>0.489</td><td>0.3260</td><td>-10.411</td><td> 77.626</td><td>0.365</td><td>Beth Carvalho Canta Cartola            </td></tr>\n",
       "\t<tr><td>7zMt8orEexVp5VPojM5rXN</td><td> 1</td><td>0.564</td><td>0.4920</td><td> -7.769</td><td>135.982</td><td>0.503</td><td>オール・ザ・ベスト ジョン・コルトレーン</td></tr>\n",
       "\t<tr><td>7zMt8orEexVp5VPojM5rXN</td><td> 2</td><td>0.257</td><td>0.1410</td><td>-13.403</td><td> 69.800</td><td>0.565</td><td>オール・ザ・ベスト ジョン・コルトレーン</td></tr>\n",
       "\t<tr><td>7zMt8orEexVp5VPojM5rXN</td><td> 3</td><td>0.798</td><td>0.6090</td><td> -7.613</td><td>123.170</td><td>0.527</td><td>オール・ザ・ベスト ジョン・コルトレーン</td></tr>\n",
       "\t<tr><td>7zMt8orEexVp5VPojM5rXN</td><td> 4</td><td>0.512</td><td>0.0691</td><td>-16.463</td><td> 63.235</td><td>0.442</td><td>オール・ザ・ベスト ジョン・コルトレーン</td></tr>\n",
       "\t<tr><td>7zMt8orEexVp5VPojM5rXN</td><td> 5</td><td>0.376</td><td>0.2310</td><td>-10.476</td><td> 79.763</td><td>0.517</td><td>オール・ザ・ベスト ジョン・コルトレーン</td></tr>\n",
       "\t<tr><td>7zMt8orEexVp5VPojM5rXN</td><td> 6</td><td>0.380</td><td>0.1220</td><td>-13.028</td><td> 94.640</td><td>0.411</td><td>オール・ザ・ベスト ジョン・コルトレーン</td></tr>\n",
       "\t<tr><td>7zMt8orEexVp5VPojM5rXN</td><td> 7</td><td>0.162</td><td>0.1950</td><td>-12.973</td><td>105.790</td><td>0.490</td><td>オール・ザ・ベスト ジョン・コルトレーン</td></tr>\n",
       "</tbody>\n",
       "</table>\n"
      ],
      "text/latex": [
       "A data.table: 17376 × 8\n",
       "\\begin{tabular}{llllllll}\n",
       " album\\_id & track\\_number & valence & energy & loudness & tempo & danceability & name\\\\\n",
       " <chr> & <int> & <dbl> & <dbl> & <dbl> & <dbl> & <dbl> & <chr>\\\\\n",
       "\\hline\n",
       "\t 008M3KxE8IO39sdTRFeZwn &  1 & 0.575 & 0.892 &  -4.734 & 110.031 & 0.628 & Seja o Que Eu Quiser            \\\\\n",
       "\t 008M3KxE8IO39sdTRFeZwn &  2 & 0.944 & 0.844 &  -5.478 &  95.001 & 0.731 & Seja o Que Eu Quiser            \\\\\n",
       "\t 008M3KxE8IO39sdTRFeZwn &  3 & 0.725 & 0.723 &  -4.468 &  89.940 & 0.681 & Seja o Que Eu Quiser            \\\\\n",
       "\t 008M3KxE8IO39sdTRFeZwn &  4 & 0.608 & 0.723 &  -5.651 & 107.012 & 0.644 & Seja o Que Eu Quiser            \\\\\n",
       "\t 008M3KxE8IO39sdTRFeZwn &  5 & 0.728 & 0.859 &  -5.399 & 119.976 & 0.696 & Seja o Que Eu Quiser            \\\\\n",
       "\t 008M3KxE8IO39sdTRFeZwn &  6 & 0.813 & 0.865 &  -4.767 &  97.948 & 0.626 & Seja o Que Eu Quiser            \\\\\n",
       "\t 008M3KxE8IO39sdTRFeZwn &  7 & 0.680 & 0.323 &  -9.087 & 115.142 & 0.627 & Seja o Que Eu Quiser            \\\\\n",
       "\t 008M3KxE8IO39sdTRFeZwn &  8 & 0.957 & 0.862 &  -4.829 & 110.030 & 0.657 & Seja o Que Eu Quiser            \\\\\n",
       "\t 00IxPGpvmN2cibMWUEWmUJ &  1 & 0.535 & 0.259 & -14.563 &  83.959 & 0.549 & Viva                            \\\\\n",
       "\t 00IxPGpvmN2cibMWUEWmUJ &  2 & 0.962 & 0.539 & -12.195 &  99.747 & 0.652 & Viva                            \\\\\n",
       "\t 00IxPGpvmN2cibMWUEWmUJ &  3 & 0.942 & 0.570 & -12.407 & 109.063 & 0.664 & Viva                            \\\\\n",
       "\t 00IxPGpvmN2cibMWUEWmUJ &  4 & 0.962 & 0.608 & -12.347 & 105.146 & 0.740 & Viva                            \\\\\n",
       "\t 00IxPGpvmN2cibMWUEWmUJ &  5 & 0.918 & 0.660 & -11.866 & 104.675 & 0.599 & Viva                            \\\\\n",
       "\t 00IxPGpvmN2cibMWUEWmUJ &  6 & 0.897 & 0.547 & -10.975 & 126.014 & 0.736 & Viva                            \\\\\n",
       "\t 00IxPGpvmN2cibMWUEWmUJ &  7 & 0.883 & 0.460 & -11.905 & 112.043 & 0.755 & Viva                            \\\\\n",
       "\t 00IxPGpvmN2cibMWUEWmUJ &  8 & 0.682 & 0.430 & -13.853 & 154.678 & 0.498 & Viva                            \\\\\n",
       "\t 00IxPGpvmN2cibMWUEWmUJ &  9 & 0.345 & 0.107 & -17.572 & 140.788 & 0.513 & Viva                            \\\\\n",
       "\t 00IxPGpvmN2cibMWUEWmUJ & 10 & 0.954 & 0.348 & -13.520 & 155.502 & 0.645 & Viva                            \\\\\n",
       "\t 00IxPGpvmN2cibMWUEWmUJ & 11 & 0.850 & 0.467 & -12.776 &  81.212 & 0.607 & Viva                            \\\\\n",
       "\t 00IxPGpvmN2cibMWUEWmUJ & 12 & 0.909 & 0.621 & -11.531 & 100.930 & 0.695 & Viva                            \\\\\n",
       "\t 00IxPGpvmN2cibMWUEWmUJ & 13 & 0.906 & 0.332 & -14.224 & 118.467 & 0.817 & Viva                            \\\\\n",
       "\t 00IxPGpvmN2cibMWUEWmUJ & 14 & 0.964 & 0.540 & -14.212 &  91.094 & 0.730 & Viva                            \\\\\n",
       "\t 00IxPGpvmN2cibMWUEWmUJ & 15 & 0.968 & 0.424 & -12.345 &  97.674 & 0.629 & Viva                            \\\\\n",
       "\t 00IxPGpvmN2cibMWUEWmUJ & 16 & 0.902 & 0.424 & -14.395 &  80.514 & 0.662 & Viva                            \\\\\n",
       "\t 00IxPGpvmN2cibMWUEWmUJ & 17 & 0.737 & 0.642 &  -8.381 &  81.706 & 0.460 & Viva                            \\\\\n",
       "\t 010kNWfiOHSB17JLBYQTGf &  1 & 0.188 & 0.182 & -11.832 &  91.088 & 0.300 & Wilson Simonal Canta Tom \\& Chico\\\\\n",
       "\t 010kNWfiOHSB17JLBYQTGf &  2 & 0.428 & 0.444 & -10.065 & 102.022 & 0.330 & Wilson Simonal Canta Tom \\& Chico\\\\\n",
       "\t 010kNWfiOHSB17JLBYQTGf &  3 & 0.443 & 0.491 &  -8.103 &  80.525 & 0.350 & Wilson Simonal Canta Tom \\& Chico\\\\\n",
       "\t 010kNWfiOHSB17JLBYQTGf &  4 & 0.322 & 0.308 &  -8.594 & 101.920 & 0.467 & Wilson Simonal Canta Tom \\& Chico\\\\\n",
       "\t 010kNWfiOHSB17JLBYQTGf &  5 & 0.691 & 0.396 & -10.957 & 138.106 & 0.491 & Wilson Simonal Canta Tom \\& Chico\\\\\n",
       "\t ⋮ & ⋮ & ⋮ & ⋮ & ⋮ & ⋮ & ⋮ & ⋮\\\\\n",
       "\t 7zeCZY6rQRufc8IHGKyXGX &  1 & 0.247 & 0.6010 &  -5.486 & 136.912 & 0.460 & Anthem Of The Peaceful Army            \\\\\n",
       "\t 7zeCZY6rQRufc8IHGKyXGX &  2 & 0.722 & 0.8810 &  -3.926 &  92.049 & 0.506 & Anthem Of The Peaceful Army            \\\\\n",
       "\t 7zeCZY6rQRufc8IHGKyXGX &  3 & 0.689 & 0.9750 &  -2.959 &  96.004 & 0.535 & Anthem Of The Peaceful Army            \\\\\n",
       "\t 7zeCZY6rQRufc8IHGKyXGX &  4 & 0.410 & 0.7340 &  -4.897 & 132.567 & 0.396 & Anthem Of The Peaceful Army            \\\\\n",
       "\t 7zeCZY6rQRufc8IHGKyXGX &  5 & 0.594 & 0.9240 &  -3.895 &  91.882 & 0.496 & Anthem Of The Peaceful Army            \\\\\n",
       "\t 7zeCZY6rQRufc8IHGKyXGX &  6 & 0.575 & 0.8070 &  -5.805 & 151.916 & 0.553 & Anthem Of The Peaceful Army            \\\\\n",
       "\t 7zeCZY6rQRufc8IHGKyXGX &  7 & 0.894 & 0.8610 &  -4.439 &  96.411 & 0.655 & Anthem Of The Peaceful Army            \\\\\n",
       "\t 7zeCZY6rQRufc8IHGKyXGX &  8 & 0.676 & 0.9000 &  -3.160 &  90.959 & 0.478 & Anthem Of The Peaceful Army            \\\\\n",
       "\t 7zeCZY6rQRufc8IHGKyXGX &  9 & 0.589 & 0.8480 &  -4.475 & 136.568 & 0.341 & Anthem Of The Peaceful Army            \\\\\n",
       "\t 7zeCZY6rQRufc8IHGKyXGX & 10 & 0.469 & 0.5360 &  -8.076 & 154.067 & 0.609 & Anthem Of The Peaceful Army            \\\\\n",
       "\t 7zeCZY6rQRufc8IHGKyXGX & 11 & 0.548 & 0.8920 &  -4.244 &  91.999 & 0.505 & Anthem Of The Peaceful Army            \\\\\n",
       "\t 7zFnkqYJi6vAQVQtXbpXSh &  1 & 0.433 & 0.3350 & -10.525 &  96.225 & 0.568 & Beth Carvalho Canta Cartola            \\\\\n",
       "\t 7zFnkqYJi6vAQVQtXbpXSh &  2 & 0.367 & 0.3080 & -10.030 &  91.579 & 0.383 & Beth Carvalho Canta Cartola            \\\\\n",
       "\t 7zFnkqYJi6vAQVQtXbpXSh &  3 & 0.722 & 0.5690 &  -9.120 &  83.031 & 0.557 & Beth Carvalho Canta Cartola            \\\\\n",
       "\t 7zFnkqYJi6vAQVQtXbpXSh &  4 & 0.243 & 0.3520 & -10.104 & 106.481 & 0.601 & Beth Carvalho Canta Cartola            \\\\\n",
       "\t 7zFnkqYJi6vAQVQtXbpXSh &  5 & 0.246 & 0.3860 &  -9.265 & 100.490 & 0.490 & Beth Carvalho Canta Cartola            \\\\\n",
       "\t 7zFnkqYJi6vAQVQtXbpXSh &  6 & 0.465 & 0.2320 & -11.682 &  50.096 & 0.544 & Beth Carvalho Canta Cartola            \\\\\n",
       "\t 7zFnkqYJi6vAQVQtXbpXSh &  7 & 0.231 & 0.3300 &  -8.636 &  82.096 & 0.191 & Beth Carvalho Canta Cartola            \\\\\n",
       "\t 7zFnkqYJi6vAQVQtXbpXSh &  8 & 0.507 & 0.5180 & -11.363 & 142.808 & 0.474 & Beth Carvalho Canta Cartola            \\\\\n",
       "\t 7zFnkqYJi6vAQVQtXbpXSh &  9 & 0.403 & 0.3230 &  -9.008 & 110.252 & 0.483 & Beth Carvalho Canta Cartola            \\\\\n",
       "\t 7zFnkqYJi6vAQVQtXbpXSh & 10 & 0.213 & 0.4100 &  -8.690 & 102.163 & 0.505 & Beth Carvalho Canta Cartola            \\\\\n",
       "\t 7zFnkqYJi6vAQVQtXbpXSh & 11 & 0.214 & 0.3220 & -10.132 &  81.085 & 0.410 & Beth Carvalho Canta Cartola            \\\\\n",
       "\t 7zFnkqYJi6vAQVQtXbpXSh & 12 & 0.489 & 0.3260 & -10.411 &  77.626 & 0.365 & Beth Carvalho Canta Cartola            \\\\\n",
       "\t 7zMt8orEexVp5VPojM5rXN &  1 & 0.564 & 0.4920 &  -7.769 & 135.982 & 0.503 & オール・ザ・ベスト ジョン・コルトレーン\\\\\n",
       "\t 7zMt8orEexVp5VPojM5rXN &  2 & 0.257 & 0.1410 & -13.403 &  69.800 & 0.565 & オール・ザ・ベスト ジョン・コルトレーン\\\\\n",
       "\t 7zMt8orEexVp5VPojM5rXN &  3 & 0.798 & 0.6090 &  -7.613 & 123.170 & 0.527 & オール・ザ・ベスト ジョン・コルトレーン\\\\\n",
       "\t 7zMt8orEexVp5VPojM5rXN &  4 & 0.512 & 0.0691 & -16.463 &  63.235 & 0.442 & オール・ザ・ベスト ジョン・コルトレーン\\\\\n",
       "\t 7zMt8orEexVp5VPojM5rXN &  5 & 0.376 & 0.2310 & -10.476 &  79.763 & 0.517 & オール・ザ・ベスト ジョン・コルトレーン\\\\\n",
       "\t 7zMt8orEexVp5VPojM5rXN &  6 & 0.380 & 0.1220 & -13.028 &  94.640 & 0.411 & オール・ザ・ベスト ジョン・コルトレーン\\\\\n",
       "\t 7zMt8orEexVp5VPojM5rXN &  7 & 0.162 & 0.1950 & -12.973 & 105.790 & 0.490 & オール・ザ・ベスト ジョン・コルトレーン\\\\\n",
       "\\end{tabular}\n"
      ],
      "text/markdown": [
       "\n",
       "A data.table: 17376 × 8\n",
       "\n",
       "| album_id &lt;chr&gt; | track_number &lt;int&gt; | valence &lt;dbl&gt; | energy &lt;dbl&gt; | loudness &lt;dbl&gt; | tempo &lt;dbl&gt; | danceability &lt;dbl&gt; | name &lt;chr&gt; |\n",
       "|---|---|---|---|---|---|---|---|\n",
       "| 008M3KxE8IO39sdTRFeZwn |  1 | 0.575 | 0.892 |  -4.734 | 110.031 | 0.628 | Seja o Que Eu Quiser             |\n",
       "| 008M3KxE8IO39sdTRFeZwn |  2 | 0.944 | 0.844 |  -5.478 |  95.001 | 0.731 | Seja o Que Eu Quiser             |\n",
       "| 008M3KxE8IO39sdTRFeZwn |  3 | 0.725 | 0.723 |  -4.468 |  89.940 | 0.681 | Seja o Que Eu Quiser             |\n",
       "| 008M3KxE8IO39sdTRFeZwn |  4 | 0.608 | 0.723 |  -5.651 | 107.012 | 0.644 | Seja o Que Eu Quiser             |\n",
       "| 008M3KxE8IO39sdTRFeZwn |  5 | 0.728 | 0.859 |  -5.399 | 119.976 | 0.696 | Seja o Que Eu Quiser             |\n",
       "| 008M3KxE8IO39sdTRFeZwn |  6 | 0.813 | 0.865 |  -4.767 |  97.948 | 0.626 | Seja o Que Eu Quiser             |\n",
       "| 008M3KxE8IO39sdTRFeZwn |  7 | 0.680 | 0.323 |  -9.087 | 115.142 | 0.627 | Seja o Que Eu Quiser             |\n",
       "| 008M3KxE8IO39sdTRFeZwn |  8 | 0.957 | 0.862 |  -4.829 | 110.030 | 0.657 | Seja o Que Eu Quiser             |\n",
       "| 00IxPGpvmN2cibMWUEWmUJ |  1 | 0.535 | 0.259 | -14.563 |  83.959 | 0.549 | Viva                             |\n",
       "| 00IxPGpvmN2cibMWUEWmUJ |  2 | 0.962 | 0.539 | -12.195 |  99.747 | 0.652 | Viva                             |\n",
       "| 00IxPGpvmN2cibMWUEWmUJ |  3 | 0.942 | 0.570 | -12.407 | 109.063 | 0.664 | Viva                             |\n",
       "| 00IxPGpvmN2cibMWUEWmUJ |  4 | 0.962 | 0.608 | -12.347 | 105.146 | 0.740 | Viva                             |\n",
       "| 00IxPGpvmN2cibMWUEWmUJ |  5 | 0.918 | 0.660 | -11.866 | 104.675 | 0.599 | Viva                             |\n",
       "| 00IxPGpvmN2cibMWUEWmUJ |  6 | 0.897 | 0.547 | -10.975 | 126.014 | 0.736 | Viva                             |\n",
       "| 00IxPGpvmN2cibMWUEWmUJ |  7 | 0.883 | 0.460 | -11.905 | 112.043 | 0.755 | Viva                             |\n",
       "| 00IxPGpvmN2cibMWUEWmUJ |  8 | 0.682 | 0.430 | -13.853 | 154.678 | 0.498 | Viva                             |\n",
       "| 00IxPGpvmN2cibMWUEWmUJ |  9 | 0.345 | 0.107 | -17.572 | 140.788 | 0.513 | Viva                             |\n",
       "| 00IxPGpvmN2cibMWUEWmUJ | 10 | 0.954 | 0.348 | -13.520 | 155.502 | 0.645 | Viva                             |\n",
       "| 00IxPGpvmN2cibMWUEWmUJ | 11 | 0.850 | 0.467 | -12.776 |  81.212 | 0.607 | Viva                             |\n",
       "| 00IxPGpvmN2cibMWUEWmUJ | 12 | 0.909 | 0.621 | -11.531 | 100.930 | 0.695 | Viva                             |\n",
       "| 00IxPGpvmN2cibMWUEWmUJ | 13 | 0.906 | 0.332 | -14.224 | 118.467 | 0.817 | Viva                             |\n",
       "| 00IxPGpvmN2cibMWUEWmUJ | 14 | 0.964 | 0.540 | -14.212 |  91.094 | 0.730 | Viva                             |\n",
       "| 00IxPGpvmN2cibMWUEWmUJ | 15 | 0.968 | 0.424 | -12.345 |  97.674 | 0.629 | Viva                             |\n",
       "| 00IxPGpvmN2cibMWUEWmUJ | 16 | 0.902 | 0.424 | -14.395 |  80.514 | 0.662 | Viva                             |\n",
       "| 00IxPGpvmN2cibMWUEWmUJ | 17 | 0.737 | 0.642 |  -8.381 |  81.706 | 0.460 | Viva                             |\n",
       "| 010kNWfiOHSB17JLBYQTGf |  1 | 0.188 | 0.182 | -11.832 |  91.088 | 0.300 | Wilson Simonal Canta Tom &amp; Chico |\n",
       "| 010kNWfiOHSB17JLBYQTGf |  2 | 0.428 | 0.444 | -10.065 | 102.022 | 0.330 | Wilson Simonal Canta Tom &amp; Chico |\n",
       "| 010kNWfiOHSB17JLBYQTGf |  3 | 0.443 | 0.491 |  -8.103 |  80.525 | 0.350 | Wilson Simonal Canta Tom &amp; Chico |\n",
       "| 010kNWfiOHSB17JLBYQTGf |  4 | 0.322 | 0.308 |  -8.594 | 101.920 | 0.467 | Wilson Simonal Canta Tom &amp; Chico |\n",
       "| 010kNWfiOHSB17JLBYQTGf |  5 | 0.691 | 0.396 | -10.957 | 138.106 | 0.491 | Wilson Simonal Canta Tom &amp; Chico |\n",
       "| ⋮ | ⋮ | ⋮ | ⋮ | ⋮ | ⋮ | ⋮ | ⋮ |\n",
       "| 7zeCZY6rQRufc8IHGKyXGX |  1 | 0.247 | 0.6010 |  -5.486 | 136.912 | 0.460 | Anthem Of The Peaceful Army             |\n",
       "| 7zeCZY6rQRufc8IHGKyXGX |  2 | 0.722 | 0.8810 |  -3.926 |  92.049 | 0.506 | Anthem Of The Peaceful Army             |\n",
       "| 7zeCZY6rQRufc8IHGKyXGX |  3 | 0.689 | 0.9750 |  -2.959 |  96.004 | 0.535 | Anthem Of The Peaceful Army             |\n",
       "| 7zeCZY6rQRufc8IHGKyXGX |  4 | 0.410 | 0.7340 |  -4.897 | 132.567 | 0.396 | Anthem Of The Peaceful Army             |\n",
       "| 7zeCZY6rQRufc8IHGKyXGX |  5 | 0.594 | 0.9240 |  -3.895 |  91.882 | 0.496 | Anthem Of The Peaceful Army             |\n",
       "| 7zeCZY6rQRufc8IHGKyXGX |  6 | 0.575 | 0.8070 |  -5.805 | 151.916 | 0.553 | Anthem Of The Peaceful Army             |\n",
       "| 7zeCZY6rQRufc8IHGKyXGX |  7 | 0.894 | 0.8610 |  -4.439 |  96.411 | 0.655 | Anthem Of The Peaceful Army             |\n",
       "| 7zeCZY6rQRufc8IHGKyXGX |  8 | 0.676 | 0.9000 |  -3.160 |  90.959 | 0.478 | Anthem Of The Peaceful Army             |\n",
       "| 7zeCZY6rQRufc8IHGKyXGX |  9 | 0.589 | 0.8480 |  -4.475 | 136.568 | 0.341 | Anthem Of The Peaceful Army             |\n",
       "| 7zeCZY6rQRufc8IHGKyXGX | 10 | 0.469 | 0.5360 |  -8.076 | 154.067 | 0.609 | Anthem Of The Peaceful Army             |\n",
       "| 7zeCZY6rQRufc8IHGKyXGX | 11 | 0.548 | 0.8920 |  -4.244 |  91.999 | 0.505 | Anthem Of The Peaceful Army             |\n",
       "| 7zFnkqYJi6vAQVQtXbpXSh |  1 | 0.433 | 0.3350 | -10.525 |  96.225 | 0.568 | Beth Carvalho Canta Cartola             |\n",
       "| 7zFnkqYJi6vAQVQtXbpXSh |  2 | 0.367 | 0.3080 | -10.030 |  91.579 | 0.383 | Beth Carvalho Canta Cartola             |\n",
       "| 7zFnkqYJi6vAQVQtXbpXSh |  3 | 0.722 | 0.5690 |  -9.120 |  83.031 | 0.557 | Beth Carvalho Canta Cartola             |\n",
       "| 7zFnkqYJi6vAQVQtXbpXSh |  4 | 0.243 | 0.3520 | -10.104 | 106.481 | 0.601 | Beth Carvalho Canta Cartola             |\n",
       "| 7zFnkqYJi6vAQVQtXbpXSh |  5 | 0.246 | 0.3860 |  -9.265 | 100.490 | 0.490 | Beth Carvalho Canta Cartola             |\n",
       "| 7zFnkqYJi6vAQVQtXbpXSh |  6 | 0.465 | 0.2320 | -11.682 |  50.096 | 0.544 | Beth Carvalho Canta Cartola             |\n",
       "| 7zFnkqYJi6vAQVQtXbpXSh |  7 | 0.231 | 0.3300 |  -8.636 |  82.096 | 0.191 | Beth Carvalho Canta Cartola             |\n",
       "| 7zFnkqYJi6vAQVQtXbpXSh |  8 | 0.507 | 0.5180 | -11.363 | 142.808 | 0.474 | Beth Carvalho Canta Cartola             |\n",
       "| 7zFnkqYJi6vAQVQtXbpXSh |  9 | 0.403 | 0.3230 |  -9.008 | 110.252 | 0.483 | Beth Carvalho Canta Cartola             |\n",
       "| 7zFnkqYJi6vAQVQtXbpXSh | 10 | 0.213 | 0.4100 |  -8.690 | 102.163 | 0.505 | Beth Carvalho Canta Cartola             |\n",
       "| 7zFnkqYJi6vAQVQtXbpXSh | 11 | 0.214 | 0.3220 | -10.132 |  81.085 | 0.410 | Beth Carvalho Canta Cartola             |\n",
       "| 7zFnkqYJi6vAQVQtXbpXSh | 12 | 0.489 | 0.3260 | -10.411 |  77.626 | 0.365 | Beth Carvalho Canta Cartola             |\n",
       "| 7zMt8orEexVp5VPojM5rXN |  1 | 0.564 | 0.4920 |  -7.769 | 135.982 | 0.503 | オール・ザ・ベスト ジョン・コルトレーン |\n",
       "| 7zMt8orEexVp5VPojM5rXN |  2 | 0.257 | 0.1410 | -13.403 |  69.800 | 0.565 | オール・ザ・ベスト ジョン・コルトレーン |\n",
       "| 7zMt8orEexVp5VPojM5rXN |  3 | 0.798 | 0.6090 |  -7.613 | 123.170 | 0.527 | オール・ザ・ベスト ジョン・コルトレーン |\n",
       "| 7zMt8orEexVp5VPojM5rXN |  4 | 0.512 | 0.0691 | -16.463 |  63.235 | 0.442 | オール・ザ・ベスト ジョン・コルトレーン |\n",
       "| 7zMt8orEexVp5VPojM5rXN |  5 | 0.376 | 0.2310 | -10.476 |  79.763 | 0.517 | オール・ザ・ベスト ジョン・コルトレーン |\n",
       "| 7zMt8orEexVp5VPojM5rXN |  6 | 0.380 | 0.1220 | -13.028 |  94.640 | 0.411 | オール・ザ・ベスト ジョン・コルトレーン |\n",
       "| 7zMt8orEexVp5VPojM5rXN |  7 | 0.162 | 0.1950 | -12.973 | 105.790 | 0.490 | オール・ザ・ベスト ジョン・コルトレーン |\n",
       "\n"
      ],
      "text/plain": [
       "      album_id               track_number valence energy loudness tempo  \n",
       "1     008M3KxE8IO39sdTRFeZwn  1           0.575   0.892   -4.734  110.031\n",
       "2     008M3KxE8IO39sdTRFeZwn  2           0.944   0.844   -5.478   95.001\n",
       "3     008M3KxE8IO39sdTRFeZwn  3           0.725   0.723   -4.468   89.940\n",
       "4     008M3KxE8IO39sdTRFeZwn  4           0.608   0.723   -5.651  107.012\n",
       "5     008M3KxE8IO39sdTRFeZwn  5           0.728   0.859   -5.399  119.976\n",
       "6     008M3KxE8IO39sdTRFeZwn  6           0.813   0.865   -4.767   97.948\n",
       "7     008M3KxE8IO39sdTRFeZwn  7           0.680   0.323   -9.087  115.142\n",
       "8     008M3KxE8IO39sdTRFeZwn  8           0.957   0.862   -4.829  110.030\n",
       "9     00IxPGpvmN2cibMWUEWmUJ  1           0.535   0.259  -14.563   83.959\n",
       "10    00IxPGpvmN2cibMWUEWmUJ  2           0.962   0.539  -12.195   99.747\n",
       "11    00IxPGpvmN2cibMWUEWmUJ  3           0.942   0.570  -12.407  109.063\n",
       "12    00IxPGpvmN2cibMWUEWmUJ  4           0.962   0.608  -12.347  105.146\n",
       "13    00IxPGpvmN2cibMWUEWmUJ  5           0.918   0.660  -11.866  104.675\n",
       "14    00IxPGpvmN2cibMWUEWmUJ  6           0.897   0.547  -10.975  126.014\n",
       "15    00IxPGpvmN2cibMWUEWmUJ  7           0.883   0.460  -11.905  112.043\n",
       "16    00IxPGpvmN2cibMWUEWmUJ  8           0.682   0.430  -13.853  154.678\n",
       "17    00IxPGpvmN2cibMWUEWmUJ  9           0.345   0.107  -17.572  140.788\n",
       "18    00IxPGpvmN2cibMWUEWmUJ 10           0.954   0.348  -13.520  155.502\n",
       "19    00IxPGpvmN2cibMWUEWmUJ 11           0.850   0.467  -12.776   81.212\n",
       "20    00IxPGpvmN2cibMWUEWmUJ 12           0.909   0.621  -11.531  100.930\n",
       "21    00IxPGpvmN2cibMWUEWmUJ 13           0.906   0.332  -14.224  118.467\n",
       "22    00IxPGpvmN2cibMWUEWmUJ 14           0.964   0.540  -14.212   91.094\n",
       "23    00IxPGpvmN2cibMWUEWmUJ 15           0.968   0.424  -12.345   97.674\n",
       "24    00IxPGpvmN2cibMWUEWmUJ 16           0.902   0.424  -14.395   80.514\n",
       "25    00IxPGpvmN2cibMWUEWmUJ 17           0.737   0.642   -8.381   81.706\n",
       "26    010kNWfiOHSB17JLBYQTGf  1           0.188   0.182  -11.832   91.088\n",
       "27    010kNWfiOHSB17JLBYQTGf  2           0.428   0.444  -10.065  102.022\n",
       "28    010kNWfiOHSB17JLBYQTGf  3           0.443   0.491   -8.103   80.525\n",
       "29    010kNWfiOHSB17JLBYQTGf  4           0.322   0.308   -8.594  101.920\n",
       "30    010kNWfiOHSB17JLBYQTGf  5           0.691   0.396  -10.957  138.106\n",
       "⋮     ⋮                      ⋮            ⋮       ⋮      ⋮        ⋮      \n",
       "17347 7zeCZY6rQRufc8IHGKyXGX  1           0.247   0.6010  -5.486  136.912\n",
       "17348 7zeCZY6rQRufc8IHGKyXGX  2           0.722   0.8810  -3.926   92.049\n",
       "17349 7zeCZY6rQRufc8IHGKyXGX  3           0.689   0.9750  -2.959   96.004\n",
       "17350 7zeCZY6rQRufc8IHGKyXGX  4           0.410   0.7340  -4.897  132.567\n",
       "17351 7zeCZY6rQRufc8IHGKyXGX  5           0.594   0.9240  -3.895   91.882\n",
       "17352 7zeCZY6rQRufc8IHGKyXGX  6           0.575   0.8070  -5.805  151.916\n",
       "17353 7zeCZY6rQRufc8IHGKyXGX  7           0.894   0.8610  -4.439   96.411\n",
       "17354 7zeCZY6rQRufc8IHGKyXGX  8           0.676   0.9000  -3.160   90.959\n",
       "17355 7zeCZY6rQRufc8IHGKyXGX  9           0.589   0.8480  -4.475  136.568\n",
       "17356 7zeCZY6rQRufc8IHGKyXGX 10           0.469   0.5360  -8.076  154.067\n",
       "17357 7zeCZY6rQRufc8IHGKyXGX 11           0.548   0.8920  -4.244   91.999\n",
       "17358 7zFnkqYJi6vAQVQtXbpXSh  1           0.433   0.3350 -10.525   96.225\n",
       "17359 7zFnkqYJi6vAQVQtXbpXSh  2           0.367   0.3080 -10.030   91.579\n",
       "17360 7zFnkqYJi6vAQVQtXbpXSh  3           0.722   0.5690  -9.120   83.031\n",
       "17361 7zFnkqYJi6vAQVQtXbpXSh  4           0.243   0.3520 -10.104  106.481\n",
       "17362 7zFnkqYJi6vAQVQtXbpXSh  5           0.246   0.3860  -9.265  100.490\n",
       "17363 7zFnkqYJi6vAQVQtXbpXSh  6           0.465   0.2320 -11.682   50.096\n",
       "17364 7zFnkqYJi6vAQVQtXbpXSh  7           0.231   0.3300  -8.636   82.096\n",
       "17365 7zFnkqYJi6vAQVQtXbpXSh  8           0.507   0.5180 -11.363  142.808\n",
       "17366 7zFnkqYJi6vAQVQtXbpXSh  9           0.403   0.3230  -9.008  110.252\n",
       "17367 7zFnkqYJi6vAQVQtXbpXSh 10           0.213   0.4100  -8.690  102.163\n",
       "17368 7zFnkqYJi6vAQVQtXbpXSh 11           0.214   0.3220 -10.132   81.085\n",
       "17369 7zFnkqYJi6vAQVQtXbpXSh 12           0.489   0.3260 -10.411   77.626\n",
       "17370 7zMt8orEexVp5VPojM5rXN  1           0.564   0.4920  -7.769  135.982\n",
       "17371 7zMt8orEexVp5VPojM5rXN  2           0.257   0.1410 -13.403   69.800\n",
       "17372 7zMt8orEexVp5VPojM5rXN  3           0.798   0.6090  -7.613  123.170\n",
       "17373 7zMt8orEexVp5VPojM5rXN  4           0.512   0.0691 -16.463   63.235\n",
       "17374 7zMt8orEexVp5VPojM5rXN  5           0.376   0.2310 -10.476   79.763\n",
       "17375 7zMt8orEexVp5VPojM5rXN  6           0.380   0.1220 -13.028   94.640\n",
       "17376 7zMt8orEexVp5VPojM5rXN  7           0.162   0.1950 -12.973  105.790\n",
       "      danceability name                                   \n",
       "1     0.628        Seja o Que Eu Quiser                   \n",
       "2     0.731        Seja o Que Eu Quiser                   \n",
       "3     0.681        Seja o Que Eu Quiser                   \n",
       "4     0.644        Seja o Que Eu Quiser                   \n",
       "5     0.696        Seja o Que Eu Quiser                   \n",
       "6     0.626        Seja o Que Eu Quiser                   \n",
       "7     0.627        Seja o Que Eu Quiser                   \n",
       "8     0.657        Seja o Que Eu Quiser                   \n",
       "9     0.549        Viva                                   \n",
       "10    0.652        Viva                                   \n",
       "11    0.664        Viva                                   \n",
       "12    0.740        Viva                                   \n",
       "13    0.599        Viva                                   \n",
       "14    0.736        Viva                                   \n",
       "15    0.755        Viva                                   \n",
       "16    0.498        Viva                                   \n",
       "17    0.513        Viva                                   \n",
       "18    0.645        Viva                                   \n",
       "19    0.607        Viva                                   \n",
       "20    0.695        Viva                                   \n",
       "21    0.817        Viva                                   \n",
       "22    0.730        Viva                                   \n",
       "23    0.629        Viva                                   \n",
       "24    0.662        Viva                                   \n",
       "25    0.460        Viva                                   \n",
       "26    0.300        Wilson Simonal Canta Tom & Chico       \n",
       "27    0.330        Wilson Simonal Canta Tom & Chico       \n",
       "28    0.350        Wilson Simonal Canta Tom & Chico       \n",
       "29    0.467        Wilson Simonal Canta Tom & Chico       \n",
       "30    0.491        Wilson Simonal Canta Tom & Chico       \n",
       "⋮     ⋮            ⋮                                      \n",
       "17347 0.460        Anthem Of The Peaceful Army            \n",
       "17348 0.506        Anthem Of The Peaceful Army            \n",
       "17349 0.535        Anthem Of The Peaceful Army            \n",
       "17350 0.396        Anthem Of The Peaceful Army            \n",
       "17351 0.496        Anthem Of The Peaceful Army            \n",
       "17352 0.553        Anthem Of The Peaceful Army            \n",
       "17353 0.655        Anthem Of The Peaceful Army            \n",
       "17354 0.478        Anthem Of The Peaceful Army            \n",
       "17355 0.341        Anthem Of The Peaceful Army            \n",
       "17356 0.609        Anthem Of The Peaceful Army            \n",
       "17357 0.505        Anthem Of The Peaceful Army            \n",
       "17358 0.568        Beth Carvalho Canta Cartola            \n",
       "17359 0.383        Beth Carvalho Canta Cartola            \n",
       "17360 0.557        Beth Carvalho Canta Cartola            \n",
       "17361 0.601        Beth Carvalho Canta Cartola            \n",
       "17362 0.490        Beth Carvalho Canta Cartola            \n",
       "17363 0.544        Beth Carvalho Canta Cartola            \n",
       "17364 0.191        Beth Carvalho Canta Cartola            \n",
       "17365 0.474        Beth Carvalho Canta Cartola            \n",
       "17366 0.483        Beth Carvalho Canta Cartola            \n",
       "17367 0.505        Beth Carvalho Canta Cartola            \n",
       "17368 0.410        Beth Carvalho Canta Cartola            \n",
       "17369 0.365        Beth Carvalho Canta Cartola            \n",
       "17370 0.503        オール・ザ・ベスト ジョン・コルトレーン\n",
       "17371 0.565        オール・ザ・ベスト ジョン・コルトレーン\n",
       "17372 0.527        オール・ザ・ベスト ジョン・コルトレーン\n",
       "17373 0.442        オール・ザ・ベスト ジョン・コルトレーン\n",
       "17374 0.517        オール・ザ・ベスト ジョン・コルトレーン\n",
       "17375 0.411        オール・ザ・ベスト ジョン・コルトレーン\n",
       "17376 0.490        オール・ザ・ベスト ジョン・コルトレーン"
      ]
     },
     "metadata": {},
     "output_type": "display_data"
    }
   ],
   "source": [
    "dt_test"
   ]
  },
  {
   "cell_type": "markdown",
   "metadata": {
    "slideshow": {
     "slide_type": "subslide"
    }
   },
   "source": [
    "## References\n",
    "McFee, B., & Lanckriet, G. R. (2011, October). The Natural Language of Playlists. In ISMIR (Vol. 11, pp. 537-541)."
   ]
  }
 ],
 "metadata": {
  "celltoolbar": "Slideshow",
  "kernelspec": {
   "display_name": "R",
   "language": "R",
   "name": "ir"
  },
  "language_info": {
   "codemirror_mode": "r",
   "file_extension": ".r",
   "mimetype": "text/x-r-source",
   "name": "R",
   "pygments_lexer": "r",
   "version": "3.6.3"
  }
 },
 "nbformat": 4,
 "nbformat_minor": 4
}
