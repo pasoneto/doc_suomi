{
 "cells": [
  {
   "cell_type": "code",
   "execution_count": 145,
   "metadata": {},
   "outputs": [],
   "source": [
    "import numpy as np\n",
    "from PIL import Image\n",
    "import pandas as pd\n",
    "\n",
    "#receives data frame, width and length of the output\n",
    "def parser(data, w, l):\n",
    "    data = np.array(data, dtype=np.double)\n",
    "    convert = Image.fromarray(np.array(data, dtype=np.double)).resize((w, l), Image.CUBIC)\n",
    "    return np.array(convert)\n",
    "\n",
    "def split(df, group):\n",
    "    gb = df.groupby(group)\n",
    "    return [gb.get_group(x) for x in gb.groups]"
   ]
  },
  {
   "cell_type": "code",
   "execution_count": 146,
   "metadata": {},
   "outputs": [],
   "source": [
    "# Processing\n",
    "dados = pd.read_csv(\"/home/pasoneto/Documents/github/doc_suomi/data/dissim_matrix.csv\")[[\"album_id\", 'valence', 'energy', 'loudness', 'tempo']]\n",
    "dados['album_id'] = list(dados.groupby('album_id').ngroup())\n",
    "dados = split(dados, 'album_id')"
   ]
  },
  {
   "cell_type": "code",
   "execution_count": 147,
   "metadata": {},
   "outputs": [],
   "source": [
    "oi = [pd.DataFrame(parser(x[['valence', 'energy', 'loudness', 'tempo']], 4, 16)) for x in dados]\n",
    "\n",
    "#adding back album id\n",
    "for i in range(len(oi)):\n",
    "    oi[i]['album_id'] = i\n",
    "    oi[i]['track_number'] = range(16)\n"
   ]
  },
  {
   "cell_type": "code",
   "execution_count": 148,
   "metadata": {},
   "outputs": [],
   "source": [
    "f = pd.concat(oi)"
   ]
  },
  {
   "cell_type": "code",
   "execution_count": 149,
   "metadata": {},
   "outputs": [],
   "source": [
    "f.to_csv('cubic_interpol.csv')"
   ]
  },
  {
   "cell_type": "code",
   "execution_count": null,
   "metadata": {},
   "outputs": [],
   "source": []
  }
 ],
 "metadata": {
  "kernelspec": {
   "display_name": "Python 3",
   "language": "python",
   "name": "python3"
  },
  "language_info": {
   "codemirror_mode": {
    "name": "ipython",
    "version": 3
   },
   "file_extension": ".py",
   "mimetype": "text/x-python",
   "name": "python",
   "nbconvert_exporter": "python",
   "pygments_lexer": "ipython3",
   "version": "3.6.9"
  }
 },
 "nbformat": 4,
 "nbformat_minor": 4
}
