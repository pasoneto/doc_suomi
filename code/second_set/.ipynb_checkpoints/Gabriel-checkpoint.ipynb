{
 "cells": [
  {
   "cell_type": "code",
   "execution_count": 42,
   "metadata": {},
   "outputs": [],
   "source": [
    "import pandas as pd\n",
    "path = \"/home/pasoneto/Documents/Ciência/PhD/data/\"\n",
    "\n",
    "treino = pd.read_csv(path+\"teste_gabriel.csv\")\n",
    "teste = pd.read_csv(path+\"treino_gabriel.csv\")\n",
    "base = pd.concat([treino, teste], ignore_index=True)\n",
    "\n",
    "previsores = base.iloc[:, 2:5].values\n",
    "classe = base.iloc[:, 7].values"
   ]
  },
  {
   "cell_type": "code",
   "execution_count": null,
   "metadata": {},
   "outputs": [],
   "source": [
    "#Arvore de decisao"
   ]
  },
  {
   "cell_type": "code",
   "execution_count": 85,
   "metadata": {},
   "outputs": [
    {
     "data": {
      "text/plain": [
       "0.5778957979368841"
      ]
     },
     "execution_count": 85,
     "metadata": {},
     "output_type": "execute_result"
    }
   ],
   "source": [
    "from sklearn.model_selection import train_test_split\n",
    "previsores_treinamento, previsores_teste, classe_treinamento, classe_teste = train_test_split(previsores, classe, test_size=0.15, random_state=0)\n",
    "\n",
    "from sklearn.tree import DecisionTreeClassifier\n",
    "classificador = DecisionTreeClassifier(criterion='entropy', random_state=0)\n",
    "classificador.fit(previsores_treinamento, classe_treinamento)\n",
    "previsoes = classificador.predict(previsores_teste)\n",
    "\n",
    "from sklearn.metrics import confusion_matrix, accuracy_score\n",
    "precisao = accuracy_score(classe_teste, previsoes)\n",
    "matriz = confusion_matrix(classe_teste, previsoes)\n",
    "\n",
    "from sklearn.model_selection import cross_val_score\n",
    "resultados = cross_val_score(classificador, previsores, classe, cv = 10)\n",
    "resultados.mean()"
   ]
  },
  {
   "cell_type": "code",
   "execution_count": 91,
   "metadata": {},
   "outputs": [
    {
     "data": {
      "text/plain": [
       "0.004841620488770983"
      ]
     },
     "execution_count": 91,
     "metadata": {},
     "output_type": "execute_result"
    }
   ],
   "source": [
    "resultados.std()"
   ]
  },
  {
   "cell_type": "code",
   "execution_count": null,
   "metadata": {},
   "outputs": [],
   "source": [
    "#Naive Bayes"
   ]
  },
  {
   "cell_type": "code",
   "execution_count": 92,
   "metadata": {},
   "outputs": [
    {
     "data": {
      "text/plain": [
       "0.3558825525470815"
      ]
     },
     "execution_count": 92,
     "metadata": {},
     "output_type": "execute_result"
    }
   ],
   "source": [
    "from sklearn.model_selection import train_test_split\n",
    "previsores_treinamento, previsores_teste, classe_treinamento, classe_teste = train_test_split(previsores, classe, test_size=0.15, random_state=0)\n",
    " \n",
    "from sklearn.naive_bayes import GaussianNB\n",
    "classificador = GaussianNB()\n",
    "classificador.fit(previsores_treinamento, classe_treinamento)\n",
    "previsoes = classificador.predict(previsores_teste)\n",
    " \n",
    "from sklearn.metrics import confusion_matrix, accuracy_score\n",
    "precisao = accuracy_score(classe_teste, previsoes)\n",
    "matriz = confusion_matrix(classe_teste, previsoes)\n",
    "\n",
    "from sklearn.model_selection import cross_val_score\n",
    "resultados = cross_val_score(classificador, previsores, classe, cv = 10)\n",
    "resultados.mean()"
   ]
  },
  {
   "cell_type": "code",
   "execution_count": 93,
   "metadata": {},
   "outputs": [
    {
     "data": {
      "text/plain": [
       "array([0.35120026, 0.35728379, 0.35350214, 0.36090102, 0.3590924 ,\n",
       "       0.3593159 , 0.34862687, 0.35816478, 0.35454695, 0.35619142])"
      ]
     },
     "execution_count": 93,
     "metadata": {},
     "output_type": "execute_result"
    }
   ],
   "source": [
    "resultados"
   ]
  },
  {
   "cell_type": "code",
   "execution_count": null,
   "metadata": {},
   "outputs": [],
   "source": [
    "#Regressao Logistica"
   ]
  },
  {
   "cell_type": "code",
   "execution_count": 89,
   "metadata": {},
   "outputs": [
    {
     "data": {
      "text/plain": [
       "0.3443393963364577"
      ]
     },
     "execution_count": 89,
     "metadata": {},
     "output_type": "execute_result"
    }
   ],
   "source": [
    "from sklearn.model_selection import train_test_split\n",
    "previsores_treinamento, previsores_teste, classe_treinamento, classe_teste = train_test_split(previsores, classe, test_size=0.15, random_state=0)\n",
    "\n",
    "from sklearn.linear_model import LogisticRegression\n",
    "classificador = LogisticRegression(solver='lbfgs')\n",
    "classificador.fit(previsores_treinamento, classe_treinamento)\n",
    "previsoes = classificador.predict(previsores_teste)\n",
    "\n",
    "from sklearn.metrics import confusion_matrix, accuracy_score\n",
    "precisao = accuracy_score(classe_teste, previsoes)\n",
    "matriz = confusion_matrix(classe_teste, previsoes)\n",
    "\n",
    "from sklearn.model_selection import cross_val_score\n",
    "resultados = cross_val_score(classificador, previsores, classe, cv = 10)\n",
    "resultados.mean()"
   ]
  },
  {
   "cell_type": "code",
   "execution_count": 90,
   "metadata": {},
   "outputs": [
    {
     "data": {
      "text/plain": [
       "array([0.33459388, 0.34215719, 0.34824071, 0.34511674, 0.35120026,\n",
       "       0.34780464, 0.3473113 , 0.34303568, 0.34632462, 0.33760895])"
      ]
     },
     "execution_count": 90,
     "metadata": {},
     "output_type": "execute_result"
    }
   ],
   "source": [
    "resultados"
   ]
  },
  {
   "cell_type": "code",
   "execution_count": null,
   "metadata": {},
   "outputs": [],
   "source": [
    "#Random Forest"
   ]
  },
  {
   "cell_type": "code",
   "execution_count": 80,
   "metadata": {},
   "outputs": [
    {
     "data": {
      "text/plain": [
       "0.5851145321347169"
      ]
     },
     "execution_count": 80,
     "metadata": {},
     "output_type": "execute_result"
    }
   ],
   "source": [
    "import numpy as np\n",
    "from sklearn.preprocessing import LabelEncoder\n",
    "labelencoder_classe = LabelEncoder()\n",
    "\n",
    "classe = labelencoder_classe.fit_transform(classe)\n",
    "\n",
    "from sklearn.preprocessing import StandardScaler\n",
    "scaler = StandardScaler()\n",
    "previsores = scaler.fit_transform(previsores)\n",
    "\n",
    "from sklearn.model_selection import train_test_split\n",
    "previsores_treinamento, previsores_teste, classe_treinamento, classe_teste = train_test_split(previsores, classe, test_size=0.15, random_state=0)\n",
    "\n",
    "from sklearn.ensemble import RandomForestClassifier\n",
    "classificador = RandomForestClassifier(n_estimators=100, criterion='entropy', random_state=0)\n",
    "classificador.fit(previsores_treinamento, classe_treinamento)\n",
    "previsoes = classificador.predict(previsores_teste)\n",
    "\n",
    "from sklearn.metrics import confusion_matrix, accuracy_score\n",
    "precisao = accuracy_score(classe_teste, previsoes)\n",
    "matriz = confusion_matrix(classe_teste, previsoes)\n",
    "\n",
    "from sklearn.model_selection import cross_val_score\n",
    "resultados = cross_val_score(classificador, previsores, classe, cv = 10)\n",
    "resultados.mean()"
   ]
  },
  {
   "cell_type": "code",
   "execution_count": 81,
   "metadata": {},
   "outputs": [
    {
     "data": {
      "text/plain": [
       "array([0.75402828, 0.7474515 , 0.6132851 , 0.53567905, 0.53485695,\n",
       "       0.55467851, 0.5306693 , 0.52162473, 0.53297155, 0.52590035])"
      ]
     },
     "execution_count": 81,
     "metadata": {},
     "output_type": "execute_result"
    }
   ],
   "source": [
    "resultados"
   ]
  },
  {
   "cell_type": "code",
   "execution_count": null,
   "metadata": {},
   "outputs": [],
   "source": [
    "#SVM"
   ]
  },
  {
   "cell_type": "code",
   "execution_count": 82,
   "metadata": {},
   "outputs": [
    {
     "data": {
      "text/plain": [
       "0.3457369899646453"
      ]
     },
     "execution_count": 82,
     "metadata": {},
     "output_type": "execute_result"
    }
   ],
   "source": [
    "labelencoder_classe = LabelEncoder()\n",
    "classe = labelencoder_classe.fit_transform(classe)\n",
    "\n",
    "from sklearn.preprocessing import StandardScaler\n",
    "scaler = StandardScaler()\n",
    "previsores = scaler.fit_transform(previsores)\n",
    "\n",
    "from sklearn.model_selection import train_test_split\n",
    "previsores_treinamento, previsores_teste, classe_treinamento, classe_teste = train_test_split(previsores, classe, test_size=0.15, random_state=0)\n",
    "\n",
    "from sklearn.svm import SVC\n",
    "classificador = SVC(kernel = 'linear', random_state = 1)\n",
    "classificador.fit(previsores_treinamento, classe_treinamento)\n",
    "previsoes = classificador.predict(previsores_teste)\n",
    "\n",
    "from sklearn.metrics import confusion_matrix, accuracy_score\n",
    "precisao = accuracy_score(classe_teste, previsoes)\n",
    "matriz = confusion_matrix(classe_teste, previsoes)\n",
    "\n",
    "from sklearn.model_selection import cross_val_score\n",
    "resultados = cross_val_score(classificador, previsores, classe, cv = 10)\n",
    "resultados.mean()"
   ]
  },
  {
   "cell_type": "code",
   "execution_count": 83,
   "metadata": {},
   "outputs": [
    {
     "data": {
      "text/plain": [
       "array([0.34297928, 0.34363696, 0.35169352, 0.34774745, 0.34758303,\n",
       "       0.34369347, 0.33777339, 0.34879132, 0.34402236, 0.3494491 ])"
      ]
     },
     "execution_count": 83,
     "metadata": {},
     "output_type": "execute_result"
    }
   ],
   "source": [
    "resultados"
   ]
  },
  {
   "cell_type": "code",
   "execution_count": 48,
   "metadata": {},
   "outputs": [
    {
     "name": "stdout",
     "output_type": "stream",
     "text": [
      "Iteration 1, loss = 1.09624597\n",
      "Iteration 2, loss = 1.09242960\n",
      "Iteration 3, loss = 1.09078512\n",
      "Iteration 4, loss = 1.09058271\n",
      "Iteration 5, loss = 1.09024307\n",
      "Iteration 6, loss = 1.08999192\n",
      "Iteration 7, loss = 1.08980836\n",
      "Iteration 8, loss = 1.08952177\n",
      "Iteration 9, loss = 1.08958159\n",
      "Iteration 10, loss = 1.08944501\n",
      "Iteration 11, loss = 1.08952430\n",
      "Iteration 12, loss = 1.08928304\n",
      "Iteration 13, loss = 1.08911245\n",
      "Iteration 14, loss = 1.08925662\n",
      "Iteration 15, loss = 1.08916008\n",
      "Iteration 16, loss = 1.08915163\n",
      "Iteration 17, loss = 1.08919724\n",
      "Iteration 18, loss = 1.08911344\n",
      "Iteration 19, loss = 1.08894828\n",
      "Iteration 20, loss = 1.08895095\n",
      "Iteration 21, loss = 1.08882882\n",
      "Iteration 22, loss = 1.08886579\n",
      "Iteration 23, loss = 1.08897194\n",
      "Iteration 24, loss = 1.08875972\n",
      "Iteration 25, loss = 1.08879342\n",
      "Iteration 26, loss = 1.08877893\n",
      "Iteration 27, loss = 1.08848452\n",
      "Iteration 28, loss = 1.08847889\n",
      "Iteration 29, loss = 1.08847644\n",
      "Iteration 30, loss = 1.08840821\n",
      "Iteration 31, loss = 1.08854636\n",
      "Iteration 32, loss = 1.08829714\n",
      "Iteration 33, loss = 1.08837799\n",
      "Iteration 34, loss = 1.08848518\n",
      "Iteration 35, loss = 1.08842965\n",
      "Iteration 36, loss = 1.08833727\n",
      "Iteration 37, loss = 1.08836414\n",
      "Iteration 38, loss = 1.08813235\n",
      "Iteration 39, loss = 1.08833784\n",
      "Iteration 40, loss = 1.08811502\n",
      "Iteration 41, loss = 1.08814896\n",
      "Iteration 42, loss = 1.08821295\n",
      "Iteration 43, loss = 1.08817027\n",
      "Iteration 44, loss = 1.08801086\n",
      "Iteration 45, loss = 1.08796246\n",
      "Iteration 46, loss = 1.08824010\n",
      "Iteration 47, loss = 1.08806846\n",
      "Iteration 48, loss = 1.08838109\n",
      "Iteration 49, loss = 1.08790331\n",
      "Iteration 50, loss = 1.08801792\n",
      "Iteration 51, loss = 1.08805190\n",
      "Iteration 52, loss = 1.08798247\n",
      "Iteration 53, loss = 1.08778269\n",
      "Iteration 54, loss = 1.08775397\n",
      "Iteration 55, loss = 1.08769048\n",
      "Iteration 56, loss = 1.08766606\n",
      "Iteration 57, loss = 1.08775331\n",
      "Iteration 58, loss = 1.08782849\n",
      "Iteration 59, loss = 1.08787961\n",
      "Iteration 60, loss = 1.08777189\n",
      "Iteration 61, loss = 1.08756442\n",
      "Iteration 62, loss = 1.08756317\n",
      "Iteration 63, loss = 1.08769722\n",
      "Iteration 64, loss = 1.08758303\n",
      "Iteration 65, loss = 1.08766095\n",
      "Iteration 66, loss = 1.08747123\n",
      "Iteration 67, loss = 1.08757507\n",
      "Iteration 68, loss = 1.08759364\n",
      "Iteration 69, loss = 1.08758175\n",
      "Iteration 70, loss = 1.08733350\n",
      "Iteration 71, loss = 1.08758610\n",
      "Iteration 72, loss = 1.08747329\n",
      "Iteration 73, loss = 1.08752593\n",
      "Iteration 74, loss = 1.08754856\n",
      "Iteration 75, loss = 1.08717501\n",
      "Iteration 76, loss = 1.08749218\n",
      "Iteration 77, loss = 1.08722198\n",
      "Iteration 78, loss = 1.08739602\n",
      "Iteration 79, loss = 1.08738863\n",
      "Iteration 80, loss = 1.08720850\n",
      "Iteration 81, loss = 1.08730436\n",
      "Iteration 82, loss = 1.08744532\n",
      "Iteration 83, loss = 1.08724394\n",
      "Iteration 84, loss = 1.08732581\n",
      "Iteration 85, loss = 1.08703802\n",
      "Iteration 86, loss = 1.08713882\n",
      "Iteration 87, loss = 1.08730224\n",
      "Iteration 88, loss = 1.08726431\n",
      "Iteration 89, loss = 1.08722679\n",
      "Iteration 90, loss = 1.08711646\n",
      "Iteration 91, loss = 1.08710658\n",
      "Iteration 92, loss = 1.08705722\n",
      "Iteration 93, loss = 1.08718803\n",
      "Iteration 94, loss = 1.08706968\n",
      "Iteration 95, loss = 1.08706697\n",
      "Iteration 96, loss = 1.08702292\n",
      "Iteration 97, loss = 1.08695950\n",
      "Iteration 98, loss = 1.08694813\n",
      "Iteration 99, loss = 1.08695517\n",
      "Iteration 100, loss = 1.08703427\n",
      "softmax\n"
     ]
    },
    {
     "name": "stderr",
     "output_type": "stream",
     "text": [
      "/home/pasoneto/.local/lib/python3.6/site-packages/sklearn/neural_network/_multilayer_perceptron.py:585: ConvergenceWarning: Stochastic Optimizer: Maximum iterations (100) reached and the optimization hasn't converged yet.\n",
      "  % self.max_iter, ConvergenceWarning)\n"
     ]
    }
   ],
   "source": [
    "labelencoder_classe = LabelEncoder()\n",
    "classe = labelencoder_classe.fit_transform(classe)\n",
    "\n",
    "from sklearn.preprocessing import StandardScaler\n",
    "scaler = StandardScaler()\n",
    "previsores = scaler.fit_transform(previsores)\n",
    "\n",
    "from sklearn.model_selection import train_test_split\n",
    "previsores_treinamento, previsores_teste, classe_treinamento, classe_teste = train_test_split(previsores, classe, test_size=0.15, random_state=0)\n",
    "\n",
    "from sklearn.neural_network import MLPClassifier\n",
    "classificador = MLPClassifier(verbose = True, max_iter=1000, tol=0.000010)\n",
    "classificador.fit(previsores_treinamento, classe_treinamento)\n",
    "previsoes = classificador.predict(previsores_teste)\n",
    "print(classificador.out_activation_)\n",
    "\n",
    "from sklearn.metrics import confusion_matrix, accuracy_score\n",
    "precisao = accuracy_score(classe_teste, previsoes)\n",
    "matriz = confusion_matrix(classe_teste, previsoes)"
   ]
  },
  {
   "cell_type": "code",
   "execution_count": 49,
   "metadata": {},
   "outputs": [
    {
     "data": {
      "text/plain": [
       "0.3697248712046476"
      ]
     },
     "execution_count": 49,
     "metadata": {},
     "output_type": "execute_result"
    }
   ],
   "source": [
    "precisao"
   ]
  }
 ],
 "metadata": {
  "kernelspec": {
   "display_name": "Python 3",
   "language": "python",
   "name": "python3"
  },
  "language_info": {
   "codemirror_mode": {
    "name": "ipython",
    "version": 3
   },
   "file_extension": ".py",
   "mimetype": "text/x-python",
   "name": "python",
   "nbconvert_exporter": "python",
   "pygments_lexer": "ipython3",
   "version": "3.6.9"
  }
 },
 "nbformat": 4,
 "nbformat_minor": 4
}
