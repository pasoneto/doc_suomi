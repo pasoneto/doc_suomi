{
 "cells": [
  {
   "cell_type": "code",
   "execution_count": 6,
   "metadata": {},
   "outputs": [
    {
     "name": "stderr",
     "output_type": "stream",
     "text": [
      "`summarise()` has grouped output by 'album_id', 'name'. You can override using the `.groups` argument.\n",
      "\n"
     ]
    },
    {
     "name": "stdout",
     "output_type": "stream",
     "text": [
      "How to use datasets (Personal library)\n",
      " \n",
      "call    base()             for real values\n",
      "call    z_scored()         for normalized\n",
      "call    min_maxed()        for normalized2\n",
      "call    upsampled_album()  for binded upsamplped albums\n",
      "call    low_minmax()       for min-maxed low level\n",
      "call    low_z()            for normalized low level\n",
      "call    low_raw()          for raw  low level"
     ]
    }
   ],
   "source": [
    "setwd(\"/home/pa/Documents/github/doc_suomi/code\")\n",
    "source(\"utils.R\")\n",
    "source(\"data_cook.R\")\n",
    "cat(howto_data)"
   ]
  },
  {
   "cell_type": "markdown",
   "metadata": {},
   "source": [
    "# Writting data for low"
   ]
  },
  {
   "cell_type": "code",
   "execution_count": 7,
   "metadata": {
    "scrolled": true
   },
   "outputs": [],
   "source": [
    "oi = low_minmax()\n",
    "\n",
    "# Removing albums with unusually small tracks_lengths\n",
    "oi %<>% \n",
    "    group_by(track_id) %>%\n",
    "    mutate(nsamples = NROW(valence)) %>%\n",
    "    filter(nsamples < 5)\n",
    "\n",
    "a_out <- unique(oi$album_id)\n",
    "data = low_minmax()\n",
    "\n",
    "data %<>%\n",
    "    filter(!album_id %in% a_out) %>% \n",
    "    ungroup() %>%\n",
    "    group_by(track_id) %>%\n",
    "    mutate(track_section = seq(1, NROW(track_id), 1))"
   ]
  },
  {
   "cell_type": "code",
   "execution_count": 9,
   "metadata": {},
   "outputs": [
    {
     "name": "stderr",
     "output_type": "stream",
     "text": [
      "`summarise()` has grouped output by 'album_id', 'track_id'. You can override using the `.groups` argument.\n",
      "\n"
     ]
    }
   ],
   "source": [
    "# Performing quantile cuts\n",
    "data %<>%\n",
    "    filter(!album_id %in% a_out) %>% \n",
    "    ungroup() %>%\n",
    "    group_by(track_id) %>%\n",
    "    mutate(track_section = seq(1, NROW(track_id), 1)) %>%\n",
    "    mutate(track_section = lsr::quantileCut(track_section, 5, labels = c(\"a\", \"b\", \"c\", \"d\", \"e\"))) %>%\n",
    "    ungroup() %>% group_by(album_id, track_id, track_section) %>%\n",
    "    #summarizing by quantile section\n",
    "    summarise(danceability = mean(danceability),\n",
    "              energy = mean(energy), \n",
    "              loudness_overall = mean(loudness_overall),\n",
    "              speechiness = mean(speechiness),\n",
    "              acousticness = mean(acousticness),\n",
    "              instrumentalness = mean(instrumentalness), \n",
    "              liveness = mean(liveness),\n",
    "              valence = mean(valence),\n",
    "              tempo_overall = mean(tempo_overall), \n",
    "              duration_ms = mean(duration_ms),\n",
    "              time_signature = mean(time_signature),\n",
    "              track_number = mean(track_number), \n",
    "              loudness_continuous = mean(loudness_continuous),\n",
    "              tempo_continuous = mean(tempo_continuous), \n",
    "              tempo_confidence = mean(tempo_confidence), \n",
    "              key_confidence = mean(key_confidence),\n",
    "              mode_confidence = mean(mode_confidence), \n",
    "              time_signature_confidence = mean(time_signature_confidence)) %>%\n",
    "    ungroup() %>%\n",
    "    arrange(album_id) %>% \n",
    "    select(!track_section)"
   ]
  },
  {
   "cell_type": "code",
   "execution_count": 10,
   "metadata": {},
   "outputs": [
    {
     "name": "stderr",
     "output_type": "stream",
     "text": [
      "`summarise()` has grouped output by 'album_id'. You can override using the `.groups` argument.\n",
      "\n"
     ]
    }
   ],
   "source": [
    "# Calculating cumulative track features\n",
    "data %>%\n",
    "    group_by(album_id, track_id) %>%\n",
    "    summarise(danceability_cum = mean(danceability),\n",
    "           energy_cum = mean(energy),\n",
    "           loudness_overall_cum = mean(loudness_overall),\n",
    "           speechiness_cum = mean(speechiness),\n",
    "           acousticness_cum = mean(acousticness),\n",
    "           instrumentalness_cum = mean(instrumentalness), \n",
    "           liveness_cum = mean(liveness),\n",
    "           valence_cum = mean(valence),\n",
    "           tempo_overall_cum = mean(tempo_overall), \n",
    "           duration_ms_cum = mean(duration_ms),\n",
    "           time_signature_cum = mean(time_signature),\n",
    "           loudness_continuous_cum = mean(loudness_continuous),\n",
    "           tempo_continuous_cum = mean(tempo_continuous),\n",
    "           tempo_confidence_cum = mean(tempo_confidence),\n",
    "           key_confidence_cum = mean(key_confidence),\n",
    "           mode_confidence_cum = mean(mode_confidence),\n",
    "           time_signature_confidence_cum = mean(time_signature_confidence)) %>%\n",
    "\n",
    "    ungroup() %>% group_by(album_id) %>%\n",
    "    mutate(danceability_cum = cumsum(danceability_cum),\n",
    "           energy_cum = cumsum(energy_cum),\n",
    "           loudness_overall_cum = cumsum(loudness_overall_cum),\n",
    "           speechiness_cum = cumsum(speechiness_cum),\n",
    "           acousticness_cum = cumsum(acousticness_cum),\n",
    "           instrumentalness_cum = cumsum(instrumentalness_cum), \n",
    "           liveness_cum = cumsum(liveness_cum),\n",
    "           valence_cum = cumsum(valence_cum),\n",
    "           tempo_overall_cum = cumsum(tempo_overall_cum), \n",
    "           duration_ms_cum = cumsum(duration_ms_cum),\n",
    "           time_signature_cum = cumsum(time_signature_cum),\n",
    "           loudness_continuous_cum = cumsum(loudness_continuous_cum),\n",
    "           tempo_continuous_cum = cumsum(tempo_continuous_cum),\n",
    "           tempo_confidence_cum = cumsum(tempo_confidence_cum),\n",
    "           key_confidence_cum = cumsum(key_confidence_cum),\n",
    "           mode_confidence_cum = cumsum(mode_confidence_cum),\n",
    "           time_signature_confidence_cum = cumsum(time_signature_confidence_cum)) -> cummed\n",
    "\n",
    "oi = merge(x = cummed, y = data, by.x = c(\"album_id\", \"track_id\"), by.y = c(\"album_id\", \"track_id\"))"
   ]
  },
  {
   "cell_type": "code",
   "execution_count": 11,
   "metadata": {},
   "outputs": [],
   "source": [
    "#Min-maxing new variables\n",
    "oi %<>% \n",
    "    ungroup() %>%\n",
    "    mutate(danceability_cum = minmax(danceability_cum, 1, 2),\n",
    "           energy_cum = minmax(energy_cum, 1, 2),\n",
    "           loudness_overall_cum = minmax(loudness_overall_cum, 1, 2),\n",
    "           speechiness_cum = minmax(speechiness_cum, 1, 2),\n",
    "           acousticness_cum = minmax(acousticness_cum, 1, 2),\n",
    "           instrumentalness_cum = minmax(instrumentalness_cum, 1, 2), \n",
    "           liveness_cum = minmax(liveness_cum, 1, 2),\n",
    "           valence_cum = minmax(valence_cum, 1, 2),\n",
    "           tempo_overall_cum = minmax(tempo_overall_cum, 1, 2), \n",
    "           duration_ms_cum = minmax(duration_ms_cum, 1, 2),\n",
    "           time_signature_cum = minmax(time_signature_cum, 1, 2),\n",
    "           loudness_continuous_cum = minmax(loudness_continuous_cum, 1, 2),\n",
    "           tempo_continuous_cum = minmax(tempo_continuous_cum, 1, 2),\n",
    "           tempo_confidence_cum = minmax(tempo_confidence_cum, 1, 2),\n",
    "           key_confidence_cum = minmax(key_confidence_cum, 1, 2),\n",
    "           mode_confidence_cum = minmax(mode_confidence_cum, 1, 2),\n",
    "           time_signature_confidence_cum = minmax(time_signature_confidence_cum, 1, 2))"
   ]
  },
  {
   "cell_type": "code",
   "execution_count": 12,
   "metadata": {
    "scrolled": true
   },
   "outputs": [],
   "source": [
    "# Tagging each track as greater-smaller than the previous track.\n",
    "oi %>% group_by(album_id) %>%\n",
    "    mutate(valence_cat  = greater(valence),\n",
    "           energy_cat   = greater(energy),\n",
    "           loudness_cat = greater(loudness_overall),\n",
    "           tempo_cat    = greater(tempo_overall)) %>%\n",
    "    ungroup() %>% \n",
    "    group_by(album_id, track_number) %>%\n",
    "    mutate(valence_cat = valence_cat[1],\n",
    "           energy_cat = energy_cat[1],\n",
    "           loudness_cat = loudness_cat[1],\n",
    "           tempo_cat = tempo_cat[1]) %>%\n",
    "    write.csv(\"/home/pa/Documents/github/doc_suomi/data/lstm/lstm.csv\")"
   ]
  },
  {
   "cell_type": "markdown",
   "metadata": {},
   "source": [
    "# Writing data for Markov model"
   ]
  },
  {
   "cell_type": "code",
   "execution_count": 6,
   "metadata": {},
   "outputs": [],
   "source": [
    "dt = base() %>% \n",
    "        group_by(album_id) %>%\n",
    "        mutate(valence = greater(valence),\n",
    "               energy = greater(energy),\n",
    "               loudness = greater(loudness),\n",
    "               tempo = greater(tempo))"
   ]
  },
  {
   "cell_type": "code",
   "execution_count": 7,
   "metadata": {},
   "outputs": [],
   "source": [
    "dt %>%\n",
    "    write.csv(\"/home/pa/Documents/github/doc_suomi/data/markov/markov.csv\")"
   ]
  },
  {
   "cell_type": "markdown",
   "metadata": {},
   "source": [
    "# Writting data for optimization\n",
    "\n",
    "Same as markov but already discreticized"
   ]
  },
  {
   "cell_type": "code",
   "execution_count": null,
   "metadata": {},
   "outputs": [],
   "source": [
    "dt = base() %>% \n",
    "        group_by(album_id) %>%\n",
    "        mutate(valence = greater(valence),\n",
    "               energy = greater(energy),\n",
    "               loudness = greater(loudness),\n",
    "               tempo = greater(tempo))\n",
    "\n",
    "write.csv(dt, \"/home/pa/Documents/github/doc_suomi/data/optimization/data_discrete.csv\")"
   ]
  }
 ],
 "metadata": {
  "kernelspec": {
   "display_name": "R",
   "language": "R",
   "name": "ir"
  },
  "language_info": {
   "codemirror_mode": "r",
   "file_extension": ".r",
   "mimetype": "text/x-r-source",
   "name": "R",
   "pygments_lexer": "r",
   "version": "4.0.2"
  },
  "varInspector": {
   "cols": {
    "lenName": 16,
    "lenType": 16,
    "lenVar": 40
   },
   "kernels_config": {
    "python": {
     "delete_cmd_postfix": "",
     "delete_cmd_prefix": "del ",
     "library": "var_list.py",
     "varRefreshCmd": "print(var_dic_list())"
    },
    "r": {
     "delete_cmd_postfix": ") ",
     "delete_cmd_prefix": "rm(",
     "library": "var_list.r",
     "varRefreshCmd": "cat(var_dic_list()) "
    }
   },
   "types_to_exclude": [
    "module",
    "function",
    "builtin_function_or_method",
    "instance",
    "_Feature"
   ],
   "window_display": false
  }
 },
 "nbformat": 4,
 "nbformat_minor": 4
}
