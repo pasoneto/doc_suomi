{
 "cells": [
  {
   "cell_type": "markdown",
   "metadata": {},
   "source": [
    "# Regressions\n",
    "\n",
    "- Predict feature (including dissimilarity) of track $i+1$ given track $i$;\n",
    "- Predict feature (including dissimilarity) of track $i+1$ given all tracks before $i+1$;\n",
    "\n",
    "\n",
    "- Predict position of track $i$ given its features;\n",
    "- Predict position of a sequence of tracks; \n",
    "\n",
    "\n",
    "- Predict first/last songs;\n",
    "\n",
    "\n",
    "- Given all features of all tracks from album, predict feature of next track"
   ]
  },
  {
   "cell_type": "markdown",
   "metadata": {},
   "source": [
    "# Algorithms\n",
    "\n",
    "Regressions:\n",
    "- Linear, splines, lstm, random forest, nnet\n",
    "\n",
    "Classification:\n",
    "- Lstm, random forest, nnet"
   ]
  },
  {
   "cell_type": "markdown",
   "metadata": {},
   "source": [
    "# Data\n",
    "\n",
    "z_score"
   ]
  },
  {
   "cell_type": "code",
   "execution_count": 3,
   "metadata": {
    "scrolled": true
   },
   "outputs": [
    {
     "name": "stderr",
     "output_type": "stream",
     "text": [
      "`summarise()` regrouping output by 'album_id' (override with `.groups` argument)\n",
      "\n"
     ]
    },
    {
     "name": "stdout",
     "output_type": "stream",
     "text": [
      "How to use datasets\n",
      " \n",
      "call    base()             for real values\n",
      "call    z_scored()         for normalized\n",
      "call    min_maxed()        for normalized2\n",
      "call    upsampled_album()  for binded upsamplped albums\n",
      "call    list_upsampled()   for list of upsampled albums\n",
      "call    low_z()            for normalized low level\n",
      "call    low_raw()          for raw  low level"
     ]
    }
   ],
   "source": [
    "setwd(\"/home/pasoneto/Documents/github/doc_suomi/code\")\n",
    "source(\"utils.R\")\n",
    "source(\"data_cook.R\")\n",
    "cat(howto_data)"
   ]
  },
  {
   "cell_type": "markdown",
   "metadata": {},
   "source": [
    "# Train test split"
   ]
  },
  {
   "cell_type": "code",
   "execution_count": 2,
   "metadata": {},
   "outputs": [
    {
     "ename": "ERROR",
     "evalue": "Error: Problem with `mutate()` input `track_number`.\n\u001b[31m✖\u001b[39m argument \"min\" is missing, with no default\n\u001b[34mℹ\u001b[39m Input `track_number` is `minmax(track_number)`.\n\u001b[34mℹ\u001b[39m The error occurred in group 1: album_id = \"007bD7YMU5GUUNzNWKGfoV\".\n",
     "output_type": "error",
     "traceback": [
      "Error: Problem with `mutate()` input `track_number`.\n\u001b[31m✖\u001b[39m argument \"min\" is missing, with no default\n\u001b[34mℹ\u001b[39m Input `track_number` is `minmax(track_number)`.\n\u001b[34mℹ\u001b[39m The error occurred in group 1: album_id = \"007bD7YMU5GUUNzNWKGfoV\".\nTraceback:\n",
      "1. low_raw() %>% group_by(album_id) %>% mutate(track_number = minmax(track_number))",
      "2. mutate(., track_number = minmax(track_number))",
      "3. mutate.data.frame(., track_number = minmax(track_number))",
      "4. mutate_cols(.data, ...)",
      "5. withCallingHandlers({\n .     for (i in seq_along(dots)) {\n .         not_named <- (is.null(dots_names) || dots_names[i] == \n .             \"\")\n .         chunks <- NULL\n .         result <- NULL\n .         if (quo_is_symbol(dots[[i]])) {\n .             name <- as_string(quo_get_expr(dots[[i]]))\n .             if (name %in% names(new_columns)) {\n .                 result <- new_columns[[name]]\n .                 chunks <- mask$get_resolved(name)\n .             }\n .             else if (name %in% names(.data)) {\n .                 result <- .data[[name]]\n .                 chunks <- mask$resolve(name)\n .             }\n .             if (inherits(.data, \"rowwise_df\") && vec_is_list(result)) {\n .                 sizes <- list_sizes(result)\n .                 wrong <- which(sizes != 1)\n .                 if (length(wrong)) {\n .                   group <- wrong[1L]\n .                   mask$set_current_group(group)\n .                   abort(x_size = sizes[group], class = \"dplyr:::mutate_incompatible_size\")\n .                 }\n .             }\n .         }\n .         if (is.null(chunks)) {\n .             chunks <- mask$eval_all_mutate(dots[[i]])\n .         }\n .         mask$across_cache_reset()\n .         if (is.null(chunks)) {\n .             if (!is.null(dots_names) && dots_names[i] != \"\") {\n .                 new_columns[[dots_names[i]]] <- zap()\n .                 mask$remove(dots_names[i])\n .             }\n .             next\n .         }\n .         if (is.null(result)) {\n .             if (length(rows) == 1) {\n .                 result <- chunks[[1]]\n .             }\n .             else {\n .                 result <- withCallingHandlers(vec_unchop(chunks, \n .                   rows), vctrs_error_incompatible_type = function(cnd) {\n .                   abort(class = \"dplyr:::error_mutate_incompatible_combine\", \n .                     parent = cnd)\n .                 })\n .             }\n .         }\n .         if (not_named && is.data.frame(result)) {\n .             new_columns[names(result)] <- result\n .             map2(seq_along(result), names(result), function(i, \n .                 nm) {\n .                 mask$add(nm, pluck(chunks, i))\n .             })\n .         }\n .         else {\n .             name <- if (not_named) \n .                 auto_named_dots[i]\n .             else dots_names[i]\n .             new_columns[[name]] <- result\n .             mask$add(name, chunks)\n .         }\n .     }\n . }, error = function(e) {\n .     local_call_step(dots = dots, .index = i, .fn = \"mutate\", \n .         .dot_data = inherits(e, \"rlang_error_data_pronoun_not_found\"))\n .     call_step_envir <- peek_call_step()\n .     error_name <- call_step_envir$error_name\n .     error_expression <- call_step_envir$error_expression\n .     show_group_details <- TRUE\n .     if (inherits(e, \"dplyr:::mutate_incompatible_size\")) {\n .         size <- vec_size(rows[[i]])\n .         x_size <- e$x_size\n .         bullets <- c(x = glue(\"Input `{error_name}` can't be recycled to size {size}.\"), \n .             i = cnd_bullet_input_info(), i = glue(\"Input `{error_name}` must be size {or_1(size)}, not {x_size}.\"), \n .             i = cnd_bullet_rowwise_unlist())\n .     }\n .     else if (inherits(e, \"dplyr:::mutate_mixed_null\")) {\n .         show_group_details <- FALSE\n .         bullets <- c(x = glue(\"`{error_name}` must return compatible vectors across groups.\"), \n .             i = cnd_bullet_input_info(), i = \"Cannot combine NULL and non NULL results.\", \n .             i = cnd_bullet_rowwise_unlist())\n .     }\n .     else if (inherits(e, \"dplyr:::mutate_not_vector\")) {\n .         bullets <- c(x = glue(\"Input `{error_name}` must be a vector, not {friendly_type_of(e$result)}.\"), \n .             i = cnd_bullet_input_info(), i = cnd_bullet_rowwise_unlist())\n .     }\n .     else if (inherits(e, \"dplyr:::error_mutate_incompatible_combine\")) {\n .         show_group_details <- FALSE\n .         bullets <- c(x = glue(\"Input `{error_name}` must return compatible vectors across groups\"), \n .             i = cnd_bullet_input_info(), i = cnd_bullet_combine_details(e$parent$x, \n .                 e$parent$x_arg), i = cnd_bullet_combine_details(e$parent$y, \n .                 e$parent$y_arg))\n .     }\n .     else {\n .         bullets <- c(x = conditionMessage(e), i = cnd_bullet_input_info())\n .     }\n .     abort(c(cnd_bullet_header(), bullets, i = if (show_group_details) cnd_bullet_cur_group_label()), \n .         class = c(\"dplyr:::mutate_error\", \"dplyr_error\"), error_name = error_name, \n .         error_expression = error_expression)\n . }, warning = function(w) {\n .     local_call_step(dots = dots, .index = i, .fn = \"mutate\")\n .     warn(c(cnd_bullet_header(), i = conditionMessage(w), i = cnd_bullet_input_info(), \n .         i = cnd_bullet_cur_group_label()))\n . })",
      "6. mask$eval_all_mutate(dots[[i]])",
      "7. minmax(track_number)",
      "8. scales::rescale(x, to = c(min, max))",
      "9. rescale.numeric(x, to = c(min, max))",
      "10. zero_range(to)",
      "11. .handleSimpleError(function (e) \n  . {\n  .     local_call_step(dots = dots, .index = i, .fn = \"mutate\", \n  .         .dot_data = inherits(e, \"rlang_error_data_pronoun_not_found\"))\n  .     call_step_envir <- peek_call_step()\n  .     error_name <- call_step_envir$error_name\n  .     error_expression <- call_step_envir$error_expression\n  .     show_group_details <- TRUE\n  .     if (inherits(e, \"dplyr:::mutate_incompatible_size\")) {\n  .         size <- vec_size(rows[[i]])\n  .         x_size <- e$x_size\n  .         bullets <- c(x = glue(\"Input `{error_name}` can't be recycled to size {size}.\"), \n  .             i = cnd_bullet_input_info(), i = glue(\"Input `{error_name}` must be size {or_1(size)}, not {x_size}.\"), \n  .             i = cnd_bullet_rowwise_unlist())\n  .     }\n  .     else if (inherits(e, \"dplyr:::mutate_mixed_null\")) {\n  .         show_group_details <- FALSE\n  .         bullets <- c(x = glue(\"`{error_name}` must return compatible vectors across groups.\"), \n  .             i = cnd_bullet_input_info(), i = \"Cannot combine NULL and non NULL results.\", \n  .             i = cnd_bullet_rowwise_unlist())\n  .     }\n  .     else if (inherits(e, \"dplyr:::mutate_not_vector\")) {\n  .         bullets <- c(x = glue(\"Input `{error_name}` must be a vector, not {friendly_type_of(e$result)}.\"), \n  .             i = cnd_bullet_input_info(), i = cnd_bullet_rowwise_unlist())\n  .     }\n  .     else if (inherits(e, \"dplyr:::error_mutate_incompatible_combine\")) {\n  .         show_group_details <- FALSE\n  .         bullets <- c(x = glue(\"Input `{error_name}` must return compatible vectors across groups\"), \n  .             i = cnd_bullet_input_info(), i = cnd_bullet_combine_details(e$parent$x, \n  .                 e$parent$x_arg), i = cnd_bullet_combine_details(e$parent$y, \n  .                 e$parent$y_arg))\n  .     }\n  .     else {\n  .         bullets <- c(x = conditionMessage(e), i = cnd_bullet_input_info())\n  .     }\n  .     abort(c(cnd_bullet_header(), bullets, i = if (show_group_details) cnd_bullet_cur_group_label()), \n  .         class = c(\"dplyr:::mutate_error\", \"dplyr_error\"), error_name = error_name, \n  .         error_expression = error_expression)\n  . }, \"argument \\\"min\\\" is missing, with no default\", base::quote(zero_range(to)))",
      "12. h(simpleError(msg, call))",
      "13. abort(c(cnd_bullet_header(), bullets, i = if (show_group_details) cnd_bullet_cur_group_label()), \n  .     class = c(\"dplyr:::mutate_error\", \"dplyr_error\"), error_name = error_name, \n  .     error_expression = error_expression)",
      "14. signal_abort(cnd)"
     ]
    }
   ],
   "source": [
    "low = low_raw() %>%\n",
    "        group_by(album_id) %>%\n",
    "        mutate(track_number = minmax(track_number))\n",
    "\n",
    "low = split(low, low$album_id)\n",
    "\n",
    "ltreino = floor(length(low)* 0.8)\n",
    "\n",
    "treino = low[1:ltreino]\n",
    "teste = low[(ltreino+1):length(low)]\n",
    "\n",
    "paste(\"Split done correctly:\", length(treino)+length(teste) == length(low))\n",
    "\n",
    "treino = dplyr::bind_rows(treino)\n",
    "teste  = dplyr::bind_rows(teste)"
   ]
  },
  {
   "cell_type": "markdown",
   "metadata": {},
   "source": [
    "## Predict track_number based on features"
   ]
  },
  {
   "cell_type": "code",
   "execution_count": null,
   "metadata": {},
   "outputs": [],
   "source": [
    "model.linear = \n",
    "        lm(track_number~danceability   +  energy              +  loudness_overall       +  as.factor(key)     +\n",
    "                        speechiness    +  acousticness        +  instrumentalness       +  as.factor(mode)    +\n",
    "                        liveness       +  valence             +  tempo_overall          +  duration_ms        +\n",
    "                        time_signature +  tempo_continuous    +  tempo_confidence       +  key_confidence     +\n",
    "                        mode_confidence+  loudness_continuous +  time_signature_confidence, \n",
    "           data = treino)"
   ]
  },
  {
   "cell_type": "code",
   "execution_count": null,
   "metadata": {},
   "outputs": [],
   "source": [
    "pred = predict(model.linear, teste)\n",
    "true = teste$track_number\n",
    "\n",
    "paste(\"Model: \"   , Metrics::rmse(pred, true), sep = \"\")\n",
    "paste(\"Zerorule: \", Metrics::rmse(pred, mean(true)), sep = \"\")\n",
    "\n",
    "plot(true[2000:2200], type='line', col = 'blue', xlim = c(0,  200), ylim = c(0, 1), ylab = \"\")\n",
    "par(new = TRUE)\n",
    "plot(pred[2000:2200], type='line', col = 'red',  xlim = c(0,  200), ylim = c(0, 1), ylab = \"\")\n",
    "par(new = TRUE)\n",
    "plot(rep(mean(true), length(true)), type='ls', col = 'black',  xlim = c(0,  200), ylim = c(0, 1), ylab = \"\")"
   ]
  },
  {
   "cell_type": "markdown",
   "metadata": {},
   "source": [
    "## Random forest"
   ]
  },
  {
   "cell_type": "code",
   "execution_count": null,
   "metadata": {},
   "outputs": [],
   "source": [
    "model.rf =\n",
    "    randomForest(formula = track_number~\n",
    "                            danceability   +  energy              +  loudness_overall       +  #as.factor(key)     +\n",
    "                            speechiness    +  acousticness        +  instrumentalness       +  #as.factor(mode)    +\n",
    "                            liveness       +  valence             +  tempo_overall          +  duration_ms        +\n",
    "                            time_signature +  tempo_continuous    +  tempo_confidence       +  key_confidence     +\n",
    "                            mode_confidence+  loudness_continuous +  time_signature_confidence, \n",
    "                 data=treino, ntree = 1,\n",
    "                 importance=TRUE)"
   ]
  },
  {
   "cell_type": "code",
   "execution_count": null,
   "metadata": {},
   "outputs": [],
   "source": [
    "pred = predict(model.rf, teste)\n",
    "true = teste$track_number\n",
    "\n",
    "paste(\"Model: \"   , Metrics::rmse(pred, true), sep = \"\")\n",
    "paste(\"Zerorule: \", Metrics::rmse(pred, mean(true)), sep = \"\")\n",
    "\n",
    "plot(true[2000:2200], type='line', col = 'blue', xlim = c(0,  200), ylim = c(0, 16), ylab = \"\")\n",
    "par(new = TRUE)\n",
    "plot(round(pred[2000:2200]), type='line', col = 'red',  xlim = c(0,  200), ylim = c(0, 16), ylab = \"\")\n",
    "par(new = TRUE)\n",
    "plot(rep(mean(true), length(true)), type='ls', col = 'black',  xlim = c(0,  200), ylim = c(0, 16), ylab = \"\")"
   ]
  },
  {
   "cell_type": "markdown",
   "metadata": {},
   "source": [
    "## Neural net"
   ]
  },
  {
   "cell_type": "code",
   "execution_count": null,
   "metadata": {},
   "outputs": [],
   "source": [
    "require(nnet)\n",
    "treino %<>% \n",
    "    select(album_id, track_number, danceability, energy, valence, tempo_continuous, tempo_confidence,  key_confidence, loudness_continuous,  time_signature_confidence)\n",
    "\n",
    "model.nnet = \n",
    "    nnet(track_number~., data = treino, size = 2, rang = 0.1, decay = 5e-4, maxit = 100)"
   ]
  },
  {
   "cell_type": "code",
   "execution_count": null,
   "metadata": {},
   "outputs": [],
   "source": [
    "teste %<>% \n",
    "    select(album_id, track_number, danceability, energy, valence, tempo_continuous, tempo_confidence,  key_confidence, loudness_continuous,  time_signature_confidence)"
   ]
  },
  {
   "cell_type": "code",
   "execution_count": null,
   "metadata": {},
   "outputs": [],
   "source": [
    "pred = predict(model.nnet, teste)\n",
    "true = teste$track_number\n",
    "paste(\"Model: \"   , Metrics::rmse(pred, true), sep = \"\")\n",
    "paste(\"Zerorule: \", Metrics::rmse(pred, mean(true)), sep = \"\")\n",
    "\n",
    "plot(true[0:1000], type='line', col = 'blue', ylim = c(0, 16), ylab = \"\")\n",
    "par(new = TRUE)\n",
    "plot(round(pred[0:1000]), type='line', col = 'red', ylim = c(0, 16), ylab = \"\")\n",
    "par(new = TRUE)\n",
    "plot(rep(mean(true), length(true)), type='ls', col = 'black', ylim = c(0, 16), ylab = \"\")"
   ]
  }
 ],
 "metadata": {
  "kernelspec": {
   "display_name": "R",
   "language": "R",
   "name": "ir"
  },
  "language_info": {
   "codemirror_mode": "r",
   "file_extension": ".r",
   "mimetype": "text/x-r-source",
   "name": "R",
   "pygments_lexer": "r",
   "version": "4.0.3"
  }
 },
 "nbformat": 4,
 "nbformat_minor": 4
}
