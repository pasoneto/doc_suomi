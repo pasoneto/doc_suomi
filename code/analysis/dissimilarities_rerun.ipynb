{
 "cells": [
  {
   "cell_type": "code",
   "execution_count": 7,
   "metadata": {},
   "outputs": [
    {
     "name": "stderr",
     "output_type": "stream",
     "text": [
      "`summarise()` has grouped output by 'album_id', 'name'. You can override using the `.groups` argument.\n",
      "\n"
     ]
    },
    {
     "name": "stdout",
     "output_type": "stream",
     "text": [
      "How to use datasets (Personal library)\n",
      " \n",
      "call    base()             for real values\n",
      "call    z_scored()         for normalized\n",
      "call    min_maxed()        for normalized2\n",
      "call    upsampled_album()  for binded upsamplped albums\n",
      "call    low_minmax()       for min-maxed low level\n",
      "call    low_z()            for normalized low level\n",
      "call    low_raw()          for raw  low level"
     ]
    }
   ],
   "source": [
    "setwd(\"/home/pa/Documents/github/doc_suomi/code\")\n",
    "source(\"utils.R\")\n",
    "source(\"data_cook.R\")\n",
    "cat(howto_data)"
   ]
  },
  {
   "cell_type": "markdown",
   "metadata": {},
   "source": [
    "# Dissimilarities 1\n",
    "\n",
    "Dissimilarities with nearest neighbors upsampling. Each album was upsampled to 16 tracks, and then dissimilarities were calculated."
   ]
  },
  {
   "cell_type": "code",
   "execution_count": null,
   "metadata": {},
   "outputs": [],
   "source": [
    "# Reading upsampled albums\n",
    "file_list <- list.files(path=\"/home/pa/Documents/github/doc_suomi/data/dissimilarities/upsampled_nearest\")\n",
    "matrices = c()\n",
    "\n",
    "# Reading files\n",
    "for(i in 1:length(file_list)){\n",
    "    file = paste(\"/home/pa/Documents/github/doc_suomi/data/dissimilarities/upsampled_nearest/\", file_list[i], sep = \"\")\n",
    "    matrices[[i]] = fread(file, header = TRUE)\n",
    "}\n",
    "\n",
    "matrices[[3831]] <- NULL\n",
    "\n",
    "for(i in 1:length(matrices)){\n",
    "    colnames(matrices[[i]]) <- c(\"track_number\", \"album_id\", \"valence\", \"energy\", \"loudness\", \"tempo\")\n",
    "    matrices[[i]]$album_id <- as.character(matrices[[i]]$album_id)\n",
    "    matrices[[i]]$track_number <- c(seq(1, 16, 1))\n",
    "}\n",
    "\n",
    "matrices = dissim_gen(matrices)\n",
    "\n",
    "dt <- matrix_parser(matrices,  function(x){mean(x, na.rm = TRUE)})\n",
    "std <- matrix_parser(matrices, function(x){sd(x, na.rm = TRUE)/sqrt(length(x))})\n",
    "\n",
    "redblack = colorRampPalette(c(\"red\", \"black\"))(100)\n",
    "levelplot(dt, col.regions = redblack)"
   ]
  },
  {
   "cell_type": "markdown",
   "metadata": {},
   "source": [
    "# Dissimilarities 2\n",
    "\n",
    "Each album was upsampled to 100 tracks with nearest neighbors. Then dissimilarities were calculated."
   ]
  },
  {
   "cell_type": "code",
   "execution_count": null,
   "metadata": {},
   "outputs": [],
   "source": [
    "# Reading upsampled albums\n",
    "file_list <- list.files(path=\"/home/pasoneto/Documents/github/doc_suomi/data/dissimilarities/upsampled_100\")\n",
    "matrices = c()\n",
    "\n",
    "# Reading files\n",
    "for(i in 1:length(file_list)){\n",
    "    file = paste(\"/home/pasoneto/Documents/github/doc_suomi/data/dissimilarities/upsampled_100/\", file_list[i], sep = \"\")\n",
    "    matrices[[i]] = fread(file, header = TRUE)\n",
    "}\n",
    "\n",
    "matrices[[3831]] <- NULL\n",
    "\n",
    "for(i in 1:length(matrices)){\n",
    "    colnames(matrices[[i]]) <- c(\"track_number\", \"album_id\", \"valence\", \"energy\", \"loudness\", \"tempo\")\n",
    "    matrices[[i]]$album_id <- as.character(matrices[[i]]$album_id)\n",
    "    matrices[[i]]$track_number <- c(seq(1, 100, 1))\n",
    "}\n",
    "\n",
    "matrices = dissim_gen(matrices)\n",
    "\n",
    "dt <- matrix_parser(matrices,  function(x){mean(x, na.rm = TRUE)})\n",
    "std <- matrix_parser(matrices, function(x){sd(x, na.rm = TRUE)/sqrt(length(x))})\n",
    "\n",
    "redblack = colorRampPalette(c(\"red\", \"black\"))(100)\n",
    "levelplot(dt, col.regions = redblack)"
   ]
  },
  {
   "cell_type": "code",
   "execution_count": 8,
   "metadata": {},
   "outputs": [
    {
     "ename": "ERROR",
     "evalue": "Error in fread(file, header = TRUE): File '/home/pasoneto/Documents/github/doc_suomi/data/dissimilarities/upsampled_bilinear/matriz1.csv' does not exist or is non-readable. getwd()=='/home/pa/Documents/github/doc_suomi/data/treated_data'\n",
     "output_type": "error",
     "traceback": [
      "Error in fread(file, header = TRUE): File '/home/pasoneto/Documents/github/doc_suomi/data/dissimilarities/upsampled_bilinear/matriz1.csv' does not exist or is non-readable. getwd()=='/home/pa/Documents/github/doc_suomi/data/treated_data'\nTraceback:\n",
      "1. list_upsampled()",
      "2. fread(file, header = TRUE)",
      "3. stop(\"File '\", file, \"' does not exist or is non-readable. getwd()=='\", \n .     getwd(), \"'\")"
     ]
    }
   ],
   "source": [
    "library(\"tidyverse\")\n",
    "\n",
    "#Import list of dissimilarities\n",
    "oi = list_upsampled() #upsampled using bilinear interpolation\n",
    "\n",
    "#Renaming columns and resetting track_number\n",
    "for(i in 1:length(oi)){\n",
    "    oi[[i]]$`0` <- seq(1, 16, 1)\n",
    "    colnames(oi[[i]]) <- c(\"track_number\", \"album_id\", \"valence\", \"energy\", \"loudness\", \"tempo\")\n",
    "}\n",
    "\n",
    "#Generating dissimilarities\n",
    "oi = dissim_gen(oi)\n",
    "\n",
    "# #Getting dissimilarity from each album\n",
    "# #each column represents the dissimilarity of track n with every other track\n",
    "# dissims = c()\n",
    "# for(k in 1:16){\n",
    "#     track = c()\n",
    "#     for(i in 1:length(oi)){ track <- c(track, oi[[i]][k, ])}\n",
    "#     dissims[[k]] <- unname(track)\n",
    "# }\n",
    "\n",
    "# #Generating data frame for visuals\n",
    "# names = c(); value = c()\n",
    "# for(i in 1:length(dissims)){\n",
    "#     names = c(names, rep(paste(\"track\", i, sep = \"\"), 71120))\n",
    "#     value = c(value, dissims[[i]])    \n",
    "# }\n",
    "\n",
    "# visual_dissim = tibble(dissims = value, track_ref = names)\n",
    "\n",
    "# # Plotting\n",
    "# dp = visual_dissim %>%\n",
    "#     na.omit() %>% \n",
    "#     mutate(track_ref = fct_reorder(.f = track_ref, .x = dissims, .fun = median)) %>% \n",
    "#     ggplot(aes(x = dissims, y = track_ref, group = track_ref)) +\n",
    "#            ggridges::stat_density_ridges(aes(fill = track_ref),\n",
    "#                                          rel_min_height = 0.03, \n",
    "#                                          scale = 5, \n",
    "#                                          quantile_lines = TRUE, \n",
    "#                                          quantiles = 2)+\n",
    "#     theme(legend.position = \"none\") + xlim(c(0, 1.6))\n",
    "\n",
    "# bp = visual_dissim %>%\n",
    "#     na.omit() %>% \n",
    "#     mutate(track_ref = fct_reorder(.f = track_ref, .x = dissims, .fun = median)) %>% \n",
    "#     ggplot(aes(y = dissims, x = track_ref, group = track_ref)) +\n",
    "#            geom_boxplot(aes(fill = track_ref)) +\n",
    "#     theme(axis.text.x = element_text(angle = 60))\n",
    "\n",
    "# pp = visual_dissim %>%\n",
    "#     na.omit() %>% \n",
    "#     group_by(track_ref) %>%\n",
    "#     summarise(dissim = mean(dissims), stder = sd(dissims)/sqrt(length(dissims))) %>%\n",
    "#     mutate(track_ref = fct_reorder(.f = track_ref, .x = dissim, .fun = mean)) %>% \n",
    "#     ggplot(aes(x = track_ref, y = dissim, fill = track_ref))+\n",
    "#         geom_point(size = 0.5)+\n",
    "#         geom_errorbar(aes(ymin = dissim-stder, ymax = dissim+stder)) +\n",
    "#     theme(axis.text.x = element_text(angle = 60))"
   ]
  },
  {
   "cell_type": "markdown",
   "metadata": {},
   "source": [
    "# Dissimilarities 3\n",
    "\n",
    "Here I'm looking at overall dissimilarities for each track. Essentially what I'm asking is: \"how dissimilar is track $n$ from all other tracks?\""
   ]
  },
  {
   "cell_type": "markdown",
   "metadata": {},
   "source": [
    "## Mean and standard error of dissimilarities by track"
   ]
  },
  {
   "cell_type": "code",
   "execution_count": null,
   "metadata": {},
   "outputs": [],
   "source": [
    "pp"
   ]
  },
  {
   "cell_type": "markdown",
   "metadata": {},
   "source": [
    "## Boxplot of dissimilarities by track"
   ]
  },
  {
   "cell_type": "code",
   "execution_count": null,
   "metadata": {},
   "outputs": [],
   "source": [
    "bp"
   ]
  },
  {
   "cell_type": "markdown",
   "metadata": {},
   "source": [
    "# Dissimilarities by album length\n",
    "\n",
    "Here I'm asking if the pattern of highest dissimilarities hold for albums regardless of their length. For instance, albums with 6 and albums with 16 tracks show the highest dissimilarities on their edges? \n",
    "\n",
    "Graphs are displayed in order from album lengths of 6 to 16"
   ]
  },
  {
   "cell_type": "code",
   "execution_count": null,
   "metadata": {},
   "outputs": [],
   "source": [
    "dt = base()\n",
    "dt %<>% split(dt$album_length)\n",
    "dt = dissim_by_length(dt)"
   ]
  },
  {
   "cell_type": "code",
   "execution_count": null,
   "metadata": {},
   "outputs": [],
   "source": [
    "for(i in 1:length(dt)){\n",
    "    dt[[i]] <- matrix_parser(dt[[i]], function(x){mean(x, na.rm = TRUE)})\n",
    "    print(levelplot(dt[[i]], col.regions = colorRampPalette(c(\"red\", \"black\"))(100)))\n",
    "}"
   ]
  },
  {
   "cell_type": "markdown",
   "metadata": {},
   "source": [
    "#  Down sampling to the smallest album length\n",
    "\n",
    "Down sampled every album to 6 tracks"
   ]
  },
  {
   "cell_type": "code",
   "execution_count": null,
   "metadata": {},
   "outputs": [],
   "source": [
    "# Reading upsampled albums\n",
    "file_list <- list.files(path=\"/home/pasoneto/Documents/github/doc_suomi/data/dissimilarities/down_sampled\")\n",
    "matrices = c()\n",
    "\n",
    "# Reading files\n",
    "for(i in 1:length(file_list)){\n",
    "    file = paste(\"/home/pasoneto/Documents/github/doc_suomi/data/dissimilarities/down_sampled/\", file_list[i], sep = \"\")\n",
    "    matrices[[i]] = fread(file, header = TRUE)\n",
    "}\n",
    "\n",
    "matrices[[3831]] <- NULL\n",
    "\n",
    "for(i in 1:length(matrices)){\n",
    "    colnames(matrices[[i]]) <- c(\"track_number\", \"album_id\", \"valence\", \"energy\", \"loudness\", \"tempo\")\n",
    "    matrices[[i]]$album_id <- as.character(matrices[[i]]$album_id)\n",
    "    matrices[[i]]$track_number <- c(seq(1, 6, 1))\n",
    "}\n",
    "\n",
    "matrices = dissim_gen(matrices)\n",
    "\n",
    "dt <- matrix_parser(matrices,  function(x){mean(x, na.rm = TRUE)})\n",
    "std <- matrix_parser(matrices, function(x){sd(x, na.rm = TRUE)/sqrt(length(x))})\n",
    "\n",
    "redblack = colorRampPalette(c(\"red\", \"black\"))(100)\n",
    "levelplot(dt, col.regions = redblack)"
   ]
  },
  {
   "cell_type": "markdown",
   "metadata": {},
   "source": []
  }
 ],
 "metadata": {
  "kernelspec": {
   "display_name": "R",
   "language": "R",
   "name": "ir"
  },
  "language_info": {
   "codemirror_mode": "r",
   "file_extension": ".r",
   "mimetype": "text/x-r-source",
   "name": "R",
   "pygments_lexer": "r",
   "version": "4.0.2"
  },
  "varInspector": {
   "cols": {
    "lenName": 16,
    "lenType": 16,
    "lenVar": 40
   },
   "kernels_config": {
    "python": {
     "delete_cmd_postfix": "",
     "delete_cmd_prefix": "del ",
     "library": "var_list.py",
     "varRefreshCmd": "print(var_dic_list())"
    },
    "r": {
     "delete_cmd_postfix": ") ",
     "delete_cmd_prefix": "rm(",
     "library": "var_list.r",
     "varRefreshCmd": "cat(var_dic_list()) "
    }
   },
   "types_to_exclude": [
    "module",
    "function",
    "builtin_function_or_method",
    "instance",
    "_Feature"
   ],
   "window_display": false
  }
 },
 "nbformat": 4,
 "nbformat_minor": 4
}
