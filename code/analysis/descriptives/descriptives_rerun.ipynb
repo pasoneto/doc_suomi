{
 "cells": [
  {
   "cell_type": "code",
   "execution_count": 3,
   "metadata": {
    "scrolled": true
   },
   "outputs": [
    {
     "name": "stderr",
     "output_type": "stream",
     "text": [
      "`summarise()` has grouped output by 'album_id', 'name'. You can override using the `.groups` argument.\n",
      "\n"
     ]
    },
    {
     "name": "stdout",
     "output_type": "stream",
     "text": [
      "How to use datasets (Personal library)\n",
      " \n",
      "call    base()             for real values\n",
      "call    z_scored()         for normalized\n",
      "call    min_maxed()        for normalized2\n",
      "call    upsampled_album()  for binded upsamplped albums\n",
      "call    low_minmax()       for min-maxed low level\n",
      "call    low_z()            for normalized low level\n",
      "call    low_raw()          for raw  low level"
     ]
    }
   ],
   "source": [
    "setwd(\"/home/pa/Documents/github/doc_suomi/code\")\n",
    "source(\"utils.R\")\n",
    "source(\"data_cook.R\")\n",
    "cat(howto_data)"
   ]
  },
  {
   "cell_type": "markdown",
   "metadata": {},
   "source": [
    "# Descriptives \n",
    "\n",
    "Data was converted to z-score and colapsed in three sections within each album. After that, I computed the overall mean and the standard error across all album sections. Results are displayed below."
   ]
  },
  {
   "cell_type": "code",
   "execution_count": 6,
   "metadata": {},
   "outputs": [
    {
     "data": {
      "text/html": [
       "<table class=\"dataframe\">\n",
       "<caption>A tibble: 11 × 7</caption>\n",
       "<thead>\n",
       "\t<tr><th scope=col>album_id</th><th scope=col>album_length</th><th scope=col>track_number</th><th scope=col>valence</th><th scope=col>energy</th><th scope=col>loudness</th><th scope=col>tempo</th></tr>\n",
       "\t<tr><th scope=col>&lt;chr&gt;</th><th scope=col>&lt;int&gt;</th><th scope=col>&lt;int&gt;</th><th scope=col>&lt;dbl&gt;</th><th scope=col>&lt;dbl&gt;</th><th scope=col>&lt;dbl&gt;</th><th scope=col>&lt;dbl&gt;</th></tr>\n",
       "</thead>\n",
       "<tbody>\n",
       "\t<tr><td>006Wgzj2wMz9BX5aPYqjTr</td><td>11</td><td> 1</td><td>-1.0938947</td><td> 1.18375508</td><td> 0.73463922</td><td> 1.35072576</td></tr>\n",
       "\t<tr><td>006Wgzj2wMz9BX5aPYqjTr</td><td>11</td><td> 2</td><td>-0.2965162</td><td>-1.50152756</td><td> 0.57404253</td><td> 0.24468244</td></tr>\n",
       "\t<tr><td>006Wgzj2wMz9BX5aPYqjTr</td><td>11</td><td> 3</td><td>-0.4396507</td><td>-0.58714252</td><td>-0.45151284</td><td>-0.66642561</td></tr>\n",
       "\t<tr><td>006Wgzj2wMz9BX5aPYqjTr</td><td>11</td><td> 4</td><td>-0.2249489</td><td>-1.31633565</td><td>-0.04786546</td><td>-0.21856492</td></tr>\n",
       "\t<tr><td>006Wgzj2wMz9BX5aPYqjTr</td><td>11</td><td> 5</td><td> 1.9638164</td><td> 0.06102915</td><td> 0.23506495</td><td> 0.04349517</td></tr>\n",
       "\t<tr><td>006Wgzj2wMz9BX5aPYqjTr</td><td>11</td><td> 6</td><td> 1.6715835</td><td>-0.14731174</td><td>-0.87078877</td><td>-0.10269692</td></tr>\n",
       "\t<tr><td>006Wgzj2wMz9BX5aPYqjTr</td><td>11</td><td> 7</td><td> 0.1746350</td><td> 0.91754172</td><td> 0.61931140</td><td> 1.64988607</td></tr>\n",
       "\t<tr><td>006Wgzj2wMz9BX5aPYqjTr</td><td>11</td><td> 8</td><td>-0.4873622</td><td> 0.48928543</td><td> 1.60444815</td><td>-0.66762360</td></tr>\n",
       "\t<tr><td>006Wgzj2wMz9BX5aPYqjTr</td><td>11</td><td> 9</td><td>-1.0086104</td><td> 1.25320205</td><td>-0.42726167</td><td> 0.23086813</td></tr>\n",
       "\t<tr><td>006Wgzj2wMz9BX5aPYqjTr</td><td>11</td><td>10</td><td> 0.3714449</td><td>-1.05012229</td><td>-2.21592078</td><td>-2.08375887</td></tr>\n",
       "\t<tr><td>006Wgzj2wMz9BX5aPYqjTr</td><td>11</td><td>11</td><td>-0.6304967</td><td> 0.69762633</td><td> 0.24584326</td><td> 0.21941236</td></tr>\n",
       "</tbody>\n",
       "</table>\n"
      ],
      "text/latex": [
       "A tibble: 11 × 7\n",
       "\\begin{tabular}{lllllll}\n",
       " album\\_id & album\\_length & track\\_number & valence & energy & loudness & tempo\\\\\n",
       " <chr> & <int> & <int> & <dbl> & <dbl> & <dbl> & <dbl>\\\\\n",
       "\\hline\n",
       "\t 006Wgzj2wMz9BX5aPYqjTr & 11 &  1 & -1.0938947 &  1.18375508 &  0.73463922 &  1.35072576\\\\\n",
       "\t 006Wgzj2wMz9BX5aPYqjTr & 11 &  2 & -0.2965162 & -1.50152756 &  0.57404253 &  0.24468244\\\\\n",
       "\t 006Wgzj2wMz9BX5aPYqjTr & 11 &  3 & -0.4396507 & -0.58714252 & -0.45151284 & -0.66642561\\\\\n",
       "\t 006Wgzj2wMz9BX5aPYqjTr & 11 &  4 & -0.2249489 & -1.31633565 & -0.04786546 & -0.21856492\\\\\n",
       "\t 006Wgzj2wMz9BX5aPYqjTr & 11 &  5 &  1.9638164 &  0.06102915 &  0.23506495 &  0.04349517\\\\\n",
       "\t 006Wgzj2wMz9BX5aPYqjTr & 11 &  6 &  1.6715835 & -0.14731174 & -0.87078877 & -0.10269692\\\\\n",
       "\t 006Wgzj2wMz9BX5aPYqjTr & 11 &  7 &  0.1746350 &  0.91754172 &  0.61931140 &  1.64988607\\\\\n",
       "\t 006Wgzj2wMz9BX5aPYqjTr & 11 &  8 & -0.4873622 &  0.48928543 &  1.60444815 & -0.66762360\\\\\n",
       "\t 006Wgzj2wMz9BX5aPYqjTr & 11 &  9 & -1.0086104 &  1.25320205 & -0.42726167 &  0.23086813\\\\\n",
       "\t 006Wgzj2wMz9BX5aPYqjTr & 11 & 10 &  0.3714449 & -1.05012229 & -2.21592078 & -2.08375887\\\\\n",
       "\t 006Wgzj2wMz9BX5aPYqjTr & 11 & 11 & -0.6304967 &  0.69762633 &  0.24584326 &  0.21941236\\\\\n",
       "\\end{tabular}\n"
      ],
      "text/markdown": [
       "\n",
       "A tibble: 11 × 7\n",
       "\n",
       "| album_id &lt;chr&gt; | album_length &lt;int&gt; | track_number &lt;int&gt; | valence &lt;dbl&gt; | energy &lt;dbl&gt; | loudness &lt;dbl&gt; | tempo &lt;dbl&gt; |\n",
       "|---|---|---|---|---|---|---|\n",
       "| 006Wgzj2wMz9BX5aPYqjTr | 11 |  1 | -1.0938947 |  1.18375508 |  0.73463922 |  1.35072576 |\n",
       "| 006Wgzj2wMz9BX5aPYqjTr | 11 |  2 | -0.2965162 | -1.50152756 |  0.57404253 |  0.24468244 |\n",
       "| 006Wgzj2wMz9BX5aPYqjTr | 11 |  3 | -0.4396507 | -0.58714252 | -0.45151284 | -0.66642561 |\n",
       "| 006Wgzj2wMz9BX5aPYqjTr | 11 |  4 | -0.2249489 | -1.31633565 | -0.04786546 | -0.21856492 |\n",
       "| 006Wgzj2wMz9BX5aPYqjTr | 11 |  5 |  1.9638164 |  0.06102915 |  0.23506495 |  0.04349517 |\n",
       "| 006Wgzj2wMz9BX5aPYqjTr | 11 |  6 |  1.6715835 | -0.14731174 | -0.87078877 | -0.10269692 |\n",
       "| 006Wgzj2wMz9BX5aPYqjTr | 11 |  7 |  0.1746350 |  0.91754172 |  0.61931140 |  1.64988607 |\n",
       "| 006Wgzj2wMz9BX5aPYqjTr | 11 |  8 | -0.4873622 |  0.48928543 |  1.60444815 | -0.66762360 |\n",
       "| 006Wgzj2wMz9BX5aPYqjTr | 11 |  9 | -1.0086104 |  1.25320205 | -0.42726167 |  0.23086813 |\n",
       "| 006Wgzj2wMz9BX5aPYqjTr | 11 | 10 |  0.3714449 | -1.05012229 | -2.21592078 | -2.08375887 |\n",
       "| 006Wgzj2wMz9BX5aPYqjTr | 11 | 11 | -0.6304967 |  0.69762633 |  0.24584326 |  0.21941236 |\n",
       "\n"
      ],
      "text/plain": [
       "   album_id               album_length track_number valence    energy     \n",
       "1  006Wgzj2wMz9BX5aPYqjTr 11            1           -1.0938947  1.18375508\n",
       "2  006Wgzj2wMz9BX5aPYqjTr 11            2           -0.2965162 -1.50152756\n",
       "3  006Wgzj2wMz9BX5aPYqjTr 11            3           -0.4396507 -0.58714252\n",
       "4  006Wgzj2wMz9BX5aPYqjTr 11            4           -0.2249489 -1.31633565\n",
       "5  006Wgzj2wMz9BX5aPYqjTr 11            5            1.9638164  0.06102915\n",
       "6  006Wgzj2wMz9BX5aPYqjTr 11            6            1.6715835 -0.14731174\n",
       "7  006Wgzj2wMz9BX5aPYqjTr 11            7            0.1746350  0.91754172\n",
       "8  006Wgzj2wMz9BX5aPYqjTr 11            8           -0.4873622  0.48928543\n",
       "9  006Wgzj2wMz9BX5aPYqjTr 11            9           -1.0086104  1.25320205\n",
       "10 006Wgzj2wMz9BX5aPYqjTr 11           10            0.3714449 -1.05012229\n",
       "11 006Wgzj2wMz9BX5aPYqjTr 11           11           -0.6304967  0.69762633\n",
       "   loudness    tempo      \n",
       "1   0.73463922  1.35072576\n",
       "2   0.57404253  0.24468244\n",
       "3  -0.45151284 -0.66642561\n",
       "4  -0.04786546 -0.21856492\n",
       "5   0.23506495  0.04349517\n",
       "6  -0.87078877 -0.10269692\n",
       "7   0.61931140  1.64988607\n",
       "8   1.60444815 -0.66762360\n",
       "9  -0.42726167  0.23086813\n",
       "10 -2.21592078 -2.08375887\n",
       "11  0.24584326  0.21941236"
      ]
     },
     "metadata": {},
     "output_type": "display_data"
    }
   ],
   "source": [
    "data = z_scored()\n",
    "head(data, 11) %>% select(!section)"
   ]
  },
  {
   "cell_type": "code",
   "execution_count": 3,
   "metadata": {},
   "outputs": [
    {
     "name": "stderr",
     "output_type": "stream",
     "text": [
      "`summarise()` regrouping output by 'section' (override with `.groups` argument)\n",
      "\n",
      "`summarise()` ungrouping output (override with `.groups` argument)\n",
      "\n",
      "Warning message in melt(., id.vars = c(\"section\"), measure.vars = c(\"valence\", \"energy\", :\n",
      "“The melt generic in data.table has been passed a tbl_df and will attempt to redirect to the relevant reshape2 method; please note that reshape2 is deprecated, and this redirection is now deprecated as well. To continue using melt methods from reshape2 while both libraries are attached, e.g. melt.list, you can prepend the namespace like reshape2::melt(.). In the next version, this warning will become an error.”\n",
      "`summarise()` ungrouping output (override with `.groups` argument)\n",
      "\n",
      "Warning message in melt(., id.vars = c(\"section\"), measure.vars = c(\"valence\", \"energy\", :\n",
      "“The melt generic in data.table has been passed a tbl_df and will attempt to redirect to the relevant reshape2 method; please note that reshape2 is deprecated, and this redirection is now deprecated as well. To continue using melt methods from reshape2 while both libraries are attached, e.g. melt.list, you can prepend the namespace like reshape2::melt(.). In the next version, this warning will become an error.”\n",
      "`summarise()` ungrouping output (override with `.groups` argument)\n",
      "\n",
      "Warning message in melt(., id.vars = c(\"section\"), measure.vars = c(\"valence\", \"energy\", :\n",
      "“The melt generic in data.table has been passed a tbl_df and will attempt to redirect to the relevant reshape2 method; please note that reshape2 is deprecated, and this redirection is now deprecated as well. To continue using melt methods from reshape2 while both libraries are attached, e.g. melt.list, you can prepend the namespace like reshape2::melt(.). In the next version, this warning will become an error.”\n"
     ]
    }
   ],
   "source": [
    "data %>% \n",
    "    group_by(section, album_id) %>%\n",
    "    summarise(valence = mean(valence),\n",
    "              energy = mean(energy),\n",
    "              loudness = mean(loudness),\n",
    "              tempo = mean(tempo)) %>%    \n",
    "    ungroup() -> media\n",
    "    \n",
    "media %>% \n",
    "    group_by(section) %>%\n",
    "    summarise(valence = mean(valence),\n",
    "              energy = mean(energy),\n",
    "              loudness = mean(loudness),\n",
    "              tempo = mean(tempo)) %>%    \n",
    "    ungroup() %>% \n",
    "    melt(id.vars = c(\"section\"), measure.vars = c(\"valence\", \"energy\", \"loudness\", \"tempo\")) ->\n",
    "    media_final\n",
    "\n",
    "media %>% \n",
    "    group_by(section) %>%\n",
    "    summarise(valence = sd(valence)/sqrt(length(valence)),\n",
    "              energy = sd(energy)/sqrt(length(energy)),\n",
    "              loudness = sd(loudness)/sqrt(length(loudness)),\n",
    "              tempo = sd(tempo)/sqrt(length(tempo))) %>%\n",
    "    ungroup() %>%\n",
    "    melt(id.vars = c(\"section\"), measure.vars = c(\"valence\", \"energy\", \"loudness\", \"tempo\")) ->\n",
    "    stde\n",
    "\n",
    "media %>% \n",
    "    group_by(section) %>%\n",
    "    summarise(valence = mean(valence),\n",
    "              energy = mean(energy),\n",
    "              loudness = mean(loudness),\n",
    "              tempo = mean(tempo)) %>%\n",
    "    ungroup() %>%\n",
    "    melt(id.vars = c(\"section\"), measure.vars = c(\"valence\", \"energy\", \"loudness\", \"tempo\")) ->\n",
    "    media\n",
    "\n",
    "media$stde <- stde$value"
   ]
  },
  {
   "cell_type": "code",
   "execution_count": 4,
   "metadata": {},
   "outputs": [
    {
     "data": {
      "image/png": "[encoded data removed]",
      "text/plain": [
       "plot without title"
      ]
     },
     "metadata": {
      "image/png": {
       "height": 420,
       "width": 420
      }
     },
     "output_type": "display_data"
    }
   ],
   "source": [
    "media %>%\n",
    "    ggplot(aes(x = section, y = value))+\n",
    "        facet_wrap(~variable) +\n",
    "        geom_point() +\n",
    "        geom_errorbar(aes(ymin = value-stde, ymax = value+stde))"
   ]
  },
  {
   "cell_type": "markdown",
   "metadata": {},
   "source": [
    "*note: since means were calculated within each album, there was no imbalance on the number of tracks within each album section. Standard errors were calculated with a fixed amount of observations (number of albums in our dataset). Within each album, however, the last segment got 1 fewer track in case the album length was not divisible by 3."
   ]
  }
 ],
 "metadata": {
  "celltoolbar": "Raw Cell Format",
  "kernelspec": {
   "display_name": "R",
   "language": "R",
   "name": "ir"
  },
  "language_info": {
   "codemirror_mode": "r",
   "file_extension": ".r",
   "mimetype": "text/x-r-source",
   "name": "R",
   "pygments_lexer": "r",
   "version": "4.0.2"
  },
  "varInspector": {
   "cols": {
    "lenName": 16,
    "lenType": 16,
    "lenVar": 40
   },
   "kernels_config": {
    "python": {
     "delete_cmd_postfix": "",
     "delete_cmd_prefix": "del ",
     "library": "var_list.py",
     "varRefreshCmd": "print(var_dic_list())"
    },
    "r": {
     "delete_cmd_postfix": ") ",
     "delete_cmd_prefix": "rm(",
     "library": "var_list.r",
     "varRefreshCmd": "cat(var_dic_list()) "
    }
   },
   "types_to_exclude": [
    "module",
    "function",
    "builtin_function_or_method",
    "instance",
    "_Feature"
   ],
   "window_display": false
  }
 },
 "nbformat": 4,
 "nbformat_minor": 4
}
