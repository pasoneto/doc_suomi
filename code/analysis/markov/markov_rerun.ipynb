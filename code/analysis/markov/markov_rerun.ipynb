{
 "cells": [
  {
   "cell_type": "code",
   "execution_count": 3,
   "metadata": {},
   "outputs": [
    {
     "name": "stderr",
     "output_type": "stream",
     "text": [
      "`summarise()` has grouped output by 'album_id', 'name'. You can override using the `.groups` argument.\n",
      "\n"
     ]
    },
    {
     "name": "stdout",
     "output_type": "stream",
     "text": [
      "How to use datasets (Personal library)\n",
      " \n",
      "call    base()             for real values\n",
      "call    z_scored()         for normalized\n",
      "call    min_maxed()        for normalized2\n",
      "call    upsampled_album()  for binded upsamplped albums\n",
      "call    low_minmax()       for min-maxed low level\n",
      "call    low_z()            for normalized low level\n",
      "call    low_raw()          for raw  low level"
     ]
    }
   ],
   "source": [
    "setwd(\"/home/pa/Documents/github/doc_suomi/code\")\n",
    "source(\"utils.R\")\n",
    "source(\"data_cook.R\")\n",
    "library(\"markovchain\")\n",
    "cat(howto_data)"
   ]
  },
  {
   "cell_type": "markdown",
   "metadata": {},
   "source": [
    "# Markov Chain feature\n",
    "\n",
    "\n",
    "## Idea \n",
    "\n",
    "Here I'm rebooting the previous Markov model. Instead of using a rank transformation of the features within each album, I simply encoded the feature of track $i+1$ as being higher or lower than the feature of track $i$. \n",
    "\n",
    "With this idea, I was hoping to pick up on very simple ordering patterns (e.g. tracks becoming increasingly louder), which should reflect on transition matrix patterns. Also, this encoding of the data picks up on larger patterns of transitions, if compared to the rank-order attempt. \n",
    "\n",
    "For instance, If a feature of track $i$ is set to \"louder\", it means that track $i-1$ was \"quieter\" than track $i$. Therefore, the transition matrix from one state to the other essentially tells us the probability of a sequence of 3 tracks from $i-1$ to $i+1$.\n",
    "\n",
    "\n",
    "## Evaluation\n",
    "\n",
    "After encoding each feature transition, I kept two versions of the same training set: 1) the original one, and 2) a permutated vearsion of each album. These two data sets were used to fit two distinct sets of transition matrices (one for each feature, and one for each data set).\n",
    "\n",
    "Within the training data set (20% of the albums), I evaluated the likelyhood of the data under two different markov models (the one fitted on the original albums and the one fitted on the permutated album).\n",
    "\n",
    "Mean log likelyhoods were separatelly calculated for each album, and error bars represent a measure of dispersion across all albums."
   ]
  },
  {
   "cell_type": "code",
   "execution_count": 4,
   "metadata": {},
   "outputs": [],
   "source": [
    "# arr: array com transições; mo: empirically derived markov object, returns log likelihood of arr\n",
    "ll = function(mo, arr){ t <- log(transitionProbability(mo, arr[1], arr[2]))\n",
    "                        return( if( length(arr) == 2 ) t else t + ll(mo, arr[2:length(arr)]) )}\n",
    "\n",
    "# get the mean likelihood of playlist\n",
    "mll = function(mo, arr){ return (ll(mo, arr)/length(arr)) }"
   ]
  },
  {
   "cell_type": "code",
   "execution_count": 5,
   "metadata": {},
   "outputs": [
    {
     "name": "stderr",
     "output_type": "stream",
     "text": [
      "Warning message in melt(data = log_likelihoods, measure.vars = c(\"empirical_valence\", :\n",
      "“The melt generic in data.table has been passed a data.frame and will attempt to redirect to the relevant reshape2 method; please note that reshape2 is deprecated, and this redirection is now deprecated as well. To continue using melt methods from reshape2 while both libraries are attached, e.g. melt.list, you can prepend the namespace like reshape2::melt(log_likelihoods). In the next version, this warning will become an error.”\n"
     ]
    },
    {
     "data": {
      "text/html": [
       "<table class=\"dataframe\">\n",
       "<caption>A data.frame: 8 × 4</caption>\n",
       "<thead>\n",
       "\t<tr><th scope=col>feature</th><th scope=col>condition</th><th scope=col>log_likelihood</th><th scope=col>se</th></tr>\n",
       "\t<tr><th scope=col>&lt;chr&gt;</th><th scope=col>&lt;chr&gt;</th><th scope=col>&lt;dbl&gt;</th><th scope=col>&lt;dbl&gt;</th></tr>\n",
       "</thead>\n",
       "<tbody>\n",
       "\t<tr><td>energy  </td><td>empirical</td><td>-0.5799277</td><td>0.0034171199</td></tr>\n",
       "\t<tr><td>energy  </td><td>random   </td><td>-0.6172480</td><td>0.0007631961</td></tr>\n",
       "\t<tr><td>loudness</td><td>empirical</td><td>-0.5831564</td><td>0.0031378496</td></tr>\n",
       "\t<tr><td>loudness</td><td>random   </td><td>-0.6140933</td><td>0.0008727319</td></tr>\n",
       "\t<tr><td>tempo   </td><td>empirical</td><td>-0.5906169</td><td>0.0031513886</td></tr>\n",
       "\t<tr><td>tempo   </td><td>random   </td><td>-0.6161933</td><td>0.0008221498</td></tr>\n",
       "\t<tr><td>valence </td><td>empirical</td><td>-0.5854649</td><td>0.0033033404</td></tr>\n",
       "\t<tr><td>valence </td><td>random   </td><td>-0.6160719</td><td>0.0007998753</td></tr>\n",
       "</tbody>\n",
       "</table>\n"
      ],
      "text/latex": [
       "A data.frame: 8 × 4\n",
       "\\begin{tabular}{llll}\n",
       " feature & condition & log\\_likelihood & se\\\\\n",
       " <chr> & <chr> & <dbl> & <dbl>\\\\\n",
       "\\hline\n",
       "\t energy   & empirical & -0.5799277 & 0.0034171199\\\\\n",
       "\t energy   & random    & -0.6172480 & 0.0007631961\\\\\n",
       "\t loudness & empirical & -0.5831564 & 0.0031378496\\\\\n",
       "\t loudness & random    & -0.6140933 & 0.0008727319\\\\\n",
       "\t tempo    & empirical & -0.5906169 & 0.0031513886\\\\\n",
       "\t tempo    & random    & -0.6161933 & 0.0008221498\\\\\n",
       "\t valence  & empirical & -0.5854649 & 0.0033033404\\\\\n",
       "\t valence  & random    & -0.6160719 & 0.0007998753\\\\\n",
       "\\end{tabular}\n"
      ],
      "text/markdown": [
       "\n",
       "A data.frame: 8 × 4\n",
       "\n",
       "| feature &lt;chr&gt; | condition &lt;chr&gt; | log_likelihood &lt;dbl&gt; | se &lt;dbl&gt; |\n",
       "|---|---|---|---|\n",
       "| energy   | empirical | -0.5799277 | 0.0034171199 |\n",
       "| energy   | random    | -0.6172480 | 0.0007631961 |\n",
       "| loudness | empirical | -0.5831564 | 0.0031378496 |\n",
       "| loudness | random    | -0.6140933 | 0.0008727319 |\n",
       "| tempo    | empirical | -0.5906169 | 0.0031513886 |\n",
       "| tempo    | random    | -0.6161933 | 0.0008221498 |\n",
       "| valence  | empirical | -0.5854649 | 0.0033033404 |\n",
       "| valence  | random    | -0.6160719 | 0.0007998753 |\n",
       "\n"
      ],
      "text/plain": [
       "  feature  condition log_likelihood se          \n",
       "1 energy   empirical -0.5799277     0.0034171199\n",
       "2 energy   random    -0.6172480     0.0007631961\n",
       "3 loudness empirical -0.5831564     0.0031378496\n",
       "4 loudness random    -0.6140933     0.0008727319\n",
       "5 tempo    empirical -0.5906169     0.0031513886\n",
       "6 tempo    random    -0.6161933     0.0008221498\n",
       "7 valence  empirical -0.5854649     0.0033033404\n",
       "8 valence  random    -0.6160719     0.0007998753"
      ]
     },
     "metadata": {},
     "output_type": "display_data"
    },
    {
     "data": {
      "image/png": "[encoded data removed]",
      "text/plain": [
       "plot without title"
      ]
     },
     "metadata": {
      "image/png": {
       "height": 420,
       "width": 420
      }
     },
     "output_type": "display_data"
    }
   ],
   "source": [
    "dt = base() %>% \n",
    "        group_by(album_id) %>%\n",
    "        mutate(valence = greater(valence),\n",
    "               energy = greater(energy),\n",
    "               loudness = greater(loudness),\n",
    "               tempo = greater(tempo))\n",
    "\n",
    "dt = album_splitter(dt)\n",
    "\n",
    "\n",
    "# split into traning and test data\n",
    "dt_train  = dt[1:(length(dt)*0.8)]\n",
    "dt_test   = dt[(length(dt)*0.8):length(dt)]\n",
    "\n",
    "valence = c(); energy = c() ;loudness = c(); tempo = c()\n",
    "rv = c(); re = c() ; rl = c(); rt = c()\n",
    "valence_t = c(); energy_t = c() ;loudness_t = c(); tempo_t = c()\n",
    "\n",
    "for(i in 1:length(dt_train)){\n",
    "    valence[[i]]  <- c(as.character(dt_train[[i]]$valence))\n",
    "    energy[[i]]   <- c(as.character(dt_train[[i]]$energy))\n",
    "    loudness[[i]] <- c(as.character(dt_train[[i]]$loudness))\n",
    "    tempo[[i]]    <- c(as.character(dt_train[[i]]$tempo))\n",
    "}\n",
    "\n",
    "for(i in 1:length(dt_train)){\n",
    "    rv[[i]]  <- c(\"start\", sample(as.character(dt_train[[i]]$valence[2:length(dt_train[[i]]$valence)]), replace = FALSE, size = length(dt_train[[i]]$valence)-1))\n",
    "    re[[i]]   <- c(\"start\", sample(as.character(dt_train[[i]]$energy[2:length(dt_train[[i]]$energy)]), replace = FALSE, size = length(dt_train[[i]]$energy)-1))\n",
    "    rl[[i]] <- c(\"start\", sample(as.character(dt_train[[i]]$loudness[2:length(dt_train[[i]]$loudness)]), replace = FALSE, size = length(dt_train[[i]]$loudness)-1))\n",
    "    rt[[i]]    <- c(\"start\", sample(as.character(dt_train[[i]]$tempo[2:length(dt_train[[i]]$tempo)]), replace = FALSE, size = length(dt_train[[i]]$tempo)-1))\n",
    "}\n",
    "\n",
    "for(i in 1:length(dt_test)){\n",
    "    valence_t[[i]]  <- c(as.character(dt_test[[i]]$valence))\n",
    "    energy_t[[i]]   <- c(as.character(dt_test[[i]]$energy))\n",
    "    loudness_t[[i]] <- c(as.character(dt_test[[i]]$loudness))\n",
    "    tempo_t[[i]]    <- c(as.character(dt_test[[i]]$tempo))\n",
    "}\n",
    "\n",
    "states = as.character(c(\"greater\", \"smaller\", \"start\"))\n",
    "\n",
    "# #Getting the transition\n",
    "v = data.frame(markovchainFit(data = valence)$estimate@transitionMatrix)\n",
    "e = data.frame(markovchainFit(data = energy)$estimate@transitionMatrix)\n",
    "l = data.frame(markovchainFit(data = loudness)$estimate@transitionMatrix)\n",
    "t = data.frame(markovchainFit(data = tempo)$estimate@transitionMatrix)\n",
    "\n",
    "#creating the object\n",
    "v <- new(\"markovchain\", states = states, transitionMatrix = matrix(data = as.vector(t(v)), byrow = TRUE, nrow = nrow(v)), name = \"valence\")\n",
    "e <- new(\"markovchain\", states = states, transitionMatrix = matrix(data = as.vector(t(e)), byrow = TRUE, nrow = nrow(e)), name = \"energy\")\n",
    "l <- new(\"markovchain\", states = states, transitionMatrix = matrix(data = as.vector(t(l)), byrow = TRUE, nrow = nrow(l)), name = \"loudness\")\n",
    "t <- new(\"markovchain\", states = states, transitionMatrix = matrix(data = as.vector(t(t)), byrow = TRUE, nrow = nrow(t)), name = \"tempo\")\n",
    "\n",
    "rv = data.frame(markovchainFit(data = rv)$estimate@transitionMatrix)\n",
    "re = data.frame(markovchainFit(data = re)$estimate@transitionMatrix)\n",
    "rl = data.frame(markovchainFit(data = rl)$estimate@transitionMatrix)\n",
    "rt = data.frame(markovchainFit(data = rt)$estimate@transitionMatrix)\n",
    "\n",
    "rv <- new(\"markovchain\", states = states, transitionMatrix = matrix(data = as.vector(t(rv)), byrow = TRUE, nrow = nrow(v)), name = \"rvalence\")\n",
    "re <- new(\"markovchain\", states = states, transitionMatrix = matrix(data = as.vector(t(re)), byrow = TRUE, nrow = nrow(e)), name = \"renergy\")\n",
    "rl <- new(\"markovchain\", states = states, transitionMatrix = matrix(data = as.vector(t(rl)), byrow = TRUE, nrow = nrow(l)), name = \"rloudness\")\n",
    "rt <- new(\"markovchain\", states = states, transitionMatrix = matrix(data = as.vector(t(rt)), byrow = TRUE, nrow = nrow(t)), name = \"rtempo\")\n",
    "\n",
    "for(j in 1){\n",
    "    v_ll <- c(); e_ll <- c(); l_ll <- c(); t_ll <- c()\n",
    "    \n",
    "    r_v <- c(); r_e <- c(); r_l <- c(); r_t <- c()\n",
    "\n",
    "    for(i in 1:length(valence_t)){\n",
    "        v_ll[[i]] <- mll(v, valence_t[[i]])\n",
    "        e_ll[[i]] <- mll(e, energy_t[[i]])\n",
    "        l_ll[[i]] <- mll(l, loudness_t[[i]])\n",
    "        t_ll[[i]] <- mll(t, tempo_t[[i]])\n",
    "        \n",
    "        r_v[[i]] <- mll(rv, valence_t[[i]])\n",
    "        r_e[[i]] <- mll(re, energy_t[[i]])\n",
    "        r_l[[i]] <- mll(rl, loudness_t[[i]])\n",
    "        r_t[[i]] <- mll(rt, tempo_t[[i]])\n",
    "        }\n",
    "    }\n",
    "\n",
    "log_likelihoods <- \n",
    "    data.frame(empirical_valence = unlist(v_ll),\n",
    "               empirical_energy = unlist(e_ll),\n",
    "               empirical_loudness = unlist(l_ll),\n",
    "               empirical_tempo = unlist(t_ll),\n",
    "               \n",
    "               random_valence = unlist(r_v),\n",
    "               random_energy = unlist(r_e),\n",
    "               random_loudness = unlist(r_l),\n",
    "               random_tempo = unlist(r_t)\n",
    "              )\n",
    "\n",
    "ll <-\n",
    "    melt(data = log_likelihoods, \n",
    "        measure.vars = c('empirical_valence',\n",
    "                         'empirical_energy',\n",
    "                         'empirical_loudness',\n",
    "                         'empirical_tempo',\n",
    "                         'random_valence',\n",
    "                         'random_energy',\n",
    "                         'random_loudness',\n",
    "                         'random_tempo')\n",
    "    )\n",
    "\n",
    "ll<- \n",
    "    tidyr::separate(ll, \n",
    "         variable, \n",
    "         c(\"condition\", \"feature\"), \n",
    "         \"_\")\n",
    "\n",
    "teste2 <- plyr::ddply(ll, c('feature', 'condition'), plyr::summarise,\n",
    "                           log_likelihood = mean(value),\n",
    "                           se = sd(value)/sqrt(length(value))\n",
    ")\n",
    "teste2\n",
    "ggplot(teste2, aes(x=feature, y=log_likelihood, color = condition)) +\n",
    "    geom_errorbar(size = 1.2, aes(ymin=log_likelihood-se, ymax=log_likelihood+se), position=position_dodge(0.5)) +\n",
    "    geom_point(size = 3, position=position_dodge(0.5), fill = 'black')"
   ]
  },
  {
   "cell_type": "code",
   "execution_count": 6,
   "metadata": {},
   "outputs": [
    {
     "name": "stdout",
     "output_type": "stream",
     "text": [
      "[1] \"Valence\"\n"
     ]
    },
    {
     "data": {
      "text/html": [
       "<table class=\"dataframe\">\n",
       "<caption>A matrix: 3 × 3 of type dbl</caption>\n",
       "<thead>\n",
       "\t<tr><th></th><th scope=col>greater</th><th scope=col>smaller</th><th scope=col>start</th></tr>\n",
       "</thead>\n",
       "<tbody>\n",
       "\t<tr><th scope=row>greater</th><td>0.3205376</td><td>0.6794624</td><td>0</td></tr>\n",
       "\t<tr><th scope=row>smaller</th><td>0.6677269</td><td>0.3322731</td><td>0</td></tr>\n",
       "\t<tr><th scope=row>start</th><td>0.5336611</td><td>0.4663389</td><td>0</td></tr>\n",
       "</tbody>\n",
       "</table>\n"
      ],
      "text/latex": [
       "A matrix: 3 × 3 of type dbl\n",
       "\\begin{tabular}{r|lll}\n",
       "  & greater & smaller & start\\\\\n",
       "\\hline\n",
       "\tgreater & 0.3205376 & 0.6794624 & 0\\\\\n",
       "\tsmaller & 0.6677269 & 0.3322731 & 0\\\\\n",
       "\tstart & 0.5336611 & 0.4663389 & 0\\\\\n",
       "\\end{tabular}\n"
      ],
      "text/markdown": [
       "\n",
       "A matrix: 3 × 3 of type dbl\n",
       "\n",
       "| <!--/--> | greater | smaller | start |\n",
       "|---|---|---|---|\n",
       "| greater | 0.3205376 | 0.6794624 | 0 |\n",
       "| smaller | 0.6677269 | 0.3322731 | 0 |\n",
       "| start | 0.5336611 | 0.4663389 | 0 |\n",
       "\n"
      ],
      "text/plain": [
       "        greater   smaller   start\n",
       "greater 0.3205376 0.6794624 0    \n",
       "smaller 0.6677269 0.3322731 0    \n",
       "start   0.5336611 0.4663389 0    "
      ]
     },
     "metadata": {},
     "output_type": "display_data"
    },
    {
     "name": "stdout",
     "output_type": "stream",
     "text": [
      "[1] \"Energy\"\n"
     ]
    },
    {
     "data": {
      "text/html": [
       "<table class=\"dataframe\">\n",
       "<caption>A matrix: 3 × 3 of type dbl</caption>\n",
       "<thead>\n",
       "\t<tr><th></th><th scope=col>greater</th><th scope=col>smaller</th><th scope=col>start</th></tr>\n",
       "</thead>\n",
       "<tbody>\n",
       "\t<tr><th scope=row>greater</th><td>0.3118086</td><td>0.6881914</td><td>0</td></tr>\n",
       "\t<tr><th scope=row>smaller</th><td>0.6616254</td><td>0.3383746</td><td>0</td></tr>\n",
       "\t<tr><th scope=row>start</th><td>0.5075643</td><td>0.4924357</td><td>0</td></tr>\n",
       "</tbody>\n",
       "</table>\n"
      ],
      "text/latex": [
       "A matrix: 3 × 3 of type dbl\n",
       "\\begin{tabular}{r|lll}\n",
       "  & greater & smaller & start\\\\\n",
       "\\hline\n",
       "\tgreater & 0.3118086 & 0.6881914 & 0\\\\\n",
       "\tsmaller & 0.6616254 & 0.3383746 & 0\\\\\n",
       "\tstart & 0.5075643 & 0.4924357 & 0\\\\\n",
       "\\end{tabular}\n"
      ],
      "text/markdown": [
       "\n",
       "A matrix: 3 × 3 of type dbl\n",
       "\n",
       "| <!--/--> | greater | smaller | start |\n",
       "|---|---|---|---|\n",
       "| greater | 0.3118086 | 0.6881914 | 0 |\n",
       "| smaller | 0.6616254 | 0.3383746 | 0 |\n",
       "| start | 0.5075643 | 0.4924357 | 0 |\n",
       "\n"
      ],
      "text/plain": [
       "        greater   smaller   start\n",
       "greater 0.3118086 0.6881914 0    \n",
       "smaller 0.6616254 0.3383746 0    \n",
       "start   0.5075643 0.4924357 0    "
      ]
     },
     "metadata": {},
     "output_type": "display_data"
    },
    {
     "name": "stdout",
     "output_type": "stream",
     "text": [
      "[1] \"Loudness\"\n"
     ]
    },
    {
     "data": {
      "text/html": [
       "<table class=\"dataframe\">\n",
       "<caption>A matrix: 3 × 3 of type dbl</caption>\n",
       "<thead>\n",
       "\t<tr><th></th><th scope=col>greater</th><th scope=col>smaller</th><th scope=col>start</th></tr>\n",
       "</thead>\n",
       "<tbody>\n",
       "\t<tr><th scope=row>greater</th><td>0.3223561</td><td>0.6776439</td><td>0</td></tr>\n",
       "\t<tr><th scope=row>smaller</th><td>0.6515744</td><td>0.3484256</td><td>0</td></tr>\n",
       "\t<tr><th scope=row>start</th><td>0.5279879</td><td>0.4720121</td><td>0</td></tr>\n",
       "</tbody>\n",
       "</table>\n"
      ],
      "text/latex": [
       "A matrix: 3 × 3 of type dbl\n",
       "\\begin{tabular}{r|lll}\n",
       "  & greater & smaller & start\\\\\n",
       "\\hline\n",
       "\tgreater & 0.3223561 & 0.6776439 & 0\\\\\n",
       "\tsmaller & 0.6515744 & 0.3484256 & 0\\\\\n",
       "\tstart & 0.5279879 & 0.4720121 & 0\\\\\n",
       "\\end{tabular}\n"
      ],
      "text/markdown": [
       "\n",
       "A matrix: 3 × 3 of type dbl\n",
       "\n",
       "| <!--/--> | greater | smaller | start |\n",
       "|---|---|---|---|\n",
       "| greater | 0.3223561 | 0.6776439 | 0 |\n",
       "| smaller | 0.6515744 | 0.3484256 | 0 |\n",
       "| start | 0.5279879 | 0.4720121 | 0 |\n",
       "\n"
      ],
      "text/plain": [
       "        greater   smaller   start\n",
       "greater 0.3223561 0.6776439 0    \n",
       "smaller 0.6515744 0.3484256 0    \n",
       "start   0.5279879 0.4720121 0    "
      ]
     },
     "metadata": {},
     "output_type": "display_data"
    },
    {
     "name": "stdout",
     "output_type": "stream",
     "text": [
      "[1] \"Tempo\"\n"
     ]
    },
    {
     "data": {
      "text/html": [
       "<table class=\"dataframe\">\n",
       "<caption>A matrix: 3 × 3 of type dbl</caption>\n",
       "<thead>\n",
       "\t<tr><th></th><th scope=col>greater</th><th scope=col>smaller</th><th scope=col>start</th></tr>\n",
       "</thead>\n",
       "<tbody>\n",
       "\t<tr><th scope=row>greater</th><td>0.3328422</td><td>0.6671578</td><td>0</td></tr>\n",
       "\t<tr><th scope=row>smaller</th><td>0.6619533</td><td>0.3380467</td><td>0</td></tr>\n",
       "\t<tr><th scope=row>start</th><td>0.5075643</td><td>0.4924357</td><td>0</td></tr>\n",
       "</tbody>\n",
       "</table>\n"
      ],
      "text/latex": [
       "A matrix: 3 × 3 of type dbl\n",
       "\\begin{tabular}{r|lll}\n",
       "  & greater & smaller & start\\\\\n",
       "\\hline\n",
       "\tgreater & 0.3328422 & 0.6671578 & 0\\\\\n",
       "\tsmaller & 0.6619533 & 0.3380467 & 0\\\\\n",
       "\tstart & 0.5075643 & 0.4924357 & 0\\\\\n",
       "\\end{tabular}\n"
      ],
      "text/markdown": [
       "\n",
       "A matrix: 3 × 3 of type dbl\n",
       "\n",
       "| <!--/--> | greater | smaller | start |\n",
       "|---|---|---|---|\n",
       "| greater | 0.3328422 | 0.6671578 | 0 |\n",
       "| smaller | 0.6619533 | 0.3380467 | 0 |\n",
       "| start | 0.5075643 | 0.4924357 | 0 |\n",
       "\n"
      ],
      "text/plain": [
       "        greater   smaller   start\n",
       "greater 0.3328422 0.6671578 0    \n",
       "smaller 0.6619533 0.3380467 0    \n",
       "start   0.5075643 0.4924357 0    "
      ]
     },
     "metadata": {},
     "output_type": "display_data"
    }
   ],
   "source": [
    "print(\"Valence\"); v@transitionMatrix; \n",
    "print(\"Energy\"); e@transitionMatrix; \n",
    "print(\"Loudness\"); l@transitionMatrix; \n",
    "print(\"Tempo\"); t@transitionMatrix"
   ]
  },
  {
   "cell_type": "code",
   "execution_count": 7,
   "metadata": {},
   "outputs": [
    {
     "name": "stdout",
     "output_type": "stream",
     "text": [
      "[1] \"Valence\"\n"
     ]
    },
    {
     "data": {
      "text/html": [
       "<table class=\"dataframe\">\n",
       "<caption>A matrix: 3 × 3 of type dbl</caption>\n",
       "<thead>\n",
       "\t<tr><th></th><th scope=col>greater</th><th scope=col>smaller</th><th scope=col>start</th></tr>\n",
       "</thead>\n",
       "<tbody>\n",
       "\t<tr><th scope=row>greater</th><td>0.4668268</td><td>0.5331732</td><td>0</td></tr>\n",
       "\t<tr><th scope=row>smaller</th><td>0.5277928</td><td>0.4722072</td><td>0</td></tr>\n",
       "\t<tr><th scope=row>start</th><td>0.4984871</td><td>0.5015129</td><td>0</td></tr>\n",
       "</tbody>\n",
       "</table>\n"
      ],
      "text/latex": [
       "A matrix: 3 × 3 of type dbl\n",
       "\\begin{tabular}{r|lll}\n",
       "  & greater & smaller & start\\\\\n",
       "\\hline\n",
       "\tgreater & 0.4668268 & 0.5331732 & 0\\\\\n",
       "\tsmaller & 0.5277928 & 0.4722072 & 0\\\\\n",
       "\tstart & 0.4984871 & 0.5015129 & 0\\\\\n",
       "\\end{tabular}\n"
      ],
      "text/markdown": [
       "\n",
       "A matrix: 3 × 3 of type dbl\n",
       "\n",
       "| <!--/--> | greater | smaller | start |\n",
       "|---|---|---|---|\n",
       "| greater | 0.4668268 | 0.5331732 | 0 |\n",
       "| smaller | 0.5277928 | 0.4722072 | 0 |\n",
       "| start | 0.4984871 | 0.5015129 | 0 |\n",
       "\n"
      ],
      "text/plain": [
       "        greater   smaller   start\n",
       "greater 0.4668268 0.5331732 0    \n",
       "smaller 0.5277928 0.4722072 0    \n",
       "start   0.4984871 0.5015129 0    "
      ]
     },
     "metadata": {},
     "output_type": "display_data"
    },
    {
     "name": "stdout",
     "output_type": "stream",
     "text": [
      "[1] \"Energy\"\n"
     ]
    },
    {
     "data": {
      "text/html": [
       "<table class=\"dataframe\">\n",
       "<caption>A matrix: 3 × 3 of type dbl</caption>\n",
       "<thead>\n",
       "\t<tr><th></th><th scope=col>greater</th><th scope=col>smaller</th><th scope=col>start</th></tr>\n",
       "</thead>\n",
       "<tbody>\n",
       "\t<tr><th scope=row>greater</th><td>0.4637097</td><td>0.5362903</td><td>0</td></tr>\n",
       "\t<tr><th scope=row>smaller</th><td>0.5154295</td><td>0.4845705</td><td>0</td></tr>\n",
       "\t<tr><th scope=row>start</th><td>0.4973525</td><td>0.5026475</td><td>0</td></tr>\n",
       "</tbody>\n",
       "</table>\n"
      ],
      "text/latex": [
       "A matrix: 3 × 3 of type dbl\n",
       "\\begin{tabular}{r|lll}\n",
       "  & greater & smaller & start\\\\\n",
       "\\hline\n",
       "\tgreater & 0.4637097 & 0.5362903 & 0\\\\\n",
       "\tsmaller & 0.5154295 & 0.4845705 & 0\\\\\n",
       "\tstart & 0.4973525 & 0.5026475 & 0\\\\\n",
       "\\end{tabular}\n"
      ],
      "text/markdown": [
       "\n",
       "A matrix: 3 × 3 of type dbl\n",
       "\n",
       "| <!--/--> | greater | smaller | start |\n",
       "|---|---|---|---|\n",
       "| greater | 0.4637097 | 0.5362903 | 0 |\n",
       "| smaller | 0.5154295 | 0.4845705 | 0 |\n",
       "| start | 0.4973525 | 0.5026475 | 0 |\n",
       "\n"
      ],
      "text/plain": [
       "        greater   smaller   start\n",
       "greater 0.4637097 0.5362903 0    \n",
       "smaller 0.5154295 0.4845705 0    \n",
       "start   0.4973525 0.5026475 0    "
      ]
     },
     "metadata": {},
     "output_type": "display_data"
    },
    {
     "name": "stdout",
     "output_type": "stream",
     "text": [
      "[1] \"Loudness\"\n"
     ]
    },
    {
     "data": {
      "text/html": [
       "<table class=\"dataframe\">\n",
       "<caption>A matrix: 3 × 3 of type dbl</caption>\n",
       "<thead>\n",
       "\t<tr><th></th><th scope=col>greater</th><th scope=col>smaller</th><th scope=col>start</th></tr>\n",
       "</thead>\n",
       "<tbody>\n",
       "\t<tr><th scope=row>greater</th><td>0.4595637</td><td>0.5404363</td><td>0</td></tr>\n",
       "\t<tr><th scope=row>smaller</th><td>0.5268686</td><td>0.4731314</td><td>0</td></tr>\n",
       "\t<tr><th scope=row>start</th><td>0.4780635</td><td>0.5219365</td><td>0</td></tr>\n",
       "</tbody>\n",
       "</table>\n"
      ],
      "text/latex": [
       "A matrix: 3 × 3 of type dbl\n",
       "\\begin{tabular}{r|lll}\n",
       "  & greater & smaller & start\\\\\n",
       "\\hline\n",
       "\tgreater & 0.4595637 & 0.5404363 & 0\\\\\n",
       "\tsmaller & 0.5268686 & 0.4731314 & 0\\\\\n",
       "\tstart & 0.4780635 & 0.5219365 & 0\\\\\n",
       "\\end{tabular}\n"
      ],
      "text/markdown": [
       "\n",
       "A matrix: 3 × 3 of type dbl\n",
       "\n",
       "| <!--/--> | greater | smaller | start |\n",
       "|---|---|---|---|\n",
       "| greater | 0.4595637 | 0.5404363 | 0 |\n",
       "| smaller | 0.5268686 | 0.4731314 | 0 |\n",
       "| start | 0.4780635 | 0.5219365 | 0 |\n",
       "\n"
      ],
      "text/plain": [
       "        greater   smaller   start\n",
       "greater 0.4595637 0.5404363 0    \n",
       "smaller 0.5268686 0.4731314 0    \n",
       "start   0.4780635 0.5219365 0    "
      ]
     },
     "metadata": {},
     "output_type": "display_data"
    },
    {
     "name": "stdout",
     "output_type": "stream",
     "text": [
      "[1] \"Tempo\"\n"
     ]
    },
    {
     "data": {
      "text/html": [
       "<table class=\"dataframe\">\n",
       "<caption>A matrix: 3 × 3 of type dbl</caption>\n",
       "<thead>\n",
       "\t<tr><th></th><th scope=col>greater</th><th scope=col>smaller</th><th scope=col>start</th></tr>\n",
       "</thead>\n",
       "<tbody>\n",
       "\t<tr><th scope=row>greater</th><td>0.4668530</td><td>0.5331470</td><td>0</td></tr>\n",
       "\t<tr><th scope=row>smaller</th><td>0.5319954</td><td>0.4680046</td><td>0</td></tr>\n",
       "\t<tr><th scope=row>start</th><td>0.4897882</td><td>0.5102118</td><td>0</td></tr>\n",
       "</tbody>\n",
       "</table>\n"
      ],
      "text/latex": [
       "A matrix: 3 × 3 of type dbl\n",
       "\\begin{tabular}{r|lll}\n",
       "  & greater & smaller & start\\\\\n",
       "\\hline\n",
       "\tgreater & 0.4668530 & 0.5331470 & 0\\\\\n",
       "\tsmaller & 0.5319954 & 0.4680046 & 0\\\\\n",
       "\tstart & 0.4897882 & 0.5102118 & 0\\\\\n",
       "\\end{tabular}\n"
      ],
      "text/markdown": [
       "\n",
       "A matrix: 3 × 3 of type dbl\n",
       "\n",
       "| <!--/--> | greater | smaller | start |\n",
       "|---|---|---|---|\n",
       "| greater | 0.4668530 | 0.5331470 | 0 |\n",
       "| smaller | 0.5319954 | 0.4680046 | 0 |\n",
       "| start | 0.4897882 | 0.5102118 | 0 |\n",
       "\n"
      ],
      "text/plain": [
       "        greater   smaller   start\n",
       "greater 0.4668530 0.5331470 0    \n",
       "smaller 0.5319954 0.4680046 0    \n",
       "start   0.4897882 0.5102118 0    "
      ]
     },
     "metadata": {},
     "output_type": "display_data"
    }
   ],
   "source": [
    "print(\"Valence\"); rv@transitionMatrix; \n",
    "print(\"Energy\"); re@transitionMatrix; \n",
    "print(\"Loudness\"); rl@transitionMatrix; \n",
    "print(\"Tempo\"); rt@transitionMatrix"
   ]
  },
  {
   "cell_type": "markdown",
   "metadata": {},
   "source": [
    "# Markov chains and track probability\n",
    "\n",
    "## Following idea\n",
    "\n",
    "Even though the binary encoding of the data seems simple and naive, I think that we have some potential here, and this potential might relate to the interaction of transitions between each feature.\n",
    "\n",
    "If take into account the transition probability of our 4 features, we should find, for instance, that the likelyhood of transitioning from track_number_1 to track_number_2 is generally the highest - or one of the highest, if compared to the other tracks within the album.\n",
    "\n",
    "With that, we should be able to narrow down the best candidates for track $i+1$, given the states of track $i$. I ilustrate this idea below. \n",
    "\n",
    "The column named \"track_2_candidates\" indicates each track's likelyhood of appearing immediately after track 1. We see that tracks 2, 4 and 6 are the best candidates for following (with tied likelyhoods). The column named track_3_can says that, in fact, track 3 has the highest likelyhood of following track 2."
   ]
  },
  {
   "cell_type": "code",
   "execution_count": 32,
   "metadata": {},
   "outputs": [],
   "source": [
    "#Pega todas as probabilidades de transicao entre o track origin e os proximos tracks dos albums\n",
    "probs = function(x, object, track_origin){\n",
    "    tprobs = c()\n",
    "    for(i in 1:(length(x))){\n",
    "        if(i <= track_origin){\n",
    "            tprobs[[i]] = 0\n",
    "        } \n",
    "        if(track_origin != i){\n",
    "            tprobs = c(tprobs, transitionProbability(object, x[[track_origin]], x[[i]]))\n",
    "        }\n",
    "    #print(i == track_origin)    \n",
    "    }\n",
    "    \n",
    "    return(unlist(tprobs))\n",
    "}\n",
    "\n",
    "### Below is just for visualization\n",
    "i = 100\n",
    "dt_test[[i]]$track_2_candidates = c(probs(dt_test[[i]]$valence, v, 1)*probs(dt_test[[i]]$energy, e, 1)*probs(dt_test[[i]]$loudness, l, 1)*probs(dt_test[[i]]$tempo, t, 1))\n",
    "dt_test[[i]]$track_3_can = c(probs(dt_test[[i]]$valence, v, 2)*probs(dt_test[[i]]$energy, e, 2)*probs(dt_test[[i]]$loudness, l, 2)*probs(dt_test[[i]]$tempo, t, 2))\n",
    "dt_test[[i]]$track_4_can = c(probs(dt_test[[i]]$valence, v, 3)*probs(dt_test[[i]]$energy, e, 3)*probs(dt_test[[i]]$loudness, l, 3)*probs(dt_test[[i]]$tempo, t, 3))\n",
    "dt_test[[i]]$track_5_can = c(probs(dt_test[[i]]$valence, v, 4)*probs(dt_test[[i]]$energy, e, 4)*probs(dt_test[[i]]$loudness, l, 4)*probs(dt_test[[i]]$tempo, t, 4))\n",
    "dt_test[[i]]$track_6_can = c(probs(dt_test[[i]]$valence, v, 5)*probs(dt_test[[i]]$energy, e, 5)*probs(dt_test[[i]]$loudness, l, 5)*probs(dt_test[[i]]$tempo, t, 5))    "
   ]
  },
  {
   "cell_type": "code",
   "execution_count": 33,
   "metadata": {},
   "outputs": [
    {
     "name": "stderr",
     "output_type": "stream",
     "text": [
      "Adding missing grouping variables: `album_id`\n",
      "\n"
     ]
    },
    {
     "data": {
      "text/html": [
       "<table class=\"dataframe\">\n",
       "<caption>A grouped_df: 7 × 7</caption>\n",
       "<thead>\n",
       "\t<tr><th scope=col>album_id</th><th scope=col>track_number</th><th scope=col>track_2_candidates</th><th scope=col>track_3_can</th><th scope=col>track_4_can</th><th scope=col>track_5_can</th><th scope=col>track_6_can</th></tr>\n",
       "\t<tr><th scope=col>&lt;chr&gt;</th><th scope=col>&lt;int&gt;</th><th scope=col>&lt;dbl&gt;</th><th scope=col>&lt;dbl&gt;</th><th scope=col>&lt;dbl&gt;</th><th scope=col>&lt;dbl&gt;</th><th scope=col>&lt;dbl&gt;</th></tr>\n",
       "</thead>\n",
       "<tbody>\n",
       "\t<tr><td>6IGVK6UkTCPWIBEnUoOtBK</td><td>1</td><td>0.00000000</td><td>0.00000000</td><td>0.00000000</td><td>0.00000000</td><td>0.00000000</td></tr>\n",
       "\t<tr><td>6IGVK6UkTCPWIBEnUoOtBK</td><td>2</td><td>0.07042553</td><td>0.00000000</td><td>0.00000000</td><td>0.00000000</td><td>0.00000000</td></tr>\n",
       "\t<tr><td>6IGVK6UkTCPWIBEnUoOtBK</td><td>3</td><td>0.05337696</td><td>0.10394253</td><td>0.00000000</td><td>0.00000000</td><td>0.00000000</td></tr>\n",
       "\t<tr><td>6IGVK6UkTCPWIBEnUoOtBK</td><td>4</td><td>0.07042553</td><td>0.01163726</td><td>0.09745137</td><td>0.00000000</td><td>0.00000000</td></tr>\n",
       "\t<tr><td>6IGVK6UkTCPWIBEnUoOtBK</td><td>5</td><td>0.05337696</td><td>0.10394253</td><td>0.01324280</td><td>0.10394253</td><td>0.00000000</td></tr>\n",
       "\t<tr><td>6IGVK6UkTCPWIBEnUoOtBK</td><td>6</td><td>0.06343190</td><td>0.04823384</td><td>0.09481972</td><td>0.04823384</td><td>0.09481972</td></tr>\n",
       "\t<tr><td>6IGVK6UkTCPWIBEnUoOtBK</td><td>7</td><td>0.06832641</td><td>0.02332604</td><td>0.04976652</td><td>0.02332604</td><td>0.04976652</td></tr>\n",
       "</tbody>\n",
       "</table>\n"
      ],
      "text/latex": [
       "A grouped\\_df: 7 × 7\n",
       "\\begin{tabular}{lllllll}\n",
       " album\\_id & track\\_number & track\\_2\\_candidates & track\\_3\\_can & track\\_4\\_can & track\\_5\\_can & track\\_6\\_can\\\\\n",
       " <chr> & <int> & <dbl> & <dbl> & <dbl> & <dbl> & <dbl>\\\\\n",
       "\\hline\n",
       "\t 6IGVK6UkTCPWIBEnUoOtBK & 1 & 0.00000000 & 0.00000000 & 0.00000000 & 0.00000000 & 0.00000000\\\\\n",
       "\t 6IGVK6UkTCPWIBEnUoOtBK & 2 & 0.07042553 & 0.00000000 & 0.00000000 & 0.00000000 & 0.00000000\\\\\n",
       "\t 6IGVK6UkTCPWIBEnUoOtBK & 3 & 0.05337696 & 0.10394253 & 0.00000000 & 0.00000000 & 0.00000000\\\\\n",
       "\t 6IGVK6UkTCPWIBEnUoOtBK & 4 & 0.07042553 & 0.01163726 & 0.09745137 & 0.00000000 & 0.00000000\\\\\n",
       "\t 6IGVK6UkTCPWIBEnUoOtBK & 5 & 0.05337696 & 0.10394253 & 0.01324280 & 0.10394253 & 0.00000000\\\\\n",
       "\t 6IGVK6UkTCPWIBEnUoOtBK & 6 & 0.06343190 & 0.04823384 & 0.09481972 & 0.04823384 & 0.09481972\\\\\n",
       "\t 6IGVK6UkTCPWIBEnUoOtBK & 7 & 0.06832641 & 0.02332604 & 0.04976652 & 0.02332604 & 0.04976652\\\\\n",
       "\\end{tabular}\n"
      ],
      "text/markdown": [
       "\n",
       "A grouped_df: 7 × 7\n",
       "\n",
       "| album_id &lt;chr&gt; | track_number &lt;int&gt; | track_2_candidates &lt;dbl&gt; | track_3_can &lt;dbl&gt; | track_4_can &lt;dbl&gt; | track_5_can &lt;dbl&gt; | track_6_can &lt;dbl&gt; |\n",
       "|---|---|---|---|---|---|---|\n",
       "| 6IGVK6UkTCPWIBEnUoOtBK | 1 | 0.00000000 | 0.00000000 | 0.00000000 | 0.00000000 | 0.00000000 |\n",
       "| 6IGVK6UkTCPWIBEnUoOtBK | 2 | 0.07042553 | 0.00000000 | 0.00000000 | 0.00000000 | 0.00000000 |\n",
       "| 6IGVK6UkTCPWIBEnUoOtBK | 3 | 0.05337696 | 0.10394253 | 0.00000000 | 0.00000000 | 0.00000000 |\n",
       "| 6IGVK6UkTCPWIBEnUoOtBK | 4 | 0.07042553 | 0.01163726 | 0.09745137 | 0.00000000 | 0.00000000 |\n",
       "| 6IGVK6UkTCPWIBEnUoOtBK | 5 | 0.05337696 | 0.10394253 | 0.01324280 | 0.10394253 | 0.00000000 |\n",
       "| 6IGVK6UkTCPWIBEnUoOtBK | 6 | 0.06343190 | 0.04823384 | 0.09481972 | 0.04823384 | 0.09481972 |\n",
       "| 6IGVK6UkTCPWIBEnUoOtBK | 7 | 0.06832641 | 0.02332604 | 0.04976652 | 0.02332604 | 0.04976652 |\n",
       "\n"
      ],
      "text/plain": [
       "  album_id               track_number track_2_candidates track_3_can\n",
       "1 6IGVK6UkTCPWIBEnUoOtBK 1            0.00000000         0.00000000 \n",
       "2 6IGVK6UkTCPWIBEnUoOtBK 2            0.07042553         0.00000000 \n",
       "3 6IGVK6UkTCPWIBEnUoOtBK 3            0.05337696         0.10394253 \n",
       "4 6IGVK6UkTCPWIBEnUoOtBK 4            0.07042553         0.01163726 \n",
       "5 6IGVK6UkTCPWIBEnUoOtBK 5            0.05337696         0.10394253 \n",
       "6 6IGVK6UkTCPWIBEnUoOtBK 6            0.06343190         0.04823384 \n",
       "7 6IGVK6UkTCPWIBEnUoOtBK 7            0.06832641         0.02332604 \n",
       "  track_4_can track_5_can track_6_can\n",
       "1 0.00000000  0.00000000  0.00000000 \n",
       "2 0.00000000  0.00000000  0.00000000 \n",
       "3 0.00000000  0.00000000  0.00000000 \n",
       "4 0.09745137  0.00000000  0.00000000 \n",
       "5 0.01324280  0.10394253  0.00000000 \n",
       "6 0.09481972  0.04823384  0.09481972 \n",
       "7 0.04976652  0.02332604  0.04976652 "
      ]
     },
     "metadata": {},
     "output_type": "display_data"
    }
   ],
   "source": [
    "dt_test[[i]] %>% select(track_number, track_2_candidates, track_3_can, track_4_can, track_5_can, track_6_can)"
   ]
  },
  {
   "cell_type": "markdown",
   "metadata": {},
   "source": [
    "A different example from a different album\n",
    "\n",
    "![](/home/pasoneto/Documents/github/doc_suomi/code/analysis/data2.png)\n"
   ]
  },
  {
   "cell_type": "markdown",
   "metadata": {},
   "source": [
    "## Generalizing to the whole test data set\n",
    "\n",
    "Now I'm veryfing the frequency with which track $i+1$ is identifyed as the most likely track to follow track $i$.\n",
    "Results are displayed below.\n",
    "\n",
    "*Note: these are still exploratory and we have some limitations, such as the issue of imbalanced album lengths, as well as the fact that the first track of each album doesn't have a comparative feature."
   ]
  },
  {
   "cell_type": "code",
   "execution_count": 9,
   "metadata": {},
   "outputs": [],
   "source": [
    "for(i in 1:length(dt_test)){\n",
    "    dt_test[[i]]$track_2_candidates = c(probs(dt_test[[i]]$valence, v, 1)*probs(dt_test[[i]]$energy, e, 1)*probs(dt_test[[i]]$loudness, l, 1)*probs(dt_test[[i]]$tempo, t, 1))\n",
    "    dt_test[[i]]$track_3_can = c(probs(dt_test[[i]]$valence, v, 2)*probs(dt_test[[i]]$energy, e, 2)*probs(dt_test[[i]]$loudness, l, 2)*probs(dt_test[[i]]$tempo, t, 2))\n",
    "    dt_test[[i]]$track_4_can = c(probs(dt_test[[i]]$valence, v, 3)*probs(dt_test[[i]]$energy, e, 3)*probs(dt_test[[i]]$loudness, l, 3)*probs(dt_test[[i]]$tempo, t, 3))\n",
    "    dt_test[[i]]$track_5_can = c(probs(dt_test[[i]]$valence, v, 4)*probs(dt_test[[i]]$energy, e, 4)*probs(dt_test[[i]]$loudness, l, 4)*probs(dt_test[[i]]$tempo, t, 4))\n",
    "    dt_test[[i]]$track_6_can = c(probs(dt_test[[i]]$valence, v, 5)*probs(dt_test[[i]]$energy, e, 5)*probs(dt_test[[i]]$loudness, l, 5)*probs(dt_test[[i]]$tempo, t, 5))\n",
    "    dt_test[[i]]$track_7_can = c(probs(dt_test[[i]]$valence, v, 6)*probs(dt_test[[i]]$energy, e, 6)*probs(dt_test[[i]]$loudness, l, 6)*probs(dt_test[[i]]$tempo, t, 6))    \n",
    "}"
   ]
  },
  {
   "cell_type": "code",
   "execution_count": 10,
   "metadata": {},
   "outputs": [],
   "source": [
    "final = dplyr::bind_rows(dt_test)"
   ]
  },
  {
   "cell_type": "code",
   "execution_count": 11,
   "metadata": {},
   "outputs": [
    {
     "name": "stderr",
     "output_type": "stream",
     "text": [
      "`summarise()` has grouped output by 'album_id'. You can override using the `.groups` argument.\n",
      "\n"
     ]
    },
    {
     "data": {
      "image/png": "[encoded data removed]",
      "text/plain": [
       "plot without title"
      ]
     },
     "metadata": {
      "image/png": {
       "height": 420,
       "width": 420
      }
     },
     "output_type": "display_data"
    }
   ],
   "source": [
    "sorter = function(data){ tn = which(data == max(data))}\n",
    "###############################\n",
    "final %>% \n",
    "    group_by(album_id) %>%\n",
    "    summarise(ganhador2 = as.character(track_number[sorter(track_2_candidates)])) -> g2\n",
    "\n",
    "g2$ganhador2 <- factor(g2$ganhador2,levels = as.character(c(2, 3, 4, 5, 6, 7, 8, 9, 10, 11, 12, 13, 14, 15, 16)))\n",
    "g2 %>%\n",
    "    ggplot(aes(ganhador2))+\n",
    "           geom_bar(stat=\"count\") + ggtitle(\"Counting and comparing how many times track 2 \\n had the highest probability of following track 1\")"
   ]
  },
  {
   "cell_type": "code",
   "execution_count": 12,
   "metadata": {},
   "outputs": [
    {
     "name": "stderr",
     "output_type": "stream",
     "text": [
      "`summarise()` has grouped output by 'album_id'. You can override using the `.groups` argument.\n",
      "\n"
     ]
    },
    {
     "data": {
      "image/png": "[encoded data removed]",
      "text/plain": [
       "plot without title"
      ]
     },
     "metadata": {
      "image/png": {
       "height": 420,
       "width": 420
      }
     },
     "output_type": "display_data"
    }
   ],
   "source": [
    "###############################\n",
    "final %>% \n",
    "    group_by(album_id) %>%\n",
    "    summarise(ganhador3 = as.character(track_number[sorter(track_3_can)])) -> g3\n",
    "\n",
    "g3$ganhador3 <- factor(g3$ganhador3,levels = as.character(c(3, 4, 5, 6, 7, 8, 9, 10, 11, 12, 13, 14, 15, 16)))\n",
    "g3 %>%\n",
    "    ggplot(aes(ganhador3))+\n",
    "           geom_bar(stat=\"count\") + ggtitle(\"Counting and comparing how many times track 3 had \\n the highest probability of following track 2\")"
   ]
  },
  {
   "cell_type": "code",
   "execution_count": 13,
   "metadata": {},
   "outputs": [
    {
     "name": "stderr",
     "output_type": "stream",
     "text": [
      "`summarise()` has grouped output by 'album_id'. You can override using the `.groups` argument.\n",
      "\n"
     ]
    },
    {
     "data": {
      "image/png": "[encoded data removed]",
      "text/plain": [
       "plot without title"
      ]
     },
     "metadata": {
      "image/png": {
       "height": 420,
       "width": 420
      }
     },
     "output_type": "display_data"
    }
   ],
   "source": [
    "###############################\n",
    "final %>% \n",
    "    group_by(album_id) %>%\n",
    "    summarise(ganhador4 = as.character(track_number[sorter(track_4_can)])) -> g4\n",
    "\n",
    "g4$ganhador4 <- factor(g4$ganhador4,levels = as.character(c(4, 5, 6, 7, 8, 9, 10, 11, 12, 13, 14, 15, 16)))\n",
    "g4 %>%\n",
    "    ggplot(aes(ganhador4))+\n",
    "           geom_bar(stat=\"count\") + ggtitle(\"Counting and comparing how many times track 4 \\n had the highest probability of following track 3\")"
   ]
  },
  {
   "cell_type": "code",
   "execution_count": 14,
   "metadata": {},
   "outputs": [
    {
     "name": "stderr",
     "output_type": "stream",
     "text": [
      "`summarise()` has grouped output by 'album_id'. You can override using the `.groups` argument.\n",
      "\n"
     ]
    },
    {
     "data": {
      "image/png": "[encoded data removed]",
      "text/plain": [
       "plot without title"
      ]
     },
     "metadata": {
      "image/png": {
       "height": 420,
       "width": 420
      }
     },
     "output_type": "display_data"
    }
   ],
   "source": [
    "###############################\n",
    "final %>% \n",
    "    group_by(album_id) %>%\n",
    "    summarise(ganhador5 = as.character(track_number[sorter(track_5_can)])) -> g5\n",
    "\n",
    "g5$ganhador5 <- factor(g5$ganhador5,levels = as.character(c(5, 6, 7, 8, 9, 10, 11, 12, 13, 14, 15, 16)))\n",
    "g5 %>%\n",
    "    ggplot(aes(ganhador5))+\n",
    "           geom_bar(stat=\"count\") + ggtitle(\"Counting and comparing how many times track 5 had \\n the highest probability of following track 4\")"
   ]
  },
  {
   "cell_type": "code",
   "execution_count": 15,
   "metadata": {},
   "outputs": [
    {
     "name": "stderr",
     "output_type": "stream",
     "text": [
      "`summarise()` has grouped output by 'album_id'. You can override using the `.groups` argument.\n",
      "\n"
     ]
    },
    {
     "data": {
      "image/png": "[encoded data removed]",
      "text/plain": [
       "plot without title"
      ]
     },
     "metadata": {
      "image/png": {
       "height": 420,
       "width": 420
      }
     },
     "output_type": "display_data"
    }
   ],
   "source": [
    "###############################\n",
    "final %>% \n",
    "    group_by(album_id) %>%\n",
    "    summarise(ganhador6 = as.character(track_number[sorter(track_6_can)])) -> g6\n",
    "\n",
    "g6$ganhador6 <- factor(g6$ganhador6,levels = as.character(c(5, 6, 7, 8, 9, 10, 11, 12, 13, 14, 15, 16)))\n",
    "g6 %>%\n",
    "    ggplot(aes(ganhador6))+\n",
    "           geom_bar(stat=\"count\") +\n",
    "           geom_bar(stat=\"count\") + ggtitle(\"Counting and comparing how many times track 6 had \\n the highest probability of following track 5\")\n"
   ]
  }
 ],
 "metadata": {
  "kernelspec": {
   "display_name": "R",
   "language": "R",
   "name": "ir"
  },
  "language_info": {
   "codemirror_mode": "r",
   "file_extension": ".r",
   "mimetype": "text/x-r-source",
   "name": "R",
   "pygments_lexer": "r",
   "version": "4.0.2"
  },
  "varInspector": {
   "cols": {
    "lenName": 16,
    "lenType": 16,
    "lenVar": 40
   },
   "kernels_config": {
    "python": {
     "delete_cmd_postfix": "",
     "delete_cmd_prefix": "del ",
     "library": "var_list.py",
     "varRefreshCmd": "print(var_dic_list())"
    },
    "r": {
     "delete_cmd_postfix": ") ",
     "delete_cmd_prefix": "rm(",
     "library": "var_list.r",
     "varRefreshCmd": "cat(var_dic_list()) "
    }
   },
   "position": {
    "height": "248.25px",
    "left": "263.733px",
    "right": "20px",
    "top": "87px",
    "width": "800px"
   },
   "types_to_exclude": [
    "module",
    "function",
    "builtin_function_or_method",
    "instance",
    "_Feature"
   ],
   "window_display": false
  }
 },
 "nbformat": 4,
 "nbformat_minor": 4
}
