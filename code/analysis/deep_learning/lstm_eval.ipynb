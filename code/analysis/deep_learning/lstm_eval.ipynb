{
 "cells": [
  {
   "cell_type": "code",
   "execution_count": 13,
   "metadata": {},
   "outputs": [],
   "source": [
    "from keras.models import Sequential\n",
    "from keras.layers import Dense, LSTM, Dropout\n",
    "from sklearn import preprocessing\n",
    "from sklearn.preprocessing import MinMaxScaler, OneHotEncoder\n",
    "import numpy as np\n",
    "import keras\n",
    "import tensorflow as tf\n",
    "import keras.backend as kb\n",
    "from PIL import Image\n",
    "import itertools\n",
    "import matplotlib.pyplot as plt\n",
    "import pandas as pd\n",
    "from sklearn.metrics import mean_squared_error, accuracy_score, roc_auc_score, roc_curve\n",
    "from keras.callbacks import EarlyStopping, ReduceLROnPlateau, ModelCheckpoint"
   ]
  },
  {
   "cell_type": "code",
   "execution_count": 14,
   "metadata": {},
   "outputs": [],
   "source": [
    "def sampleMaker_entry(sample, input_size, output_size, entrada_var):\n",
    "    n_slides = len(sample.index) - (output_size + input_size)+1\n",
    "    entrada = np.array([np.array(sample[entrada_var].iloc[i:i+input_size]) for i in range(0, n_slides, input_size)])\n",
    "    return entrada\n",
    "\n",
    "def sampleMaker_out(sample, input_size, output_size, saida_var):\n",
    "    n_slides = len(sample.index) - (output_size + input_size)+1\n",
    "    saida = [sample[saida_var].iloc[i+input_size:i+input_size+output_size] for i in range(0, n_slides, input_size)]\n",
    "    return saida\n",
    "\n",
    "def splitter(data, group):\n",
    "    data = list(data.groupby(group))\n",
    "    data = [data[i][1] for i in range(len(data))]\n",
    "    return data\n",
    "\n",
    "base = pd.read_csv('/home/pa/Documents/github/doc_suomi/data/lstm/lstm.csv')\n",
    "base = base.head(20)\n",
    "base[\"track_number\"] = [1, 1, 1, 1, 1, 2, 2, 2, 2, 2, 3, 3, 3, 3, 3, 4, 4, 4, 4, 4] "
   ]
  },
  {
   "cell_type": "markdown",
   "metadata": {},
   "source": [
    "# LSTM model\n",
    "\n",
    "## Data\n",
    "\n",
    "Here I am doing my first attempt to use [Spotify's low-level descriptors](https://developer.spotify.com/documentation/web-api/reference/#endpoint-get-audio-analysis). Rathar than having a single descriptor for each track, I'm working with several windows of audio description throughout each track.\n",
    "\n",
    "- **Track lengths:** All tracks in the dataset have 5 non-overlapping time windows. In the original [API-call](https://github.com/pasoneto/doc_suomi/blob/main/code/api-call/web_api.py), data comes with different lengths of time frame (e.g. track 1 has 10 observations and track 2 has 5). In order to provide regular sized inputs to the LSTM architecture, I divided each track length in 5 quantile bins and calculated the mean for quantile within within each bin.\n",
    "\n",
    "- **Feature engineering:** I also had the idea of calculating cummmulative track properties. The cumulative feature would work as a forced carrier of information from previous tracks. For Instance, if overall valence of track_1 is $10$, and overall valence of track_2 is $5$, the cummulative valence would be $15$. I did that for all variables in our data set. For the first track, cumulative value is simply the mean value of the feature within the track.\n",
    "\n",
    "- **Data transformation:** Finally, all data was normalized with min-max transform, which I hear works better than z-scores for deep learning models by preserving the shapes of the distributions (?).\n",
    "\n",
    "Below I'm showing two tracks of one album (5 rows for each)."
   ]
  },
  {
   "cell_type": "code",
   "execution_count": 15,
   "metadata": {},
   "outputs": [
    {
     "data": {
      "text/html": [
       "<div>\n",
       "<style scoped>\n",
       "    .dataframe tbody tr th:only-of-type {\n",
       "        vertical-align: middle;\n",
       "    }\n",
       "\n",
       "    .dataframe tbody tr th {\n",
       "        vertical-align: top;\n",
       "    }\n",
       "\n",
       "    .dataframe thead th {\n",
       "        text-align: right;\n",
       "    }\n",
       "</style>\n",
       "<table border=\"1\" class=\"dataframe\">\n",
       "  <thead>\n",
       "    <tr style=\"text-align: right;\">\n",
       "      <th></th>\n",
       "      <th>track_number</th>\n",
       "      <th>valence</th>\n",
       "      <th>energy</th>\n",
       "      <th>loudness_continuous</th>\n",
       "      <th>tempo_continuous</th>\n",
       "      <th>valence_cat</th>\n",
       "    </tr>\n",
       "  </thead>\n",
       "  <tbody>\n",
       "    <tr>\n",
       "      <th>0</th>\n",
       "      <td>1</td>\n",
       "      <td>1.313627</td>\n",
       "      <td>1.774</td>\n",
       "      <td>1.659026</td>\n",
       "      <td>1.362158</td>\n",
       "      <td>start</td>\n",
       "    </tr>\n",
       "    <tr>\n",
       "      <th>1</th>\n",
       "      <td>1</td>\n",
       "      <td>1.313627</td>\n",
       "      <td>1.774</td>\n",
       "      <td>1.859440</td>\n",
       "      <td>1.352054</td>\n",
       "      <td>start</td>\n",
       "    </tr>\n",
       "    <tr>\n",
       "      <th>2</th>\n",
       "      <td>1</td>\n",
       "      <td>1.313627</td>\n",
       "      <td>1.774</td>\n",
       "      <td>1.813754</td>\n",
       "      <td>1.349711</td>\n",
       "      <td>start</td>\n",
       "    </tr>\n",
       "    <tr>\n",
       "      <th>3</th>\n",
       "      <td>1</td>\n",
       "      <td>1.313627</td>\n",
       "      <td>1.774</td>\n",
       "      <td>1.882299</td>\n",
       "      <td>1.558302</td>\n",
       "      <td>start</td>\n",
       "    </tr>\n",
       "    <tr>\n",
       "      <th>4</th>\n",
       "      <td>1</td>\n",
       "      <td>1.313627</td>\n",
       "      <td>1.774</td>\n",
       "      <td>1.608333</td>\n",
       "      <td>1.562684</td>\n",
       "      <td>start</td>\n",
       "    </tr>\n",
       "    <tr>\n",
       "      <th>5</th>\n",
       "      <td>2</td>\n",
       "      <td>1.213427</td>\n",
       "      <td>1.751</td>\n",
       "      <td>1.827929</td>\n",
       "      <td>1.546891</td>\n",
       "      <td>smaller</td>\n",
       "    </tr>\n",
       "    <tr>\n",
       "      <th>6</th>\n",
       "      <td>2</td>\n",
       "      <td>1.213427</td>\n",
       "      <td>1.751</td>\n",
       "      <td>1.930237</td>\n",
       "      <td>1.546697</td>\n",
       "      <td>smaller</td>\n",
       "    </tr>\n",
       "    <tr>\n",
       "      <th>7</th>\n",
       "      <td>2</td>\n",
       "      <td>1.213427</td>\n",
       "      <td>1.751</td>\n",
       "      <td>1.919182</td>\n",
       "      <td>1.548185</td>\n",
       "      <td>smaller</td>\n",
       "    </tr>\n",
       "    <tr>\n",
       "      <th>8</th>\n",
       "      <td>2</td>\n",
       "      <td>1.213427</td>\n",
       "      <td>1.751</td>\n",
       "      <td>1.884766</td>\n",
       "      <td>1.547523</td>\n",
       "      <td>smaller</td>\n",
       "    </tr>\n",
       "    <tr>\n",
       "      <th>9</th>\n",
       "      <td>2</td>\n",
       "      <td>1.213427</td>\n",
       "      <td>1.751</td>\n",
       "      <td>1.746617</td>\n",
       "      <td>1.546378</td>\n",
       "      <td>smaller</td>\n",
       "    </tr>\n",
       "    <tr>\n",
       "      <th>10</th>\n",
       "      <td>3</td>\n",
       "      <td>1.532064</td>\n",
       "      <td>1.852</td>\n",
       "      <td>1.703794</td>\n",
       "      <td>1.563589</td>\n",
       "      <td>greater</td>\n",
       "    </tr>\n",
       "    <tr>\n",
       "      <th>11</th>\n",
       "      <td>3</td>\n",
       "      <td>1.532064</td>\n",
       "      <td>1.852</td>\n",
       "      <td>1.904672</td>\n",
       "      <td>1.557928</td>\n",
       "      <td>greater</td>\n",
       "    </tr>\n",
       "    <tr>\n",
       "      <th>12</th>\n",
       "      <td>3</td>\n",
       "      <td>1.532064</td>\n",
       "      <td>1.852</td>\n",
       "      <td>1.900361</td>\n",
       "      <td>1.560107</td>\n",
       "      <td>greater</td>\n",
       "    </tr>\n",
       "    <tr>\n",
       "      <th>13</th>\n",
       "      <td>3</td>\n",
       "      <td>1.532064</td>\n",
       "      <td>1.852</td>\n",
       "      <td>1.894707</td>\n",
       "      <td>1.556666</td>\n",
       "      <td>greater</td>\n",
       "    </tr>\n",
       "    <tr>\n",
       "      <th>14</th>\n",
       "      <td>3</td>\n",
       "      <td>1.532064</td>\n",
       "      <td>1.852</td>\n",
       "      <td>1.677003</td>\n",
       "      <td>1.574713</td>\n",
       "      <td>greater</td>\n",
       "    </tr>\n",
       "    <tr>\n",
       "      <th>15</th>\n",
       "      <td>4</td>\n",
       "      <td>1.169339</td>\n",
       "      <td>1.907</td>\n",
       "      <td>1.877786</td>\n",
       "      <td>1.499889</td>\n",
       "      <td>smaller</td>\n",
       "    </tr>\n",
       "    <tr>\n",
       "      <th>16</th>\n",
       "      <td>4</td>\n",
       "      <td>1.169339</td>\n",
       "      <td>1.907</td>\n",
       "      <td>1.873512</td>\n",
       "      <td>1.499687</td>\n",
       "      <td>smaller</td>\n",
       "    </tr>\n",
       "    <tr>\n",
       "      <th>17</th>\n",
       "      <td>4</td>\n",
       "      <td>1.169339</td>\n",
       "      <td>1.907</td>\n",
       "      <td>1.890067</td>\n",
       "      <td>1.500414</td>\n",
       "      <td>smaller</td>\n",
       "    </tr>\n",
       "    <tr>\n",
       "      <th>18</th>\n",
       "      <td>4</td>\n",
       "      <td>1.169339</td>\n",
       "      <td>1.907</td>\n",
       "      <td>1.876074</td>\n",
       "      <td>1.499109</td>\n",
       "      <td>smaller</td>\n",
       "    </tr>\n",
       "    <tr>\n",
       "      <th>19</th>\n",
       "      <td>4</td>\n",
       "      <td>1.169339</td>\n",
       "      <td>1.907</td>\n",
       "      <td>1.953972</td>\n",
       "      <td>1.499182</td>\n",
       "      <td>smaller</td>\n",
       "    </tr>\n",
       "  </tbody>\n",
       "</table>\n",
       "</div>"
      ],
      "text/plain": [
       "    track_number   valence  energy  loudness_continuous  tempo_continuous  \\\n",
       "0              1  1.313627   1.774             1.659026          1.362158   \n",
       "1              1  1.313627   1.774             1.859440          1.352054   \n",
       "2              1  1.313627   1.774             1.813754          1.349711   \n",
       "3              1  1.313627   1.774             1.882299          1.558302   \n",
       "4              1  1.313627   1.774             1.608333          1.562684   \n",
       "5              2  1.213427   1.751             1.827929          1.546891   \n",
       "6              2  1.213427   1.751             1.930237          1.546697   \n",
       "7              2  1.213427   1.751             1.919182          1.548185   \n",
       "8              2  1.213427   1.751             1.884766          1.547523   \n",
       "9              2  1.213427   1.751             1.746617          1.546378   \n",
       "10             3  1.532064   1.852             1.703794          1.563589   \n",
       "11             3  1.532064   1.852             1.904672          1.557928   \n",
       "12             3  1.532064   1.852             1.900361          1.560107   \n",
       "13             3  1.532064   1.852             1.894707          1.556666   \n",
       "14             3  1.532064   1.852             1.677003          1.574713   \n",
       "15             4  1.169339   1.907             1.877786          1.499889   \n",
       "16             4  1.169339   1.907             1.873512          1.499687   \n",
       "17             4  1.169339   1.907             1.890067          1.500414   \n",
       "18             4  1.169339   1.907             1.876074          1.499109   \n",
       "19             4  1.169339   1.907             1.953972          1.499182   \n",
       "\n",
       "   valence_cat  \n",
       "0        start  \n",
       "1        start  \n",
       "2        start  \n",
       "3        start  \n",
       "4        start  \n",
       "5      smaller  \n",
       "6      smaller  \n",
       "7      smaller  \n",
       "8      smaller  \n",
       "9      smaller  \n",
       "10     greater  \n",
       "11     greater  \n",
       "12     greater  \n",
       "13     greater  \n",
       "14     greater  \n",
       "15     smaller  \n",
       "16     smaller  \n",
       "17     smaller  \n",
       "18     smaller  \n",
       "19     smaller  "
      ]
     },
     "execution_count": 15,
     "metadata": {},
     "output_type": "execute_result"
    }
   ],
   "source": [
    "base[[\"track_number\", \"valence\", \"energy\", \"loudness_continuous\", \"tempo_continuous\", \"valence_cat\"]].head(20)\n",
    "\n",
    "\n",
    "# le = preprocessing.LabelEncoder()\n",
    "# base['valence_cat'] = le.fit_transform(base['valence_cat'])\n",
    "# base['energy_cat'] = le.fit_transform(base['energy_cat'])\n",
    "# base['loudness_cat'] = le.fit_transform(base['loudness_cat'])\n",
    "# base['tempo_cat'] = le.fit_transform(base['tempo_cat'])\n",
    "\n",
    "# base = splitter(base, \"album_id\")\n",
    "# for i in base:\n",
    "#     i.reset_index(drop = True, inplace = True)"
   ]
  },
  {
   "cell_type": "code",
   "execution_count": null,
   "metadata": {},
   "outputs": [],
   "source": []
  },
  {
   "cell_type": "markdown",
   "metadata": {},
   "source": [
    "*Note: overal loudness is the grand average of the feature \"loudness_continuous\", which has 5 distinct values for each track. Here I'm asking if the overall loudness of track $i+1$ is higher or lower than the overall loudness of track $i$."
   ]
  },
  {
   "cell_type": "markdown",
   "metadata": {},
   "source": [
    "## Model architecture\n",
    "\n",
    "The idea is to feed the LSTM with track $i$ and ask it to predict wether valence, energy, loudness, tempo go up or down in relation to the current feature value.\n",
    "\n",
    "- **Features:** all descriptive features from [Spotify's web API](https://developer.spotify.com/documentation/web-api/reference/#endpoint-get-audio-analysis) plus the cumulative features described before.\n",
    "\n",
    "- **Input:** 5 time steps of each feature of track $i$.\n",
    "\n",
    "- **Output:** Categorical transformation of valence, energy, loudness and tempo from track $i+1$ (i.e. \"greater\" or \"lower\")\n"
   ]
  },
  {
   "cell_type": "markdown",
   "metadata": {},
   "source": [
    "### Input:"
   ]
  },
  {
   "cell_type": "code",
   "execution_count": 33,
   "metadata": {},
   "outputs": [
    {
     "data": {
      "text/html": [
       "<div>\n",
       "<style scoped>\n",
       "    .dataframe tbody tr th:only-of-type {\n",
       "        vertical-align: middle;\n",
       "    }\n",
       "\n",
       "    .dataframe tbody tr th {\n",
       "        vertical-align: top;\n",
       "    }\n",
       "\n",
       "    .dataframe thead th {\n",
       "        text-align: right;\n",
       "    }\n",
       "</style>\n",
       "<table border=\"1\" class=\"dataframe\">\n",
       "  <thead>\n",
       "    <tr style=\"text-align: right;\">\n",
       "      <th></th>\n",
       "      <th>track</th>\n",
       "      <th>loudness_overall</th>\n",
       "      <th>loudness_continuous</th>\n",
       "      <th>loudness_overall_cum</th>\n",
       "    </tr>\n",
       "  </thead>\n",
       "  <tbody>\n",
       "    <tr>\n",
       "      <th>0</th>\n",
       "      <td>1</td>\n",
       "      <td>1.90294</td>\n",
       "      <td>1.84793</td>\n",
       "      <td>1.01255</td>\n",
       "    </tr>\n",
       "    <tr>\n",
       "      <th>1</th>\n",
       "      <td>1</td>\n",
       "      <td>1.90294</td>\n",
       "      <td>1.88344</td>\n",
       "      <td>1.01255</td>\n",
       "    </tr>\n",
       "    <tr>\n",
       "      <th>2</th>\n",
       "      <td>1</td>\n",
       "      <td>1.90294</td>\n",
       "      <td>1.90009</td>\n",
       "      <td>1.01255</td>\n",
       "    </tr>\n",
       "    <tr>\n",
       "      <th>3</th>\n",
       "      <td>1</td>\n",
       "      <td>1.90294</td>\n",
       "      <td>1.87455</td>\n",
       "      <td>1.01255</td>\n",
       "    </tr>\n",
       "    <tr>\n",
       "      <th>4</th>\n",
       "      <td>1</td>\n",
       "      <td>1.90294</td>\n",
       "      <td>1.76004</td>\n",
       "      <td>1.01255</td>\n",
       "    </tr>\n",
       "    <tr>\n",
       "      <th>5</th>\n",
       "      <td>2</td>\n",
       "      <td>1.86245</td>\n",
       "      <td>1.72444</td>\n",
       "      <td>1.06252</td>\n",
       "    </tr>\n",
       "    <tr>\n",
       "      <th>6</th>\n",
       "      <td>2</td>\n",
       "      <td>1.86245</td>\n",
       "      <td>1.80856</td>\n",
       "      <td>1.06252</td>\n",
       "    </tr>\n",
       "    <tr>\n",
       "      <th>7</th>\n",
       "      <td>2</td>\n",
       "      <td>1.86245</td>\n",
       "      <td>1.73461</td>\n",
       "      <td>1.06252</td>\n",
       "    </tr>\n",
       "    <tr>\n",
       "      <th>8</th>\n",
       "      <td>2</td>\n",
       "      <td>1.86245</td>\n",
       "      <td>1.70248</td>\n",
       "      <td>1.06252</td>\n",
       "    </tr>\n",
       "    <tr>\n",
       "      <th>9</th>\n",
       "      <td>2</td>\n",
       "      <td>1.86245</td>\n",
       "      <td>1.84866</td>\n",
       "      <td>1.06252</td>\n",
       "    </tr>\n",
       "  </tbody>\n",
       "</table>\n",
       "</div>"
      ],
      "text/plain": [
       "   track  loudness_overall  loudness_continuous  loudness_overall_cum\n",
       "0  1      1.90294           1.84793              1.01255             \n",
       "1  1      1.90294           1.88344              1.01255             \n",
       "2  1      1.90294           1.90009              1.01255             \n",
       "3  1      1.90294           1.87455              1.01255             \n",
       "4  1      1.90294           1.76004              1.01255             \n",
       "5  2      1.86245           1.72444              1.06252             \n",
       "6  2      1.86245           1.80856              1.06252             \n",
       "7  2      1.86245           1.73461              1.06252             \n",
       "8  2      1.86245           1.70248              1.06252             \n",
       "9  2      1.86245           1.84866              1.06252             "
      ]
     },
     "execution_count": 33,
     "metadata": {},
     "output_type": "execute_result"
    }
   ],
   "source": [
    "oi = base[1].head(10)\n",
    "ent = oi.assign(track = [1, 1, 1, 1, 1, 2, 2, 2, 2, 2], inplace = True)[['track', 'loudness_overall', 'loudness_continuous', 'loudness_overall_cum']]\n",
    "said = pd.DataFrame({\"track\" : [\"2\"], \"loudness_output\" : [\"Up\"]}).reset_index(drop = True)\n",
    "ent"
   ]
  },
  {
   "cell_type": "markdown",
   "metadata": {},
   "source": [
    "### Output:"
   ]
  },
  {
   "cell_type": "code",
   "execution_count": 34,
   "metadata": {},
   "outputs": [
    {
     "data": {
      "text/html": [
       "<div>\n",
       "<style scoped>\n",
       "    .dataframe tbody tr th:only-of-type {\n",
       "        vertical-align: middle;\n",
       "    }\n",
       "\n",
       "    .dataframe tbody tr th {\n",
       "        vertical-align: top;\n",
       "    }\n",
       "\n",
       "    .dataframe thead th {\n",
       "        text-align: right;\n",
       "    }\n",
       "</style>\n",
       "<table border=\"1\" class=\"dataframe\">\n",
       "  <thead>\n",
       "    <tr style=\"text-align: right;\">\n",
       "      <th></th>\n",
       "      <th>track</th>\n",
       "      <th>loudness_output</th>\n",
       "    </tr>\n",
       "  </thead>\n",
       "  <tbody>\n",
       "    <tr>\n",
       "      <th>0</th>\n",
       "      <td>2</td>\n",
       "      <td>Up</td>\n",
       "    </tr>\n",
       "  </tbody>\n",
       "</table>\n",
       "</div>"
      ],
      "text/plain": [
       "  track loudness_output\n",
       "0  2     Up            "
      ]
     },
     "execution_count": 34,
     "metadata": {},
     "output_type": "execute_result"
    }
   ],
   "source": [
    "said"
   ]
  },
  {
   "cell_type": "markdown",
   "metadata": {},
   "source": [
    "The output indicates that the overall loudness of track 2 went up in relation to loudness of track 1."
   ]
  },
  {
   "cell_type": "markdown",
   "metadata": {},
   "source": [
    "# Model evaluation\n",
    "\n",
    "Data was trained on 80% of the dataset (without duplicate albums), and tested on the remaining 20%.\n",
    "Accuracy ranges from 69% to 72%, against a baseline of 50%. \n",
    "\n",
    "The complete code that I wrote (in python) to train and test the model is [here](https://github.com/pasoneto/doc_suomi/blob/main/code/analysis/lstm_reboot.py)."
   ]
  },
  {
   "cell_type": "code",
   "execution_count": 35,
   "metadata": {},
   "outputs": [],
   "source": [
    "treino = base[0:int(len(base)*0.8)]\n",
    "teste = base[int(len(base)*0.8):len(base)]"
   ]
  },
  {
   "cell_type": "code",
   "execution_count": 36,
   "metadata": {},
   "outputs": [
    {
     "data": {
      "text/plain": [
       "Index(['Unnamed: 0', 'album_id', 'track_id', 'danceability_cum', 'energy_cum',\n",
       "       'loudness_overall_cum', 'speechiness_cum', 'acousticness_cum',\n",
       "       'instrumentalness_cum', 'liveness_cum', 'valence_cum',\n",
       "       'tempo_overall_cum', 'duration_ms_cum', 'time_signature_cum',\n",
       "       'loudness_continuous_cum', 'tempo_continuous_cum',\n",
       "       'tempo_confidence_cum', 'key_confidence_cum', 'mode_confidence_cum',\n",
       "       'time_signature_confidence_cum', 'danceability', 'energy',\n",
       "       'loudness_overall', 'speechiness', 'acousticness', 'instrumentalness',\n",
       "       'liveness', 'valence', 'tempo_overall', 'duration_ms', 'time_signature',\n",
       "       'track_number', 'loudness_continuous', 'tempo_continuous',\n",
       "       'tempo_confidence', 'key_confidence', 'mode_confidence',\n",
       "       'time_signature_confidence', 'valence_cat', 'energy_cat',\n",
       "       'loudness_cat', 'tempo_cat'],\n",
       "      dtype='object')"
      ]
     },
     "execution_count": 36,
     "metadata": {},
     "output_type": "execute_result"
    }
   ],
   "source": [
    "albums_treino = [treino[i].album_id[0] for i in range(len(treino))]\n",
    "albums_teste = [teste[i].album_id[0] for i in range(len(teste))]\n",
    "albums_overall = [base[i].album_id[0] for i in range(len(base))]\n",
    "(len(np.unique(np.array(albums_teste))) + len(np.unique(np.array(albums_treino)))) == len(np.unique(np.array(albums_overall)))\n",
    "\n",
    "\n",
    "base[0].columns\n"
   ]
  },
  {
   "cell_type": "code",
   "execution_count": 37,
   "metadata": {},
   "outputs": [],
   "source": [
    "entrada_var = ['danceability', 'energy', 'loudness_overall', 'mode_confidence','speechiness', 'acousticness', 'instrumentalness', 'liveness', 'valence', 'tempo_overall', 'duration_ms', 'time_signature_confidence', 'loudness_continuous', 'tempo_continuous', 'tempo_confidence', 'key_confidence', 'danceability_cum', 'energy_cum','loudness_overall_cum', 'speechiness_cum', 'acousticness_cum','instrumentalness_cum', 'liveness_cum', 'valence_cum','tempo_overall_cum', 'duration_ms_cum', 'time_signature_cum','loudness_continuous_cum', 'tempo_continuous_cum','tempo_confidence_cum', 'key_confidence_cum', 'mode_confidence_cum','time_signature_confidence_cum']\n",
    "va  = ['valence_cat']\n",
    "en  = ['energy_cat'] \n",
    "la  = ['loudness_cat'] \n",
    "te  = ['tempo_cat']\n",
    "\n",
    "entrada_teste = list(map(lambda x : sampleMaker_entry(x, 5, 1, entrada_var), teste))\n",
    "saida_valence   = list(map(lambda x : sampleMaker_out(x, 5, 1, va), teste))\n",
    "saida_energy   = list(map(lambda x : sampleMaker_out(x, 5, 1, en), teste))\n",
    "saida_loudness   = list(map(lambda x : sampleMaker_out(x, 5, 1, la), teste))\n",
    "saida_tempo   = list(map(lambda x : sampleMaker_out(x, 5, 1, te), teste))"
   ]
  },
  {
   "cell_type": "code",
   "execution_count": 38,
   "metadata": {},
   "outputs": [],
   "source": [
    "#import itertools\n",
    "entrada_teste = np.array(list(itertools.chain.from_iterable(entrada_teste)))\n",
    "\n",
    "saida_valence   = np.array(list(itertools.chain.from_iterable(saida_valence)))\n",
    "saida_energy   = np.array(list(itertools.chain.from_iterable(saida_energy)))\n",
    "saida_loudness   = np.array(list(itertools.chain.from_iterable(saida_loudness)))\n",
    "saida_tempo   = np.array(list(itertools.chain.from_iterable(saida_tempo)))"
   ]
  },
  {
   "cell_type": "code",
   "execution_count": 39,
   "metadata": {},
   "outputs": [],
   "source": [
    "# load json and create model\n",
    "from keras.models import model_from_json\n",
    "from sklearn.metrics import confusion_matrix\n",
    "\n",
    "valence = open('/home/pasoneto/Documents/github/doc_suomi/code/analysis/weights/valence/model_valence.json', 'r')\n",
    "valence = valence.read()\n",
    "valence = model_from_json(valence)\n",
    "valence.load_weights(\"/home/pasoneto/Documents/github/doc_suomi/code/analysis/weights/valence/model_valence.h5\")\n",
    "\n",
    "energy = open('/home/pasoneto/Documents/github/doc_suomi/code/analysis/weights/energy/model_energy.json', 'r')\n",
    "energy = energy.read()\n",
    "energy = model_from_json(energy)\n",
    "energy.load_weights(\"/home/pasoneto/Documents/github/doc_suomi/code/analysis/weights/energy/model_energy.h5\")\n",
    "\n",
    "loudness = open('/home/pasoneto/Documents/github/doc_suomi/code/analysis/weights/loudness/model_loudness.json', 'r')\n",
    "loudness = loudness.read()\n",
    "loudness = model_from_json(loudness)\n",
    "loudness.load_weights(\"/home/pasoneto/Documents/github/doc_suomi/code/analysis/weights/loudness/model_loudness.h5\")\n",
    "\n",
    "tempo = open('/home/pasoneto/Documents/github/doc_suomi/code/analysis/weights/tempo/model_tempo.json', 'r')\n",
    "tempo = tempo.read()\n",
    "tempo = model_from_json(tempo)\n",
    "tempo.load_weights(\"/home/pasoneto/Documents/github/doc_suomi/code/analysis/weights/tempo/model_tempo.h5\")"
   ]
  },
  {
   "cell_type": "code",
   "execution_count": 40,
   "metadata": {},
   "outputs": [],
   "source": [
    "# evaluate loaded model on test data\n",
    "valence.compile(optimizer = 'adam', loss = 'binary_crossentropy', metrics = ['accuracy'])\n",
    "energy.compile(optimizer = 'adam', loss = 'binary_crossentropy', metrics = ['accuracy'])\n",
    "loudness.compile(optimizer = 'adam', loss = 'binary_crossentropy', metrics = ['accuracy'])\n",
    "tempo.compile(optimizer = 'adam', loss = 'binary_crossentropy', metrics = ['accuracy'])"
   ]
  },
  {
   "cell_type": "code",
   "execution_count": 41,
   "metadata": {},
   "outputs": [
    {
     "name": "stderr",
     "output_type": "stream",
     "text": [
      "/usr/local/lib/python3.8/dist-packages/tensorflow/python/keras/engine/sequential.py:450: UserWarning: `model.predict_classes()` is deprecated and will be removed after 2021-01-01. Please use instead:* `np.argmax(model.predict(x), axis=-1)`,   if your model does multi-class classification   (e.g. if it uses a `softmax` last-layer activation).* `(model.predict(x) > 0.5).astype(\"int32\")`,   if your model does binary classification   (e.g. if it uses a `sigmoid` last-layer activation).\n",
      "  warnings.warn('`model.predict_classes()` is deprecated and '\n"
     ]
    }
   ],
   "source": [
    "pred_valence = list(itertools.chain.from_iterable(valence.predict_classes(entrada_teste)))\n",
    "prob_valence = list(itertools.chain.from_iterable(valence.predict(entrada_teste)))\n",
    "real_valence = list(itertools.chain.from_iterable(list(itertools.chain.from_iterable(saida_valence))))\n",
    "\n",
    "pred_energy = list(itertools.chain.from_iterable(energy.predict_classes(entrada_teste)))\n",
    "prob_energy = list(itertools.chain.from_iterable(energy.predict(entrada_teste)))\n",
    "real_energy = list(itertools.chain.from_iterable(list(itertools.chain.from_iterable(saida_energy))))\n",
    "\n",
    "pred_loudness = list(itertools.chain.from_iterable(loudness.predict_classes(entrada_teste)))\n",
    "prob_loudness = list(itertools.chain.from_iterable(loudness.predict(entrada_teste)))\n",
    "real_loudness = list(itertools.chain.from_iterable(list(itertools.chain.from_iterable(saida_loudness))))\n",
    "\n",
    "pred_tempo = list(itertools.chain.from_iterable(tempo.predict_classes(entrada_teste)))\n",
    "prob_tempo = list(itertools.chain.from_iterable(tempo.predict(entrada_teste)))\n",
    "real_tempo = list(itertools.chain.from_iterable(list(itertools.chain.from_iterable(saida_tempo))))"
   ]
  },
  {
   "cell_type": "markdown",
   "metadata": {},
   "source": [
    "## Accuracy by feature"
   ]
  },
  {
   "cell_type": "code",
   "execution_count": 42,
   "metadata": {},
   "outputs": [
    {
     "name": "stdout",
     "output_type": "stream",
     "text": [
      " Valence:  0.7167381974248928 \n",
      " Energy:  0.689131191277114 \n",
      " Loudness:  0.5903027491010323 \n",
      " Tempo:  0.7259018675327689\n"
     ]
    }
   ],
   "source": [
    "print(\" Valence: \", accuracy_score(pred_valence, real_valence), \"\\n\",\n",
    "      \"Energy: \", accuracy_score(pred_energy, real_energy),\"\\n\",\n",
    "      \"Loudness: \", accuracy_score(pred_loudness, real_loudness),\"\\n\",\n",
    "      \"Tempo: \", accuracy_score(pred_tempo, real_tempo))"
   ]
  },
  {
   "cell_type": "markdown",
   "metadata": {},
   "source": [
    "## ROC curve and AUC for each feature"
   ]
  },
  {
   "cell_type": "code",
   "execution_count": 43,
   "metadata": {},
   "outputs": [
    {
     "data": {
      "image/png": "[encoded data removed]",
      "text/plain": [
       "<Figure size 432x288 with 1 Axes>"
      ]
     },
     "metadata": {
      "needs_background": "light"
     },
     "output_type": "display_data"
    }
   ],
   "source": [
    "import matplotlib.pyplot as plt\n",
    "\n",
    "vx, vy, vt = roc_curve(real_valence, prob_valence)\n",
    "ex, ey, et = roc_curve(real_energy, prob_energy)\n",
    "lx, ly, lt = roc_curve(real_loudness, prob_loudness)\n",
    "tx, ty, tt = roc_curve(real_tempo, prob_tempo)\n",
    "\n",
    "\n",
    "rasv = roc_auc_score(real_valence, pred_valence)\n",
    "rase = roc_auc_score(real_energy, pred_energy)\n",
    "rasl = roc_auc_score(real_loudness, pred_loudness)\n",
    "rast = roc_auc_score(real_tempo, pred_tempo)\n",
    "\n",
    "plt.plot(vx, vy, color = 'red',   label = f'Valence {round(rasv, 2)}')\n",
    "plt.plot(ex, ey, color = 'blue',  label = f'Energy {round(rase, 2)}')\n",
    "plt.plot(lx, ly, color = 'green', label = f'Loudness {round(rasl, 2)}')\n",
    "plt.plot(tx, ty, color = 'black', label = f'Tempo {round(rast, 2)}')\n",
    "plt.plot([0, 1], [0, 1], \"r--\", color = 'gray')\n",
    "plt.title(\"ROC Curve\")\n",
    "plt.legend()\n",
    "plt.xlabel(\"False Positive Rate\")\n",
    "plt.ylabel(\"True Positive Rate\")\n",
    "plt.show()\n"
   ]
  },
  {
   "cell_type": "markdown",
   "metadata": {},
   "source": [
    "## Percentage of agreement\n",
    "\n",
    "The metrics above relate to single feature. Below im evaluating the overall percentage of agreement (from real to predicted outputs) together with all variables.\n",
    "I basically ran the percentage of agreement between two arrays: 1) the real categorical output for valence, energy, loudness and tempo, and 2) the predicted categorical output for the same variables.\n",
    "\n",
    "Results are plotted below."
   ]
  },
  {
   "cell_type": "code",
   "execution_count": 44,
   "metadata": {},
   "outputs": [
    {
     "data": {
      "text/plain": [
       "(array([  97.,    0.,  821.,    0.,    0., 2393.,    0., 3380.,    0.,\n",
       "        1930.]),\n",
       " array([0. , 0.1, 0.2, 0.3, 0.4, 0.5, 0.6, 0.7, 0.8, 0.9, 1. ]),\n",
       " <BarContainer object of 10 artists>)"
      ]
     },
     "execution_count": 44,
     "metadata": {},
     "output_type": "execute_result"
    },
    {
     "data": {
      "image/png": "[encoded data removed]",
      "text/plain": [
       "<Figure size 432x288 with 1 Axes>"
      ]
     },
     "metadata": {
      "needs_background": "light"
     },
     "output_type": "display_data"
    }
   ],
   "source": [
    "final = []\n",
    "for i in range(len(saida_energy)):\n",
    "    real = list(itertools.chain.from_iterable(list(itertools.chain.from_iterable([saida_valence[i], saida_energy[i], saida_loudness[i], saida_tempo[i]]))))\n",
    "    pred = [pred_valence[i], pred_energy[i], pred_loudness[i], pred_tempo[i]]\n",
    "    final.append(accuracy_score(real, pred))\n",
    "    \n",
    "import seaborn as sns\n",
    "plt.hist(final, color = 'blue', edgecolor = 'black')"
   ]
  },
  {
   "cell_type": "markdown",
   "metadata": {},
   "source": [
    "Overall agreement: 0.6983466426723653\n"
   ]
  }
 ],
 "metadata": {
  "kernelspec": {
   "display_name": "Python 3",
   "language": "python",
   "name": "python3"
  },
  "language_info": {
   "codemirror_mode": {
    "name": "ipython",
    "version": 3
   },
   "file_extension": ".py",
   "mimetype": "text/x-python",
   "name": "python",
   "nbconvert_exporter": "python",
   "pygments_lexer": "ipython3",
   "version": "3.8.6"
  },
  "varInspector": {
   "cols": {
    "lenName": 16,
    "lenType": 16,
    "lenVar": 40
   },
   "kernels_config": {
    "python": {
     "delete_cmd_postfix": "",
     "delete_cmd_prefix": "del ",
     "library": "var_list.py",
     "varRefreshCmd": "print(var_dic_list())"
    },
    "r": {
     "delete_cmd_postfix": ") ",
     "delete_cmd_prefix": "rm(",
     "library": "var_list.r",
     "varRefreshCmd": "cat(var_dic_list()) "
    }
   },
   "types_to_exclude": [
    "module",
    "function",
    "builtin_function_or_method",
    "instance",
    "_Feature"
   ],
   "window_display": false
  }
 },
 "nbformat": 4,
 "nbformat_minor": 4
}
