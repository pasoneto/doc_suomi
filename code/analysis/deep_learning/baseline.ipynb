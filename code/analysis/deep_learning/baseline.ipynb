{
 "cells": [
  {
   "cell_type": "code",
   "execution_count": 93,
   "id": "weekly-wisdom",
   "metadata": {},
   "outputs": [],
   "source": [
    "import pandas as pd\n",
    "from sklearn import preprocessing\n",
    "from sklearn.metrics import accuracy_score\n",
    "base = pd.read_csv('/home/pa/Documents/github/doc_suomi/data/markov/markov.csv')"
   ]
  },
  {
   "cell_type": "code",
   "execution_count": 94,
   "id": "whole-decline",
   "metadata": {},
   "outputs": [],
   "source": [
    "def splitter(data, group):\n",
    "    data = list(data.groupby(group))\n",
    "    data = [data[i][1] for i in range(len(data))]\n",
    "    return data"
   ]
  },
  {
   "cell_type": "code",
   "execution_count": 95,
   "id": "cordless-messaging",
   "metadata": {},
   "outputs": [],
   "source": [
    "base = base[base[\"energy\"] != \"start\"]"
   ]
  },
  {
   "cell_type": "code",
   "execution_count": 96,
   "id": "therapeutic-vacation",
   "metadata": {},
   "outputs": [],
   "source": [
    "le = preprocessing.LabelEncoder()\n",
    "base['valence'] = le.fit_transform(base['valence'])\n",
    "base['energy'] = le.fit_transform(base['energy'])\n",
    "base['loudness'] = le.fit_transform(base['loudness'])\n",
    "base['tempo'] = le.fit_transform(base['tempo'])\n",
    "\n",
    "base[\"valence_next\"] = le.fit_transform(base.groupby([\"album_id\"])[\"valence\"].shift(-1))\n",
    "base[\"energy_next\"] = le.fit_transform(base.groupby([\"album_id\"])[\"energy\"].shift(-1))\n",
    "base[\"loudness_next\"] = le.fit_transform(base.groupby([\"album_id\"])[\"loudness\"].shift(-1))\n",
    "base[\"tempo_next\"] = le.fit_transform(base.groupby([\"album_id\"])[\"tempo\"].shift(-1))\n",
    "\n",
    "base = splitter(base, \"album_id\")\n",
    "for i in base:\n",
    "    i.reset_index(drop = True, inplace = True)\n",
    "\n",
    "\n",
    "\n",
    "treino = base[0:int(len(base)*0.8)]\n",
    "teste = base[len(treino):len(base)]"
   ]
  },
  {
   "cell_type": "code",
   "execution_count": 97,
   "id": "needed-newsletter",
   "metadata": {},
   "outputs": [],
   "source": [
    "treino = pd.concat(treino)\n",
    "teste = pd.concat(teste)"
   ]
  },
  {
   "cell_type": "code",
   "execution_count": 107,
   "id": "studied-gather",
   "metadata": {},
   "outputs": [
    {
     "name": "stdout",
     "output_type": "stream",
     "text": [
      "-----------------------------------------------------\n",
      "Feature:  valence\n",
      "Strategy: stratified , Score: 0.41\n",
      "Strategy: most_frequent , Score: 0.46\n",
      "Strategy: prior , Score: 0.46\n",
      "Strategy: uniform , Score: 0.33\n",
      "-----------------------------------------------------\n",
      "Feature:  energy\n",
      "Strategy: stratified , Score: 0.41\n",
      "Strategy: most_frequent , Score: 0.46\n",
      "Strategy: prior , Score: 0.46\n",
      "Strategy: uniform , Score: 0.33\n",
      "-----------------------------------------------------\n",
      "Feature:  loudness\n",
      "Strategy: stratified , Score: 0.42\n",
      "Strategy: most_frequent , Score: 0.47\n",
      "Strategy: prior , Score: 0.47\n",
      "Strategy: uniform , Score: 0.32\n",
      "-----------------------------------------------------\n",
      "Feature:  tempo\n",
      "Strategy: stratified , Score: 0.42\n",
      "Strategy: most_frequent , Score: 0.46\n",
      "Strategy: prior , Score: 0.46\n",
      "Strategy: uniform , Score: 0.34\n"
     ]
    }
   ],
   "source": [
    "import numpy as np\n",
    "from sklearn.dummy import DummyClassifier\n",
    "\n",
    "feature = [\"valence\", \"energy\", \"loudness\", \"tempo\"]\n",
    "out = [\"valence_next\", \"energy_next\", \"loudness_next\", \"tempo_next\"]\n",
    "strategy = [\"stratified\", \"most_frequent\", \"prior\", \"uniform\"]\n",
    "\n",
    "for k in range(len(feature)):\n",
    "    print(\"-----------------------------------------------------\")\n",
    "    print(\"Feature: \", feature[k])\n",
    "    for i in strategy:\n",
    "        x_treino = treino[feature].values\n",
    "        y_treino = treino[out[k]].values\n",
    "\n",
    "        x_teste = teste[feature].values\n",
    "        y_teste = teste[out[k]].values\n",
    "\n",
    "        dummy_clf = DummyClassifier(strategy=i)\n",
    "\n",
    "        dummy_clf.fit(x_treino, y_treino)\n",
    "\n",
    "        pred = dummy_clf.predict(x_teste)\n",
    "        print(\"Strategy:\", i, \", Score:\", round(accuracy_score(pred, y_teste), 2))\n"
   ]
  },
  {
   "cell_type": "code",
   "execution_count": null,
   "id": "alive-captain",
   "metadata": {},
   "outputs": [],
   "source": []
  }
 ],
 "metadata": {
  "kernelspec": {
   "display_name": "Python 3",
   "language": "python",
   "name": "python3"
  },
  "language_info": {
   "codemirror_mode": {
    "name": "ipython",
    "version": 3
   },
   "file_extension": ".py",
   "mimetype": "text/x-python",
   "name": "python",
   "nbconvert_exporter": "python",
   "pygments_lexer": "ipython3",
   "version": "3.8.6"
  },
  "varInspector": {
   "cols": {
    "lenName": 16,
    "lenType": 16,
    "lenVar": 40
   },
   "kernels_config": {
    "python": {
     "delete_cmd_postfix": "",
     "delete_cmd_prefix": "del ",
     "library": "var_list.py",
     "varRefreshCmd": "print(var_dic_list())"
    },
    "r": {
     "delete_cmd_postfix": ") ",
     "delete_cmd_prefix": "rm(",
     "library": "var_list.r",
     "varRefreshCmd": "cat(var_dic_list()) "
    }
   },
   "types_to_exclude": [
    "module",
    "function",
    "builtin_function_or_method",
    "instance",
    "_Feature"
   ],
   "window_display": false
  }
 },
 "nbformat": 4,
 "nbformat_minor": 5
}
