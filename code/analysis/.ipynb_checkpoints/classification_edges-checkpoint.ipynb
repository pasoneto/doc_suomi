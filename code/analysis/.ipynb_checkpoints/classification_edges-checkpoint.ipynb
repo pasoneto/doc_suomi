{
 "cells": [
  {
   "cell_type": "code",
   "execution_count": 145,
   "metadata": {},
   "outputs": [],
   "source": [
    "import numpy as np\n",
    "import itertools\n",
    "import matplotlib.pyplot as plt\n",
    "import pandas as pd"
   ]
  },
  {
   "cell_type": "code",
   "execution_count": 146,
   "metadata": {},
   "outputs": [],
   "source": [
    "train = pd.read_csv('/home/pasoneto/Documents/github/doc_suomi/data/treated_data/classificacao_edges/train.csv', index_col=0)\n",
    "test = pd.read_csv('/home/pasoneto/Documents/github/doc_suomi/data/treated_data/classificacao_edges/test.csv', index_col=0)"
   ]
  },
  {
   "cell_type": "code",
   "execution_count": 165,
   "metadata": {},
   "outputs": [
    {
     "data": {
      "text/plain": [
       "MLPClassifier(alpha=0, hidden_layer_sizes=(8, 16, 8, 2), max_iter=50000,\n",
       "              random_state=1)"
      ]
     },
     "execution_count": 165,
     "metadata": {},
     "output_type": "execute_result"
    }
   ],
   "source": [
    "from sklearn.neural_network import MLPClassifier\n",
    "from sklearn.linear_model import LogisticRegression\n",
    "from sklearn import preprocessing\n",
    "from sklearn.metrics import accuracy_score\n",
    "from sklearn.metrics import roc_curve, confusion_matrix, roc_auc_score\n",
    "from sklearn.pipeline import Pipeline\n",
    "\n",
    "le = preprocessing.LabelEncoder()\n",
    "le.fit(train['position'].values)\n",
    "resposta_treino = le.transform(train['position'].values)\n",
    "resposta_teste = le.transform(test['position'].values)\n",
    "\n",
    "entrada_treino = train[[\"valence\", \"energy\", \"loudness\",  \"tempo\"]].values\n",
    "entrada_teste = test[[\"valence\", \"energy\", \"loudness\",  \"tempo\"]].values\n",
    "\n",
    "model = MLPClassifier(solver='adam', activation = 'relu', alpha=0, hidden_layer_sizes=(8, 16, 8, 2), random_state=1, max_iter = 50000)\n",
    "model.fit(entrada_treino, resposta_treino)"
   ]
  },
  {
   "cell_type": "code",
   "execution_count": 166,
   "metadata": {},
   "outputs": [],
   "source": [
    "logistic = LogisticRegression(random_state=0).fit(entrada_treino, resposta_treino)\n",
    "pred_log = logistic.predict(entrada_teste)"
   ]
  },
  {
   "cell_type": "code",
   "execution_count": 167,
   "metadata": {},
   "outputs": [],
   "source": [
    "pred = model.predict(entrada_teste)"
   ]
  },
  {
   "cell_type": "code",
   "execution_count": 168,
   "metadata": {},
   "outputs": [
    {
     "name": "stdout",
     "output_type": "stream",
     "text": [
      "Neural net\n"
     ]
    },
    {
     "data": {
      "text/plain": [
       "0.832390435241759"
      ]
     },
     "execution_count": 168,
     "metadata": {},
     "output_type": "execute_result"
    }
   ],
   "source": [
    "print(\"Neural net\")\n",
    "accuracy_score(resposta_teste, pred)"
   ]
  },
  {
   "cell_type": "code",
   "execution_count": 175,
   "metadata": {},
   "outputs": [
    {
     "name": "stdout",
     "output_type": "stream",
     "text": [
      "Logistic: ROC AUC=0.552\n"
     ]
    },
    {
     "data": {
      "text/plain": [
       "Text(0, 0.5, 'True Positive Rate')"
      ]
     },
     "execution_count": 175,
     "metadata": {},
     "output_type": "execute_result"
    },
    {
     "data": {
      "image/png": "[encoded data removed]",
      "text/plain": [
       "<Figure size 432x288 with 1 Axes>"
      ]
     },
     "metadata": {
      "needs_background": "light"
     },
     "output_type": "display_data"
    }
   ],
   "source": [
    "from matplotlib import pyplot\n",
    "lr_probs = model.predict_proba(entrada_teste)\n",
    "# keep probabilities for the positive outcome only\n",
    "lr_probs = lr_probs[:, 1]\n",
    "# # calculate scores\n",
    "\n",
    "lr_auc = roc_auc_score(resposta_teste, lr_probs)\n",
    "\n",
    "print('Logistic: ROC AUC=%.3f' % (lr_auc))\n",
    "\n",
    "# calculate roc curves\n",
    "lr_fpr, lr_tpr, _ = roc_curve(resposta_teste, lr_probs)\n",
    "# plot the roc curve for the model\n",
    "pyplot.plot(lr_fpr, lr_tpr, marker='.', label='Logistic')\n",
    "# # axis labels\n",
    "pyplot.xlabel('False Positive Rate')\n",
    "pyplot.ylabel('True Positive Rate')\n",
    "# # show the legend\n",
    "# pyplot.legend()\n",
    "# # show the plot\n",
    "# pyplot.show()"
   ]
  },
  {
   "cell_type": "code",
   "execution_count": null,
   "metadata": {},
   "outputs": [],
   "source": []
  },
  {
   "cell_type": "code",
   "execution_count": null,
   "metadata": {},
   "outputs": [],
   "source": []
  },
  {
   "cell_type": "code",
   "execution_count": null,
   "metadata": {},
   "outputs": [],
   "source": []
  },
  {
   "cell_type": "code",
   "execution_count": null,
   "metadata": {},
   "outputs": [],
   "source": []
  },
  {
   "cell_type": "code",
   "execution_count": null,
   "metadata": {},
   "outputs": [],
   "source": []
  },
  {
   "cell_type": "code",
   "execution_count": null,
   "metadata": {},
   "outputs": [],
   "source": []
  },
  {
   "cell_type": "code",
   "execution_count": null,
   "metadata": {},
   "outputs": [],
   "source": []
  },
  {
   "cell_type": "code",
   "execution_count": 176,
   "metadata": {},
   "outputs": [],
   "source": [
    "from keras.models import Sequential\n",
    "from keras.layers import Dense\n",
    "from keras.wrappers.scikit_learn import KerasClassifier\n",
    "from sklearn.model_selection import cross_val_score\n",
    "from sklearn.preprocessing import LabelEncoder, StandardScaler\n",
    "from sklearn.model_selection import StratifiedKFold"
   ]
  },
  {
   "cell_type": "code",
   "execution_count": 177,
   "metadata": {},
   "outputs": [],
   "source": [
    "# define the keras model\n",
    "model = Sequential()\n",
    "model.add(Dense(16, input_dim=4, activation='relu'))\n",
    "model.add(Dense(32, activation='relu'))\n",
    "model.add(Dense(16, activation='tanh'))\n",
    "model.add(Dense(8, activation='tanh'))\n",
    "model.add(Dense(4, activation='tanh'))\n",
    "model.add(Dense(1, activation='sigmoid'))\n",
    "\n",
    "model.compile(loss='binary_crossentropy', optimizer='adam', metrics=['accuracy'])"
   ]
  },
  {
   "cell_type": "code",
   "execution_count": 178,
   "metadata": {},
   "outputs": [
    {
     "name": "stdout",
     "output_type": "stream",
     "text": [
      "Epoch 1/20\n",
      "3977/3977 [==============================] - 4s 916us/step - loss: 0.4563 - accuracy: 0.8297\n",
      "Epoch 2/20\n",
      "3977/3977 [==============================] - 4s 958us/step - loss: 0.4478 - accuracy: 0.8340\n",
      "Epoch 3/20\n",
      "3977/3977 [==============================] - 4s 1ms/step - loss: 0.4479 - accuracy: 0.8336\n",
      "Epoch 4/20\n",
      "3977/3977 [==============================] - 4s 1ms/step - loss: 0.4485 - accuracy: 0.8335\n",
      "Epoch 5/20\n",
      "3977/3977 [==============================] - 4s 1ms/step - loss: 0.4492 - accuracy: 0.8328\n",
      "Epoch 6/20\n",
      "3977/3977 [==============================] - 4s 894us/step - loss: 0.4470 - accuracy: 0.8342\n",
      "Epoch 7/20\n",
      "3977/3977 [==============================] - 4s 903us/step - loss: 0.4496 - accuracy: 0.8321\n",
      "Epoch 8/20\n",
      "3977/3977 [==============================] - 4s 915us/step - loss: 0.4452 - accuracy: 0.8353\n",
      "Epoch 9/20\n",
      "3977/3977 [==============================] - 4s 916us/step - loss: 0.4466 - accuracy: 0.8340\n",
      "Epoch 10/20\n",
      "3977/3977 [==============================] - 4s 926us/step - loss: 0.4465 - accuracy: 0.8339\n",
      "Epoch 11/20\n",
      "3977/3977 [==============================] - 4s 997us/step - loss: 0.4471 - accuracy: 0.8335\n",
      "Epoch 12/20\n",
      "3977/3977 [==============================] - 6s 1ms/step - loss: 0.4451 - accuracy: 0.8350\n",
      "Epoch 13/20\n",
      "3977/3977 [==============================] - 4s 1ms/step - loss: 0.4478 - accuracy: 0.8333\n",
      "Epoch 14/20\n",
      "3977/3977 [==============================] - 4s 931us/step - loss: 0.4501 - accuracy: 0.8315\n",
      "Epoch 15/20\n",
      "3977/3977 [==============================] - 4s 910us/step - loss: 0.4468 - accuracy: 0.8336\n",
      "Epoch 16/20\n",
      "3977/3977 [==============================] - 4s 916us/step - loss: 0.4464 - accuracy: 0.8343\n",
      "Epoch 17/20\n",
      "3977/3977 [==============================] - 4s 922us/step - loss: 0.4423 - accuracy: 0.8365\n",
      "Epoch 18/20\n",
      "3977/3977 [==============================] - 4s 922us/step - loss: 0.4494 - accuracy: 0.8325\n",
      "Epoch 19/20\n",
      "3977/3977 [==============================] - 4s 940us/step - loss: 0.4503 - accuracy: 0.8319\n",
      "Epoch 20/20\n",
      "3977/3977 [==============================] - 4s 1ms/step - loss: 0.4481 - accuracy: 0.8328\n"
     ]
    },
    {
     "data": {
      "text/plain": [
       "<tensorflow.python.keras.callbacks.History at 0x7fad945cc220>"
      ]
     },
     "execution_count": 178,
     "metadata": {},
     "output_type": "execute_result"
    }
   ],
   "source": [
    "model.fit(entrada_treino, resposta_treino, epochs=20, batch_size=10)"
   ]
  },
  {
   "cell_type": "code",
   "execution_count": 179,
   "metadata": {},
   "outputs": [
    {
     "name": "stderr",
     "output_type": "stream",
     "text": [
      "/usr/local/lib/python3.8/dist-packages/tensorflow/python/keras/engine/sequential.py:450: UserWarning: `model.predict_classes()` is deprecated and will be removed after 2021-01-01. Please use instead:* `np.argmax(model.predict(x), axis=-1)`,   if your model does multi-class classification   (e.g. if it uses a `softmax` last-layer activation).* `(model.predict(x) > 0.5).astype(\"int32\")`,   if your model does binary classification   (e.g. if it uses a `sigmoid` last-layer activation).\n",
      "  warnings.warn('`model.predict_classes()` is deprecated and '\n"
     ]
    }
   ],
   "source": [
    "pred = model.predict_classes(entrada_teste)"
   ]
  },
  {
   "cell_type": "code",
   "execution_count": 180,
   "metadata": {},
   "outputs": [
    {
     "data": {
      "text/plain": [
       "0.8322395715471071"
      ]
     },
     "execution_count": 180,
     "metadata": {},
     "output_type": "execute_result"
    }
   ],
   "source": [
    "accuracy_score(pred, resposta_teste)"
   ]
  },
  {
   "cell_type": "code",
   "execution_count": 144,
   "metadata": {},
   "outputs": [
    {
     "name": "stdout",
     "output_type": "stream",
     "text": [
      "Results: 53.41% (1.81%)\n"
     ]
    }
   ],
   "source": [
    "def create_baseline():\n",
    "    # create model\n",
    "    model = Sequential()\n",
    "    model.add(Dense(10, input_dim=4, kernel_initializer='normal', activation='relu'))\n",
    "    model.add(Dense(1, kernel_initializer='normal', activation='sigmoid'))\n",
    "    model.compile(loss='binary_crossentropy', optimizer='adam', metrics=['accuracy'])\n",
    "    return model\n",
    "\n",
    "# Evaluate model using standardized dataset. \n",
    "estimators = []\n",
    "estimators.append(('standardize', StandardScaler()))\n",
    "estimators.append(('mlp', KerasClassifier(build_fn=create_baseline, epochs=100, batch_size=5, verbose=0)))\n",
    "pipeline = Pipeline(estimators)\n",
    "kfold = StratifiedKFold(n_splits=10, shuffle=True)\n",
    "results = cross_val_score(pipeline, entrada_treino, resposta_treino, cv=kfold)\n",
    "print(\"Results: %.2f%% (%.2f%%)\" % (results.mean()*100, results.std()*100))"
   ]
  },
  {
   "cell_type": "code",
   "execution_count": null,
   "metadata": {},
   "outputs": [],
   "source": []
  }
 ],
 "metadata": {
  "kernelspec": {
   "display_name": "Python 3",
   "language": "python",
   "name": "python3"
  },
  "language_info": {
   "codemirror_mode": {
    "name": "ipython",
    "version": 3
   },
   "file_extension": ".py",
   "mimetype": "text/x-python",
   "name": "python",
   "nbconvert_exporter": "python",
   "pygments_lexer": "ipython3",
   "version": "3.8.6"
  }
 },
 "nbformat": 4,
 "nbformat_minor": 4
}
