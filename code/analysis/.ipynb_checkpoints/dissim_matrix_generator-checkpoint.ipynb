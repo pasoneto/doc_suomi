{
 "cells": [
  {
   "cell_type": "markdown",
   "metadata": {},
   "source": [
    "# Data processing\n",
    "\n",
    "Here I'm generating non-upsampled matrices from dataset without album duplicates. I'll read these files in python and upsample to 16."
   ]
  },
  {
   "cell_type": "code",
   "execution_count": 70,
   "metadata": {},
   "outputs": [
    {
     "name": "stderr",
     "output_type": "stream",
     "text": [
      "`summarise()` regrouping output by 'album_id' (override with `.groups` argument)\n",
      "\n"
     ]
    },
    {
     "name": "stdout",
     "output_type": "stream",
     "text": [
      "How to use datasets\n",
      "\n",
      "call    base()        for real values\n",
      "call    z_scored()    for normalized\n",
      "call    min_maxed()   for normalized2"
     ]
    }
   ],
   "source": [
    "setwd(\"/home/pasoneto/Documents/github/doc_suomi/code\")\n",
    "source(\"utils.R\")\n",
    "source(\"data_cook.R\")\n",
    "cat(howto_data)"
   ]
  },
  {
   "cell_type": "code",
   "execution_count": 75,
   "metadata": {},
   "outputs": [],
   "source": [
    "dt = min_maxed()"
   ]
  },
  {
   "cell_type": "code",
   "execution_count": 84,
   "metadata": {},
   "outputs": [],
   "source": [
    "dissim_gen = function(data){\n",
    "    dt <- split(data, data$album_id)\n",
    "    for(i in 1:length(dt)) { \n",
    "\n",
    "        dt[[i]] = tidyr::pivot_wider(dt[[i]], \n",
    "                  names_from = album_id, \n",
    "                  values_from = c(valence, energy, loudness, tempo)) \n",
    "\n",
    "        dt[[i]] = dt[[i]][, 4:7]\n",
    "\n",
    "        dt[[i]] <- as.matrix(dt[[i]]) \n",
    "\n",
    "        dt[[i]] <- as.matrix(daisy(dt[[i]]))\n",
    "\n",
    "        dt[[i]][dt[[i]] == 0] <- NA\n",
    "\n",
    "    }\n",
    "    return(dt)\n",
    "}"
   ]
  },
  {
   "cell_type": "code",
   "execution_count": 85,
   "metadata": {},
   "outputs": [],
   "source": [
    "lista = dissim_gen(dt)"
   ]
  },
  {
   "cell_type": "code",
   "execution_count": 87,
   "metadata": {},
   "outputs": [],
   "source": [
    "setwd(\"/home/pasoneto/Documents/github/doc_suomi/code/data_processing/dissimilarity_matrices\")\n",
    "for(i in 1:length(lista)){\n",
    "    write.csv(lista[[i]], paste(\"matriz\", i,\".csv\", sep = \"\"), row.names=FALSE)\n",
    "}"
   ]
  },
  {
   "cell_type": "markdown",
   "metadata": {},
   "source": [
    "## Calculating means for upsampled matrices\n",
    "\n",
    "Import from folder modified by python (upsampling_python.ipynb)"
   ]
  },
  {
   "cell_type": "code",
   "execution_count": 182,
   "metadata": {},
   "outputs": [],
   "source": [
    "path = \"/home/pasoneto/Documents/github/doc_suomi/code/data_processing/dissimilarities/dissimilarity_matrices_upsampled/\"\n",
    "file_list <- list.files(path=path)\n",
    "matrices = c()\n",
    "\n",
    "for(i in 1:length(file_list)){\n",
    "    file = paste(path, file_list[i], sep = \"\")\n",
    "    matrices[[i]] = as.matrix(fread(file, header = TRUE))\n",
    "}"
   ]
  },
  {
   "cell_type": "code",
   "execution_count": 183,
   "metadata": {},
   "outputs": [
    {
     "name": "stderr",
     "output_type": "stream",
     "text": [
      "Warning message in mean.default(matrices, na.rm = TRUE):\n",
      "“argument is not numeric or logical: returning NA”\n"
     ]
    },
    {
     "data": {
      "text/html": [
       "&lt;NA&gt;"
      ],
      "text/latex": [
       "<NA>"
      ],
      "text/markdown": [
       "&lt;NA&gt;"
      ],
      "text/plain": [
       "[1] NA"
      ]
     },
     "metadata": {},
     "output_type": "display_data"
    }
   ],
   "source": [
    "#apply(simplify2array(matrices), 1:2, function(x){mean(x, na.rm = TRUE)})"
   ]
  },
  {
   "cell_type": "code",
   "execution_count": 146,
   "metadata": {},
   "outputs": [
    {
     "name": "stderr",
     "output_type": "stream",
     "text": [
      "Warning message in min(x):\n",
      "“no non-missing arguments to min; returning Inf”\n",
      "Warning message in max(x):\n",
      "“no non-missing arguments to max; returning -Inf”\n"
     ]
    },
    {
     "ename": "ERROR",
     "evalue": "Error in seq.default(zrng[1], zrng[2], length.out = cuts + 2): 'from' must be a finite number\n",
     "output_type": "error",
     "traceback": [
      "Error in seq.default(zrng[1], zrng[2], length.out = cuts + 2): 'from' must be a finite number\nTraceback:\n",
      "1. levelplot(dt, col.regions = redblack)",
      "2. levelplot.matrix(dt, col.regions = redblack)",
      "3. levelplot(form, data, aspect = aspect, xlim = xlim, ylim = ylim, \n .     ...)",
      "4. levelplot.formula(form, data, aspect = aspect, xlim = xlim, ylim = ylim, \n .     ...)",
      "5. seq(zrng[1], zrng[2], length.out = cuts + 2)",
      "6. seq.default(zrng[1], zrng[2], length.out = cuts + 2)",
      "7. stop(\"'from' must be a finite number\")"
     ]
    }
   ],
   "source": [
    "redblack = colorRampPalette(c(\"red\", \"black\"))(100)\n",
    "levelplot(dt, col.regions = redblack)"
   ]
  },
  {
   "cell_type": "code",
   "execution_count": null,
   "metadata": {},
   "outputs": [],
   "source": []
  }
 ],
 "metadata": {
  "kernelspec": {
   "display_name": "R",
   "language": "R",
   "name": "ir"
  },
  "language_info": {
   "codemirror_mode": "r",
   "file_extension": ".r",
   "mimetype": "text/x-r-source",
   "name": "R",
   "pygments_lexer": "r",
   "version": "3.6.3"
  }
 },
 "nbformat": 4,
 "nbformat_minor": 4
}
