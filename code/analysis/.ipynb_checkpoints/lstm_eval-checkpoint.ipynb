{
 "cells": [
  {
   "cell_type": "code",
   "execution_count": 1,
   "metadata": {},
   "outputs": [],
   "source": [
    "from keras.models import Sequential\n",
    "from keras.layers import Dense, LSTM, Dropout\n",
    "from sklearn import preprocessing\n",
    "from sklearn.preprocessing import MinMaxScaler, OneHotEncoder\n",
    "import numpy as np\n",
    "import keras\n",
    "import tensorflow as tf\n",
    "import keras.backend as kb\n",
    "from PIL import Image\n",
    "import itertools\n",
    "import matplotlib.pyplot as plt\n",
    "import pandas as pd\n",
    "from sklearn.metrics import mean_squared_error, accuracy_score, roc_auc_score, roc_curve\n",
    "from keras.callbacks import EarlyStopping, ReduceLROnPlateau, ModelCheckpoint"
   ]
  },
  {
   "cell_type": "code",
   "execution_count": 2,
   "metadata": {},
   "outputs": [],
   "source": [
    "def sampleMaker_entry(sample, input_size, output_size, entrada_var):\n",
    "    n_slides = len(sample.index) - (output_size + input_size)+1\n",
    "    entrada = np.array([np.array(sample[entrada_var].iloc[i:i+input_size]) for i in range(0, n_slides, input_size)])\n",
    "    return entrada\n",
    "\n",
    "def sampleMaker_out(sample, input_size, output_size, saida_var):\n",
    "    n_slides = len(sample.index) - (output_size + input_size)+1\n",
    "    saida = [sample[saida_var].iloc[i+input_size:i+input_size+output_size] for i in range(0, n_slides, input_size)]\n",
    "    return saida\n",
    "\n",
    "def splitter(data, group):\n",
    "    data = list(data.groupby(group))\n",
    "    data = [data[i][1] for i in range(len(data))]\n",
    "    return data"
   ]
  },
  {
   "cell_type": "code",
   "execution_count": 3,
   "metadata": {},
   "outputs": [],
   "source": [
    "base = pd.read_csv('/home/pasoneto/Documents/github/doc_suomi/data/lstm/lstm.csv')\n",
    "\n",
    "le = preprocessing.LabelEncoder()\n",
    "base['valence_cat'] = le.fit_transform(base['valence_cat'])\n",
    "base['energy_cat'] = le.fit_transform(base['energy_cat'])\n",
    "base['loudness_cat'] = le.fit_transform(base['loudness_cat'])\n",
    "base['tempo_cat'] = le.fit_transform(base['tempo_cat'])"
   ]
  },
  {
   "cell_type": "code",
   "execution_count": 4,
   "metadata": {},
   "outputs": [],
   "source": [
    "base = splitter(base, \"album_id\")\n",
    "for i in base:\n",
    "    i.reset_index(drop = True, inplace = True)"
   ]
  },
  {
   "cell_type": "code",
   "execution_count": 5,
   "metadata": {},
   "outputs": [],
   "source": [
    "teste = base[int(len(base)*0.8):len(base)]"
   ]
  },
  {
   "cell_type": "code",
   "execution_count": 6,
   "metadata": {},
   "outputs": [],
   "source": [
    "entrada_var   = ['danceability', 'energy', 'loudness_overall', 'mode_confidence','speechiness', 'acousticness', 'instrumentalness', 'liveness', 'valence', 'tempo_overall', 'duration_ms', 'time_signature_confidence', 'loudness_continuous', 'tempo_continuous', 'tempo_confidence', 'key_confidence', 'danceability_cum', 'energy_cum','loudness_overall_cum', 'speechiness_cum', 'acousticness_cum','instrumentalness_cum', 'liveness_cum', 'valence_cum','tempo_overall_cum', 'duration_ms_cum', 'time_signature_cum','loudness_continuous_cum', 'tempo_continuous_cum','tempo_confidence_cum', 'key_confidence_cum', 'mode_confidence_cum','time_signature_confidence_cum']\n",
    "va  = ['valence_cat']\n",
    "en  = ['energy_cat'] \n",
    "la  = ['loudness_cat'] \n",
    "te  = ['tempo_cat']\n",
    "\n",
    "entrada_teste = list(map(lambda x : sampleMaker_entry(x, 5, 1, entrada_var), teste))\n",
    "saida_valence   = list(map(lambda x : sampleMaker_out(x, 5, 1, va), teste))\n",
    "saida_energy   = list(map(lambda x : sampleMaker_out(x, 5, 1, en), teste))\n",
    "saida_loudness   = list(map(lambda x : sampleMaker_out(x, 5, 1, la), teste))\n",
    "saida_tempo   = list(map(lambda x : sampleMaker_out(x, 5, 1, te), teste))"
   ]
  },
  {
   "cell_type": "code",
   "execution_count": 7,
   "metadata": {},
   "outputs": [],
   "source": [
    "#import itertools\n",
    "entrada_teste = np.array(list(itertools.chain.from_iterable(entrada_teste)))\n",
    "\n",
    "saida_valence   = np.array(list(itertools.chain.from_iterable(saida_valence)))\n",
    "saida_energy   = np.array(list(itertools.chain.from_iterable(saida_energy)))\n",
    "saida_loudness   = np.array(list(itertools.chain.from_iterable(saida_loudness)))\n",
    "saida_tempo   = np.array(list(itertools.chain.from_iterable(saida_tempo)))"
   ]
  },
  {
   "cell_type": "code",
   "execution_count": 8,
   "metadata": {},
   "outputs": [],
   "source": [
    "# load json and create model\n",
    "from keras.models import model_from_json\n",
    "from sklearn.metrics import confusion_matrix\n",
    "\n",
    "valence = open('/home/pasoneto/Documents/github/doc_suomi/code/analysis/weights/valence/model_valence.json', 'r')\n",
    "valence = valence.read()\n",
    "valence = model_from_json(valence)\n",
    "valence.load_weights(\"/home/pasoneto/Documents/github/doc_suomi/code/analysis/weights/valence/model_valence.h5\")\n",
    "\n",
    "energy = open('/home/pasoneto/Documents/github/doc_suomi/code/analysis/weights/energy/model_energy.json', 'r')\n",
    "energy = energy.read()\n",
    "energy = model_from_json(energy)\n",
    "energy.load_weights(\"/home/pasoneto/Documents/github/doc_suomi/code/analysis/weights/energy/model_energy.h5\")\n",
    "\n",
    "loudness = open('/home/pasoneto/Documents/github/doc_suomi/code/analysis/weights/loudness/model_loudness.json', 'r')\n",
    "loudness = loudness.read()\n",
    "loudness = model_from_json(loudness)\n",
    "loudness.load_weights(\"/home/pasoneto/Documents/github/doc_suomi/code/analysis/weights/loudness/model_loudness.h5\")\n",
    "\n",
    "tempo = open('/home/pasoneto/Documents/github/doc_suomi/code/analysis/weights/tempo/model_tempo.json', 'r')\n",
    "tempo = tempo.read()\n",
    "tempo = model_from_json(tempo)\n",
    "tempo.load_weights(\"/home/pasoneto/Documents/github/doc_suomi/code/analysis/weights/tempo/model_tempo.h5\")"
   ]
  },
  {
   "cell_type": "code",
   "execution_count": 9,
   "metadata": {},
   "outputs": [],
   "source": [
    "# evaluate loaded model on test data\n",
    "valence.compile(optimizer = 'adam', loss = 'binary_crossentropy', metrics = ['accuracy'])\n",
    "energy.compile(optimizer = 'adam', loss = 'binary_crossentropy', metrics = ['accuracy'])\n",
    "loudness.compile(optimizer = 'adam', loss = 'binary_crossentropy', metrics = ['accuracy'])\n",
    "tempo.compile(optimizer = 'adam', loss = 'binary_crossentropy', metrics = ['accuracy'])"
   ]
  },
  {
   "cell_type": "code",
   "execution_count": 10,
   "metadata": {},
   "outputs": [
    {
     "name": "stderr",
     "output_type": "stream",
     "text": [
      "/usr/local/lib/python3.8/dist-packages/tensorflow/python/keras/engine/sequential.py:450: UserWarning: `model.predict_classes()` is deprecated and will be removed after 2021-01-01. Please use instead:* `np.argmax(model.predict(x), axis=-1)`,   if your model does multi-class classification   (e.g. if it uses a `softmax` last-layer activation).* `(model.predict(x) > 0.5).astype(\"int32\")`,   if your model does binary classification   (e.g. if it uses a `sigmoid` last-layer activation).\n",
      "  warnings.warn('`model.predict_classes()` is deprecated and '\n"
     ]
    }
   ],
   "source": [
    "pred_valence = list(itertools.chain.from_iterable(valence.predict_classes(entrada_teste)))\n",
    "prob_valence = list(itertools.chain.from_iterable(valence.predict(entrada_teste)))\n",
    "real_valence = list(itertools.chain.from_iterable(list(itertools.chain.from_iterable(saida_valence))))\n",
    "\n",
    "pred_energy = list(itertools.chain.from_iterable(energy.predict_classes(entrada_teste)))\n",
    "prob_energy = list(itertools.chain.from_iterable(energy.predict(entrada_teste)))\n",
    "real_energy = list(itertools.chain.from_iterable(list(itertools.chain.from_iterable(saida_energy))))\n",
    "\n",
    "pred_loudness = list(itertools.chain.from_iterable(loudness.predict_classes(entrada_teste)))\n",
    "prob_loudness = list(itertools.chain.from_iterable(loudness.predict(entrada_teste)))\n",
    "real_loudness = list(itertools.chain.from_iterable(list(itertools.chain.from_iterable(saida_loudness))))\n",
    "\n",
    "pred_tempo = list(itertools.chain.from_iterable(tempo.predict_classes(entrada_teste)))\n",
    "prob_tempo = list(itertools.chain.from_iterable(tempo.predict(entrada_teste)))\n",
    "real_tempo = list(itertools.chain.from_iterable(list(itertools.chain.from_iterable(saida_tempo))))"
   ]
  },
  {
   "cell_type": "code",
   "execution_count": 11,
   "metadata": {},
   "outputs": [
    {
     "name": "stdout",
     "output_type": "stream",
     "text": [
      " Valence:  0.716454841975031 \n",
      " Energy:  0.691260825553931 \n",
      " Loudness:  0.657518839275672 \n",
      " Tempo:  0.7281520638848273\n"
     ]
    }
   ],
   "source": [
    "print(\" Valence: \", accuracy_score(pred_valence, real_valence), \"\\n\",\n",
    "      \"Energy: \", accuracy_score(pred_energy, real_energy),\"\\n\",\n",
    "      \"Loudness: \", accuracy_score(pred_loudness, real_loudness),\"\\n\",\n",
    "      \"Tempo: \", accuracy_score(pred_tempo, real_tempo))"
   ]
  },
  {
   "cell_type": "code",
   "execution_count": 12,
   "metadata": {},
   "outputs": [
    {
     "data": {
      "image/png": "[encoded data removed]",
      "text/plain": [
       "<Figure size 432x288 with 1 Axes>"
      ]
     },
     "metadata": {
      "needs_background": "light"
     },
     "output_type": "display_data"
    }
   ],
   "source": [
    "import matplotlib.pyplot as plt\n",
    "\n",
    "vx, vy, vt = roc_curve(real_valence, prob_valence)\n",
    "ex, ey, et = roc_curve(real_energy, prob_energy)\n",
    "lx, ly, lt = roc_curve(real_loudness, prob_loudness)\n",
    "tx, ty, tt = roc_curve(real_tempo, prob_tempo)\n",
    "\n",
    "\n",
    "rasv = roc_auc_score(real_valence, pred_valence)\n",
    "rase = roc_auc_score(real_energy, pred_energy)\n",
    "rasl = roc_auc_score(real_loudness, pred_loudness)\n",
    "rast = roc_auc_score(real_tempo, pred_tempo)\n",
    "\n",
    "plt.plot(vx, vy, color = 'red',   label = f'Valence {round(rasv, 2)}')\n",
    "plt.plot(ex, ey, color = 'blue',  label = f'Energy {round(rase, 2)}')\n",
    "plt.plot(lx, ly, color = 'green', label = f'Loudness {round(rasl, 2)}')\n",
    "plt.plot(tx, ty, color = 'black', label = f'Tempo {round(rast, 2)}')\n",
    "plt.plot([0, 1], [0, 1], \"r--\", color = 'gray')\n",
    "plt.title(\"ROC Curve\")\n",
    "plt.legend()\n",
    "plt.xlabel(\"False Positive Rate\")\n",
    "plt.ylabel(\"True Positive Rate\")\n",
    "plt.show()\n"
   ]
  },
  {
   "cell_type": "code",
   "execution_count": 13,
   "metadata": {},
   "outputs": [
    {
     "name": "stdout",
     "output_type": "stream",
     "text": [
      "Entrada\n"
     ]
    },
    {
     "data": {
      "text/html": [
       "<div>\n",
       "<style scoped>\n",
       "    .dataframe tbody tr th:only-of-type {\n",
       "        vertical-align: middle;\n",
       "    }\n",
       "\n",
       "    .dataframe tbody tr th {\n",
       "        vertical-align: top;\n",
       "    }\n",
       "\n",
       "    .dataframe thead th {\n",
       "        text-align: right;\n",
       "    }\n",
       "</style>\n",
       "<table border=\"1\" class=\"dataframe\">\n",
       "  <thead>\n",
       "    <tr style=\"text-align: right;\">\n",
       "      <th></th>\n",
       "      <th>0</th>\n",
       "      <th>1</th>\n",
       "      <th>2</th>\n",
       "      <th>3</th>\n",
       "      <th>4</th>\n",
       "      <th>5</th>\n",
       "      <th>6</th>\n",
       "      <th>7</th>\n",
       "      <th>8</th>\n",
       "      <th>9</th>\n",
       "      <th>...</th>\n",
       "      <th>23</th>\n",
       "      <th>24</th>\n",
       "      <th>25</th>\n",
       "      <th>26</th>\n",
       "      <th>27</th>\n",
       "      <th>28</th>\n",
       "      <th>29</th>\n",
       "      <th>30</th>\n",
       "      <th>31</th>\n",
       "      <th>32</th>\n",
       "    </tr>\n",
       "  </thead>\n",
       "  <tbody>\n",
       "    <tr>\n",
       "      <th>0</th>\n",
       "      <td>1.556575</td>\n",
       "      <td>1.569946</td>\n",
       "      <td>1.795662</td>\n",
       "      <td>1.475</td>\n",
       "      <td>1.033644</td>\n",
       "      <td>1.670683</td>\n",
       "      <td>1.000004</td>\n",
       "      <td>1.153184</td>\n",
       "      <td>1.485972</td>\n",
       "      <td>1.561675</td>\n",
       "      <td>...</td>\n",
       "      <td>1.012512</td>\n",
       "      <td>1.012971</td>\n",
       "      <td>1.00216</td>\n",
       "      <td>1.016667</td>\n",
       "      <td>1.012145</td>\n",
       "      <td>1.011772</td>\n",
       "      <td>1.007982</td>\n",
       "      <td>1.00363</td>\n",
       "      <td>1.01323</td>\n",
       "      <td>1.013986</td>\n",
       "    </tr>\n",
       "    <tr>\n",
       "      <th>1</th>\n",
       "      <td>1.556575</td>\n",
       "      <td>1.569946</td>\n",
       "      <td>1.795662</td>\n",
       "      <td>1.300</td>\n",
       "      <td>1.033644</td>\n",
       "      <td>1.670683</td>\n",
       "      <td>1.000004</td>\n",
       "      <td>1.153184</td>\n",
       "      <td>1.485972</td>\n",
       "      <td>1.561675</td>\n",
       "      <td>...</td>\n",
       "      <td>1.012512</td>\n",
       "      <td>1.012971</td>\n",
       "      <td>1.00216</td>\n",
       "      <td>1.016667</td>\n",
       "      <td>1.012145</td>\n",
       "      <td>1.011772</td>\n",
       "      <td>1.007982</td>\n",
       "      <td>1.00363</td>\n",
       "      <td>1.01323</td>\n",
       "      <td>1.013986</td>\n",
       "    </tr>\n",
       "    <tr>\n",
       "      <th>2</th>\n",
       "      <td>1.556575</td>\n",
       "      <td>1.569946</td>\n",
       "      <td>1.795662</td>\n",
       "      <td>1.599</td>\n",
       "      <td>1.033644</td>\n",
       "      <td>1.670683</td>\n",
       "      <td>1.000004</td>\n",
       "      <td>1.153184</td>\n",
       "      <td>1.485972</td>\n",
       "      <td>1.561675</td>\n",
       "      <td>...</td>\n",
       "      <td>1.012512</td>\n",
       "      <td>1.012971</td>\n",
       "      <td>1.00216</td>\n",
       "      <td>1.016667</td>\n",
       "      <td>1.012145</td>\n",
       "      <td>1.011772</td>\n",
       "      <td>1.007982</td>\n",
       "      <td>1.00363</td>\n",
       "      <td>1.01323</td>\n",
       "      <td>1.013986</td>\n",
       "    </tr>\n",
       "    <tr>\n",
       "      <th>3</th>\n",
       "      <td>1.556575</td>\n",
       "      <td>1.569946</td>\n",
       "      <td>1.795662</td>\n",
       "      <td>1.570</td>\n",
       "      <td>1.033644</td>\n",
       "      <td>1.670683</td>\n",
       "      <td>1.000004</td>\n",
       "      <td>1.153184</td>\n",
       "      <td>1.485972</td>\n",
       "      <td>1.561675</td>\n",
       "      <td>...</td>\n",
       "      <td>1.012512</td>\n",
       "      <td>1.012971</td>\n",
       "      <td>1.00216</td>\n",
       "      <td>1.016667</td>\n",
       "      <td>1.012145</td>\n",
       "      <td>1.011772</td>\n",
       "      <td>1.007982</td>\n",
       "      <td>1.00363</td>\n",
       "      <td>1.01323</td>\n",
       "      <td>1.013986</td>\n",
       "    </tr>\n",
       "    <tr>\n",
       "      <th>4</th>\n",
       "      <td>1.556575</td>\n",
       "      <td>1.569946</td>\n",
       "      <td>1.795662</td>\n",
       "      <td>1.228</td>\n",
       "      <td>1.033644</td>\n",
       "      <td>1.670683</td>\n",
       "      <td>1.000004</td>\n",
       "      <td>1.153184</td>\n",
       "      <td>1.485972</td>\n",
       "      <td>1.561675</td>\n",
       "      <td>...</td>\n",
       "      <td>1.012512</td>\n",
       "      <td>1.012971</td>\n",
       "      <td>1.00216</td>\n",
       "      <td>1.016667</td>\n",
       "      <td>1.012145</td>\n",
       "      <td>1.011772</td>\n",
       "      <td>1.007982</td>\n",
       "      <td>1.00363</td>\n",
       "      <td>1.01323</td>\n",
       "      <td>1.013986</td>\n",
       "    </tr>\n",
       "  </tbody>\n",
       "</table>\n",
       "<p>5 rows × 33 columns</p>\n",
       "</div>"
      ],
      "text/plain": [
       "         0         1         2      3         4         5         6   \\\n",
       "0  1.556575  1.569946  1.795662  1.475  1.033644  1.670683  1.000004   \n",
       "1  1.556575  1.569946  1.795662  1.300  1.033644  1.670683  1.000004   \n",
       "2  1.556575  1.569946  1.795662  1.599  1.033644  1.670683  1.000004   \n",
       "3  1.556575  1.569946  1.795662  1.570  1.033644  1.670683  1.000004   \n",
       "4  1.556575  1.569946  1.795662  1.228  1.033644  1.670683  1.000004   \n",
       "\n",
       "         7         8         9   ...        23        24       25        26  \\\n",
       "0  1.153184  1.485972  1.561675  ...  1.012512  1.012971  1.00216  1.016667   \n",
       "1  1.153184  1.485972  1.561675  ...  1.012512  1.012971  1.00216  1.016667   \n",
       "2  1.153184  1.485972  1.561675  ...  1.012512  1.012971  1.00216  1.016667   \n",
       "3  1.153184  1.485972  1.561675  ...  1.012512  1.012971  1.00216  1.016667   \n",
       "4  1.153184  1.485972  1.561675  ...  1.012512  1.012971  1.00216  1.016667   \n",
       "\n",
       "         27        28        29       30       31        32  \n",
       "0  1.012145  1.011772  1.007982  1.00363  1.01323  1.013986  \n",
       "1  1.012145  1.011772  1.007982  1.00363  1.01323  1.013986  \n",
       "2  1.012145  1.011772  1.007982  1.00363  1.01323  1.013986  \n",
       "3  1.012145  1.011772  1.007982  1.00363  1.01323  1.013986  \n",
       "4  1.012145  1.011772  1.007982  1.00363  1.01323  1.013986  \n",
       "\n",
       "[5 rows x 33 columns]"
      ]
     },
     "execution_count": 13,
     "metadata": {},
     "output_type": "execute_result"
    }
   ],
   "source": [
    "print(\"Entrada\")\n",
    "pd.DataFrame(entrada_teste[0])"
   ]
  },
  {
   "cell_type": "code",
   "execution_count": 14,
   "metadata": {},
   "outputs": [],
   "source": [
    "final = []\n",
    "for i in range(len(saida_energy)):\n",
    "    real = list(itertools.chain.from_iterable(list(itertools.chain.from_iterable([saida_valence[i], saida_energy[i], saida_loudness[i], saida_tempo[i]]))))\n",
    "    pred = [pred_valence[i], pred_energy[i], pred_loudness[i], pred_tempo[i]]\n",
    "    final.append(accuracy_score(real, pred))"
   ]
  },
  {
   "cell_type": "code",
   "execution_count": 15,
   "metadata": {},
   "outputs": [
    {
     "data": {
      "text/plain": [
       "(array([ 123.,    0.,  843.,    0.,    0., 2219.,    0., 3269.,    0.,\n",
       "        2437.]),\n",
       " array([0. , 0.1, 0.2, 0.3, 0.4, 0.5, 0.6, 0.7, 0.8, 0.9, 1. ]),\n",
       " <BarContainer object of 10 artists>)"
      ]
     },
     "execution_count": 15,
     "metadata": {},
     "output_type": "execute_result"
    },
    {
     "data": {
      "image/png": "[encoded data removed]",
      "text/plain": [
       "<Figure size 432x288 with 1 Axes>"
      ]
     },
     "metadata": {
      "needs_background": "light"
     },
     "output_type": "display_data"
    }
   ],
   "source": [
    "import seaborn as sns\n",
    "plt.hist(final, color = 'blue', edgecolor = 'black')"
   ]
  },
  {
   "cell_type": "code",
   "execution_count": null,
   "metadata": {},
   "outputs": [],
   "source": [
    "# arr: array com transições; mo: empirically derived markov object, returns log likelihood of arr\n",
    "ll = \n",
    "    function(mo, arr){ t <- log(transitionProbability(mo, arr[1], arr[2]))\n",
    "                        return( if( length(arr) == 2 ) t else t + ll(mo, arr[2:length(arr)]) )}\n",
    "\n",
    "# get the mean likelihood of playlist\n",
    "mll = \n",
    "    function(mo, arr){ return (ll(mo, arr)/length(arr)) }\n",
    "\n"
   ]
  }
 ],
 "metadata": {
  "kernelspec": {
   "display_name": "Python 3",
   "language": "python",
   "name": "python3"
  },
  "language_info": {
   "codemirror_mode": {
    "name": "ipython",
    "version": 3
   },
   "file_extension": ".py",
   "mimetype": "text/x-python",
   "name": "python",
   "nbconvert_exporter": "python",
   "pygments_lexer": "ipython3",
   "version": "3.8.6"
  }
 },
 "nbformat": 4,
 "nbformat_minor": 4
}
