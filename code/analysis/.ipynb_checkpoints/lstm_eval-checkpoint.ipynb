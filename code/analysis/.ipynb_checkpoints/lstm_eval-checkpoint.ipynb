{
 "cells": [
  {
   "cell_type": "code",
   "execution_count": 55,
   "metadata": {},
   "outputs": [],
   "source": [
    "from keras.models import Sequential\n",
    "from keras.layers import Dense, LSTM, Dropout\n",
    "from sklearn import preprocessing\n",
    "from sklearn.preprocessing import MinMaxScaler, OneHotEncoder\n",
    "import numpy as np\n",
    "import keras\n",
    "import tensorflow as tf\n",
    "import keras.backend as kb\n",
    "from PIL import Image\n",
    "import itertools\n",
    "import matplotlib.pyplot as plt\n",
    "import pandas as pd\n",
    "from sklearn.metrics import mean_squared_error, accuracy_score, roc_auc_score, roc_curve\n",
    "from keras.callbacks import EarlyStopping, ReduceLROnPlateau, ModelCheckpoint"
   ]
  },
  {
   "cell_type": "markdown",
   "metadata": {},
   "source": [
    "## Data\n",
    "\n",
    "Here I am doing my first attempts at using [Spotify's low-level descriptors](https://developer.spotify.com/documentation/web-api/reference/#endpoint-get-audio-analysis). Rathar than having a single descriptor for each track, I'm working with several windows of audio description throughout each track.\n",
    "\n",
    "- **Track lengths:** All tracks in the dataset have 5 non-overlapping time windows. In the original [API-call](https://github.com/pasoneto/doc_suomi/blob/main/code/api-call/web_api.ipynb), data comes with different lengths of time frame (e.g. track 1 has 10 observations and track 2 has 5). In order to provide regular sized inputs to the LSTM architecture, I divided each track length in 5 quantile bins and calculated the mean for quantile within within each bin.\n",
    "\n",
    "- **Feature engineering:** I also had the idea of calculating cummmulative track properties. The cumulative feature would work as a forced carrier of information from previous tracks. For Instance, if overall valence of track_1 is $10$, and overall valence of track_2 is $5$, the cummulative valence would be $15$. I did that for all variables in our data set. For the first track, cumulative value is simply the mean value of the feature within the track.\n",
    "\n",
    "- **Data transformation:** Finally, all data was normalized with min-max transform, which I hear works better than z-scores for deep learning models by preserving the shapes of the distributions (?).\n",
    "\n",
    "Below I'm showing two tracks of one album (5 rows for each)."
   ]
  },
  {
   "cell_type": "code",
   "execution_count": 56,
   "metadata": {},
   "outputs": [
    {
     "data": {
      "text/html": [
       "<div>\n",
       "<style scoped>\n",
       "    .dataframe tbody tr th:only-of-type {\n",
       "        vertical-align: middle;\n",
       "    }\n",
       "\n",
       "    .dataframe tbody tr th {\n",
       "        vertical-align: top;\n",
       "    }\n",
       "\n",
       "    .dataframe thead th {\n",
       "        text-align: right;\n",
       "    }\n",
       "</style>\n",
       "<table border=\"1\" class=\"dataframe\">\n",
       "  <thead>\n",
       "    <tr style=\"text-align: right;\">\n",
       "      <th></th>\n",
       "      <th>track</th>\n",
       "      <th>tempo_continuous</th>\n",
       "      <th>tempo_overall_cum</th>\n",
       "    </tr>\n",
       "  </thead>\n",
       "  <tbody>\n",
       "    <tr>\n",
       "      <th>0</th>\n",
       "      <td>1</td>\n",
       "      <td>1.416092</td>\n",
       "      <td>1.008557</td>\n",
       "    </tr>\n",
       "    <tr>\n",
       "      <th>1</th>\n",
       "      <td>1</td>\n",
       "      <td>1.416037</td>\n",
       "      <td>1.008557</td>\n",
       "    </tr>\n",
       "    <tr>\n",
       "      <th>2</th>\n",
       "      <td>1</td>\n",
       "      <td>1.416194</td>\n",
       "      <td>1.008557</td>\n",
       "    </tr>\n",
       "    <tr>\n",
       "      <th>3</th>\n",
       "      <td>1</td>\n",
       "      <td>1.416602</td>\n",
       "      <td>1.008557</td>\n",
       "    </tr>\n",
       "    <tr>\n",
       "      <th>4</th>\n",
       "      <td>1</td>\n",
       "      <td>1.417083</td>\n",
       "      <td>1.008557</td>\n",
       "    </tr>\n",
       "    <tr>\n",
       "      <th>5</th>\n",
       "      <td>2</td>\n",
       "      <td>1.426810</td>\n",
       "      <td>1.053428</td>\n",
       "    </tr>\n",
       "    <tr>\n",
       "      <th>6</th>\n",
       "      <td>2</td>\n",
       "      <td>1.428367</td>\n",
       "      <td>1.053428</td>\n",
       "    </tr>\n",
       "    <tr>\n",
       "      <th>7</th>\n",
       "      <td>2</td>\n",
       "      <td>1.427530</td>\n",
       "      <td>1.053428</td>\n",
       "    </tr>\n",
       "    <tr>\n",
       "      <th>8</th>\n",
       "      <td>2</td>\n",
       "      <td>1.462551</td>\n",
       "      <td>1.053428</td>\n",
       "    </tr>\n",
       "    <tr>\n",
       "      <th>9</th>\n",
       "      <td>2</td>\n",
       "      <td>1.554113</td>\n",
       "      <td>1.053428</td>\n",
       "    </tr>\n",
       "  </tbody>\n",
       "</table>\n",
       "</div>"
      ],
      "text/plain": [
       "   track  tempo_continuous  tempo_overall_cum\n",
       "0      1          1.416092           1.008557\n",
       "1      1          1.416037           1.008557\n",
       "2      1          1.416194           1.008557\n",
       "3      1          1.416602           1.008557\n",
       "4      1          1.417083           1.008557\n",
       "5      2          1.426810           1.053428\n",
       "6      2          1.428367           1.053428\n",
       "7      2          1.427530           1.053428\n",
       "8      2          1.462551           1.053428\n",
       "9      2          1.554113           1.053428"
      ]
     },
     "execution_count": 56,
     "metadata": {},
     "output_type": "execute_result"
    }
   ],
   "source": [
    "oi = base.head(10)\n",
    "oi.assign(track = [1, 1, 1, 1, 1, 2, 2, 2, 2, 2], inplace = True)[['track', 'tempo_continuous', 'tempo_overall_cum']]"
   ]
  },
  {
   "cell_type": "code",
   "execution_count": 73,
   "metadata": {},
   "outputs": [],
   "source": [
    "def sampleMaker_entry(sample, input_size, output_size, entrada_var):\n",
    "    n_slides = len(sample.index) - (output_size + input_size)+1\n",
    "    entrada = np.array([np.array(sample[entrada_var].iloc[i:i+input_size]) for i in range(0, n_slides, input_size)])\n",
    "    return entrada\n",
    "\n",
    "def sampleMaker_out(sample, input_size, output_size, saida_var):\n",
    "    n_slides = len(sample.index) - (output_size + input_size)+1\n",
    "    saida = [sample[saida_var].iloc[i+input_size:i+input_size+output_size] for i in range(0, n_slides, input_size)]\n",
    "    return saida\n",
    "\n",
    "def splitter(data, group):\n",
    "    data = list(data.groupby(group))\n",
    "    data = [data[i][1] for i in range(len(data))]\n",
    "    return data\n"
   ]
  },
  {
   "cell_type": "markdown",
   "metadata": {},
   "source": [
    "| Stretch/Untouched | ProbDistribution | Accuracy |\n",
    "| --- | --- | --- |\n",
    "| Stretched | Gaussian | .843 |"
   ]
  },
  {
   "cell_type": "markdown",
   "metadata": {},
   "source": [
    "## Model architecture\n",
    "\n",
    "The idea is to feed the LSTM with track $i$ and ask it to predict wether valence, energy, loudness, tempo go up or down in relation to the current feature value.\n",
    "\n",
    "- **Features:** all descriptive features from [Spotify's web API](https://developer.spotify.com/documentation/web-api/reference/#endpoint-get-audio-analysis) plus the cumulative features described before.\n",
    "\n",
    "- **Input:** 5 time steps of each feature of track $i$.\n",
    "\n",
    "- **Output:** Categorical transformation of valence, energy, loudness and tempo from track $i+1$ (i.e. \"greater\" or \"lower\")\n",
    "\n",
    "Below I ilustrate an input with its respective outputs."
   ]
  },
  {
   "cell_type": "code",
   "execution_count": 58,
   "metadata": {},
   "outputs": [],
   "source": [
    "base = pd.read_csv('/home/pasoneto/Documents/github/doc_suomi/data/lstm/lstm.csv')\n",
    "\n",
    "le = preprocessing.LabelEncoder()\n",
    "base['valence_cat'] = le.fit_transform(base['valence_cat'])\n",
    "base['energy_cat'] = le.fit_transform(base['energy_cat'])\n",
    "base['loudness_cat'] = le.fit_transform(base['loudness_cat'])\n",
    "base['tempo_cat'] = le.fit_transform(base['tempo_cat'])\n",
    "\n",
    "base = splitter(base, \"album_id\")\n",
    "for i in base:\n",
    "    i.reset_index(drop = True, inplace = True)"
   ]
  },
  {
   "cell_type": "code",
   "execution_count": 59,
   "metadata": {},
   "outputs": [],
   "source": [
    "teste = base[int(len(base)*0.8):len(base)]"
   ]
  },
  {
   "cell_type": "code",
   "execution_count": 60,
   "metadata": {},
   "outputs": [],
   "source": [
    "entrada_var = ['danceability', 'energy', 'loudness_overall', 'mode_confidence','speechiness', 'acousticness', 'instrumentalness', 'liveness', 'valence', 'tempo_overall', 'duration_ms', 'time_signature_confidence', 'loudness_continuous', 'tempo_continuous', 'tempo_confidence', 'key_confidence', 'danceability_cum', 'energy_cum','loudness_overall_cum', 'speechiness_cum', 'acousticness_cum','instrumentalness_cum', 'liveness_cum', 'valence_cum','tempo_overall_cum', 'duration_ms_cum', 'time_signature_cum','loudness_continuous_cum', 'tempo_continuous_cum','tempo_confidence_cum', 'key_confidence_cum', 'mode_confidence_cum','time_signature_confidence_cum']\n",
    "va  = ['valence_cat']\n",
    "en  = ['energy_cat'] \n",
    "la  = ['loudness_cat'] \n",
    "te  = ['tempo_cat']\n",
    "\n",
    "entrada_teste = list(map(lambda x : sampleMaker_entry(x, 5, 1, entrada_var), teste))\n",
    "saida_valence   = list(map(lambda x : sampleMaker_out(x, 5, 1, va), teste))\n",
    "saida_energy   = list(map(lambda x : sampleMaker_out(x, 5, 1, en), teste))\n",
    "saida_loudness   = list(map(lambda x : sampleMaker_out(x, 5, 1, la), teste))\n",
    "saida_tempo   = list(map(lambda x : sampleMaker_out(x, 5, 1, te), teste))"
   ]
  },
  {
   "cell_type": "code",
   "execution_count": 61,
   "metadata": {},
   "outputs": [],
   "source": [
    "#import itertools\n",
    "entrada_teste = np.array(list(itertools.chain.from_iterable(entrada_teste)))\n",
    "\n",
    "saida_valence   = np.array(list(itertools.chain.from_iterable(saida_valence)))\n",
    "saida_energy   = np.array(list(itertools.chain.from_iterable(saida_energy)))\n",
    "saida_loudness   = np.array(list(itertools.chain.from_iterable(saida_loudness)))\n",
    "saida_tempo   = np.array(list(itertools.chain.from_iterable(saida_tempo)))"
   ]
  },
  {
   "cell_type": "code",
   "execution_count": 62,
   "metadata": {},
   "outputs": [],
   "source": [
    "# load json and create model\n",
    "from keras.models import model_from_json\n",
    "from sklearn.metrics import confusion_matrix\n",
    "\n",
    "valence = open('/home/pasoneto/Documents/github/doc_suomi/code/analysis/weights/valence/model_valence.json', 'r')\n",
    "valence = valence.read()\n",
    "valence = model_from_json(valence)\n",
    "valence.load_weights(\"/home/pasoneto/Documents/github/doc_suomi/code/analysis/weights/valence/model_valence.h5\")\n",
    "\n",
    "energy = open('/home/pasoneto/Documents/github/doc_suomi/code/analysis/weights/energy/model_energy.json', 'r')\n",
    "energy = energy.read()\n",
    "energy = model_from_json(energy)\n",
    "energy.load_weights(\"/home/pasoneto/Documents/github/doc_suomi/code/analysis/weights/energy/model_energy.h5\")\n",
    "\n",
    "loudness = open('/home/pasoneto/Documents/github/doc_suomi/code/analysis/weights/loudness/model_loudness.json', 'r')\n",
    "loudness = loudness.read()\n",
    "loudness = model_from_json(loudness)\n",
    "loudness.load_weights(\"/home/pasoneto/Documents/github/doc_suomi/code/analysis/weights/loudness/model_loudness.h5\")\n",
    "\n",
    "tempo = open('/home/pasoneto/Documents/github/doc_suomi/code/analysis/weights/tempo/model_tempo.json', 'r')\n",
    "tempo = tempo.read()\n",
    "tempo = model_from_json(tempo)\n",
    "tempo.load_weights(\"/home/pasoneto/Documents/github/doc_suomi/code/analysis/weights/tempo/model_tempo.h5\")"
   ]
  },
  {
   "cell_type": "code",
   "execution_count": 63,
   "metadata": {},
   "outputs": [],
   "source": [
    "# evaluate loaded model on test data\n",
    "valence.compile(optimizer = 'adam', loss = 'binary_crossentropy', metrics = ['accuracy'])\n",
    "energy.compile(optimizer = 'adam', loss = 'binary_crossentropy', metrics = ['accuracy'])\n",
    "loudness.compile(optimizer = 'adam', loss = 'binary_crossentropy', metrics = ['accuracy'])\n",
    "tempo.compile(optimizer = 'adam', loss = 'binary_crossentropy', metrics = ['accuracy'])"
   ]
  },
  {
   "cell_type": "code",
   "execution_count": 64,
   "metadata": {},
   "outputs": [
    {
     "name": "stderr",
     "output_type": "stream",
     "text": [
      "/usr/local/lib/python3.8/dist-packages/tensorflow/python/keras/engine/sequential.py:450: UserWarning: `model.predict_classes()` is deprecated and will be removed after 2021-01-01. Please use instead:* `np.argmax(model.predict(x), axis=-1)`,   if your model does multi-class classification   (e.g. if it uses a `softmax` last-layer activation).* `(model.predict(x) > 0.5).astype(\"int32\")`,   if your model does binary classification   (e.g. if it uses a `sigmoid` last-layer activation).\n",
      "  warnings.warn('`model.predict_classes()` is deprecated and '\n"
     ]
    }
   ],
   "source": [
    "pred_valence = list(itertools.chain.from_iterable(valence.predict_classes(entrada_teste)))\n",
    "prob_valence = list(itertools.chain.from_iterable(valence.predict(entrada_teste)))\n",
    "real_valence = list(itertools.chain.from_iterable(list(itertools.chain.from_iterable(saida_valence))))\n",
    "\n",
    "pred_energy = list(itertools.chain.from_iterable(energy.predict_classes(entrada_teste)))\n",
    "prob_energy = list(itertools.chain.from_iterable(energy.predict(entrada_teste)))\n",
    "real_energy = list(itertools.chain.from_iterable(list(itertools.chain.from_iterable(saida_energy))))\n",
    "\n",
    "pred_loudness = list(itertools.chain.from_iterable(loudness.predict_classes(entrada_teste)))\n",
    "prob_loudness = list(itertools.chain.from_iterable(loudness.predict(entrada_teste)))\n",
    "real_loudness = list(itertools.chain.from_iterable(list(itertools.chain.from_iterable(saida_loudness))))\n",
    "\n",
    "pred_tempo = list(itertools.chain.from_iterable(tempo.predict_classes(entrada_teste)))\n",
    "prob_tempo = list(itertools.chain.from_iterable(tempo.predict(entrada_teste)))\n",
    "real_tempo = list(itertools.chain.from_iterable(list(itertools.chain.from_iterable(saida_tempo))))"
   ]
  },
  {
   "cell_type": "code",
   "execution_count": 65,
   "metadata": {},
   "outputs": [
    {
     "name": "stdout",
     "output_type": "stream",
     "text": [
      " Valence:  0.716454841975031 \n",
      " Energy:  0.691260825553931 \n",
      " Loudness:  0.657518839275672 \n",
      " Tempo:  0.7281520638848273\n"
     ]
    }
   ],
   "source": [
    "print(\" Valence: \", accuracy_score(pred_valence, real_valence), \"\\n\",\n",
    "      \"Energy: \", accuracy_score(pred_energy, real_energy),\"\\n\",\n",
    "      \"Loudness: \", accuracy_score(pred_loudness, real_loudness),\"\\n\",\n",
    "      \"Tempo: \", accuracy_score(pred_tempo, real_tempo))"
   ]
  },
  {
   "cell_type": "code",
   "execution_count": 66,
   "metadata": {},
   "outputs": [
    {
     "data": {
      "image/png": "[encoded data removed]",
      "text/plain": [
       "<Figure size 432x288 with 1 Axes>"
      ]
     },
     "metadata": {
      "needs_background": "light"
     },
     "output_type": "display_data"
    }
   ],
   "source": [
    "import matplotlib.pyplot as plt\n",
    "\n",
    "vx, vy, vt = roc_curve(real_valence, prob_valence)\n",
    "ex, ey, et = roc_curve(real_energy, prob_energy)\n",
    "lx, ly, lt = roc_curve(real_loudness, prob_loudness)\n",
    "tx, ty, tt = roc_curve(real_tempo, prob_tempo)\n",
    "\n",
    "\n",
    "rasv = roc_auc_score(real_valence, pred_valence)\n",
    "rase = roc_auc_score(real_energy, pred_energy)\n",
    "rasl = roc_auc_score(real_loudness, pred_loudness)\n",
    "rast = roc_auc_score(real_tempo, pred_tempo)\n",
    "\n",
    "plt.plot(vx, vy, color = 'red',   label = f'Valence {round(rasv, 2)}')\n",
    "plt.plot(ex, ey, color = 'blue',  label = f'Energy {round(rase, 2)}')\n",
    "plt.plot(lx, ly, color = 'green', label = f'Loudness {round(rasl, 2)}')\n",
    "plt.plot(tx, ty, color = 'black', label = f'Tempo {round(rast, 2)}')\n",
    "plt.plot([0, 1], [0, 1], \"r--\", color = 'gray')\n",
    "plt.title(\"ROC Curve\")\n",
    "plt.legend()\n",
    "plt.xlabel(\"False Positive Rate\")\n",
    "plt.ylabel(\"True Positive Rate\")\n",
    "plt.show()\n"
   ]
  },
  {
   "cell_type": "code",
   "execution_count": null,
   "metadata": {},
   "outputs": [],
   "source": [
    "final = []\n",
    "for i in range(len(saida_energy)):\n",
    "    real = list(itertools.chain.from_iterable(list(itertools.chain.from_iterable([saida_valence[i], saida_energy[i], saida_loudness[i], saida_tempo[i]]))))\n",
    "    pred = [pred_valence[i], pred_energy[i], pred_loudness[i], pred_tempo[i]]\n",
    "    final.append(accuracy_score(real, pred))"
   ]
  },
  {
   "cell_type": "code",
   "execution_count": null,
   "metadata": {},
   "outputs": [],
   "source": [
    "import seaborn as sns\n",
    "plt.hist(final, color = 'blue', edgecolor = 'black')"
   ]
  }
 ],
 "metadata": {
  "kernelspec": {
   "display_name": "Python 3",
   "language": "python",
   "name": "python3"
  },
  "language_info": {
   "codemirror_mode": {
    "name": "ipython",
    "version": 3
   },
   "file_extension": ".py",
   "mimetype": "text/x-python",
   "name": "python",
   "nbconvert_exporter": "python",
   "pygments_lexer": "ipython3",
   "version": "3.8.6"
  }
 },
 "nbformat": 4,
 "nbformat_minor": 4
}
