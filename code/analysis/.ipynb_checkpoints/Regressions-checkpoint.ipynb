{
 "cells": [
  {
   "cell_type": "markdown",
   "metadata": {},
   "source": [
    "# Regressions\n",
    "\n",
    "- Predict feature (including dissimilarity) of track $i+1$ given track $i$;\n",
    "- Predict feature (including dissimilarity) of track $i+1$ given all tracks before $i+1$;\n",
    "\n",
    "\n",
    "- Predict position of track $i$ given its features;\n",
    "- Predict position of a sequence of tracks; \n",
    "\n",
    "\n",
    "- Predict first/last songs;\n",
    "\n",
    "\n",
    "- Given all features of all tracks from album, predict feature of next track"
   ]
  },
  {
   "cell_type": "markdown",
   "metadata": {},
   "source": [
    "# Algorithms\n",
    "\n",
    "Regressions:\n",
    "- Linear, splines, lstm, random forest, nnet\n",
    "\n",
    "Classification:\n",
    "- Lstm, random forest, nnet"
   ]
  },
  {
   "cell_type": "markdown",
   "metadata": {},
   "source": [
    "# Data\n",
    "\n",
    "z_score"
   ]
  },
  {
   "cell_type": "code",
   "execution_count": 1,
   "metadata": {
    "scrolled": true
   },
   "outputs": [
    {
     "name": "stderr",
     "output_type": "stream",
     "text": [
      "\n",
      "Attaching package: ‘dplyr’\n",
      "\n",
      "\n",
      "The following objects are masked from ‘package:stats’:\n",
      "\n",
      "    filter, lag\n",
      "\n",
      "\n",
      "The following objects are masked from ‘package:base’:\n",
      "\n",
      "    intersect, setdiff, setequal, union\n",
      "\n",
      "\n",
      "randomForest 4.6-14\n",
      "\n",
      "Type rfNews() to see new features/changes/bug fixes.\n",
      "\n",
      "\n",
      "Attaching package: ‘randomForest’\n",
      "\n",
      "\n",
      "The following object is masked from ‘package:dplyr’:\n",
      "\n",
      "    combine\n",
      "\n",
      "\n",
      "The following object is masked from ‘package:ggplot2’:\n",
      "\n",
      "    margin\n",
      "\n",
      "\n",
      "Loading required package: lattice\n",
      "\n",
      "\n",
      "Attaching package: ‘data.table’\n",
      "\n",
      "\n",
      "The following objects are masked from ‘package:dplyr’:\n",
      "\n",
      "    between, first, last\n",
      "\n",
      "\n",
      "\n",
      "Attaching package: ‘DescTools’\n",
      "\n",
      "\n",
      "The following object is masked from ‘package:data.table’:\n",
      "\n",
      "    %like%\n",
      "\n",
      "\n",
      "The following objects are masked from ‘package:caret’:\n",
      "\n",
      "    MAE, RMSE\n",
      "\n",
      "\n",
      "\n",
      "Attaching package: ‘tensorflow’\n",
      "\n",
      "\n",
      "The following object is masked from ‘package:caret’:\n",
      "\n",
      "    train\n",
      "\n",
      "\n",
      "`summarise()` regrouping output by 'album_id' (override with `.groups` argument)\n",
      "\n"
     ]
    },
    {
     "name": "stdout",
     "output_type": "stream",
     "text": [
      "How to use datasets\n",
      " \n",
      "call    base()             for real values\n",
      "call    z_scored()         for normalized\n",
      "call    min_maxed()        for normalized2\n",
      "call    upsampled_album()  for binded upsamplped albums\n",
      "call    list_upsampled()   for list of upsampled albums\n",
      "call    low_z()            for normalized low level\n",
      "call    low_raw()          for raw  low level"
     ]
    }
   ],
   "source": [
    "setwd(\"/home/pasoneto/Documents/github/doc_suomi/code\")\n",
    "source(\"utils.R\")\n",
    "source(\"data_cook.R\")\n",
    "cat(howto_data)"
   ]
  },
  {
   "cell_type": "markdown",
   "metadata": {},
   "source": [
    "# Train test split"
   ]
  },
  {
   "cell_type": "code",
   "execution_count": 2,
   "metadata": {},
   "outputs": [
    {
     "data": {
      "text/html": [
       "'Split done correctly: TRUE'"
      ],
      "text/latex": [
       "'Split done correctly: TRUE'"
      ],
      "text/markdown": [
       "'Split done correctly: TRUE'"
      ],
      "text/plain": [
       "[1] \"Split done correctly: TRUE\""
      ]
     },
     "metadata": {},
     "output_type": "display_data"
    }
   ],
   "source": [
    "low = low_raw() %>%\n",
    "        group_by(album_id) %>%\n",
    "        mutate(track_number = minmax(track_number))\n",
    "\n",
    "low = split(low, low$album_id)\n",
    "\n",
    "ltreino = floor(length(low)* 0.8)\n",
    "\n",
    "treino = low[1:ltreino]\n",
    "teste = low[(ltreino+1):length(low)]\n",
    "\n",
    "paste(\"Split done correctly:\", length(treino)+length(teste) == length(low))\n",
    "\n",
    "treino = dplyr::bind_rows(treino)\n",
    "teste  = dplyr::bind_rows(teste)"
   ]
  },
  {
   "cell_type": "markdown",
   "metadata": {},
   "source": [
    "## Predict track_number based on features"
   ]
  },
  {
   "cell_type": "code",
   "execution_count": null,
   "metadata": {},
   "outputs": [],
   "source": [
    "model.linear = \n",
    "        lm(track_number~danceability   +  energy              +  loudness_overall       +  as.factor(key)     +\n",
    "                        speechiness    +  acousticness        +  instrumentalness       +  as.factor(mode)    +\n",
    "                        liveness       +  valence             +  tempo_overall          +  duration_ms        +\n",
    "                        time_signature +  tempo_continuous    +  tempo_confidence       +  key_confidence     +\n",
    "                        mode_confidence+  loudness_continuous +  time_signature_confidence, \n",
    "           data = treino)"
   ]
  },
  {
   "cell_type": "code",
   "execution_count": null,
   "metadata": {},
   "outputs": [],
   "source": [
    "pred = predict(model.linear, teste)\n",
    "true = teste$track_number\n",
    "\n",
    "paste(\"Model: \"   , Metrics::rmse(pred, true), sep = \"\")\n",
    "paste(\"Zerorule: \", Metrics::rmse(pred, mean(true)), sep = \"\")\n",
    "\n",
    "plot(true[2000:2200], type='line', col = 'blue', xlim = c(0,  200), ylim = c(0, 1), ylab = \"\")\n",
    "par(new = TRUE)\n",
    "plot(pred[2000:2200], type='line', col = 'red',  xlim = c(0,  200), ylim = c(0, 1), ylab = \"\")\n",
    "par(new = TRUE)\n",
    "plot(rep(mean(true), length(true)), type='ls', col = 'black',  xlim = c(0,  200), ylim = c(0, 1), ylab = \"\")"
   ]
  },
  {
   "cell_type": "markdown",
   "metadata": {},
   "source": [
    "## Random forest"
   ]
  },
  {
   "cell_type": "code",
   "execution_count": null,
   "metadata": {},
   "outputs": [],
   "source": [
    "model.rf =\n",
    "    randomForest(formula = track_number~\n",
    "                            danceability   +  energy              +  loudness_overall       +  #as.factor(key)     +\n",
    "                            speechiness    +  acousticness        +  instrumentalness       +  #as.factor(mode)    +\n",
    "                            liveness       +  valence             +  tempo_overall          +  duration_ms        +\n",
    "                            time_signature +  tempo_continuous    +  tempo_confidence       +  key_confidence     +\n",
    "                            mode_confidence+  loudness_continuous +  time_signature_confidence, \n",
    "                 data=treino, ntree = 1,\n",
    "                 importance=TRUE)"
   ]
  },
  {
   "cell_type": "code",
   "execution_count": null,
   "metadata": {},
   "outputs": [],
   "source": [
    "pred = predict(model.rf, teste)\n",
    "true = teste$track_number\n",
    "\n",
    "paste(\"Model: \"   , Metrics::rmse(pred, true), sep = \"\")\n",
    "paste(\"Zerorule: \", Metrics::rmse(pred, mean(true)), sep = \"\")\n",
    "\n",
    "plot(true[2000:2200], type='line', col = 'blue', xlim = c(0,  200), ylim = c(0, 16), ylab = \"\")\n",
    "par(new = TRUE)\n",
    "plot(round(pred[2000:2200]), type='line', col = 'red',  xlim = c(0,  200), ylim = c(0, 16), ylab = \"\")\n",
    "par(new = TRUE)\n",
    "plot(rep(mean(true), length(true)), type='ls', col = 'black',  xlim = c(0,  200), ylim = c(0, 16), ylab = \"\")"
   ]
  },
  {
   "cell_type": "markdown",
   "metadata": {},
   "source": [
    "## Neural net"
   ]
  },
  {
   "cell_type": "code",
   "execution_count": null,
   "metadata": {},
   "outputs": [
    {
     "name": "stderr",
     "output_type": "stream",
     "text": [
      "Loading required package: nnet\n",
      "\n"
     ]
    }
   ],
   "source": [
    "require(nnet)\n",
    "treino %<>% \n",
    "    select(album_id, track_number, danceability, energy, valence, tempo_continuous, tempo_confidence,  key_confidence, loudness_continuous,  time_signature_confidence)\n",
    "\n",
    "model.nnet = \n",
    "    nnet(track_number~., data = treino, size = 2, rang = 0.1, decay = 5e-4, maxit = 100)"
   ]
  },
  {
   "cell_type": "code",
   "execution_count": null,
   "metadata": {},
   "outputs": [],
   "source": [
    "teste %<>% \n",
    "    select(album_id, track_number, danceability, energy, valence, tempo_continuous, tempo_confidence,  key_confidence, loudness_continuous,  time_signature_confidence)"
   ]
  },
  {
   "cell_type": "code",
   "execution_count": null,
   "metadata": {},
   "outputs": [],
   "source": [
    "pred = predict(model.nnet, teste)\n",
    "true = teste$track_number\n",
    "paste(\"Model: \"   , Metrics::rmse(pred, true), sep = \"\")\n",
    "paste(\"Zerorule: \", Metrics::rmse(pred, mean(true)), sep = \"\")\n",
    "\n",
    "plot(true[0:1000], type='line', col = 'blue', ylim = c(0, 16), ylab = \"\")\n",
    "par(new = TRUE)\n",
    "plot(round(pred[0:1000]), type='line', col = 'red', ylim = c(0, 16), ylab = \"\")\n",
    "par(new = TRUE)\n",
    "plot(rep(mean(true), length(true)), type='ls', col = 'black', ylim = c(0, 16), ylab = \"\")"
   ]
  },
  {
   "cell_type": "markdown",
   "metadata": {},
   "source": [
    "# Predicting position based on features"
   ]
  },
  {
   "cell_type": "code",
   "execution_count": null,
   "metadata": {},
   "outputs": [],
   "source": []
  }
 ],
 "metadata": {
  "kernelspec": {
   "display_name": "R",
   "language": "R",
   "name": "ir"
  },
  "language_info": {
   "codemirror_mode": "r",
   "file_extension": ".r",
   "mimetype": "text/x-r-source",
   "name": "R",
   "pygments_lexer": "r",
   "version": "4.0.3"
  }
 },
 "nbformat": 4,
 "nbformat_minor": 4
}
